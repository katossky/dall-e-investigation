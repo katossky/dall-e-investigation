{
 "cells": [
  {
   "cell_type": "code",
   "metadata": {
    "tags": [],
    "cell_id": "00000-ea416030-91c5-4241-8e82-5986af259dd5",
    "deepnote_to_be_reexecuted": false,
    "source_hash": "6f0dc535",
    "execution_start": 1639561260177,
    "execution_millis": 5337,
    "deepnote_cell_type": "code"
   },
   "source": "from dalle_mini.model import CustomFlaxBartForConditionalGeneration\nfrom transformers import BartTokenizer\nimport jax\nimport random\nfrom tqdm.notebook import tqdm, trange\nfrom vqgan_jax.modeling_flax_vqgan import VQModel\nimport numpy as np\nfrom PIL import Image\nfrom transformers import CLIPProcessor, FlaxCLIPModel",
   "outputs": [],
   "execution_count": null
  },
  {
   "cell_type": "code",
   "metadata": {
    "tags": [],
    "cell_id": "00001-cbe901e0-1fca-4191-a370-3aa3853a0896",
    "deepnote_to_be_reexecuted": false,
    "source_hash": "5b66709",
    "execution_start": 1639561274809,
    "execution_millis": 2,
    "deepnote_cell_type": "code"
   },
   "source": "# make sure we use compatible versions\nDALLE_REPO = \"flax-community/dalle-mini\"\nDALLE_COMMIT_ID = \"4d34126d0df8bc4a692ae933e3b902a1fa8b6114\"\n# make sure we use compatible versions\nVQGAN_REPO = \"flax-community/vqgan_f16_16384\"\nVQGAN_COMMIT_ID = \"90cc46addd2dd8f5be21586a9a23e1b95aa506a9\"",
   "outputs": [],
   "execution_count": null
  },
  {
   "cell_type": "code",
   "metadata": {
    "tags": [],
    "cell_id": "00002-62e20818-1bb4-40da-bfa4-94e27d0d9d98",
    "deepnote_to_be_reexecuted": false,
    "source_hash": "cf6081c7",
    "execution_start": 1639561281149,
    "execution_millis": 21637,
    "deepnote_cell_type": "code"
   },
   "source": "# set up model and processor\nclip = FlaxCLIPModel.from_pretrained(\"openai/clip-vit-base-patch32\")\nprocessor = CLIPProcessor.from_pretrained(\"openai/clip-vit-base-patch32\")",
   "outputs": [
    {
     "data": {
      "text/plain": "Downloading:   0%|          | 0.00/3.89k [00:00<?, ?B/s]",
      "application/vnd.jupyter.widget-view+json": {
       "version_major": 2,
       "version_minor": 0,
       "model_id": "8007946a517a4709a0a077dfaa3e65e8"
      }
     },
     "metadata": {},
     "output_type": "display_data"
    },
    {
     "data": {
      "text/plain": "Downloading:   0%|          | 0.00/577M [00:00<?, ?B/s]",
      "application/vnd.jupyter.widget-view+json": {
       "version_major": 2,
       "version_minor": 0,
       "model_id": "f6df341a351c43679aaeadc23e9381fb"
      }
     },
     "metadata": {},
     "output_type": "display_data"
    },
    {
     "name": "stderr",
     "text": "INFO:absl:Unable to initialize backend 'tpu_driver': NOT_FOUND: Unable to find driver in registry given worker: \nINFO:absl:Unable to initialize backend 'gpu': NOT_FOUND: Could not find registered platform with name: \"cuda\". Available platform names are: Host Interpreter\nINFO:absl:Unable to initialize backend 'tpu': INVALID_ARGUMENT: TpuPlatform is not available.\nWARNING:absl:No GPU/TPU found, falling back to CPU. (Set TF_CPP_MIN_LOG_LEVEL=0 and rerun for more info.)\n",
     "output_type": "stream",
     "data": {}
    },
    {
     "data": {
      "text/plain": "Downloading:   0%|          | 0.00/316 [00:00<?, ?B/s]",
      "application/vnd.jupyter.widget-view+json": {
       "version_major": 2,
       "version_minor": 0,
       "model_id": "87a624a55951456180c194b0f7be2601"
      }
     },
     "metadata": {},
     "output_type": "display_data"
    },
    {
     "data": {
      "text/plain": "Downloading:   0%|          | 0.00/842k [00:00<?, ?B/s]",
      "application/vnd.jupyter.widget-view+json": {
       "version_major": 2,
       "version_minor": 0,
       "model_id": "ea38316ef2ab45828f7d43e7bed7e6b7"
      }
     },
     "metadata": {},
     "output_type": "display_data"
    },
    {
     "data": {
      "text/plain": "Downloading:   0%|          | 0.00/512k [00:00<?, ?B/s]",
      "application/vnd.jupyter.widget-view+json": {
       "version_major": 2,
       "version_minor": 0,
       "model_id": "f3979681599e4bf9abb750f13da48efe"
      }
     },
     "metadata": {},
     "output_type": "display_data"
    },
    {
     "data": {
      "text/plain": "Downloading:   0%|          | 0.00/389 [00:00<?, ?B/s]",
      "application/vnd.jupyter.widget-view+json": {
       "version_major": 2,
       "version_minor": 0,
       "model_id": "325b6d0c85b645e092644011758940ae"
      }
     },
     "metadata": {},
     "output_type": "display_data"
    },
    {
     "data": {
      "text/plain": "Downloading:   0%|          | 0.00/568 [00:00<?, ?B/s]",
      "application/vnd.jupyter.widget-view+json": {
       "version_major": 2,
       "version_minor": 0,
       "model_id": "3e257ade9f6548c2b6521a64051fe2ab"
      }
     },
     "metadata": {},
     "output_type": "display_data"
    },
    {
     "data": {
      "text/plain": "Downloading:   0%|          | 0.00/1.42M [00:00<?, ?B/s]",
      "application/vnd.jupyter.widget-view+json": {
       "version_major": 2,
       "version_minor": 0,
       "model_id": "c0a1b54acd044b08ba01168d9b179944"
      }
     },
     "metadata": {},
     "output_type": "display_data"
    }
   ],
   "execution_count": null
  },
  {
   "cell_type": "code",
   "metadata": {
    "tags": [],
    "cell_id": "00001-f612172f-abb5-49bb-83e8-8c820c7c7013",
    "deepnote_to_be_reexecuted": false,
    "source_hash": "77a2e84e",
    "execution_start": 1639561565910,
    "execution_millis": 231,
    "deepnote_cell_type": "code"
   },
   "source": "\n    n_predictions = 10\n\n    # create random keys\n    seed = random.randint(0, 2 ** 32 - 1)\n    key = jax.random.PRNGKey(seed)\n    subkeys = jax.random.split(key, num=n_predictions)\n\n\n    encoded_images = [\n        model.generate(**tokenized_prompt, do_sample=True, num_beams=1, prng_key=subkey)\n        for subkey in tqdm(subkeys)\n    ]\n\n    encoded_images = [img.sequences[..., 1:] for img in encoded_images]\n\n    decoded_images = [\n        vqgan.decode_code(encoded_image) for encoded_image in tqdm(encoded_images)\n    ]\n\n    clipped_images = [img.squeeze().clip(0.0, 1.0) for img in decoded_images]\n\nstr_coco_id=\"\"\"\n524981;\ta dog sitting on a boat behind the sail.\n509839;\ta public bathroom that is empty and not in use.\n194120;\ta cat sitting on a windowsill next to a painted pumpkin.\n197329;\tsome zebras and a giraffe tall brown grass and trees\n432637;\ta group of people riding a carousel with trees in the background.\n298014;\ta large architectural structure near a park\n250225;\ta display of fruit print dishes in a store\n484457;\ta large stack of square shaped cakes sitting on a lit table.\n541039;\ta group of people holding umbrellas standing behind a sign for a umbrella drive.\n423313;\ta group of motorcycles parked in front of a building.\"\"\"\n\nfor _,line in enumerate(str_coco_id.split(\"\\n\")[::-1]):\n    print(line)\n    id_coco, caption= line.split(\";\")\n    # set a prompt\n    prompt = caption.strip()\n\n    # tokenize the prompt\n    tokenized_prompt = tokenizer(\n        prompt, return_tensors=\"jax\", padding=\"max_length\", truncation=True, max_length=128\n    )\n\n    n_predictions = 10\n\n    # create random keys\n    seed = random.randint(0, 2 ** 32 - 1)\n    key = jax.random.PRNGKey(seed)\n    subkeys = jax.random.split(key, num=n_predictions)\n\n\n    encoded_images = [\n        model.generate(**tokenized_prompt, do_sample=True, num_beams=1, prng_key=subkey)\n        for subkey in tqdm(subkeys)\n    ]\n\n    encoded_images = [img.sequences[..., 1:] for img in encoded_images]\n\n    decoded_images = [\n        vqgan.decode_code(encoded_image) for encoded_image in tqdm(encoded_images)\n    ]\n\n    clipped_images = [img.squeeze().clip(0.0, 1.0) for img in decoded_images]\n\n\n    # convert to image\n    images = [\n        Image.fromarray(np.asarray(img * 255, dtype=np.uint8)) for img in clipped_images\n    ]\n    for i,j in enumerate(images):\n      j.save(\"images_\"+id_coco+\"_\"+str(i)+\".jpeg\")\n\n    # evaluate scores\n    # inputs = processor(text=prompt, images=images, return_tensors=\"np\")\n    # logits = clip(**inputs).logits_per_image\n    # scores = jax.nn.softmax(logits, axis=0).squeeze()  # normalize and sum all scores to 1\n\n    # # rank images by score\n    # print(f\"Prompt: {prompt}\\n\")\n    # for idx in scores.argsort()[::-1]:\n    #     print(f\"Score: {scores[idx]}\")\n    #     display(images[idx])\n    #     print()# set up tokenizer and model\n\ntokenizer = BartTokenizer.from_pretrained(DALLE_REPO, revision=DALLE_COMMIT_ID)\n\nmodel = CustomFlaxBartForConditionalGeneration.from_pretrained(\n    DALLE_REPO, revision=DALLE_COMMIT_ID\n)\n\nvqgan = VQModel.from_pretrained(VQGAN_REPO, revision=VQGAN_COMMIT_ID)",
   "outputs": [
    {
     "output_type": "error",
     "ename": "IndentationError",
     "evalue": "expected an indented block (<ipython-input-5-6fc6058a9413>, line 35)",
     "traceback": [
      "\u001b[0;36m  File \u001b[0;32m\"<ipython-input-5-6fc6058a9413>\"\u001b[0;36m, line \u001b[0;32m35\u001b[0m\n\u001b[0;31m    print(line)\u001b[0m\n\u001b[0m        ^\u001b[0m\n\u001b[0;31mIndentationError\u001b[0m\u001b[0;31m:\u001b[0m expected an indented block\n"
     ],
     "data": {}
    }
   ],
   "execution_count": null
  },
  {
   "cell_type": "code",
   "metadata": {
    "tags": [],
    "cell_id": "00004-c4f4b936-c135-420e-b9df-2fe57f869a23",
    "deepnote_cell_type": "code"
   },
   "source": "",
   "outputs": [],
   "execution_count": null
  },
  {
   "cell_type": "code",
   "metadata": {
    "tags": [],
    "cell_id": "00002-d1bb9393-27f4-4c75-bf40-b7adc1c40fce",
    "deepnote_to_be_reexecuted": false,
    "source_hash": "6cfed1cd",
    "execution_start": 1639401249984,
    "execution_millis": 408,
    "deepnote_cell_type": "code"
   },
   "source": "caption = \"an elephant in the bathroom\"\nprompt = caption.strip()\ntokenized_prompt = tokenizer(\n        prompt, return_tensors=\"jax\", padding=\"max_length\", truncation=True, max_length=128\n    )\n\n",
   "outputs": [
    {
     "output_type": "error",
     "ename": "NameError",
     "evalue": "name 'tokenizer' is not defined",
     "traceback": [
      "\u001b[0;31m---------------------------------------------------------------------------\u001b[0m",
      "\u001b[0;31mNameError\u001b[0m                                 Traceback (most recent call last)",
      "\u001b[0;32m<ipython-input-3-1518b09d9ecd>\u001b[0m in \u001b[0;36m<module>\u001b[0;34m\u001b[0m\n\u001b[1;32m      1\u001b[0m \u001b[0mcaption\u001b[0m \u001b[0;34m=\u001b[0m \u001b[0;34m\"an elephant in the bathroom\"\u001b[0m\u001b[0;34m\u001b[0m\u001b[0;34m\u001b[0m\u001b[0m\n\u001b[1;32m      2\u001b[0m \u001b[0mprompt\u001b[0m \u001b[0;34m=\u001b[0m \u001b[0mcaption\u001b[0m\u001b[0;34m.\u001b[0m\u001b[0mstrip\u001b[0m\u001b[0;34m(\u001b[0m\u001b[0;34m)\u001b[0m\u001b[0;34m\u001b[0m\u001b[0;34m\u001b[0m\u001b[0m\n\u001b[0;32m----> 3\u001b[0;31m tokenized_prompt = tokenizer(\n\u001b[0m\u001b[1;32m      4\u001b[0m         \u001b[0mprompt\u001b[0m\u001b[0;34m,\u001b[0m \u001b[0mreturn_tensors\u001b[0m\u001b[0;34m=\u001b[0m\u001b[0;34m\"jax\"\u001b[0m\u001b[0;34m,\u001b[0m \u001b[0mpadding\u001b[0m\u001b[0;34m=\u001b[0m\u001b[0;34m\"max_length\"\u001b[0m\u001b[0;34m,\u001b[0m \u001b[0mtruncation\u001b[0m\u001b[0;34m=\u001b[0m\u001b[0;32mTrue\u001b[0m\u001b[0;34m,\u001b[0m \u001b[0mmax_length\u001b[0m\u001b[0;34m=\u001b[0m\u001b[0;36m128\u001b[0m\u001b[0;34m\u001b[0m\u001b[0;34m\u001b[0m\u001b[0m\n\u001b[1;32m      5\u001b[0m     )\n",
      "\u001b[0;31mNameError\u001b[0m: name 'tokenizer' is not defined"
     ],
     "data": {}
    }
   ],
   "execution_count": null
  },
  {
   "cell_type": "markdown",
   "source": "<a style='text-decoration:none;line-height:16px;display:flex;color:#5B5B62;padding:10px;justify-content:end;' href='https://deepnote.com?utm_source=created-in-deepnote-cell&projectId=4f3692ed-5f27-49a4-899a-82a03e72232c' target=\"_blank\">\n<img alt='Created in deepnote.com' style='display:inline;max-height:16px;margin:0px;margin-right:7.5px;' src='data:image/svg+xml;base64,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' > </img>\nCreated in <span style='font-weight:600;margin-left:4px;'>Deepnote</span></a>",
   "metadata": {
    "tags": [],
    "created_in_deepnote_cell": true,
    "deepnote_cell_type": "markdown"
   }
  }
 ],
 "nbformat": 4,
 "nbformat_minor": 2,
 "metadata": {
  "orig_nbformat": 2,
  "deepnote": {
   "is_reactive": false
  },
  "deepnote_notebook_id": "c3e329f5-96d6-4f07-89c7-2d079d360f64",
  "deepnote_execution_queue": []
 }
}
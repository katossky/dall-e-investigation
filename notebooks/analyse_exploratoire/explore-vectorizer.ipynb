{
 "cells": [
  {
   "cell_type": "code",
   "metadata": {
    "tags": [],
    "cell_id": "00000-b94e3e4d-6a58-4715-b8a5-b208aceac86e",
    "deepnote_to_be_reexecuted": false,
    "source_hash": "563146f",
    "execution_start": 1635533323270,
    "execution_millis": 2477,
    "allow_embed": true,
    "deepnote_cell_type": "code"
   },
   "source": "import tensorflow as tf\nfrom sklearn.feature_extraction.text import CountVectorizer, TfidfVectorizer\n",
   "execution_count": null,
   "outputs": []
  },
  {
   "cell_type": "code",
   "metadata": {
    "tags": [],
    "cell_id": "00001-0ecb69eb-5095-40a7-92a2-abba5cef3802",
    "deepnote_to_be_reexecuted": false,
    "source_hash": "77ab1a91",
    "execution_start": 1635535417393,
    "execution_millis": 0,
    "deepnote_cell_type": "code"
   },
   "source": "#phrases=['Alice au pays des merveilles',\n# 'Alice suit le lapin blanc', 'elle tombe dans un trou', 'et bois la fiole verte et grandit']\nphrases=[\"j'aime les animaux et ils m'apportent du bonheur\" ,\"Particulièrement j'aime les chiens et ils sont adorables\", \"les chiens sont des animaux\"]\nvectorizer=CountVectorizer()\nvector=vectorizer.fit_transform(phrases)",
   "execution_count": null,
   "outputs": []
  },
  {
   "cell_type": "code",
   "metadata": {
    "tags": [],
    "cell_id": "00002-88b200ad-f023-43a9-9e28-b3b48c7dd253",
    "deepnote_to_be_reexecuted": false,
    "source_hash": "98f8f9d2",
    "execution_start": 1635533325770,
    "execution_millis": 65,
    "deepnote_cell_type": "code"
   },
   "source": "import pandas as pd\nimport numpy as np\n\npd.DataFrame(vector.toarray(), columns=vectorizer.get_feature_names())",
   "execution_count": null,
   "outputs": [
    {
     "name": "stderr",
     "text": "/shared-libs/python3.7/py/lib/python3.7/site-packages/sklearn/utils/deprecation.py:87: FutureWarning: Function get_feature_names is deprecated; get_feature_names is deprecated in 1.0 and will be removed in 1.2. Please use get_feature_names_out instead.\n  warnings.warn(msg, category=FutureWarning)\n",
     "output_type": "stream"
    },
    {
     "output_type": "execute_result",
     "execution_count": 3,
     "data": {
      "application/vnd.deepnote.dataframe.v2+json": {
       "row_count": 2,
       "column_count": 15,
       "columns": [
        {
         "name": "aime",
         "dtype": "int64",
         "stats": {
          "unique_count": 1,
          "nan_count": 0,
          "min": "1",
          "max": "1",
          "histogram": [
           {
            "bin_start": 0.5,
            "bin_end": 0.6,
            "count": 0
           },
           {
            "bin_start": 0.6,
            "bin_end": 0.7,
            "count": 0
           },
           {
            "bin_start": 0.7,
            "bin_end": 0.8,
            "count": 0
           },
           {
            "bin_start": 0.8,
            "bin_end": 0.9,
            "count": 0
           },
           {
            "bin_start": 0.9,
            "bin_end": 1,
            "count": 0
           },
           {
            "bin_start": 1,
            "bin_end": 1.1,
            "count": 2
           },
           {
            "bin_start": 1.1,
            "bin_end": 1.2000000000000002,
            "count": 0
           },
           {
            "bin_start": 1.2000000000000002,
            "bin_end": 1.3,
            "count": 0
           },
           {
            "bin_start": 1.3,
            "bin_end": 1.4,
            "count": 0
           },
           {
            "bin_start": 1.4,
            "bin_end": 1.5,
            "count": 0
           }
          ]
         }
        },
        {
         "name": "animaux",
         "dtype": "int64",
         "stats": {
          "unique_count": 2,
          "nan_count": 0,
          "min": "0",
          "max": "1",
          "histogram": [
           {
            "bin_start": 0,
            "bin_end": 0.1,
            "count": 1
           },
           {
            "bin_start": 0.1,
            "bin_end": 0.2,
            "count": 0
           },
           {
            "bin_start": 0.2,
            "bin_end": 0.30000000000000004,
            "count": 0
           },
           {
            "bin_start": 0.30000000000000004,
            "bin_end": 0.4,
            "count": 0
           },
           {
            "bin_start": 0.4,
            "bin_end": 0.5,
            "count": 0
           },
           {
            "bin_start": 0.5,
            "bin_end": 0.6000000000000001,
            "count": 0
           },
           {
            "bin_start": 0.6000000000000001,
            "bin_end": 0.7000000000000001,
            "count": 0
           },
           {
            "bin_start": 0.7000000000000001,
            "bin_end": 0.8,
            "count": 0
           },
           {
            "bin_start": 0.8,
            "bin_end": 0.9,
            "count": 0
           },
           {
            "bin_start": 0.9,
            "bin_end": 1,
            "count": 1
           }
          ]
         }
        },
        {
         "name": "apportent",
         "dtype": "int64",
         "stats": {
          "unique_count": 2,
          "nan_count": 0,
          "min": "0",
          "max": "1",
          "histogram": [
           {
            "bin_start": 0,
            "bin_end": 0.1,
            "count": 1
           },
           {
            "bin_start": 0.1,
            "bin_end": 0.2,
            "count": 0
           },
           {
            "bin_start": 0.2,
            "bin_end": 0.30000000000000004,
            "count": 0
           },
           {
            "bin_start": 0.30000000000000004,
            "bin_end": 0.4,
            "count": 0
           },
           {
            "bin_start": 0.4,
            "bin_end": 0.5,
            "count": 0
           },
           {
            "bin_start": 0.5,
            "bin_end": 0.6000000000000001,
            "count": 0
           },
           {
            "bin_start": 0.6000000000000001,
            "bin_end": 0.7000000000000001,
            "count": 0
           },
           {
            "bin_start": 0.7000000000000001,
            "bin_end": 0.8,
            "count": 0
           },
           {
            "bin_start": 0.8,
            "bin_end": 0.9,
            "count": 0
           },
           {
            "bin_start": 0.9,
            "bin_end": 1,
            "count": 1
           }
          ]
         }
        },
        {
         "name": "bonheur",
         "dtype": "int64",
         "stats": {
          "unique_count": 1,
          "nan_count": 0,
          "min": "1",
          "max": "1",
          "histogram": [
           {
            "bin_start": 0.5,
            "bin_end": 0.6,
            "count": 0
           },
           {
            "bin_start": 0.6,
            "bin_end": 0.7,
            "count": 0
           },
           {
            "bin_start": 0.7,
            "bin_end": 0.8,
            "count": 0
           },
           {
            "bin_start": 0.8,
            "bin_end": 0.9,
            "count": 0
           },
           {
            "bin_start": 0.9,
            "bin_end": 1,
            "count": 0
           },
           {
            "bin_start": 1,
            "bin_end": 1.1,
            "count": 2
           },
           {
            "bin_start": 1.1,
            "bin_end": 1.2000000000000002,
            "count": 0
           },
           {
            "bin_start": 1.2000000000000002,
            "bin_end": 1.3,
            "count": 0
           },
           {
            "bin_start": 1.3,
            "bin_end": 1.4,
            "count": 0
           },
           {
            "bin_start": 1.4,
            "bin_end": 1.5,
            "count": 0
           }
          ]
         }
        },
        {
         "name": "chiens",
         "dtype": "int64",
         "stats": {
          "unique_count": 2,
          "nan_count": 0,
          "min": "0",
          "max": "1",
          "histogram": [
           {
            "bin_start": 0,
            "bin_end": 0.1,
            "count": 1
           },
           {
            "bin_start": 0.1,
            "bin_end": 0.2,
            "count": 0
           },
           {
            "bin_start": 0.2,
            "bin_end": 0.30000000000000004,
            "count": 0
           },
           {
            "bin_start": 0.30000000000000004,
            "bin_end": 0.4,
            "count": 0
           },
           {
            "bin_start": 0.4,
            "bin_end": 0.5,
            "count": 0
           },
           {
            "bin_start": 0.5,
            "bin_end": 0.6000000000000001,
            "count": 0
           },
           {
            "bin_start": 0.6000000000000001,
            "bin_end": 0.7000000000000001,
            "count": 0
           },
           {
            "bin_start": 0.7000000000000001,
            "bin_end": 0.8,
            "count": 0
           },
           {
            "bin_start": 0.8,
            "bin_end": 0.9,
            "count": 0
           },
           {
            "bin_start": 0.9,
            "bin_end": 1,
            "count": 1
           }
          ]
         }
        },
        {
         "name": "de",
         "dtype": "int64",
         "stats": {
          "unique_count": 2,
          "nan_count": 0,
          "min": "0",
          "max": "1",
          "histogram": [
           {
            "bin_start": 0,
            "bin_end": 0.1,
            "count": 1
           },
           {
            "bin_start": 0.1,
            "bin_end": 0.2,
            "count": 0
           },
           {
            "bin_start": 0.2,
            "bin_end": 0.30000000000000004,
            "count": 0
           },
           {
            "bin_start": 0.30000000000000004,
            "bin_end": 0.4,
            "count": 0
           },
           {
            "bin_start": 0.4,
            "bin_end": 0.5,
            "count": 0
           },
           {
            "bin_start": 0.5,
            "bin_end": 0.6000000000000001,
            "count": 0
           },
           {
            "bin_start": 0.6000000000000001,
            "bin_end": 0.7000000000000001,
            "count": 0
           },
           {
            "bin_start": 0.7000000000000001,
            "bin_end": 0.8,
            "count": 0
           },
           {
            "bin_start": 0.8,
            "bin_end": 0.9,
            "count": 0
           },
           {
            "bin_start": 0.9,
            "bin_end": 1,
            "count": 1
           }
          ]
         }
        },
        {
         "name": "du",
         "dtype": "int64",
         "stats": {
          "unique_count": 2,
          "nan_count": 0,
          "min": "0",
          "max": "1",
          "histogram": [
           {
            "bin_start": 0,
            "bin_end": 0.1,
            "count": 1
           },
           {
            "bin_start": 0.1,
            "bin_end": 0.2,
            "count": 0
           },
           {
            "bin_start": 0.2,
            "bin_end": 0.30000000000000004,
            "count": 0
           },
           {
            "bin_start": 0.30000000000000004,
            "bin_end": 0.4,
            "count": 0
           },
           {
            "bin_start": 0.4,
            "bin_end": 0.5,
            "count": 0
           },
           {
            "bin_start": 0.5,
            "bin_end": 0.6000000000000001,
            "count": 0
           },
           {
            "bin_start": 0.6000000000000001,
            "bin_end": 0.7000000000000001,
            "count": 0
           },
           {
            "bin_start": 0.7000000000000001,
            "bin_end": 0.8,
            "count": 0
           },
           {
            "bin_start": 0.8,
            "bin_end": 0.9,
            "count": 0
           },
           {
            "bin_start": 0.9,
            "bin_end": 1,
            "count": 1
           }
          ]
         }
        },
        {
         "name": "en",
         "dtype": "int64",
         "stats": {
          "unique_count": 2,
          "nan_count": 0,
          "min": "0",
          "max": "1",
          "histogram": [
           {
            "bin_start": 0,
            "bin_end": 0.1,
            "count": 1
           },
           {
            "bin_start": 0.1,
            "bin_end": 0.2,
            "count": 0
           },
           {
            "bin_start": 0.2,
            "bin_end": 0.30000000000000004,
            "count": 0
           },
           {
            "bin_start": 0.30000000000000004,
            "bin_end": 0.4,
            "count": 0
           },
           {
            "bin_start": 0.4,
            "bin_end": 0.5,
            "count": 0
           },
           {
            "bin_start": 0.5,
            "bin_end": 0.6000000000000001,
            "count": 0
           },
           {
            "bin_start": 0.6000000000000001,
            "bin_end": 0.7000000000000001,
            "count": 0
           },
           {
            "bin_start": 0.7000000000000001,
            "bin_end": 0.8,
            "count": 0
           },
           {
            "bin_start": 0.8,
            "bin_end": 0.9,
            "count": 0
           },
           {
            "bin_start": 0.9,
            "bin_end": 1,
            "count": 1
           }
          ]
         }
        },
        {
         "name": "est",
         "dtype": "int64",
         "stats": {
          "unique_count": 2,
          "nan_count": 0,
          "min": "0",
          "max": "1",
          "histogram": [
           {
            "bin_start": 0,
            "bin_end": 0.1,
            "count": 1
           },
           {
            "bin_start": 0.1,
            "bin_end": 0.2,
            "count": 0
           },
           {
            "bin_start": 0.2,
            "bin_end": 0.30000000000000004,
            "count": 0
           },
           {
            "bin_start": 0.30000000000000004,
            "bin_end": 0.4,
            "count": 0
           },
           {
            "bin_start": 0.4,
            "bin_end": 0.5,
            "count": 0
           },
           {
            "bin_start": 0.5,
            "bin_end": 0.6000000000000001,
            "count": 0
           },
           {
            "bin_start": 0.6000000000000001,
            "bin_end": 0.7000000000000001,
            "count": 0
           },
           {
            "bin_start": 0.7000000000000001,
            "bin_end": 0.8,
            "count": 0
           },
           {
            "bin_start": 0.8,
            "bin_end": 0.9,
            "count": 0
           },
           {
            "bin_start": 0.9,
            "bin_end": 1,
            "count": 1
           }
          ]
         }
        },
        {
         "name": "et",
         "dtype": "int64",
         "stats": {
          "unique_count": 2,
          "nan_count": 0,
          "min": "0",
          "max": "1",
          "histogram": [
           {
            "bin_start": 0,
            "bin_end": 0.1,
            "count": 1
           },
           {
            "bin_start": 0.1,
            "bin_end": 0.2,
            "count": 0
           },
           {
            "bin_start": 0.2,
            "bin_end": 0.30000000000000004,
            "count": 0
           },
           {
            "bin_start": 0.30000000000000004,
            "bin_end": 0.4,
            "count": 0
           },
           {
            "bin_start": 0.4,
            "bin_end": 0.5,
            "count": 0
           },
           {
            "bin_start": 0.5,
            "bin_end": 0.6000000000000001,
            "count": 0
           },
           {
            "bin_start": 0.6000000000000001,
            "bin_end": 0.7000000000000001,
            "count": 0
           },
           {
            "bin_start": 0.7000000000000001,
            "bin_end": 0.8,
            "count": 0
           },
           {
            "bin_start": 0.8,
            "bin_end": 0.9,
            "count": 0
           },
           {
            "bin_start": 0.9,
            "bin_end": 1,
            "count": 1
           }
          ]
         }
        },
        {
         "name": "ils",
         "dtype": "int64",
         "stats": {
          "unique_count": 2,
          "nan_count": 0,
          "min": "0",
          "max": "1",
          "histogram": [
           {
            "bin_start": 0,
            "bin_end": 0.1,
            "count": 1
           },
           {
            "bin_start": 0.1,
            "bin_end": 0.2,
            "count": 0
           },
           {
            "bin_start": 0.2,
            "bin_end": 0.30000000000000004,
            "count": 0
           },
           {
            "bin_start": 0.30000000000000004,
            "bin_end": 0.4,
            "count": 0
           },
           {
            "bin_start": 0.4,
            "bin_end": 0.5,
            "count": 0
           },
           {
            "bin_start": 0.5,
            "bin_end": 0.6000000000000001,
            "count": 0
           },
           {
            "bin_start": 0.6000000000000001,
            "bin_end": 0.7000000000000001,
            "count": 0
           },
           {
            "bin_start": 0.7000000000000001,
            "bin_end": 0.8,
            "count": 0
           },
           {
            "bin_start": 0.8,
            "bin_end": 0.9,
            "count": 0
           },
           {
            "bin_start": 0.9,
            "bin_end": 1,
            "count": 1
           }
          ]
         }
        },
        {
         "name": "les",
         "dtype": "int64",
         "stats": {
          "unique_count": 1,
          "nan_count": 0,
          "min": "1",
          "max": "1",
          "histogram": [
           {
            "bin_start": 0.5,
            "bin_end": 0.6,
            "count": 0
           },
           {
            "bin_start": 0.6,
            "bin_end": 0.7,
            "count": 0
           },
           {
            "bin_start": 0.7,
            "bin_end": 0.8,
            "count": 0
           },
           {
            "bin_start": 0.8,
            "bin_end": 0.9,
            "count": 0
           },
           {
            "bin_start": 0.9,
            "bin_end": 1,
            "count": 0
           },
           {
            "bin_start": 1,
            "bin_end": 1.1,
            "count": 2
           },
           {
            "bin_start": 1.1,
            "bin_end": 1.2000000000000002,
            "count": 0
           },
           {
            "bin_start": 1.2000000000000002,
            "bin_end": 1.3,
            "count": 0
           },
           {
            "bin_start": 1.3,
            "bin_end": 1.4,
            "count": 0
           },
           {
            "bin_start": 1.4,
            "bin_end": 1.5,
            "count": 0
           }
          ]
         }
        },
        {
         "name": "occuper",
         "dtype": "int64",
         "stats": {
          "unique_count": 2,
          "nan_count": 0,
          "min": "0",
          "max": "1",
          "histogram": [
           {
            "bin_start": 0,
            "bin_end": 0.1,
            "count": 1
           },
           {
            "bin_start": 0.1,
            "bin_end": 0.2,
            "count": 0
           },
           {
            "bin_start": 0.2,
            "bin_end": 0.30000000000000004,
            "count": 0
           },
           {
            "bin_start": 0.30000000000000004,
            "bin_end": 0.4,
            "count": 0
           },
           {
            "bin_start": 0.4,
            "bin_end": 0.5,
            "count": 0
           },
           {
            "bin_start": 0.5,
            "bin_end": 0.6000000000000001,
            "count": 0
           },
           {
            "bin_start": 0.6000000000000001,
            "bin_end": 0.7000000000000001,
            "count": 0
           },
           {
            "bin_start": 0.7000000000000001,
            "bin_end": 0.8,
            "count": 0
           },
           {
            "bin_start": 0.8,
            "bin_end": 0.9,
            "count": 0
           },
           {
            "bin_start": 0.9,
            "bin_end": 1,
            "count": 1
           }
          ]
         }
        },
        {
         "name": "particulièrement",
         "dtype": "int64",
         "stats": {
          "unique_count": 2,
          "nan_count": 0,
          "min": "0",
          "max": "1",
          "histogram": [
           {
            "bin_start": 0,
            "bin_end": 0.1,
            "count": 1
           },
           {
            "bin_start": 0.1,
            "bin_end": 0.2,
            "count": 0
           },
           {
            "bin_start": 0.2,
            "bin_end": 0.30000000000000004,
            "count": 0
           },
           {
            "bin_start": 0.30000000000000004,
            "bin_end": 0.4,
            "count": 0
           },
           {
            "bin_start": 0.4,
            "bin_end": 0.5,
            "count": 0
           },
           {
            "bin_start": 0.5,
            "bin_end": 0.6000000000000001,
            "count": 0
           },
           {
            "bin_start": 0.6000000000000001,
            "bin_end": 0.7000000000000001,
            "count": 0
           },
           {
            "bin_start": 0.7000000000000001,
            "bin_end": 0.8,
            "count": 0
           },
           {
            "bin_start": 0.8,
            "bin_end": 0.9,
            "count": 0
           },
           {
            "bin_start": 0.9,
            "bin_end": 1,
            "count": 1
           }
          ]
         }
        },
        {
         "name": "un",
         "dtype": "int64",
         "stats": {
          "unique_count": 2,
          "nan_count": 0,
          "min": "0",
          "max": "1",
          "histogram": [
           {
            "bin_start": 0,
            "bin_end": 0.1,
            "count": 1
           },
           {
            "bin_start": 0.1,
            "bin_end": 0.2,
            "count": 0
           },
           {
            "bin_start": 0.2,
            "bin_end": 0.30000000000000004,
            "count": 0
           },
           {
            "bin_start": 0.30000000000000004,
            "bin_end": 0.4,
            "count": 0
           },
           {
            "bin_start": 0.4,
            "bin_end": 0.5,
            "count": 0
           },
           {
            "bin_start": 0.5,
            "bin_end": 0.6000000000000001,
            "count": 0
           },
           {
            "bin_start": 0.6000000000000001,
            "bin_end": 0.7000000000000001,
            "count": 0
           },
           {
            "bin_start": 0.7000000000000001,
            "bin_end": 0.8,
            "count": 0
           },
           {
            "bin_start": 0.8,
            "bin_end": 0.9,
            "count": 0
           },
           {
            "bin_start": 0.9,
            "bin_end": 1,
            "count": 1
           }
          ]
         }
        },
        {
         "name": "_deepnote_index_column",
         "dtype": "int64"
        }
       ],
       "rows_top": [
        {
         "aime": 1,
         "animaux": 1,
         "apportent": 1,
         "bonheur": 1,
         "chiens": 0,
         "de": 0,
         "du": 1,
         "en": 0,
         "est": 0,
         "et": 1,
         "ils": 1,
         "les": 1,
         "occuper": 0,
         "particulièrement": 0,
         "un": 0,
         "_deepnote_index_column": 0
        },
        {
         "aime": 1,
         "animaux": 0,
         "apportent": 0,
         "bonheur": 1,
         "chiens": 1,
         "de": 1,
         "du": 0,
         "en": 1,
         "est": 1,
         "et": 0,
         "ils": 0,
         "les": 1,
         "occuper": 1,
         "particulièrement": 1,
         "un": 1,
         "_deepnote_index_column": 1
        }
       ],
       "rows_bottom": null
      },
      "text/plain": "   aime  animaux  apportent  bonheur  chiens  de  du  en  est  et  ils  les  \\\n0     1        1          1        1       0   0   1   0    0   1    1    1   \n1     1        0          0        1       1   1   0   1    1   0    0    1   \n\n   occuper  particulièrement  un  \n0        0                 0   0  \n1        1                 1   1  ",
      "text/html": "<div>\n<style scoped>\n    .dataframe tbody tr th:only-of-type {\n        vertical-align: middle;\n    }\n\n    .dataframe tbody tr th {\n        vertical-align: top;\n    }\n\n    .dataframe thead th {\n        text-align: right;\n    }\n</style>\n<table border=\"1\" class=\"dataframe\">\n  <thead>\n    <tr style=\"text-align: right;\">\n      <th></th>\n      <th>aime</th>\n      <th>animaux</th>\n      <th>apportent</th>\n      <th>bonheur</th>\n      <th>chiens</th>\n      <th>de</th>\n      <th>du</th>\n      <th>en</th>\n      <th>est</th>\n      <th>et</th>\n      <th>ils</th>\n      <th>les</th>\n      <th>occuper</th>\n      <th>particulièrement</th>\n      <th>un</th>\n    </tr>\n  </thead>\n  <tbody>\n    <tr>\n      <th>0</th>\n      <td>1</td>\n      <td>1</td>\n      <td>1</td>\n      <td>1</td>\n      <td>0</td>\n      <td>0</td>\n      <td>1</td>\n      <td>0</td>\n      <td>0</td>\n      <td>1</td>\n      <td>1</td>\n      <td>1</td>\n      <td>0</td>\n      <td>0</td>\n      <td>0</td>\n    </tr>\n    <tr>\n      <th>1</th>\n      <td>1</td>\n      <td>0</td>\n      <td>0</td>\n      <td>1</td>\n      <td>1</td>\n      <td>1</td>\n      <td>0</td>\n      <td>1</td>\n      <td>1</td>\n      <td>0</td>\n      <td>0</td>\n      <td>1</td>\n      <td>1</td>\n      <td>1</td>\n      <td>1</td>\n    </tr>\n  </tbody>\n</table>\n</div>"
     },
     "metadata": {}
    }
   ]
  },
  {
   "cell_type": "code",
   "metadata": {
    "tags": [],
    "cell_id": "00003-b314d3ef-7508-4106-9c9a-1834f6e36729",
    "deepnote_cell_type": "code"
   },
   "source": "",
   "execution_count": null,
   "outputs": []
  },
  {
   "cell_type": "code",
   "metadata": {
    "tags": [],
    "cell_id": "00003-aaf62e7f-f381-45c2-bc54-07b81b405058",
    "deepnote_to_be_reexecuted": false,
    "source_hash": "ee4649a8",
    "execution_start": 1635533325909,
    "execution_millis": 8,
    "deepnote_cell_type": "code"
   },
   "source": "tfidf_vectorizer=TfidfVectorizer()\ntfidf_vector=tfidf_vectorizer.fit_transform(phrases)\n\npd.DataFrame(tfidf_vector.toarray(), columns=vectorizer.get_feature_names())",
   "execution_count": null,
   "outputs": [
    {
     "name": "stderr",
     "text": "/shared-libs/python3.7/py/lib/python3.7/site-packages/sklearn/utils/deprecation.py:87: FutureWarning: Function get_feature_names is deprecated; get_feature_names is deprecated in 1.0 and will be removed in 1.2. Please use get_feature_names_out instead.\n  warnings.warn(msg, category=FutureWarning)\n",
     "output_type": "stream"
    },
    {
     "output_type": "execute_result",
     "execution_count": 4,
     "data": {
      "application/vnd.deepnote.dataframe.v2+json": {
       "row_count": 2,
       "column_count": 15,
       "columns": [
        {
         "name": "aime",
         "dtype": "float64",
         "stats": {
          "unique_count": 2,
          "nan_count": 0,
          "min": "0.24377684733151028",
          "max": "0.27867523200844097",
          "histogram": [
           {
            "bin_start": 0.24377684733151028,
            "bin_end": 0.24726668579920336,
            "count": 1
           },
           {
            "bin_start": 0.24726668579920336,
            "bin_end": 0.25075652426689643,
            "count": 0
           },
           {
            "bin_start": 0.25075652426689643,
            "bin_end": 0.2542463627345895,
            "count": 0
           },
           {
            "bin_start": 0.2542463627345895,
            "bin_end": 0.2577362012022826,
            "count": 0
           },
           {
            "bin_start": 0.2577362012022826,
            "bin_end": 0.2612260396699756,
            "count": 0
           },
           {
            "bin_start": 0.2612260396699756,
            "bin_end": 0.26471587813766867,
            "count": 0
           },
           {
            "bin_start": 0.26471587813766867,
            "bin_end": 0.26820571660536174,
            "count": 0
           },
           {
            "bin_start": 0.26820571660536174,
            "bin_end": 0.2716955550730548,
            "count": 0
           },
           {
            "bin_start": 0.2716955550730548,
            "bin_end": 0.2751853935407479,
            "count": 0
           },
           {
            "bin_start": 0.2751853935407479,
            "bin_end": 0.27867523200844097,
            "count": 1
           }
          ]
         }
        },
        {
         "name": "animaux",
         "dtype": "float64",
         "stats": {
          "unique_count": 2,
          "nan_count": 0,
          "min": "0.0",
          "max": "0.3916683150818112",
          "histogram": [
           {
            "bin_start": 0,
            "bin_end": 0.03916683150818112,
            "count": 1
           },
           {
            "bin_start": 0.03916683150818112,
            "bin_end": 0.07833366301636224,
            "count": 0
           },
           {
            "bin_start": 0.07833366301636224,
            "bin_end": 0.11750049452454336,
            "count": 0
           },
           {
            "bin_start": 0.11750049452454336,
            "bin_end": 0.15666732603272449,
            "count": 0
           },
           {
            "bin_start": 0.15666732603272449,
            "bin_end": 0.1958341575409056,
            "count": 0
           },
           {
            "bin_start": 0.1958341575409056,
            "bin_end": 0.23500098904908673,
            "count": 0
           },
           {
            "bin_start": 0.23500098904908673,
            "bin_end": 0.27416782055726785,
            "count": 0
           },
           {
            "bin_start": 0.27416782055726785,
            "bin_end": 0.31333465206544897,
            "count": 0
           },
           {
            "bin_start": 0.31333465206544897,
            "bin_end": 0.3525014835736301,
            "count": 0
           },
           {
            "bin_start": 0.3525014835736301,
            "bin_end": 0.3916683150818112,
            "count": 1
           }
          ]
         }
        },
        {
         "name": "apportent",
         "dtype": "float64",
         "stats": {
          "unique_count": 2,
          "nan_count": 0,
          "min": "0.0",
          "max": "0.3916683150818112",
          "histogram": [
           {
            "bin_start": 0,
            "bin_end": 0.03916683150818112,
            "count": 1
           },
           {
            "bin_start": 0.03916683150818112,
            "bin_end": 0.07833366301636224,
            "count": 0
           },
           {
            "bin_start": 0.07833366301636224,
            "bin_end": 0.11750049452454336,
            "count": 0
           },
           {
            "bin_start": 0.11750049452454336,
            "bin_end": 0.15666732603272449,
            "count": 0
           },
           {
            "bin_start": 0.15666732603272449,
            "bin_end": 0.1958341575409056,
            "count": 0
           },
           {
            "bin_start": 0.1958341575409056,
            "bin_end": 0.23500098904908673,
            "count": 0
           },
           {
            "bin_start": 0.23500098904908673,
            "bin_end": 0.27416782055726785,
            "count": 0
           },
           {
            "bin_start": 0.27416782055726785,
            "bin_end": 0.31333465206544897,
            "count": 0
           },
           {
            "bin_start": 0.31333465206544897,
            "bin_end": 0.3525014835736301,
            "count": 0
           },
           {
            "bin_start": 0.3525014835736301,
            "bin_end": 0.3916683150818112,
            "count": 1
           }
          ]
         }
        },
        {
         "name": "bonheur",
         "dtype": "float64",
         "stats": {
          "unique_count": 2,
          "nan_count": 0,
          "min": "0.24377684733151028",
          "max": "0.27867523200844097",
          "histogram": [
           {
            "bin_start": 0.24377684733151028,
            "bin_end": 0.24726668579920336,
            "count": 1
           },
           {
            "bin_start": 0.24726668579920336,
            "bin_end": 0.25075652426689643,
            "count": 0
           },
           {
            "bin_start": 0.25075652426689643,
            "bin_end": 0.2542463627345895,
            "count": 0
           },
           {
            "bin_start": 0.2542463627345895,
            "bin_end": 0.2577362012022826,
            "count": 0
           },
           {
            "bin_start": 0.2577362012022826,
            "bin_end": 0.2612260396699756,
            "count": 0
           },
           {
            "bin_start": 0.2612260396699756,
            "bin_end": 0.26471587813766867,
            "count": 0
           },
           {
            "bin_start": 0.26471587813766867,
            "bin_end": 0.26820571660536174,
            "count": 0
           },
           {
            "bin_start": 0.26820571660536174,
            "bin_end": 0.2716955550730548,
            "count": 0
           },
           {
            "bin_start": 0.2716955550730548,
            "bin_end": 0.2751853935407479,
            "count": 0
           },
           {
            "bin_start": 0.2751853935407479,
            "bin_end": 0.27867523200844097,
            "count": 1
           }
          ]
         }
        },
        {
         "name": "chiens",
         "dtype": "float64",
         "stats": {
          "unique_count": 2,
          "nan_count": 0,
          "min": "0.0",
          "max": "0.3426198530890486",
          "histogram": [
           {
            "bin_start": 0,
            "bin_end": 0.034261985308904855,
            "count": 1
           },
           {
            "bin_start": 0.034261985308904855,
            "bin_end": 0.06852397061780971,
            "count": 0
           },
           {
            "bin_start": 0.06852397061780971,
            "bin_end": 0.10278595592671456,
            "count": 0
           },
           {
            "bin_start": 0.10278595592671456,
            "bin_end": 0.13704794123561942,
            "count": 0
           },
           {
            "bin_start": 0.13704794123561942,
            "bin_end": 0.17130992654452426,
            "count": 0
           },
           {
            "bin_start": 0.17130992654452426,
            "bin_end": 0.20557191185342913,
            "count": 0
           },
           {
            "bin_start": 0.20557191185342913,
            "bin_end": 0.239833897162334,
            "count": 0
           },
           {
            "bin_start": 0.239833897162334,
            "bin_end": 0.27409588247123884,
            "count": 0
           },
           {
            "bin_start": 0.27409588247123884,
            "bin_end": 0.3083578677801437,
            "count": 0
           },
           {
            "bin_start": 0.3083578677801437,
            "bin_end": 0.3426198530890486,
            "count": 1
           }
          ]
         }
        },
        {
         "name": "de",
         "dtype": "float64",
         "stats": {
          "unique_count": 2,
          "nan_count": 0,
          "min": "0.0",
          "max": "0.3426198530890486",
          "histogram": [
           {
            "bin_start": 0,
            "bin_end": 0.034261985308904855,
            "count": 1
           },
           {
            "bin_start": 0.034261985308904855,
            "bin_end": 0.06852397061780971,
            "count": 0
           },
           {
            "bin_start": 0.06852397061780971,
            "bin_end": 0.10278595592671456,
            "count": 0
           },
           {
            "bin_start": 0.10278595592671456,
            "bin_end": 0.13704794123561942,
            "count": 0
           },
           {
            "bin_start": 0.13704794123561942,
            "bin_end": 0.17130992654452426,
            "count": 0
           },
           {
            "bin_start": 0.17130992654452426,
            "bin_end": 0.20557191185342913,
            "count": 0
           },
           {
            "bin_start": 0.20557191185342913,
            "bin_end": 0.239833897162334,
            "count": 0
           },
           {
            "bin_start": 0.239833897162334,
            "bin_end": 0.27409588247123884,
            "count": 0
           },
           {
            "bin_start": 0.27409588247123884,
            "bin_end": 0.3083578677801437,
            "count": 0
           },
           {
            "bin_start": 0.3083578677801437,
            "bin_end": 0.3426198530890486,
            "count": 1
           }
          ]
         }
        },
        {
         "name": "du",
         "dtype": "float64",
         "stats": {
          "unique_count": 2,
          "nan_count": 0,
          "min": "0.0",
          "max": "0.3916683150818112",
          "histogram": [
           {
            "bin_start": 0,
            "bin_end": 0.03916683150818112,
            "count": 1
           },
           {
            "bin_start": 0.03916683150818112,
            "bin_end": 0.07833366301636224,
            "count": 0
           },
           {
            "bin_start": 0.07833366301636224,
            "bin_end": 0.11750049452454336,
            "count": 0
           },
           {
            "bin_start": 0.11750049452454336,
            "bin_end": 0.15666732603272449,
            "count": 0
           },
           {
            "bin_start": 0.15666732603272449,
            "bin_end": 0.1958341575409056,
            "count": 0
           },
           {
            "bin_start": 0.1958341575409056,
            "bin_end": 0.23500098904908673,
            "count": 0
           },
           {
            "bin_start": 0.23500098904908673,
            "bin_end": 0.27416782055726785,
            "count": 0
           },
           {
            "bin_start": 0.27416782055726785,
            "bin_end": 0.31333465206544897,
            "count": 0
           },
           {
            "bin_start": 0.31333465206544897,
            "bin_end": 0.3525014835736301,
            "count": 0
           },
           {
            "bin_start": 0.3525014835736301,
            "bin_end": 0.3916683150818112,
            "count": 1
           }
          ]
         }
        },
        {
         "name": "en",
         "dtype": "float64",
         "stats": {
          "unique_count": 2,
          "nan_count": 0,
          "min": "0.0",
          "max": "0.3426198530890486",
          "histogram": [
           {
            "bin_start": 0,
            "bin_end": 0.034261985308904855,
            "count": 1
           },
           {
            "bin_start": 0.034261985308904855,
            "bin_end": 0.06852397061780971,
            "count": 0
           },
           {
            "bin_start": 0.06852397061780971,
            "bin_end": 0.10278595592671456,
            "count": 0
           },
           {
            "bin_start": 0.10278595592671456,
            "bin_end": 0.13704794123561942,
            "count": 0
           },
           {
            "bin_start": 0.13704794123561942,
            "bin_end": 0.17130992654452426,
            "count": 0
           },
           {
            "bin_start": 0.17130992654452426,
            "bin_end": 0.20557191185342913,
            "count": 0
           },
           {
            "bin_start": 0.20557191185342913,
            "bin_end": 0.239833897162334,
            "count": 0
           },
           {
            "bin_start": 0.239833897162334,
            "bin_end": 0.27409588247123884,
            "count": 0
           },
           {
            "bin_start": 0.27409588247123884,
            "bin_end": 0.3083578677801437,
            "count": 0
           },
           {
            "bin_start": 0.3083578677801437,
            "bin_end": 0.3426198530890486,
            "count": 1
           }
          ]
         }
        },
        {
         "name": "est",
         "dtype": "float64",
         "stats": {
          "unique_count": 2,
          "nan_count": 0,
          "min": "0.0",
          "max": "0.3426198530890486",
          "histogram": [
           {
            "bin_start": 0,
            "bin_end": 0.034261985308904855,
            "count": 1
           },
           {
            "bin_start": 0.034261985308904855,
            "bin_end": 0.06852397061780971,
            "count": 0
           },
           {
            "bin_start": 0.06852397061780971,
            "bin_end": 0.10278595592671456,
            "count": 0
           },
           {
            "bin_start": 0.10278595592671456,
            "bin_end": 0.13704794123561942,
            "count": 0
           },
           {
            "bin_start": 0.13704794123561942,
            "bin_end": 0.17130992654452426,
            "count": 0
           },
           {
            "bin_start": 0.17130992654452426,
            "bin_end": 0.20557191185342913,
            "count": 0
           },
           {
            "bin_start": 0.20557191185342913,
            "bin_end": 0.239833897162334,
            "count": 0
           },
           {
            "bin_start": 0.239833897162334,
            "bin_end": 0.27409588247123884,
            "count": 0
           },
           {
            "bin_start": 0.27409588247123884,
            "bin_end": 0.3083578677801437,
            "count": 0
           },
           {
            "bin_start": 0.3083578677801437,
            "bin_end": 0.3426198530890486,
            "count": 1
           }
          ]
         }
        },
        {
         "name": "et",
         "dtype": "float64",
         "stats": {
          "unique_count": 2,
          "nan_count": 0,
          "min": "0.0",
          "max": "0.3916683150818112",
          "histogram": [
           {
            "bin_start": 0,
            "bin_end": 0.03916683150818112,
            "count": 1
           },
           {
            "bin_start": 0.03916683150818112,
            "bin_end": 0.07833366301636224,
            "count": 0
           },
           {
            "bin_start": 0.07833366301636224,
            "bin_end": 0.11750049452454336,
            "count": 0
           },
           {
            "bin_start": 0.11750049452454336,
            "bin_end": 0.15666732603272449,
            "count": 0
           },
           {
            "bin_start": 0.15666732603272449,
            "bin_end": 0.1958341575409056,
            "count": 0
           },
           {
            "bin_start": 0.1958341575409056,
            "bin_end": 0.23500098904908673,
            "count": 0
           },
           {
            "bin_start": 0.23500098904908673,
            "bin_end": 0.27416782055726785,
            "count": 0
           },
           {
            "bin_start": 0.27416782055726785,
            "bin_end": 0.31333465206544897,
            "count": 0
           },
           {
            "bin_start": 0.31333465206544897,
            "bin_end": 0.3525014835736301,
            "count": 0
           },
           {
            "bin_start": 0.3525014835736301,
            "bin_end": 0.3916683150818112,
            "count": 1
           }
          ]
         }
        },
        {
         "name": "ils",
         "dtype": "float64",
         "stats": {
          "unique_count": 2,
          "nan_count": 0,
          "min": "0.0",
          "max": "0.3916683150818112",
          "histogram": [
           {
            "bin_start": 0,
            "bin_end": 0.03916683150818112,
            "count": 1
           },
           {
            "bin_start": 0.03916683150818112,
            "bin_end": 0.07833366301636224,
            "count": 0
           },
           {
            "bin_start": 0.07833366301636224,
            "bin_end": 0.11750049452454336,
            "count": 0
           },
           {
            "bin_start": 0.11750049452454336,
            "bin_end": 0.15666732603272449,
            "count": 0
           },
           {
            "bin_start": 0.15666732603272449,
            "bin_end": 0.1958341575409056,
            "count": 0
           },
           {
            "bin_start": 0.1958341575409056,
            "bin_end": 0.23500098904908673,
            "count": 0
           },
           {
            "bin_start": 0.23500098904908673,
            "bin_end": 0.27416782055726785,
            "count": 0
           },
           {
            "bin_start": 0.27416782055726785,
            "bin_end": 0.31333465206544897,
            "count": 0
           },
           {
            "bin_start": 0.31333465206544897,
            "bin_end": 0.3525014835736301,
            "count": 0
           },
           {
            "bin_start": 0.3525014835736301,
            "bin_end": 0.3916683150818112,
            "count": 1
           }
          ]
         }
        },
        {
         "name": "les",
         "dtype": "float64",
         "stats": {
          "unique_count": 2,
          "nan_count": 0,
          "min": "0.24377684733151028",
          "max": "0.27867523200844097",
          "histogram": [
           {
            "bin_start": 0.24377684733151028,
            "bin_end": 0.24726668579920336,
            "count": 1
           },
           {
            "bin_start": 0.24726668579920336,
            "bin_end": 0.25075652426689643,
            "count": 0
           },
           {
            "bin_start": 0.25075652426689643,
            "bin_end": 0.2542463627345895,
            "count": 0
           },
           {
            "bin_start": 0.2542463627345895,
            "bin_end": 0.2577362012022826,
            "count": 0
           },
           {
            "bin_start": 0.2577362012022826,
            "bin_end": 0.2612260396699756,
            "count": 0
           },
           {
            "bin_start": 0.2612260396699756,
            "bin_end": 0.26471587813766867,
            "count": 0
           },
           {
            "bin_start": 0.26471587813766867,
            "bin_end": 0.26820571660536174,
            "count": 0
           },
           {
            "bin_start": 0.26820571660536174,
            "bin_end": 0.2716955550730548,
            "count": 0
           },
           {
            "bin_start": 0.2716955550730548,
            "bin_end": 0.2751853935407479,
            "count": 0
           },
           {
            "bin_start": 0.2751853935407479,
            "bin_end": 0.27867523200844097,
            "count": 1
           }
          ]
         }
        },
        {
         "name": "occuper",
         "dtype": "float64",
         "stats": {
          "unique_count": 2,
          "nan_count": 0,
          "min": "0.0",
          "max": "0.3426198530890486",
          "histogram": [
           {
            "bin_start": 0,
            "bin_end": 0.034261985308904855,
            "count": 1
           },
           {
            "bin_start": 0.034261985308904855,
            "bin_end": 0.06852397061780971,
            "count": 0
           },
           {
            "bin_start": 0.06852397061780971,
            "bin_end": 0.10278595592671456,
            "count": 0
           },
           {
            "bin_start": 0.10278595592671456,
            "bin_end": 0.13704794123561942,
            "count": 0
           },
           {
            "bin_start": 0.13704794123561942,
            "bin_end": 0.17130992654452426,
            "count": 0
           },
           {
            "bin_start": 0.17130992654452426,
            "bin_end": 0.20557191185342913,
            "count": 0
           },
           {
            "bin_start": 0.20557191185342913,
            "bin_end": 0.239833897162334,
            "count": 0
           },
           {
            "bin_start": 0.239833897162334,
            "bin_end": 0.27409588247123884,
            "count": 0
           },
           {
            "bin_start": 0.27409588247123884,
            "bin_end": 0.3083578677801437,
            "count": 0
           },
           {
            "bin_start": 0.3083578677801437,
            "bin_end": 0.3426198530890486,
            "count": 1
           }
          ]
         }
        },
        {
         "name": "particulièrement",
         "dtype": "float64",
         "stats": {
          "unique_count": 2,
          "nan_count": 0,
          "min": "0.0",
          "max": "0.3426198530890486",
          "histogram": [
           {
            "bin_start": 0,
            "bin_end": 0.034261985308904855,
            "count": 1
           },
           {
            "bin_start": 0.034261985308904855,
            "bin_end": 0.06852397061780971,
            "count": 0
           },
           {
            "bin_start": 0.06852397061780971,
            "bin_end": 0.10278595592671456,
            "count": 0
           },
           {
            "bin_start": 0.10278595592671456,
            "bin_end": 0.13704794123561942,
            "count": 0
           },
           {
            "bin_start": 0.13704794123561942,
            "bin_end": 0.17130992654452426,
            "count": 0
           },
           {
            "bin_start": 0.17130992654452426,
            "bin_end": 0.20557191185342913,
            "count": 0
           },
           {
            "bin_start": 0.20557191185342913,
            "bin_end": 0.239833897162334,
            "count": 0
           },
           {
            "bin_start": 0.239833897162334,
            "bin_end": 0.27409588247123884,
            "count": 0
           },
           {
            "bin_start": 0.27409588247123884,
            "bin_end": 0.3083578677801437,
            "count": 0
           },
           {
            "bin_start": 0.3083578677801437,
            "bin_end": 0.3426198530890486,
            "count": 1
           }
          ]
         }
        },
        {
         "name": "un",
         "dtype": "float64",
         "stats": {
          "unique_count": 2,
          "nan_count": 0,
          "min": "0.0",
          "max": "0.3426198530890486",
          "histogram": [
           {
            "bin_start": 0,
            "bin_end": 0.034261985308904855,
            "count": 1
           },
           {
            "bin_start": 0.034261985308904855,
            "bin_end": 0.06852397061780971,
            "count": 0
           },
           {
            "bin_start": 0.06852397061780971,
            "bin_end": 0.10278595592671456,
            "count": 0
           },
           {
            "bin_start": 0.10278595592671456,
            "bin_end": 0.13704794123561942,
            "count": 0
           },
           {
            "bin_start": 0.13704794123561942,
            "bin_end": 0.17130992654452426,
            "count": 0
           },
           {
            "bin_start": 0.17130992654452426,
            "bin_end": 0.20557191185342913,
            "count": 0
           },
           {
            "bin_start": 0.20557191185342913,
            "bin_end": 0.239833897162334,
            "count": 0
           },
           {
            "bin_start": 0.239833897162334,
            "bin_end": 0.27409588247123884,
            "count": 0
           },
           {
            "bin_start": 0.27409588247123884,
            "bin_end": 0.3083578677801437,
            "count": 0
           },
           {
            "bin_start": 0.3083578677801437,
            "bin_end": 0.3426198530890486,
            "count": 1
           }
          ]
         }
        },
        {
         "name": "_deepnote_index_column",
         "dtype": "int64"
        }
       ],
       "rows_top": [
        {
         "aime": 0.27867523200844097,
         "animaux": 0.3916683150818112,
         "apportent": 0.3916683150818112,
         "bonheur": 0.27867523200844097,
         "chiens": 0,
         "de": 0,
         "du": 0.3916683150818112,
         "en": 0,
         "est": 0,
         "et": 0.3916683150818112,
         "ils": 0.3916683150818112,
         "les": 0.27867523200844097,
         "occuper": 0,
         "particulièrement": 0,
         "un": 0,
         "_deepnote_index_column": 0
        },
        {
         "aime": 0.24377684733151028,
         "animaux": 0,
         "apportent": 0,
         "bonheur": 0.24377684733151028,
         "chiens": 0.3426198530890486,
         "de": 0.3426198530890486,
         "du": 0,
         "en": 0.3426198530890486,
         "est": 0.3426198530890486,
         "et": 0,
         "ils": 0,
         "les": 0.24377684733151028,
         "occuper": 0.3426198530890486,
         "particulièrement": 0.3426198530890486,
         "un": 0.3426198530890486,
         "_deepnote_index_column": 1
        }
       ],
       "rows_bottom": null
      },
      "text/plain": "       aime   animaux  apportent   bonheur   chiens       de        du  \\\n0  0.278675  0.391668   0.391668  0.278675  0.00000  0.00000  0.391668   \n1  0.243777  0.000000   0.000000  0.243777  0.34262  0.34262  0.000000   \n\n        en      est        et       ils       les  occuper  particulièrement  \\\n0  0.00000  0.00000  0.391668  0.391668  0.278675  0.00000           0.00000   \n1  0.34262  0.34262  0.000000  0.000000  0.243777  0.34262           0.34262   \n\n        un  \n0  0.00000  \n1  0.34262  ",
      "text/html": "<div>\n<style scoped>\n    .dataframe tbody tr th:only-of-type {\n        vertical-align: middle;\n    }\n\n    .dataframe tbody tr th {\n        vertical-align: top;\n    }\n\n    .dataframe thead th {\n        text-align: right;\n    }\n</style>\n<table border=\"1\" class=\"dataframe\">\n  <thead>\n    <tr style=\"text-align: right;\">\n      <th></th>\n      <th>aime</th>\n      <th>animaux</th>\n      <th>apportent</th>\n      <th>bonheur</th>\n      <th>chiens</th>\n      <th>de</th>\n      <th>du</th>\n      <th>en</th>\n      <th>est</th>\n      <th>et</th>\n      <th>ils</th>\n      <th>les</th>\n      <th>occuper</th>\n      <th>particulièrement</th>\n      <th>un</th>\n    </tr>\n  </thead>\n  <tbody>\n    <tr>\n      <th>0</th>\n      <td>0.278675</td>\n      <td>0.391668</td>\n      <td>0.391668</td>\n      <td>0.278675</td>\n      <td>0.00000</td>\n      <td>0.00000</td>\n      <td>0.391668</td>\n      <td>0.00000</td>\n      <td>0.00000</td>\n      <td>0.391668</td>\n      <td>0.391668</td>\n      <td>0.278675</td>\n      <td>0.00000</td>\n      <td>0.00000</td>\n      <td>0.00000</td>\n    </tr>\n    <tr>\n      <th>1</th>\n      <td>0.243777</td>\n      <td>0.000000</td>\n      <td>0.000000</td>\n      <td>0.243777</td>\n      <td>0.34262</td>\n      <td>0.34262</td>\n      <td>0.000000</td>\n      <td>0.34262</td>\n      <td>0.34262</td>\n      <td>0.000000</td>\n      <td>0.000000</td>\n      <td>0.243777</td>\n      <td>0.34262</td>\n      <td>0.34262</td>\n      <td>0.34262</td>\n    </tr>\n  </tbody>\n</table>\n</div>"
     },
     "metadata": {}
    }
   ]
  },
  {
   "cell_type": "code",
   "metadata": {
    "tags": [],
    "cell_id": "00005-59e98804-c33e-48db-8697-ff1f12e312a0",
    "deepnote_to_be_reexecuted": false,
    "source_hash": "43dabd8a",
    "execution_start": 1635534895913,
    "execution_millis": 3591,
    "deepnote_cell_type": "code"
   },
   "source": "!pip install gensim\nfrom gensim.models import word2vec\n",
   "execution_count": null,
   "outputs": [
    {
     "name": "stdout",
     "text": "Requirement already satisfied: gensim in /root/venv/lib/python3.7/site-packages (4.1.2)\nRequirement already satisfied: scipy>=0.18.1 in /shared-libs/python3.7/py/lib/python3.7/site-packages (from gensim) (1.7.1)\nRequirement already satisfied: smart-open>=1.8.1 in /shared-libs/python3.7/py/lib/python3.7/site-packages (from gensim) (5.2.1)\nRequirement already satisfied: numpy>=1.17.0 in /shared-libs/python3.7/py/lib/python3.7/site-packages (from gensim) (1.19.5)\n\u001b[33mWARNING: You are using pip version 21.2.4; however, version 21.3.1 is available.\nYou should consider upgrading via the '/root/venv/bin/python -m pip install --upgrade pip' command.\u001b[0m\n",
     "output_type": "stream"
    }
   ]
  },
  {
   "cell_type": "code",
   "metadata": {
    "tags": [],
    "cell_id": "00006-156b77fe-6b24-4fc3-b3c9-5c3387539e13",
    "deepnote_to_be_reexecuted": false,
    "source_hash": "2a95cb50",
    "execution_start": 1635536209031,
    "execution_millis": 3844,
    "deepnote_cell_type": "code"
   },
   "source": "!pip install gensim\nfrom gensim.models import word2vec\n\nphrases=[\"j'aime les animaux et ils m'apportent du bonheur\" ,\"Particulièrement j'adore les chiens et ils sont mignons\", \"les chiens sont des animaux\"]\n\nmodel = word2vec.Word2Vec([i.replace(',','').split() for i in phrases], vector_size=5, window=5,min_count=1, workers=1)\n\nprint(\"vecteur pour animaux\",model.wv['animaux'])\nprint(\"vecteur pour j'aime\",model.wv[\"j'aime\"])\nprint(\"vecteur pour chiens\",model.wv['chiens'])\n\nprint(model.wv.most_similar(positive='animaux',topn=5))",
   "execution_count": null,
   "outputs": [
    {
     "name": "stdout",
     "text": "Requirement already satisfied: gensim in /root/venv/lib/python3.7/site-packages (4.1.2)\nRequirement already satisfied: numpy>=1.17.0 in /shared-libs/python3.7/py/lib/python3.7/site-packages (from gensim) (1.19.5)\nRequirement already satisfied: smart-open>=1.8.1 in /shared-libs/python3.7/py/lib/python3.7/site-packages (from gensim) (5.2.1)\nRequirement already satisfied: scipy>=0.18.1 in /shared-libs/python3.7/py/lib/python3.7/site-packages (from gensim) (1.7.1)\n\u001b[33mWARNING: You are using pip version 21.2.4; however, version 21.3.1 is available.\nYou should consider upgrading via the '/root/venv/bin/python -m pip install --upgrade pip' command.\u001b[0m\nvecteur pour animaux [-0.06810813 -0.01891556  0.11536513 -0.15044144 -0.07872652]\nvecteur pour j'aime [ 0.04938513 -0.01775371  0.11067609 -0.0548633   0.04522192]\nvecteur pour chiens [ 0.1475969  -0.03065392 -0.09074011  0.13107255 -0.09719098]\n[('des', 0.9323765635490417), ('sont', 0.7742035388946533), ('ils', 0.7669143080711365), (\"j'aime\", 0.46942147612571716), (\"m'apportent\", 0.4595804810523987)]\n",
     "output_type": "stream"
    }
   ]
  },
  {
   "cell_type": "markdown",
   "source": "<a style='text-decoration:none;line-height:16px;display:flex;color:#5B5B62;padding:10px;justify-content:end;' href='https://deepnote.com?utm_source=created-in-deepnote-cell&projectId=4f3692ed-5f27-49a4-899a-82a03e72232c' target=\"_blank\">\n<img alt='Created in deepnote.com' style='display:inline;max-height:16px;margin:0px;margin-right:7.5px;' src='data:image/svg+xml;base64,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' > </img>\nCreated in <span style='font-weight:600;margin-left:4px;'>Deepnote</span></a>",
   "metadata": {
    "tags": [],
    "created_in_deepnote_cell": true,
    "deepnote_cell_type": "markdown"
   }
  }
 ],
 "nbformat": 4,
 "nbformat_minor": 2,
 "metadata": {
  "orig_nbformat": 2,
  "deepnote": {
   "is_reactive": false
  },
  "deepnote_notebook_id": "caece894-b6bc-47c9-b542-a76d777bd1ec",
  "deepnote_execution_queue": []
 }
}
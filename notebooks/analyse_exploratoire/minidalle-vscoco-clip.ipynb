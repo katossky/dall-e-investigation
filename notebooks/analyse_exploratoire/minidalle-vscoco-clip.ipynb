{
 "cells": [
  {
   "cell_type": "code",
   "metadata": {
    "tags": [],
    "cell_id": "00000-9a203542-9605-4c5b-ac67-3bd0aea60767",
    "deepnote_to_be_reexecuted": false,
    "source_hash": "2c98cda5",
    "execution_start": 1639148312292,
    "execution_millis": 47563,
    "deepnote_cell_type": "code"
   },
   "source": "import fiftyone as fo\nimport fiftyone.zoo as foz\ndataset = foz.load_zoo_dataset(\n    \"coco-2017\",\n    split=\"train\",\n    max_samples=100,\n    shuffle=True,\n    include_id=True,\n    seed=5212\n)\nid_and_pathfile=([(sample['coco_id'],sample['filepath']) for sample in dataset.to_dict()['samples']])",
   "execution_count": null,
   "outputs": [
    {
     "name": "stdout",
     "text": "Downloading split 'train' to '/root/fiftyone/coco-2017/train' if necessary\nDownloading annotations to '/root/fiftyone/coco-2017/tmp-download/annotations_trainval2017.zip'\n 100% |██████|    1.9Gb/1.9Gb [2.5s elapsed, 0s remaining, 763.1Mb/s]      \nExtracting annotations to '/root/fiftyone/coco-2017/raw/instances_train2017.json'\nDownloading 100 images\n 100% |██████████████████| 100/100 [2.5s elapsed, 0s remaining, 40.4 images/s]      \nWriting annotations for 100 downloaded samples to '/root/fiftyone/coco-2017/train/labels.json'\nDataset info written to '/root/fiftyone/coco-2017/info.json'\nLoading 'coco-2017' split 'train'\n 100% |█████████████████| 100/100 [537.3ms elapsed, 0s remaining, 186.1 samples/s]      \nDataset 'coco-2017-train-100' created\n 100% |█████████████████| 100/100 [373.4ms elapsed, 0s remaining, 267.8 samples/s]      \n",
     "output_type": "stream"
    }
   ]
  },
  {
   "cell_type": "code",
   "metadata": {
    "tags": [],
    "cell_id": "00001-9c7f0a96-7500-45f6-b6bd-0ca855806d8e",
    "deepnote_to_be_reexecuted": false,
    "source_hash": "ea918ba7",
    "execution_start": 1639148475137,
    "execution_millis": 33912,
    "deepnote_cell_type": "code"
   },
   "source": "!pip install -q transformers flax==0.3.5\n!pip install -q git+https://github.com/patil-suraj/vqgan-jax.git  # VQGAN model in JAX\n!pip install -q git+https://github.com/borisdayma/dalle-mini.git  # Model files",
   "execution_count": null,
   "outputs": [
    {
     "name": "stdout",
     "text": "\u001b[33mWARNING: You are using pip version 20.1.1; however, version 21.3.1 is available.\nYou should consider upgrading via the '/root/venv/bin/python -m pip install --upgrade pip' command.\u001b[0m\n\u001b[33mWARNING: You are using pip version 20.1.1; however, version 21.3.1 is available.\nYou should consider upgrading via the '/root/venv/bin/python -m pip install --upgrade pip' command.\u001b[0m\n\u001b[33mWARNING: You are using pip version 20.1.1; however, version 21.3.1 is available.\nYou should consider upgrading via the '/root/venv/bin/python -m pip install --upgrade pip' command.\u001b[0m\n",
     "output_type": "stream"
    }
   ]
  },
  {
   "cell_type": "code",
   "metadata": {
    "tags": [],
    "cell_id": "00002-9188616b-ff91-4ac3-bb8c-270f61daa1d3",
    "deepnote_cell_type": "code"
   },
   "source": "from dalle_mini.model import CustomFlaxBartForConditionalGeneration\nfrom transformers import BartTokenizer\nimport jax\nimport random\nfrom tqdm.notebook import tqdm, trange\nfrom vqgan_jax.modeling_flax_vqgan import VQModel\nimport numpy as np\nfrom PIL import Image\nfrom transformers import CLIPProcessor, FlaxCLIPModel\n\n\nstr_coco_id=\"\"\"212688;\ta close up of a polar bear in a body of water\n393274;\ta yellow and white train traveling past a train station\n427123;\tthree people in formal military uniforms, two are wearing medals around their necks\n405324;\tthe girl has a plate with a sandwich on it\n300357;\ta woman in a skirt and colorful shirt kneeling down on floral fabric\n57340;\tthere is a tower that has a american flag at the top and a clock on it\n198654;\tthere are people playing a game of baseball\n518361;\tthree people standing at the zoo watching a elephant\n525640;\ta banana dressed up to look like a person infront of a paper\n526347;\ta skateboarder on a skateboard in a skate park\n4130;\ta bus parked on a street in front of several buildings\n522661;\ttwo people holding suitcases walking towards a greyhound bus\n310526;\ta traffic light with a green signal next to tall buildings\n497591;\ta small child is sitting on a bench outside\n338991;\ta man is on a tennis court playing tennis\n446463;\tan old fashioned photograph of a fleet of buses\n50356;\ta lot of flowers that are sitting on a table\n301402;\ta man sits at a table with a laptop computer on his knees\n56624;\ta wood bench is outside covered in snow\n21097;\tthe meal on the table is ready to be eaten\n14824;\ta group of people dressed as zombies near a stop sign\n317730;\ta man is holding a surfboard decorated with the image of a woman\n160703;\ttwo pizza's on sliver pans on a table with utensils\n302313;\tthe thin cow eats some grass next to the tree\n104842;\ta skateboarded takes to the air in a skateboard park\n569865;\tautumn trees are next to hanging stop lights.\n62824;\ta street sign stands on the 8500 west block of hollywood boulevard.\n327802;\ta street sign set in the edge of the sidewalk that says stockton st.\n385341;\ta couple of people that are sitting down with wii remotes\n370121;\ta bench sits in a field by the water while it is cloudy.\n475277;\ta white horse looking up for a photo at a fence side.\n140122;\ta computer monitor, keyboard, and tower with peripherals and plugs sit on a desk.\n119502;\ttoddler boy in a tie playing in a dish of mud.\n413868;\ta man in the woods throws a frisbee\n12650;\tseveral people gathered outside of a bar at night.\n269338;\ta baseball player sliding into a base with another player bent over with glove extended toward a flying baseball.\n514601;\tthe train platform has green benches on it.\n495456;\ta person using an oven mitt to take something from the oven.\n106513;\tbus at rainy bus stop with commuters waiting\n380258;\ta pigeon sitting outside a window of a high rise building\n61354;\tan open market selling assorted fruits with bananas hanging\n506034;\tthere is a side view mirror and traffic lights in this picture\n239593;\ta black and white picture of a train going down a track with a city in the background\n103375;\ta bed has its covers pulled back in a dark room.\n452687;\ta person's foot strapped into a black snowboard.\n430885;\ta cloudy skyline with silhouettes of industrial buildings.\n292152;\ta toasted ham sandwich with a pickle on a white plate.\n90024;\ta giant teddy bear in front of some trees at the mall\n575331;\tan octopus kite is being flown next to a scuba diver kite above a city park.\n404917;\ta baseball player throwing a baseball on a field.\n13176;\ta man bending to look into a small fridge\n230227;\ta cat sitting on a table with a blurred image in the background\n122355;\tfour people smiling with tennis rackets in their hands\n359143;\ta blurry photo of a cyclist on a forest path\n135288;\ta young man holding a plate and eating a piece of cake\n273029;\ta piece of pizza with many topping on it\n185633;\tan old bathroom with peeling paint on the walls and lots of toiletries scattered around\n270222;\tseveral small clocks are all connected with human-like ornaments\n439868;\ta skateboarder is jumping onto a rail near crowd\n424174;\ta tray heaped with fruit including banans apples oranges and limes\n344720;\tseveral cars at an intersection on a city stree\n292782;\ta group of people flying their kites on a sunny day\n102765;\ttwo young girls sitting on their luggage outside of a brick building\n484149;\ta field of yellow grass with sheep grazing and standing throughout the areas\n27593;\ta man flying through the air on top of a skateboard\n266165;\ta cat standing in one food dish while eating out of another dish\n125070;\ta blue clock pole outside an older building\n78771;\ta cat sitting next to a laptop computer on a table\n291606;\ta woman standing outside of a bus with asian characters written on it\n423116;\ton a kitchen counter are a laptop, candy, and cooking supplies\n405762;\ta man is running while carrying a football\n41001;\ttwo adult elephants and one baby elephant walking in a grassy area\n201925;\tsomething baking in a pan in the oven and rising out of the pan\n380734;\tseveral diners eating at a riverside outdoor restaurant\n487462;\ta boy is preparing to toss a frisbie while another boy is sitting in the background in a park\n455776;\ta young boy is preparing to catch a baseball.\n440895;\ta white horse can be seen in the window of a brick building.\n55627;\ta bathroom with a mirror above the sink, a towel rack and toilet.\n436111;\ta white bathroom has dirt all over the floor.\n492286;\ta big train is about to leave and go away.\n149892;\ta bench and chair are seen on the bank of a river.\n493196;\ta man with helmet skating past some bicycle riders on the road\n182575;\tthis is a plate of broccoli and cauliflower\n203559;\ta man is inspecting a baby elephants eye\n519950;\ta man is in mid air over a tennis court.\n27276;\ta dog is under the bed eating a box\n108425;\ta man tossing a neon green frisbee in front of a house\n158713;\ta man who is driving a motorcycle pulling a cart with two people.\n5701;\ta person standing on a small paved square and holding a yellow frisbee\n254994;\ta man holding a drinking glass and smiling.\n256799;\ta chandelier sitting above a spiral stair case.\n524981;\ta dog sitting on a boat behind the sail.\n509839;\ta public bathroom that is empty and not in use.\n194120;\ta cat sitting on a windowsill next to a painted pumpkin.\n197329;\tsome zebras and a giraffe tall brown grass and trees\n432637;\ta group of people riding a carousel with trees in the background.\n298014;\ta large architectural structure near a park\n250225;\ta display of fruit print dishes in a store\n484457;\ta large stack of square shaped cakes sitting on a lit table.\n541039;\ta group of people holding umbrellas standing behind a sign for a umbrella drive.\n423313;\ta group of motorcycles parked in front of a building.\n\"\"\"\n\n# make sure we use compatible versions\nDALLE_REPO = \"flax-community/dalle-mini\"\nDALLE_COMMIT_ID = \"4d34126d0df8bc4a692ae933e3b902a1fa8b6114\"\n# make sure we use compatible versions\nVQGAN_REPO = \"flax-community/vqgan_f16_16384\"\nVQGAN_COMMIT_ID = \"90cc46addd2dd8f5be21586a9a23e1b95aa506a9\"\n# set up model and processor\nclip = FlaxCLIPModel.from_pretrained(\"openai/clip-vit-base-patch32\")\nprocessor = CLIPProcessor.from_pretrained(\"openai/clip-vit-base-patch32\")\n\n# set up tokenizer and model\ntokenizer = BartTokenizer.from_pretrained(DALLE_REPO, revision=DALLE_COMMIT_ID)\nmodel = CustomFlaxBartForConditionalGeneration.from_pretrained(\n    DALLE_REPO, revision=DALLE_COMMIT_ID\n)\nvqgan = VQModel.from_pretrained(VQGAN_REPO, revision=VQGAN_COMMIT_ID)\n\nfor _,line in enumerate(str_coco_id):\n    id_coco, caption= str_coco_id.split(\";\"))\n    # set a prompt\n    prompt = caption.strip()\n\n    # tokenize the prompt\n    tokenized_prompt = tokenizer(\n        prompt, return_tensors=\"jax\", padding=\"max_length\", truncation=True, max_length=128\n    )\n\n    n_predictions = 10\n\n    # create random keys\n    seed = random.randint(0, 2 ** 32 - 1)\n    key = jax.random.PRNGKey(seed)\n    subkeys = jax.random.split(key, num=n_predictions)\n\n\n    encoded_images = [\n        model.generate(**tokenized_prompt, do_sample=True, num_beams=1, prng_key=subkey)\n        for subkey in tqdm(subkeys)\n    ]\n\n    encoded_images = [img.sequences[..., 1:] for img in encoded_images]\n\n    decoded_images = [\n        vqgan.decode_code(encoded_image) for encoded_image in tqdm(encoded_images)\n    ]\n\n    clipped_images = [img.squeeze().clip(0.0, 1.0) for img in decoded_images]\n\n\n    # convert to image\n    images = [\n        Image.fromarray(np.asarray(img * 255, dtype=np.uint8)) for img in clipped_images\n    ]\n\n    # evaluate scores\n    inputs = processor(text=prompt, images=images, return_tensors=\"np\")\n    logits = clip(**inputs).logits_per_image\n    scores = jax.nn.softmax(logits, axis=0).squeeze()  # normalize and sum all scores to 1\n\n    # rank images by score\n    print(f\"Prompt: {prompt}\\n\")\n    for idx in scores.argsort()[::-1]:\n        print(f\"Score: {scores[idx]}\")\n        display(images[idx])\n        print()",
   "execution_count": null,
   "outputs": []
  },
  {
   "cell_type": "code",
   "metadata": {
    "tags": [],
    "cell_id": "00000-a09549dd-f259-45e1-9d59-19d467ce211a",
    "deepnote_to_be_reexecuted": false,
    "source_hash": "93fb7567",
    "execution_start": 1642434739515,
    "execution_millis": 21276,
    "deepnote_cell_type": "code"
   },
   "source": "!git clone https://github.com/cthiounn/images-generated-by-dalle-mini.git",
   "execution_count": null,
   "outputs": [
    {
     "name": "stdout",
     "text": "Cloning into 'images-generated-by-dalle-mini'...\nremote: Enumerating objects: 6208, done.\u001b[K\nremote: Counting objects: 100% (5163/5163), done.\u001b[K\nremote: Compressing objects: 100% (5120/5120), done.\u001b[K\nremote: Total 6208 (delta 110), reused 5094 (delta 43), pack-reused 1045\u001b[K\nReceiving objects: 100% (6208/6208), 77.04 MiB | 22.40 MiB/s, done.\nResolving deltas: 100% (129/129), done.\nChecking out files: 100% (6017/6017), done.\n",
     "output_type": "stream"
    }
   ]
  },
  {
   "cell_type": "code",
   "metadata": {
    "cell_id": "878ff1ce-ad60-4fd6-8fcf-52d769f00c49",
    "tags": [],
    "deepnote_to_be_reexecuted": false,
    "source_hash": "3d7cb913",
    "execution_start": 1642435361528,
    "execution_millis": 127,
    "deepnote_table_state": {
     "pageSize": 100,
     "pageIndex": 0,
     "filters": [],
     "sortBy": [
      {
       "id": "0",
       "type": "asc"
      }
     ]
    },
    "deepnote_table_loading": false,
    "deepnote_table_invalid": false,
    "deepnote_output_heights": [
     21.1875
    ],
    "deepnote_cell_type": "code"
   },
   "source": "import pandas as pd\ndf=pd.read_csv(\"/work/images-generated-by-dalle-mini/minidalle_flickr30k_clip.csv\")\ndf",
   "execution_count": null,
   "outputs": [
    {
     "output_type": "execute_result",
     "execution_count": 22,
     "data": {
      "application/vnd.deepnote.dataframe.v3+json": {
       "column_count": 4,
       "row_count": 5994,
       "columns": [
        {
         "name": "1",
         "dtype": "object",
         "stats": {
          "unique_count": 5994,
          "nan_count": 0,
          "categories": [
           {
            "name": "664_20507_1.jpeg",
            "count": 1
           },
           {
            "name": "725_22389_2.jpeg",
            "count": 1
           },
           {
            "name": "5992 others",
            "count": 5992
           }
          ]
         }
        },
        {
         "name": "0",
         "dtype": "float64",
         "stats": {
          "unique_count": 5987,
          "nan_count": 0,
          "min": "10.398408889770508",
          "max": "44.82066345214844",
          "histogram": [
           {
            "bin_start": 10.398408889770508,
            "bin_end": 13.8406343460083,
            "count": 16
           },
           {
            "bin_start": 13.8406343460083,
            "bin_end": 17.282859802246094,
            "count": 200
           },
           {
            "bin_start": 17.282859802246094,
            "bin_end": 20.725085258483887,
            "count": 946
           },
           {
            "bin_start": 20.725085258483887,
            "bin_end": 24.16731071472168,
            "count": 1875
           },
           {
            "bin_start": 24.16731071472168,
            "bin_end": 27.609536170959473,
            "count": 1495
           },
           {
            "bin_start": 27.609536170959473,
            "bin_end": 31.051761627197266,
            "count": 733
           },
           {
            "bin_start": 31.051761627197266,
            "bin_end": 34.49398708343506,
            "count": 457
           },
           {
            "bin_start": 34.49398708343506,
            "bin_end": 37.93621253967285,
            "count": 224
           },
           {
            "bin_start": 37.93621253967285,
            "bin_end": 41.378437995910645,
            "count": 44
           },
           {
            "bin_start": 41.378437995910645,
            "bin_end": 44.82066345214844,
            "count": 4
           }
          ]
         }
        },
        {
         "name": "2",
         "dtype": "int64",
         "stats": {
          "unique_count": 999,
          "nan_count": 0,
          "min": "25",
          "max": "30943",
          "histogram": [
           {
            "bin_start": 25,
            "bin_end": 3116.8,
            "count": 684
           },
           {
            "bin_start": 3116.8,
            "bin_end": 6208.6,
            "count": 510
           },
           {
            "bin_start": 6208.6,
            "bin_end": 9300.400000000001,
            "count": 588
           },
           {
            "bin_start": 9300.400000000001,
            "bin_end": 12392.2,
            "count": 618
           },
           {
            "bin_start": 12392.2,
            "bin_end": 15484,
            "count": 576
           },
           {
            "bin_start": 15484,
            "bin_end": 18575.800000000003,
            "count": 636
           },
           {
            "bin_start": 18575.800000000003,
            "bin_end": 21667.600000000002,
            "count": 582
           },
           {
            "bin_start": 21667.600000000002,
            "bin_end": 24759.4,
            "count": 654
           },
           {
            "bin_start": 24759.4,
            "bin_end": 27851.2,
            "count": 564
           },
           {
            "bin_start": 27851.2,
            "bin_end": 30943,
            "count": 582
           }
          ]
         }
        },
        {
         "name": "flickr",
         "dtype": "int64",
         "stats": {
          "unique_count": 2,
          "nan_count": 0,
          "min": "0",
          "max": "1",
          "histogram": [
           {
            "bin_start": 0,
            "bin_end": 0.1,
            "count": 4995
           },
           {
            "bin_start": 0.1,
            "bin_end": 0.2,
            "count": 0
           },
           {
            "bin_start": 0.2,
            "bin_end": 0.30000000000000004,
            "count": 0
           },
           {
            "bin_start": 0.30000000000000004,
            "bin_end": 0.4,
            "count": 0
           },
           {
            "bin_start": 0.4,
            "bin_end": 0.5,
            "count": 0
           },
           {
            "bin_start": 0.5,
            "bin_end": 0.6000000000000001,
            "count": 0
           },
           {
            "bin_start": 0.6000000000000001,
            "bin_end": 0.7000000000000001,
            "count": 0
           },
           {
            "bin_start": 0.7000000000000001,
            "bin_end": 0.8,
            "count": 0
           },
           {
            "bin_start": 0.8,
            "bin_end": 0.9,
            "count": 0
           },
           {
            "bin_start": 0.9,
            "bin_end": 1,
            "count": 999
           }
          ]
         }
        },
        {
         "name": "_deepnote_index_column",
         "dtype": "int64"
        }
       ],
       "rows": [
        {
         "0": 10.398408889770508,
         "1": "664_20507_1.jpeg",
         "2": 20507,
         "flickr": 0,
         "_deepnote_index_column": 209
        },
        {
         "0": 10.543092727661133,
         "1": "725_22389_2.jpeg",
         "2": 22389,
         "flickr": 0,
         "_deepnote_index_column": 3043
        },
        {
         "0": 10.94722843170166,
         "1": "619_19247_5.jpeg",
         "2": 19247,
         "flickr": 0,
         "_deepnote_index_column": 4835
        },
        {
         "0": 11.956022262573242,
         "1": "334_10287_2.jpeg",
         "2": 10287,
         "flickr": 0,
         "_deepnote_index_column": 405
        },
        {
         "0": 12.030489921569824,
         "1": "326_10088_4.jpeg",
         "2": 10088,
         "flickr": 0,
         "_deepnote_index_column": 1878
        },
        {
         "0": 12.034235000610352,
         "1": "725_22389_1.jpeg",
         "2": 22389,
         "flickr": 0,
         "_deepnote_index_column": 3677
        },
        {
         "0": 12.231825828552246,
         "1": "798_24327_0.jpeg",
         "2": 24327,
         "flickr": 0,
         "_deepnote_index_column": 927
        },
        {
         "0": 12.255511283874512,
         "1": "320_9911_0.jpeg",
         "2": 9911,
         "flickr": 0,
         "_deepnote_index_column": 918
        },
        {
         "0": 12.313509941101074,
         "1": "765_23205_1.jpeg",
         "2": 23205,
         "flickr": 0,
         "_deepnote_index_column": 818
        },
        {
         "0": 12.36240577697754,
         "1": "517_16124_5.jpeg",
         "2": 16124,
         "flickr": 0,
         "_deepnote_index_column": 5853
        },
        {
         "0": 12.5662202835083,
         "1": "299_9328_4.jpeg",
         "2": 9328,
         "flickr": 0,
         "_deepnote_index_column": 3935
        },
        {
         "0": 12.77192497253418,
         "1": "265_8528_5.jpeg",
         "2": 8528,
         "flickr": 0,
         "_deepnote_index_column": 4792
        },
        {
         "0": 12.88918399810791,
         "1": "857_26366_1.jpeg",
         "2": 26366,
         "flickr": 0,
         "_deepnote_index_column": 4722
        },
        {
         "0": 12.927586555480955,
         "1": "989_30619_1.jpeg",
         "2": 30619,
         "flickr": 0,
         "_deepnote_index_column": 5758
        },
        {
         "0": 13.073688507080078,
         "1": "712_22145_1.jpeg",
         "2": 22145,
         "flickr": 0,
         "_deepnote_index_column": 816
        },
        {
         "0": 13.765542984008787,
         "1": "873_26697_1.jpeg",
         "2": 26697,
         "flickr": 0,
         "_deepnote_index_column": 3872
        },
        {
         "0": 13.9375,
         "1": "185_5881_1.jpeg",
         "2": 5881,
         "flickr": 0,
         "_deepnote_index_column": 3901
        },
        {
         "0": 13.995176315307615,
         "1": "691_21423_4.jpeg",
         "2": 21423,
         "flickr": 0,
         "_deepnote_index_column": 5973
        },
        {
         "0": 14.058738708496094,
         "1": "11_222_1.jpeg",
         "2": 222,
         "flickr": 0,
         "_deepnote_index_column": 3387
        },
        {
         "0": 14.063652992248535,
         "1": "311_9609_0.jpeg",
         "2": 9609,
         "flickr": 0,
         "_deepnote_index_column": 1831
        },
        {
         "0": 14.14824676513672,
         "1": "887_27238_1.jpeg",
         "2": 27238,
         "flickr": 0,
         "_deepnote_index_column": 200
        },
        {
         "0": 14.203990936279297,
         "1": "280_8903_5.jpeg",
         "2": 8903,
         "flickr": 0,
         "_deepnote_index_column": 5646
        },
        {
         "0": 14.213050842285156,
         "1": "584_17963_2.jpeg",
         "2": 17963,
         "flickr": 0,
         "_deepnote_index_column": 4601
        },
        {
         "0": 14.22278118133545,
         "1": "730_22478_2.jpeg",
         "2": 22478,
         "flickr": 0,
         "_deepnote_index_column": 4175
        },
        {
         "0": 14.263320922851562,
         "1": "632_19545_2.jpeg",
         "2": 19545,
         "flickr": 0,
         "_deepnote_index_column": 3806
        },
        {
         "0": 14.357196807861328,
         "1": "10_219_1.jpeg",
         "2": 219,
         "flickr": 0,
         "_deepnote_index_column": 3423
        },
        {
         "0": 14.370723724365234,
         "1": "307_9572_1.jpeg",
         "2": 9572,
         "flickr": 0,
         "_deepnote_index_column": 2641
        },
        {
         "0": 14.39099407196045,
         "1": "515_16070_1.jpeg",
         "2": 16070,
         "flickr": 0,
         "_deepnote_index_column": 598
        },
        {
         "0": 14.415757179260254,
         "1": "832_25554_0.jpeg",
         "2": 25554,
         "flickr": 0,
         "_deepnote_index_column": 2195
        },
        {
         "0": 14.432968139648438,
         "1": "925_28570_5.jpeg",
         "2": 28570,
         "flickr": 0,
         "_deepnote_index_column": 1164
        },
        {
         "0": 14.436213493347168,
         "1": "343_10577_1.jpeg",
         "2": 10577,
         "flickr": 0,
         "_deepnote_index_column": 2366
        },
        {
         "0": 14.44433307647705,
         "1": "449_14164_2.jpeg",
         "2": 14164,
         "flickr": 0,
         "_deepnote_index_column": 179
        },
        {
         "0": 14.445538520812988,
         "1": "938_28923_1.jpeg",
         "2": 28923,
         "flickr": 0,
         "_deepnote_index_column": 5007
        },
        {
         "0": 14.454421043395996,
         "1": "265_8528_4.jpeg",
         "2": 8528,
         "flickr": 0,
         "_deepnote_index_column": 5748
        },
        {
         "0": 14.495068550109863,
         "1": "146_4556_1.jpeg",
         "2": 4556,
         "flickr": 0,
         "_deepnote_index_column": 1986
        },
        {
         "0": 14.529214859008787,
         "1": "320_9911_2.jpeg",
         "2": 9911,
         "flickr": 0,
         "_deepnote_index_column": 194
        },
        {
         "0": 14.59284210205078,
         "1": "156_4902_0.jpeg",
         "2": 4902,
         "flickr": 0,
         "_deepnote_index_column": 2930
        },
        {
         "0": 14.625876426696776,
         "1": "375_11656_1.jpeg",
         "2": 11656,
         "flickr": 0,
         "_deepnote_index_column": 2464
        },
        {
         "0": 14.660388946533203,
         "1": "989_30619_4.jpeg",
         "2": 30619,
         "flickr": 0,
         "_deepnote_index_column": 3548
        },
        {
         "0": 14.664300918579102,
         "1": "651_20071_2.jpeg",
         "2": 20071,
         "flickr": 0,
         "_deepnote_index_column": 5106
        },
        {
         "0": 14.753859519958496,
         "1": "11_222_5.jpeg",
         "2": 222,
         "flickr": 0,
         "_deepnote_index_column": 2306
        },
        {
         "0": 14.769856452941896,
         "1": "718_22317_4.jpeg",
         "2": 22317,
         "flickr": 0,
         "_deepnote_index_column": 2296
        },
        {
         "0": 14.808252334594728,
         "1": "309_9592_1.jpeg",
         "2": 9592,
         "flickr": 0,
         "_deepnote_index_column": 5364
        },
        {
         "0": 14.81503677368164,
         "1": "326_10088_1.jpeg",
         "2": 10088,
         "flickr": 0,
         "_deepnote_index_column": 4144
        },
        {
         "0": 14.82156467437744,
         "1": "527_16532_1.jpeg",
         "2": 16532,
         "flickr": 0,
         "_deepnote_index_column": 4329
        },
        {
         "0": 14.825346946716309,
         "1": "434_13650_4.jpeg",
         "2": 13650,
         "flickr": 0,
         "_deepnote_index_column": 2134
        },
        {
         "0": 14.880773544311523,
         "1": "137_4041_5.jpeg",
         "2": 4041,
         "flickr": 0,
         "_deepnote_index_column": 4216
        },
        {
         "0": 14.88956356048584,
         "1": "449_14164_5.jpeg",
         "2": 14164,
         "flickr": 0,
         "_deepnote_index_column": 5982
        },
        {
         "0": 14.915284156799316,
         "1": "598_18426_5.jpeg",
         "2": 18426,
         "flickr": 0,
         "_deepnote_index_column": 3587
        },
        {
         "0": 14.91627025604248,
         "1": "448_14134_0.jpeg",
         "2": 14134,
         "flickr": 0,
         "_deepnote_index_column": 3465
        },
        {
         "0": 14.928659439086914,
         "1": "479_15004_1.jpeg",
         "2": 15004,
         "flickr": 0,
         "_deepnote_index_column": 663
        },
        {
         "0": 14.937101364135742,
         "1": "945_29087_0.jpeg",
         "2": 29087,
         "flickr": 0,
         "_deepnote_index_column": 4324
        },
        {
         "0": 14.93781280517578,
         "1": "311_9609_2.jpeg",
         "2": 9609,
         "flickr": 0,
         "_deepnote_index_column": 5560
        },
        {
         "0": 14.997032165527344,
         "1": "638_19724_1.jpeg",
         "2": 19724,
         "flickr": 0,
         "_deepnote_index_column": 4597
        },
        {
         "0": 15.01715850830078,
         "1": "559_17483_4.jpeg",
         "2": 17483,
         "flickr": 0,
         "_deepnote_index_column": 2429
        },
        {
         "0": 15.024243354797363,
         "1": "874_26806_5.jpeg",
         "2": 26806,
         "flickr": 0,
         "_deepnote_index_column": 3063
        },
        {
         "0": 15.044034957885742,
         "1": "718_22317_0.jpeg",
         "2": 22317,
         "flickr": 0,
         "_deepnote_index_column": 2577
        },
        {
         "0": 15.07581901550293,
         "1": "586_17983_5.jpeg",
         "2": 17983,
         "flickr": 0,
         "_deepnote_index_column": 5314
        },
        {
         "0": 15.07595157623291,
         "1": "744_22860_0.jpeg",
         "2": 22860,
         "flickr": 0,
         "_deepnote_index_column": 4290
        },
        {
         "0": 15.103561401367188,
         "1": "800_24425_2.jpeg",
         "2": 24425,
         "flickr": 0,
         "_deepnote_index_column": 2343
        },
        {
         "0": 15.120173454284668,
         "1": "76_2113_5.jpeg",
         "2": 2113,
         "flickr": 0,
         "_deepnote_index_column": 2780
        },
        {
         "0": 15.122861862182615,
         "1": "912_28066_1.jpeg",
         "2": 28066,
         "flickr": 0,
         "_deepnote_index_column": 4314
        },
        {
         "0": 15.13852596282959,
         "1": "716_22254_5.jpeg",
         "2": 22254,
         "flickr": 0,
         "_deepnote_index_column": 1734
        },
        {
         "0": 15.184223175048828,
         "1": "586_17983_4.jpeg",
         "2": 17983,
         "flickr": 0,
         "_deepnote_index_column": 3672
        },
        {
         "0": 15.199331283569336,
         "1": "825_25456_1.jpeg",
         "2": 25456,
         "flickr": 0,
         "_deepnote_index_column": 2725
        },
        {
         "0": 15.20242691040039,
         "1": "872_26682_5.jpeg",
         "2": 26682,
         "flickr": 0,
         "_deepnote_index_column": 449
        },
        {
         "0": 15.20888328552246,
         "1": "359_11152_4.jpeg",
         "2": 11152,
         "flickr": 0,
         "_deepnote_index_column": 613
        },
        {
         "0": 15.214457511901855,
         "1": "78_2130_4.jpeg",
         "2": 2130,
         "flickr": 0,
         "_deepnote_index_column": 1669
        },
        {
         "0": 15.24038028717041,
         "1": "816_25058_4.jpeg",
         "2": 25058,
         "flickr": 0,
         "_deepnote_index_column": 1153
        },
        {
         "0": 15.33559799194336,
         "1": "967_29772_0.jpeg",
         "2": 29772,
         "flickr": 0,
         "_deepnote_index_column": 2448
        },
        {
         "0": 15.349736213684082,
         "1": "42_1030_2.jpeg",
         "2": 1030,
         "flickr": 0,
         "_deepnote_index_column": 3289
        },
        {
         "0": 15.366557121276855,
         "1": "669_20682_4.jpeg",
         "2": 20682,
         "flickr": 0,
         "_deepnote_index_column": 1903
        },
        {
         "0": 15.446270942687988,
         "1": "950_29250_2.jpeg",
         "2": 29250,
         "flickr": 0,
         "_deepnote_index_column": 5964
        },
        {
         "0": 15.475199699401855,
         "1": "471_14773_4.jpeg",
         "2": 14773,
         "flickr": 0,
         "_deepnote_index_column": 2854
        },
        {
         "0": 15.482720375061035,
         "1": "534_16810_0.jpeg",
         "2": 16810,
         "flickr": 0,
         "_deepnote_index_column": 1789
        },
        {
         "0": 15.524856567382812,
         "1": "109_3078_4.jpeg",
         "2": 3078,
         "flickr": 0,
         "_deepnote_index_column": 2034
        },
        {
         "0": 15.582463264465332,
         "1": "404_12475_2.jpeg",
         "2": 12475,
         "flickr": 0,
         "_deepnote_index_column": 5478
        },
        {
         "0": 15.5877046585083,
         "1": "119_3451_1.jpeg",
         "2": 3451,
         "flickr": 0,
         "_deepnote_index_column": 1057
        },
        {
         "0": 15.588323593139648,
         "1": "771_23351_5.jpeg",
         "2": 23351,
         "flickr": 0,
         "_deepnote_index_column": 751
        },
        {
         "0": 15.617490768432615,
         "1": "711_22118_5.jpeg",
         "2": 22118,
         "flickr": 0,
         "_deepnote_index_column": 3435
        },
        {
         "0": 15.648171424865724,
         "1": "708_22078_4.jpeg",
         "2": 22078,
         "flickr": 0,
         "_deepnote_index_column": 1850
        },
        {
         "0": 15.652633666992188,
         "1": "798_24327_1.jpeg",
         "2": 24327,
         "flickr": 0,
         "_deepnote_index_column": 5108
        },
        {
         "0": 15.740252494812012,
         "1": "709_22098_0.jpeg",
         "2": 22098,
         "flickr": 0,
         "_deepnote_index_column": 1166
        },
        {
         "0": 15.75637149810791,
         "1": "903_27863_1.jpeg",
         "2": 27863,
         "flickr": 0,
         "_deepnote_index_column": 2347
        },
        {
         "0": 15.778902053833008,
         "1": "27_654_5.jpeg",
         "2": 654,
         "flickr": 0,
         "_deepnote_index_column": 1488
        },
        {
         "0": 15.788423538208008,
         "1": "770_23346_0.jpeg",
         "2": 23346,
         "flickr": 0,
         "_deepnote_index_column": 63
        },
        {
         "0": 15.794073104858398,
         "1": "764_23164_2.jpeg",
         "2": 23164,
         "flickr": 0,
         "_deepnote_index_column": 1617
        },
        {
         "0": 15.808732986450195,
         "1": "476_14941_1.jpeg",
         "2": 14941,
         "flickr": 0,
         "_deepnote_index_column": 2177
        },
        {
         "0": 15.816828727722168,
         "1": "686_21219_0.jpeg",
         "2": 21219,
         "flickr": 0,
         "_deepnote_index_column": 96
        },
        {
         "0": 15.830082893371582,
         "1": "493_15412_1.jpeg",
         "2": 15412,
         "flickr": 0,
         "_deepnote_index_column": 1549
        },
        {
         "0": 15.834246635437012,
         "1": "174_5621_4.jpeg",
         "2": 5621,
         "flickr": 0,
         "_deepnote_index_column": 4249
        },
        {
         "0": 15.84842014312744,
         "1": "257_8322_5.jpeg",
         "2": 8322,
         "flickr": 0,
         "_deepnote_index_column": 996
        },
        {
         "0": 15.855076789855955,
         "1": "316_9803_0.jpeg",
         "2": 9803,
         "flickr": 0,
         "_deepnote_index_column": 4461
        },
        {
         "0": 15.875864028930664,
         "1": "999_30943_2.jpeg",
         "2": 30943,
         "flickr": 0,
         "_deepnote_index_column": 442
        },
        {
         "0": 15.878307342529297,
         "1": "27_654_2.jpeg",
         "2": 654,
         "flickr": 0,
         "_deepnote_index_column": 4912
        },
        {
         "0": 15.881507873535156,
         "1": "626_19384_0.jpeg",
         "2": 19384,
         "flickr": 0,
         "_deepnote_index_column": 2419
        },
        {
         "0": 15.889909744262695,
         "1": "383_11979_1.jpeg",
         "2": 11979,
         "flickr": 0,
         "_deepnote_index_column": 389
        },
        {
         "0": 15.93073844909668,
         "1": "464_14582_5.jpeg",
         "2": 14582,
         "flickr": 0,
         "_deepnote_index_column": 5427
        },
        {
         "0": 15.940902709960938,
         "1": "404_12475_4.jpeg",
         "2": 12475,
         "flickr": 0,
         "_deepnote_index_column": 2187
        },
        {
         "0": 15.941740036010742,
         "1": "967_29772_5.jpeg",
         "2": 29772,
         "flickr": 0,
         "_deepnote_index_column": 1889
        }
       ]
      },
      "text/plain": "                     1          0      2  flickr\n0       48_1206_2.jpeg  25.037296   1206       0\n1     995_30781_4.jpeg  23.693491  30781       0\n2      186_5947_1.jpeg  28.058033   5947       0\n3      211_6661_5.jpeg  27.386684   6661       0\n4     544_17045_2.jpeg  25.031023  17045       0\n...                ...        ...    ...     ...\n5989  429_13543_1.jpeg  24.167414  13543       0\n5990  960_29489_1.jpeg  26.647877  29489       0\n5991  829_25516_4.jpeg  22.392540  25516       0\n5992  836_25753_2.jpeg  22.078007  25753       0\n5993   209_6549_4.jpeg  22.032907   6549       0\n\n[5994 rows x 4 columns]",
      "text/html": "<div>\n<style scoped>\n    .dataframe tbody tr th:only-of-type {\n        vertical-align: middle;\n    }\n\n    .dataframe tbody tr th {\n        vertical-align: top;\n    }\n\n    .dataframe thead th {\n        text-align: right;\n    }\n</style>\n<table border=\"1\" class=\"dataframe\">\n  <thead>\n    <tr style=\"text-align: right;\">\n      <th></th>\n      <th>1</th>\n      <th>0</th>\n      <th>2</th>\n      <th>flickr</th>\n    </tr>\n  </thead>\n  <tbody>\n    <tr>\n      <th>0</th>\n      <td>48_1206_2.jpeg</td>\n      <td>25.037296</td>\n      <td>1206</td>\n      <td>0</td>\n    </tr>\n    <tr>\n      <th>1</th>\n      <td>995_30781_4.jpeg</td>\n      <td>23.693491</td>\n      <td>30781</td>\n      <td>0</td>\n    </tr>\n    <tr>\n      <th>2</th>\n      <td>186_5947_1.jpeg</td>\n      <td>28.058033</td>\n      <td>5947</td>\n      <td>0</td>\n    </tr>\n    <tr>\n      <th>3</th>\n      <td>211_6661_5.jpeg</td>\n      <td>27.386684</td>\n      <td>6661</td>\n      <td>0</td>\n    </tr>\n    <tr>\n      <th>4</th>\n      <td>544_17045_2.jpeg</td>\n      <td>25.031023</td>\n      <td>17045</td>\n      <td>0</td>\n    </tr>\n    <tr>\n      <th>...</th>\n      <td>...</td>\n      <td>...</td>\n      <td>...</td>\n      <td>...</td>\n    </tr>\n    <tr>\n      <th>5989</th>\n      <td>429_13543_1.jpeg</td>\n      <td>24.167414</td>\n      <td>13543</td>\n      <td>0</td>\n    </tr>\n    <tr>\n      <th>5990</th>\n      <td>960_29489_1.jpeg</td>\n      <td>26.647877</td>\n      <td>29489</td>\n      <td>0</td>\n    </tr>\n    <tr>\n      <th>5991</th>\n      <td>829_25516_4.jpeg</td>\n      <td>22.392540</td>\n      <td>25516</td>\n      <td>0</td>\n    </tr>\n    <tr>\n      <th>5992</th>\n      <td>836_25753_2.jpeg</td>\n      <td>22.078007</td>\n      <td>25753</td>\n      <td>0</td>\n    </tr>\n    <tr>\n      <th>5993</th>\n      <td>209_6549_4.jpeg</td>\n      <td>22.032907</td>\n      <td>6549</td>\n      <td>0</td>\n    </tr>\n  </tbody>\n</table>\n<p>5994 rows × 4 columns</p>\n</div>"
     },
     "metadata": {}
    }
   ]
  },
  {
   "cell_type": "markdown",
   "source": "<a style='text-decoration:none;line-height:16px;display:flex;color:#5B5B62;padding:10px;justify-content:end;' href='https://deepnote.com?utm_source=created-in-deepnote-cell&projectId=4f3692ed-5f27-49a4-899a-82a03e72232c' target=\"_blank\">\n<img alt='Created in deepnote.com' style='display:inline;max-height:16px;margin:0px;margin-right:7.5px;' src='data:image/svg+xml;base64,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' > </img>\nCreated in <span style='font-weight:600;margin-left:4px;'>Deepnote</span></a>",
   "metadata": {
    "tags": [],
    "created_in_deepnote_cell": true,
    "deepnote_cell_type": "markdown"
   }
  }
 ],
 "nbformat": 4,
 "nbformat_minor": 2,
 "metadata": {
  "orig_nbformat": 2,
  "deepnote": {
   "is_reactive": false
  },
  "deepnote_notebook_id": "f75b47d7-3794-45c4-85f5-02c73d0d9472",
  "deepnote_execution_queue": []
 }
}
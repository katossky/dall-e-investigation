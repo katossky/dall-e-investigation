{
 "cells": [
  {
   "cell_type": "markdown",
   "source": "## Chargement des données\n\nLes données COCO () sont accessibles notamment via le package `fiftyone` qui permet de sélectionner les images de façon aléatoire. Nous ne sommes intéressés que par les sous-titres des images (_captions_).\n\nLa structure d'un jeu de données de cette librairie `fyftyone` n'est pas transparente (elle est prévue pour des interactions via cette librairie). Avec quelques tests, on identifier qu'un jeu de donnée possède une méthode `to_dict()`, dans lequel l'entréee correspondant au tableau de données est `samples`.",
   "metadata": {
    "tags": [],
    "cell_id": "00000-a6d8b5b3-6a3d-4c11-9b38-dda999ae2060",
    "deepnote_cell_type": "markdown"
   }
  },
  {
   "cell_type": "code",
   "metadata": {
    "tags": [],
    "cell_id": "00000-477d03e4-233e-4d75-a744-7544359f270c",
    "deepnote_to_be_reexecuted": false,
    "source_hash": "d71d7b53",
    "execution_start": 1639161710612,
    "execution_millis": 7002,
    "deepnote_cell_type": "code"
   },
   "source": "import fiftyone as fo\nimport fiftyone.zoo as foz",
   "outputs": [],
   "execution_count": null
  },
  {
   "cell_type": "code",
   "metadata": {
    "tags": [],
    "cell_id": "00001-52559f73-5d78-4370-89e6-015de8a9d252",
    "deepnote_to_be_reexecuted": false,
    "source_hash": "ed8fa26",
    "execution_start": 1639161721202,
    "execution_millis": 40518,
    "deepnote_cell_type": "code"
   },
   "source": "coco_images_100 = foz.load_zoo_dataset(\n    \"coco-2017\",\n    split=\"train\",\n    max_samples=100,\n    shuffle=True,\n    include_id=True,\n    seed=5212\n)\ncoco_images_100 = coco_images_100.to_dict()['samples']",
   "outputs": [
    {
     "name": "stdout",
     "text": "Downloading split 'train' to '/root/fiftyone/coco-2017/train' if necessary\nDownloading annotations to '/root/fiftyone/coco-2017/tmp-download/annotations_trainval2017.zip'\n 100% |██████|    1.9Gb/1.9Gb [3.2s elapsed, 0s remaining, 544.2Mb/s]      \nExtracting annotations to '/root/fiftyone/coco-2017/raw/instances_train2017.json'\nDownloading 100 images\n 100% |██████████████████| 100/100 [2.3s elapsed, 0s remaining, 46.3 images/s]      \nWriting annotations for 100 downloaded samples to '/root/fiftyone/coco-2017/train/labels.json'\nDataset info written to '/root/fiftyone/coco-2017/info.json'\nLoading 'coco-2017' split 'train'\n 100% |█████████████████| 100/100 [552.6ms elapsed, 0s remaining, 181.0 samples/s]      \nDataset 'coco-2017-train-100' created\n 100% |█████████████████| 100/100 [370.7ms elapsed, 0s remaining, 269.7 samples/s]      \n",
     "output_type": "stream"
    }
   ],
   "execution_count": null
  },
  {
   "cell_type": "code",
   "metadata": {
    "tags": [],
    "cell_id": "00003-1517dc71-27dc-471a-bc90-c2985b5a37a1",
    "deepnote_to_be_reexecuted": false,
    "source_hash": "90b56227",
    "execution_start": 1639161768257,
    "execution_millis": 3,
    "deepnote_output_heights": [
     1
    ],
    "deepnote_cell_type": "code"
   },
   "source": "coco_images_100[1] # notice \"coco_id\" et \"filepath\"",
   "outputs": [
    {
     "output_type": "execute_result",
     "execution_count": 3,
     "data": {
      "text/plain": "{'filepath': '/root/fiftyone/coco-2017/train/data/000000427123.jpg',\n 'tags': ['train'],\n 'metadata': {'_cls': 'ImageMetadata', 'width': 640, 'height': 426},\n 'detections': {'_cls': 'Detections',\n  'detections': [{'_id': {'$oid': '61b39fa048cd9efa2de54b62'},\n    '_cls': 'Detection',\n    'attributes': {},\n    'tags': [],\n    'label': 'tie',\n    'bounding_box': [0.2866875,\n     0.4150938967136151,\n     0.021453125,\n     0.1264319248826291],\n    'supercategory': 'accessory',\n    'iscrowd': 0},\n   {'_id': {'$oid': '61b39fa048cd9efa2de54b63'},\n    '_cls': 'Detection',\n    'attributes': {},\n    'tags': [],\n    'label': 'person',\n    'bounding_box': [0.1801875,\n     0.22840375586854458,\n     0.218890625,\n     0.7427230046948357],\n    'supercategory': 'person',\n    'iscrowd': 0},\n   {'_id': {'$oid': '61b39fa048cd9efa2de54b64'},\n    '_cls': 'Detection',\n    'attributes': {},\n    'tags': [],\n    'label': 'person',\n    'bounding_box': [0.400875,\n     0.19551643192488263,\n     0.20790625000000001,\n     0.7932394366197183],\n    'supercategory': 'person',\n    'iscrowd': 0},\n   {'_id': {'$oid': '61b39fa048cd9efa2de54b65'},\n    '_cls': 'Detection',\n    'attributes': {},\n    'tags': [],\n    'label': 'person',\n    'bounding_box': [0.5999531250000001,\n     0.26704225352112676,\n     0.213421875,\n     0.719718309859155],\n    'supercategory': 'person',\n    'iscrowd': 0},\n   {'_id': {'$oid': '61b39fa048cd9efa2de54b66'},\n    '_cls': 'Detection',\n    'attributes': {},\n    'tags': [],\n    'label': 'tie',\n    'bounding_box': [0.6871875000000001,\n     0.452887323943662,\n     0.012921875,\n     0.04145539906103286],\n    'supercategory': 'accessory',\n    'iscrowd': 0}]},\n 'coco_id': 427123}"
     },
     "metadata": {}
    }
   ],
   "execution_count": null
  },
  {
   "cell_type": "code",
   "metadata": {
    "tags": [],
    "cell_id": "00003-caecae7a-aca2-4040-be05-640256b26617",
    "deepnote_to_be_reexecuted": false,
    "source_hash": "9a5839a3",
    "execution_start": 1639161823703,
    "execution_millis": 384,
    "deepnote_cell_type": "code"
   },
   "source": "import pandas as pd\n\n# format as pandas' data frame\ncoco_images_100_df = pd.DataFrame( {\n    \"id\"       : [image['coco_id'] for image in coco_images_100 ],\n    \"url\"      : ['http://cocodataset.org/#explore?id=' + str( image['coco_id'] ) for image in coco_images_100 ],\n    \"filepath\" : [image['filepath'] for image in coco_images_100 ],\n})\n\n# save in order to prevent later re-downloading and re-generation\ncoco_images_100_df.to_csv(\"data/0-coco_df-id-url.csv\", index=False)",
   "outputs": [],
   "execution_count": null
  },
  {
   "cell_type": "code",
   "metadata": {
    "tags": [],
    "cell_id": "00003-647d409f-497f-4bad-9310-b5cd9c6d3d05",
    "deepnote_to_be_reexecuted": false,
    "source_hash": "23757e4",
    "execution_start": 1639161829192,
    "execution_millis": 24,
    "deepnote_output_heights": [
     611
    ],
    "deepnote_cell_type": "code"
   },
   "source": "coco_images_100_df ",
   "outputs": [
    {
     "output_type": "execute_result",
     "execution_count": 5,
     "data": {
      "application/vnd.deepnote.dataframe.v2+json": {
       "row_count": 100,
       "column_count": 3,
       "columns": [
        {
         "name": "id",
         "dtype": "int64",
         "stats": {
          "unique_count": 100,
          "nan_count": 0,
          "min": "4130",
          "max": "575331",
          "histogram": [
           {
            "bin_start": 4130,
            "bin_end": 61250.1,
            "count": 13
           },
           {
            "bin_start": 61250.1,
            "bin_end": 118370.2,
            "count": 9
           },
           {
            "bin_start": 118370.2,
            "bin_end": 175490.3,
            "count": 8
           },
           {
            "bin_start": 175490.3,
            "bin_end": 232610.4,
            "count": 8
           },
           {
            "bin_start": 232610.4,
            "bin_end": 289730.5,
            "count": 8
           },
           {
            "bin_start": 289730.5,
            "bin_end": 346850.6,
            "count": 12
           },
           {
            "bin_start": 346850.6,
            "bin_end": 403970.7,
            "count": 6
           },
           {
            "bin_start": 403970.7,
            "bin_end": 461090.8,
            "count": 16
           },
           {
            "bin_start": 461090.8,
            "bin_end": 518210.89999999997,
            "count": 11
           },
           {
            "bin_start": 518210.89999999997,
            "bin_end": 575331,
            "count": 9
           }
          ]
         }
        },
        {
         "name": "url",
         "dtype": "object",
         "stats": {
          "unique_count": 100,
          "nan_count": 0,
          "categories": [
           {
            "name": "http://cocodataset.org/#explore?id=393274",
            "count": 1
           },
           {
            "name": "http://cocodataset.org/#explore?id=427123",
            "count": 1
           },
           {
            "name": "98 others",
            "count": 98
           }
          ]
         }
        },
        {
         "name": "filepath",
         "dtype": "object",
         "stats": {
          "unique_count": 100,
          "nan_count": 0,
          "categories": [
           {
            "name": "/root/fiftyone/coco-2017/train/data/000000393274.jpg",
            "count": 1
           },
           {
            "name": "/root/fiftyone/coco-2017/train/data/000000427123.jpg",
            "count": 1
           },
           {
            "name": "98 others",
            "count": 98
           }
          ]
         }
        },
        {
         "name": "_deepnote_index_column",
         "dtype": "int64"
        }
       ],
       "rows_top": [
        {
         "id": 393274,
         "url": "http://cocodataset.org/#explore?id=393274",
         "filepath": "/root/fiftyone/coco-2017/train/data/000000393274.jpg",
         "_deepnote_index_column": 0
        },
        {
         "id": 427123,
         "url": "http://cocodataset.org/#explore?id=427123",
         "filepath": "/root/fiftyone/coco-2017/train/data/000000427123.jpg",
         "_deepnote_index_column": 1
        },
        {
         "id": 405324,
         "url": "http://cocodataset.org/#explore?id=405324",
         "filepath": "/root/fiftyone/coco-2017/train/data/000000405324.jpg",
         "_deepnote_index_column": 2
        },
        {
         "id": 300357,
         "url": "http://cocodataset.org/#explore?id=300357",
         "filepath": "/root/fiftyone/coco-2017/train/data/000000300357.jpg",
         "_deepnote_index_column": 3
        },
        {
         "id": 57340,
         "url": "http://cocodataset.org/#explore?id=57340",
         "filepath": "/root/fiftyone/coco-2017/train/data/000000057340.jpg",
         "_deepnote_index_column": 4
        },
        {
         "id": 198654,
         "url": "http://cocodataset.org/#explore?id=198654",
         "filepath": "/root/fiftyone/coco-2017/train/data/000000198654.jpg",
         "_deepnote_index_column": 5
        },
        {
         "id": 518361,
         "url": "http://cocodataset.org/#explore?id=518361",
         "filepath": "/root/fiftyone/coco-2017/train/data/000000518361.jpg",
         "_deepnote_index_column": 6
        },
        {
         "id": 525640,
         "url": "http://cocodataset.org/#explore?id=525640",
         "filepath": "/root/fiftyone/coco-2017/train/data/000000525640.jpg",
         "_deepnote_index_column": 7
        },
        {
         "id": 526347,
         "url": "http://cocodataset.org/#explore?id=526347",
         "filepath": "/root/fiftyone/coco-2017/train/data/000000526347.jpg",
         "_deepnote_index_column": 8
        },
        {
         "id": 4130,
         "url": "http://cocodataset.org/#explore?id=4130",
         "filepath": "/root/fiftyone/coco-2017/train/data/000000004130.jpg",
         "_deepnote_index_column": 9
        },
        {
         "id": 522661,
         "url": "http://cocodataset.org/#explore?id=522661",
         "filepath": "/root/fiftyone/coco-2017/train/data/000000522661.jpg",
         "_deepnote_index_column": 10
        },
        {
         "id": 310526,
         "url": "http://cocodataset.org/#explore?id=310526",
         "filepath": "/root/fiftyone/coco-2017/train/data/000000310526.jpg",
         "_deepnote_index_column": 11
        },
        {
         "id": 497591,
         "url": "http://cocodataset.org/#explore?id=497591",
         "filepath": "/root/fiftyone/coco-2017/train/data/000000497591.jpg",
         "_deepnote_index_column": 12
        },
        {
         "id": 338991,
         "url": "http://cocodataset.org/#explore?id=338991",
         "filepath": "/root/fiftyone/coco-2017/train/data/000000338991.jpg",
         "_deepnote_index_column": 13
        },
        {
         "id": 446463,
         "url": "http://cocodataset.org/#explore?id=446463",
         "filepath": "/root/fiftyone/coco-2017/train/data/000000446463.jpg",
         "_deepnote_index_column": 14
        },
        {
         "id": 50356,
         "url": "http://cocodataset.org/#explore?id=50356",
         "filepath": "/root/fiftyone/coco-2017/train/data/000000050356.jpg",
         "_deepnote_index_column": 15
        },
        {
         "id": 301402,
         "url": "http://cocodataset.org/#explore?id=301402",
         "filepath": "/root/fiftyone/coco-2017/train/data/000000301402.jpg",
         "_deepnote_index_column": 16
        },
        {
         "id": 56624,
         "url": "http://cocodataset.org/#explore?id=56624",
         "filepath": "/root/fiftyone/coco-2017/train/data/000000056624.jpg",
         "_deepnote_index_column": 17
        },
        {
         "id": 21097,
         "url": "http://cocodataset.org/#explore?id=21097",
         "filepath": "/root/fiftyone/coco-2017/train/data/000000021097.jpg",
         "_deepnote_index_column": 18
        },
        {
         "id": 14824,
         "url": "http://cocodataset.org/#explore?id=14824",
         "filepath": "/root/fiftyone/coco-2017/train/data/000000014824.jpg",
         "_deepnote_index_column": 19
        },
        {
         "id": 317730,
         "url": "http://cocodataset.org/#explore?id=317730",
         "filepath": "/root/fiftyone/coco-2017/train/data/000000317730.jpg",
         "_deepnote_index_column": 20
        },
        {
         "id": 160703,
         "url": "http://cocodataset.org/#explore?id=160703",
         "filepath": "/root/fiftyone/coco-2017/train/data/000000160703.jpg",
         "_deepnote_index_column": 21
        },
        {
         "id": 302313,
         "url": "http://cocodataset.org/#explore?id=302313",
         "filepath": "/root/fiftyone/coco-2017/train/data/000000302313.jpg",
         "_deepnote_index_column": 22
        },
        {
         "id": 104842,
         "url": "http://cocodataset.org/#explore?id=104842",
         "filepath": "/root/fiftyone/coco-2017/train/data/000000104842.jpg",
         "_deepnote_index_column": 23
        },
        {
         "id": 569865,
         "url": "http://cocodataset.org/#explore?id=569865",
         "filepath": "/root/fiftyone/coco-2017/train/data/000000569865.jpg",
         "_deepnote_index_column": 24
        },
        {
         "id": 62824,
         "url": "http://cocodataset.org/#explore?id=62824",
         "filepath": "/root/fiftyone/coco-2017/train/data/000000062824.jpg",
         "_deepnote_index_column": 25
        },
        {
         "id": 327802,
         "url": "http://cocodataset.org/#explore?id=327802",
         "filepath": "/root/fiftyone/coco-2017/train/data/000000327802.jpg",
         "_deepnote_index_column": 26
        },
        {
         "id": 385341,
         "url": "http://cocodataset.org/#explore?id=385341",
         "filepath": "/root/fiftyone/coco-2017/train/data/000000385341.jpg",
         "_deepnote_index_column": 27
        },
        {
         "id": 370121,
         "url": "http://cocodataset.org/#explore?id=370121",
         "filepath": "/root/fiftyone/coco-2017/train/data/000000370121.jpg",
         "_deepnote_index_column": 28
        },
        {
         "id": 475277,
         "url": "http://cocodataset.org/#explore?id=475277",
         "filepath": "/root/fiftyone/coco-2017/train/data/000000475277.jpg",
         "_deepnote_index_column": 29
        },
        {
         "id": 140122,
         "url": "http://cocodataset.org/#explore?id=140122",
         "filepath": "/root/fiftyone/coco-2017/train/data/000000140122.jpg",
         "_deepnote_index_column": 30
        },
        {
         "id": 119502,
         "url": "http://cocodataset.org/#explore?id=119502",
         "filepath": "/root/fiftyone/coco-2017/train/data/000000119502.jpg",
         "_deepnote_index_column": 31
        },
        {
         "id": 413868,
         "url": "http://cocodataset.org/#explore?id=413868",
         "filepath": "/root/fiftyone/coco-2017/train/data/000000413868.jpg",
         "_deepnote_index_column": 32
        },
        {
         "id": 12650,
         "url": "http://cocodataset.org/#explore?id=12650",
         "filepath": "/root/fiftyone/coco-2017/train/data/000000012650.jpg",
         "_deepnote_index_column": 33
        },
        {
         "id": 269338,
         "url": "http://cocodataset.org/#explore?id=269338",
         "filepath": "/root/fiftyone/coco-2017/train/data/000000269338.jpg",
         "_deepnote_index_column": 34
        },
        {
         "id": 514601,
         "url": "http://cocodataset.org/#explore?id=514601",
         "filepath": "/root/fiftyone/coco-2017/train/data/000000514601.jpg",
         "_deepnote_index_column": 35
        },
        {
         "id": 495456,
         "url": "http://cocodataset.org/#explore?id=495456",
         "filepath": "/root/fiftyone/coco-2017/train/data/000000495456.jpg",
         "_deepnote_index_column": 36
        },
        {
         "id": 106513,
         "url": "http://cocodataset.org/#explore?id=106513",
         "filepath": "/root/fiftyone/coco-2017/train/data/000000106513.jpg",
         "_deepnote_index_column": 37
        },
        {
         "id": 380258,
         "url": "http://cocodataset.org/#explore?id=380258",
         "filepath": "/root/fiftyone/coco-2017/train/data/000000380258.jpg",
         "_deepnote_index_column": 38
        },
        {
         "id": 61354,
         "url": "http://cocodataset.org/#explore?id=61354",
         "filepath": "/root/fiftyone/coco-2017/train/data/000000061354.jpg",
         "_deepnote_index_column": 39
        },
        {
         "id": 506034,
         "url": "http://cocodataset.org/#explore?id=506034",
         "filepath": "/root/fiftyone/coco-2017/train/data/000000506034.jpg",
         "_deepnote_index_column": 40
        },
        {
         "id": 239593,
         "url": "http://cocodataset.org/#explore?id=239593",
         "filepath": "/root/fiftyone/coco-2017/train/data/000000239593.jpg",
         "_deepnote_index_column": 41
        },
        {
         "id": 103375,
         "url": "http://cocodataset.org/#explore?id=103375",
         "filepath": "/root/fiftyone/coco-2017/train/data/000000103375.jpg",
         "_deepnote_index_column": 42
        },
        {
         "id": 452687,
         "url": "http://cocodataset.org/#explore?id=452687",
         "filepath": "/root/fiftyone/coco-2017/train/data/000000452687.jpg",
         "_deepnote_index_column": 43
        },
        {
         "id": 430885,
         "url": "http://cocodataset.org/#explore?id=430885",
         "filepath": "/root/fiftyone/coco-2017/train/data/000000430885.jpg",
         "_deepnote_index_column": 44
        },
        {
         "id": 292152,
         "url": "http://cocodataset.org/#explore?id=292152",
         "filepath": "/root/fiftyone/coco-2017/train/data/000000292152.jpg",
         "_deepnote_index_column": 45
        },
        {
         "id": 90024,
         "url": "http://cocodataset.org/#explore?id=90024",
         "filepath": "/root/fiftyone/coco-2017/train/data/000000090024.jpg",
         "_deepnote_index_column": 46
        },
        {
         "id": 575331,
         "url": "http://cocodataset.org/#explore?id=575331",
         "filepath": "/root/fiftyone/coco-2017/train/data/000000575331.jpg",
         "_deepnote_index_column": 47
        },
        {
         "id": 404917,
         "url": "http://cocodataset.org/#explore?id=404917",
         "filepath": "/root/fiftyone/coco-2017/train/data/000000404917.jpg",
         "_deepnote_index_column": 48
        },
        {
         "id": 13176,
         "url": "http://cocodataset.org/#explore?id=13176",
         "filepath": "/root/fiftyone/coco-2017/train/data/000000013176.jpg",
         "_deepnote_index_column": 49
        },
        {
         "id": 230227,
         "url": "http://cocodataset.org/#explore?id=230227",
         "filepath": "/root/fiftyone/coco-2017/train/data/000000230227.jpg",
         "_deepnote_index_column": 50
        },
        {
         "id": 122355,
         "url": "http://cocodataset.org/#explore?id=122355",
         "filepath": "/root/fiftyone/coco-2017/train/data/000000122355.jpg",
         "_deepnote_index_column": 51
        },
        {
         "id": 359143,
         "url": "http://cocodataset.org/#explore?id=359143",
         "filepath": "/root/fiftyone/coco-2017/train/data/000000359143.jpg",
         "_deepnote_index_column": 52
        },
        {
         "id": 135288,
         "url": "http://cocodataset.org/#explore?id=135288",
         "filepath": "/root/fiftyone/coco-2017/train/data/000000135288.jpg",
         "_deepnote_index_column": 53
        },
        {
         "id": 273029,
         "url": "http://cocodataset.org/#explore?id=273029",
         "filepath": "/root/fiftyone/coco-2017/train/data/000000273029.jpg",
         "_deepnote_index_column": 54
        },
        {
         "id": 185633,
         "url": "http://cocodataset.org/#explore?id=185633",
         "filepath": "/root/fiftyone/coco-2017/train/data/000000185633.jpg",
         "_deepnote_index_column": 55
        },
        {
         "id": 270222,
         "url": "http://cocodataset.org/#explore?id=270222",
         "filepath": "/root/fiftyone/coco-2017/train/data/000000270222.jpg",
         "_deepnote_index_column": 56
        },
        {
         "id": 439868,
         "url": "http://cocodataset.org/#explore?id=439868",
         "filepath": "/root/fiftyone/coco-2017/train/data/000000439868.jpg",
         "_deepnote_index_column": 57
        },
        {
         "id": 424174,
         "url": "http://cocodataset.org/#explore?id=424174",
         "filepath": "/root/fiftyone/coco-2017/train/data/000000424174.jpg",
         "_deepnote_index_column": 58
        },
        {
         "id": 344720,
         "url": "http://cocodataset.org/#explore?id=344720",
         "filepath": "/root/fiftyone/coco-2017/train/data/000000344720.jpg",
         "_deepnote_index_column": 59
        },
        {
         "id": 292782,
         "url": "http://cocodataset.org/#explore?id=292782",
         "filepath": "/root/fiftyone/coco-2017/train/data/000000292782.jpg",
         "_deepnote_index_column": 60
        },
        {
         "id": 102765,
         "url": "http://cocodataset.org/#explore?id=102765",
         "filepath": "/root/fiftyone/coco-2017/train/data/000000102765.jpg",
         "_deepnote_index_column": 61
        },
        {
         "id": 484149,
         "url": "http://cocodataset.org/#explore?id=484149",
         "filepath": "/root/fiftyone/coco-2017/train/data/000000484149.jpg",
         "_deepnote_index_column": 62
        },
        {
         "id": 27593,
         "url": "http://cocodataset.org/#explore?id=27593",
         "filepath": "/root/fiftyone/coco-2017/train/data/000000027593.jpg",
         "_deepnote_index_column": 63
        },
        {
         "id": 266165,
         "url": "http://cocodataset.org/#explore?id=266165",
         "filepath": "/root/fiftyone/coco-2017/train/data/000000266165.jpg",
         "_deepnote_index_column": 64
        },
        {
         "id": 125070,
         "url": "http://cocodataset.org/#explore?id=125070",
         "filepath": "/root/fiftyone/coco-2017/train/data/000000125070.jpg",
         "_deepnote_index_column": 65
        },
        {
         "id": 78771,
         "url": "http://cocodataset.org/#explore?id=78771",
         "filepath": "/root/fiftyone/coco-2017/train/data/000000078771.jpg",
         "_deepnote_index_column": 66
        },
        {
         "id": 291606,
         "url": "http://cocodataset.org/#explore?id=291606",
         "filepath": "/root/fiftyone/coco-2017/train/data/000000291606.jpg",
         "_deepnote_index_column": 67
        },
        {
         "id": 423116,
         "url": "http://cocodataset.org/#explore?id=423116",
         "filepath": "/root/fiftyone/coco-2017/train/data/000000423116.jpg",
         "_deepnote_index_column": 68
        },
        {
         "id": 405762,
         "url": "http://cocodataset.org/#explore?id=405762",
         "filepath": "/root/fiftyone/coco-2017/train/data/000000405762.jpg",
         "_deepnote_index_column": 69
        },
        {
         "id": 41001,
         "url": "http://cocodataset.org/#explore?id=41001",
         "filepath": "/root/fiftyone/coco-2017/train/data/000000041001.jpg",
         "_deepnote_index_column": 70
        },
        {
         "id": 201925,
         "url": "http://cocodataset.org/#explore?id=201925",
         "filepath": "/root/fiftyone/coco-2017/train/data/000000201925.jpg",
         "_deepnote_index_column": 71
        },
        {
         "id": 380734,
         "url": "http://cocodataset.org/#explore?id=380734",
         "filepath": "/root/fiftyone/coco-2017/train/data/000000380734.jpg",
         "_deepnote_index_column": 72
        },
        {
         "id": 487462,
         "url": "http://cocodataset.org/#explore?id=487462",
         "filepath": "/root/fiftyone/coco-2017/train/data/000000487462.jpg",
         "_deepnote_index_column": 73
        },
        {
         "id": 455776,
         "url": "http://cocodataset.org/#explore?id=455776",
         "filepath": "/root/fiftyone/coco-2017/train/data/000000455776.jpg",
         "_deepnote_index_column": 74
        },
        {
         "id": 440895,
         "url": "http://cocodataset.org/#explore?id=440895",
         "filepath": "/root/fiftyone/coco-2017/train/data/000000440895.jpg",
         "_deepnote_index_column": 75
        },
        {
         "id": 55627,
         "url": "http://cocodataset.org/#explore?id=55627",
         "filepath": "/root/fiftyone/coco-2017/train/data/000000055627.jpg",
         "_deepnote_index_column": 76
        },
        {
         "id": 436111,
         "url": "http://cocodataset.org/#explore?id=436111",
         "filepath": "/root/fiftyone/coco-2017/train/data/000000436111.jpg",
         "_deepnote_index_column": 77
        },
        {
         "id": 492286,
         "url": "http://cocodataset.org/#explore?id=492286",
         "filepath": "/root/fiftyone/coco-2017/train/data/000000492286.jpg",
         "_deepnote_index_column": 78
        },
        {
         "id": 149892,
         "url": "http://cocodataset.org/#explore?id=149892",
         "filepath": "/root/fiftyone/coco-2017/train/data/000000149892.jpg",
         "_deepnote_index_column": 79
        },
        {
         "id": 493196,
         "url": "http://cocodataset.org/#explore?id=493196",
         "filepath": "/root/fiftyone/coco-2017/train/data/000000493196.jpg",
         "_deepnote_index_column": 80
        },
        {
         "id": 182575,
         "url": "http://cocodataset.org/#explore?id=182575",
         "filepath": "/root/fiftyone/coco-2017/train/data/000000182575.jpg",
         "_deepnote_index_column": 81
        },
        {
         "id": 203559,
         "url": "http://cocodataset.org/#explore?id=203559",
         "filepath": "/root/fiftyone/coco-2017/train/data/000000203559.jpg",
         "_deepnote_index_column": 82
        },
        {
         "id": 519950,
         "url": "http://cocodataset.org/#explore?id=519950",
         "filepath": "/root/fiftyone/coco-2017/train/data/000000519950.jpg",
         "_deepnote_index_column": 83
        },
        {
         "id": 27276,
         "url": "http://cocodataset.org/#explore?id=27276",
         "filepath": "/root/fiftyone/coco-2017/train/data/000000027276.jpg",
         "_deepnote_index_column": 84
        },
        {
         "id": 108425,
         "url": "http://cocodataset.org/#explore?id=108425",
         "filepath": "/root/fiftyone/coco-2017/train/data/000000108425.jpg",
         "_deepnote_index_column": 85
        },
        {
         "id": 158713,
         "url": "http://cocodataset.org/#explore?id=158713",
         "filepath": "/root/fiftyone/coco-2017/train/data/000000158713.jpg",
         "_deepnote_index_column": 86
        },
        {
         "id": 5701,
         "url": "http://cocodataset.org/#explore?id=5701",
         "filepath": "/root/fiftyone/coco-2017/train/data/000000005701.jpg",
         "_deepnote_index_column": 87
        },
        {
         "id": 254994,
         "url": "http://cocodataset.org/#explore?id=254994",
         "filepath": "/root/fiftyone/coco-2017/train/data/000000254994.jpg",
         "_deepnote_index_column": 88
        },
        {
         "id": 256799,
         "url": "http://cocodataset.org/#explore?id=256799",
         "filepath": "/root/fiftyone/coco-2017/train/data/000000256799.jpg",
         "_deepnote_index_column": 89
        },
        {
         "id": 524981,
         "url": "http://cocodataset.org/#explore?id=524981",
         "filepath": "/root/fiftyone/coco-2017/train/data/000000524981.jpg",
         "_deepnote_index_column": 90
        },
        {
         "id": 509839,
         "url": "http://cocodataset.org/#explore?id=509839",
         "filepath": "/root/fiftyone/coco-2017/train/data/000000509839.jpg",
         "_deepnote_index_column": 91
        },
        {
         "id": 194120,
         "url": "http://cocodataset.org/#explore?id=194120",
         "filepath": "/root/fiftyone/coco-2017/train/data/000000194120.jpg",
         "_deepnote_index_column": 92
        },
        {
         "id": 197329,
         "url": "http://cocodataset.org/#explore?id=197329",
         "filepath": "/root/fiftyone/coco-2017/train/data/000000197329.jpg",
         "_deepnote_index_column": 93
        },
        {
         "id": 432637,
         "url": "http://cocodataset.org/#explore?id=432637",
         "filepath": "/root/fiftyone/coco-2017/train/data/000000432637.jpg",
         "_deepnote_index_column": 94
        },
        {
         "id": 298014,
         "url": "http://cocodataset.org/#explore?id=298014",
         "filepath": "/root/fiftyone/coco-2017/train/data/000000298014.jpg",
         "_deepnote_index_column": 95
        },
        {
         "id": 250225,
         "url": "http://cocodataset.org/#explore?id=250225",
         "filepath": "/root/fiftyone/coco-2017/train/data/000000250225.jpg",
         "_deepnote_index_column": 96
        },
        {
         "id": 484457,
         "url": "http://cocodataset.org/#explore?id=484457",
         "filepath": "/root/fiftyone/coco-2017/train/data/000000484457.jpg",
         "_deepnote_index_column": 97
        },
        {
         "id": 541039,
         "url": "http://cocodataset.org/#explore?id=541039",
         "filepath": "/root/fiftyone/coco-2017/train/data/000000541039.jpg",
         "_deepnote_index_column": 98
        },
        {
         "id": 423313,
         "url": "http://cocodataset.org/#explore?id=423313",
         "filepath": "/root/fiftyone/coco-2017/train/data/000000423313.jpg",
         "_deepnote_index_column": 99
        }
       ],
       "rows_bottom": null
      },
      "text/plain": "        id                                        url  \\\n0   393274  http://cocodataset.org/#explore?id=393274   \n1   427123  http://cocodataset.org/#explore?id=427123   \n2   405324  http://cocodataset.org/#explore?id=405324   \n3   300357  http://cocodataset.org/#explore?id=300357   \n4    57340   http://cocodataset.org/#explore?id=57340   \n..     ...                                        ...   \n95  298014  http://cocodataset.org/#explore?id=298014   \n96  250225  http://cocodataset.org/#explore?id=250225   \n97  484457  http://cocodataset.org/#explore?id=484457   \n98  541039  http://cocodataset.org/#explore?id=541039   \n99  423313  http://cocodataset.org/#explore?id=423313   \n\n                                             filepath  \n0   /root/fiftyone/coco-2017/train/data/0000003932...  \n1   /root/fiftyone/coco-2017/train/data/0000004271...  \n2   /root/fiftyone/coco-2017/train/data/0000004053...  \n3   /root/fiftyone/coco-2017/train/data/0000003003...  \n4   /root/fiftyone/coco-2017/train/data/0000000573...  \n..                                                ...  \n95  /root/fiftyone/coco-2017/train/data/0000002980...  \n96  /root/fiftyone/coco-2017/train/data/0000002502...  \n97  /root/fiftyone/coco-2017/train/data/0000004844...  \n98  /root/fiftyone/coco-2017/train/data/0000005410...  \n99  /root/fiftyone/coco-2017/train/data/0000004233...  \n\n[100 rows x 3 columns]",
      "text/html": "<div>\n<style scoped>\n    .dataframe tbody tr th:only-of-type {\n        vertical-align: middle;\n    }\n\n    .dataframe tbody tr th {\n        vertical-align: top;\n    }\n\n    .dataframe thead th {\n        text-align: right;\n    }\n</style>\n<table border=\"1\" class=\"dataframe\">\n  <thead>\n    <tr style=\"text-align: right;\">\n      <th></th>\n      <th>id</th>\n      <th>url</th>\n      <th>filepath</th>\n    </tr>\n  </thead>\n  <tbody>\n    <tr>\n      <th>0</th>\n      <td>393274</td>\n      <td>http://cocodataset.org/#explore?id=393274</td>\n      <td>/root/fiftyone/coco-2017/train/data/0000003932...</td>\n    </tr>\n    <tr>\n      <th>1</th>\n      <td>427123</td>\n      <td>http://cocodataset.org/#explore?id=427123</td>\n      <td>/root/fiftyone/coco-2017/train/data/0000004271...</td>\n    </tr>\n    <tr>\n      <th>2</th>\n      <td>405324</td>\n      <td>http://cocodataset.org/#explore?id=405324</td>\n      <td>/root/fiftyone/coco-2017/train/data/0000004053...</td>\n    </tr>\n    <tr>\n      <th>3</th>\n      <td>300357</td>\n      <td>http://cocodataset.org/#explore?id=300357</td>\n      <td>/root/fiftyone/coco-2017/train/data/0000003003...</td>\n    </tr>\n    <tr>\n      <th>4</th>\n      <td>57340</td>\n      <td>http://cocodataset.org/#explore?id=57340</td>\n      <td>/root/fiftyone/coco-2017/train/data/0000000573...</td>\n    </tr>\n    <tr>\n      <th>...</th>\n      <td>...</td>\n      <td>...</td>\n      <td>...</td>\n    </tr>\n    <tr>\n      <th>95</th>\n      <td>298014</td>\n      <td>http://cocodataset.org/#explore?id=298014</td>\n      <td>/root/fiftyone/coco-2017/train/data/0000002980...</td>\n    </tr>\n    <tr>\n      <th>96</th>\n      <td>250225</td>\n      <td>http://cocodataset.org/#explore?id=250225</td>\n      <td>/root/fiftyone/coco-2017/train/data/0000002502...</td>\n    </tr>\n    <tr>\n      <th>97</th>\n      <td>484457</td>\n      <td>http://cocodataset.org/#explore?id=484457</td>\n      <td>/root/fiftyone/coco-2017/train/data/0000004844...</td>\n    </tr>\n    <tr>\n      <th>98</th>\n      <td>541039</td>\n      <td>http://cocodataset.org/#explore?id=541039</td>\n      <td>/root/fiftyone/coco-2017/train/data/0000005410...</td>\n    </tr>\n    <tr>\n      <th>99</th>\n      <td>423313</td>\n      <td>http://cocodataset.org/#explore?id=423313</td>\n      <td>/root/fiftyone/coco-2017/train/data/0000004233...</td>\n    </tr>\n  </tbody>\n</table>\n<p>100 rows × 3 columns</p>\n</div>"
     },
     "metadata": {}
    }
   ],
   "execution_count": null
  },
  {
   "cell_type": "markdown",
   "source": "## Notation des images par des humains\n\nPour chacune des 100 images de COCO, un humain (parmi 4) a :\n\n1. utilisé l'URL `http://cocodataset.org/#explore?id=<id>` pour se rendre sur la page correspondant à l'image sur le site de COCO\n2. a clicé sur une icone pour obtenir les légendes associées à l'image et a récopié la première dans [un tableur](https://docs.google.com/spreadsheets/d/136t5fMGIjtrhWdjb9FfwfbZy48LRW2Uge9FyRyPsxbk)\n3. a proposé deux autres légendes pour l'image, l'une plus ou moins approchante, l'autre grossièrement différente\n\nEnfin, un second humain (toujours parmi les 4 premiers, mais différent de celui qui a proposé les légendes) :\n\n1. a donné un score d'adéquation entre l'image et la légende entre 0 (aucune correspondance) et 1 (description optimale)\n\nCes données sont disponibles [**ici**](https://docs.google.com/spreadsheets/d/136t5fMGIjtrhWdjb9FfwfbZy48LRW2Uge9FyRyPsxbk) et recensent l'image `id`, l'URL `url`, la personne / l'institution à l'origine de la légende `captionist`, le notateur `assessor` et la note `grade`.\n",
   "metadata": {
    "tags": [],
    "cell_id": "00003-e3b21174-b644-42cf-aa5f-fa3063a416b6",
    "deepnote_cell_type": "markdown"
   }
  },
  {
   "cell_type": "code",
   "metadata": {
    "tags": [],
    "cell_id": "00006-bc031f43-085a-4422-abbf-534db1236d4d",
    "deepnote_to_be_reexecuted": false,
    "source_hash": "b7dcc9c8",
    "execution_start": 1639140467385,
    "execution_millis": 2,
    "deepnote_cell_type": "code"
   },
   "source": "import numpy as np\nimport pandas as pd",
   "outputs": [],
   "execution_count": null
  },
  {
   "cell_type": "code",
   "metadata": {
    "tags": [],
    "cell_id": "00007-a1686524-6e10-4216-bf2f-ce75688031ec",
    "deepnote_to_be_reexecuted": false,
    "source_hash": "d658dad4",
    "execution_start": 1639161908413,
    "execution_millis": 41,
    "deepnote_output_heights": [
     347.375
    ],
    "deepnote_cell_type": "code"
   },
   "source": "coco_ratings_300_df = pd.read_csv(\n    \"data/1-human-grades.csv\",\n    names=['url','captionist','assessor','caption', 'human_grade'],\n    usecols=range(5),\n    header=0,\n    decimal=','\n)\ncoco_ratings_300_df = coco_ratings_300_df.merge( coco_images_100_df , on='url')\ncoco_ratings_300_df.to_csv(\"data/2-coco_df-id-url-captionnist-assessor-grade.csv\", index=False)\ncoco_ratings_300_df",
   "outputs": [
    {
     "output_type": "execute_result",
     "execution_count": 6,
     "data": {
      "application/vnd.deepnote.dataframe.v2+json": {
       "row_count": 300,
       "column_count": 7,
       "columns": [
        {
         "name": "url",
         "dtype": "object",
         "stats": {
          "unique_count": 100,
          "nan_count": 0,
          "categories": [
           {
            "name": "http://cocodataset.org/#explore?id=393274",
            "count": 3
           },
           {
            "name": "http://cocodataset.org/#explore?id=427123",
            "count": 3
           },
           {
            "name": "98 others",
            "count": 294
           }
          ]
         }
        },
        {
         "name": "captionist",
         "dtype": "object",
         "stats": {
          "unique_count": 5,
          "nan_count": 0,
          "categories": [
           {
            "name": "COCO",
            "count": 100
           },
           {
            "name": "Aymeric",
            "count": 52
           },
           {
            "name": "3 others",
            "count": 148
           }
          ]
         }
        },
        {
         "name": "assessor",
         "dtype": "object",
         "stats": {
          "unique_count": 4,
          "nan_count": 0,
          "categories": [
           {
            "name": "Arthur",
            "count": 78
           },
           {
            "name": "Aymeric",
            "count": 75
           },
           {
            "name": "2 others",
            "count": 147
           }
          ]
         }
        },
        {
         "name": "caption",
         "dtype": "object",
         "stats": {
          "unique_count": 299,
          "nan_count": 0,
          "categories": [
           {
            "name": "a traffic light with a green signal next to tall buildings",
            "count": 2
           },
           {
            "name": "a yellow and white train traveling past a train station",
            "count": 1
           },
           {
            "name": "297 others",
            "count": 297
           }
          ]
         }
        },
        {
         "name": "grade",
         "dtype": "float64",
         "stats": {
          "unique_count": 25,
          "nan_count": 0,
          "min": "0.0",
          "max": "1.0",
          "histogram": [
           {
            "bin_start": 0,
            "bin_end": 0.1,
            "count": 63
           },
           {
            "bin_start": 0.1,
            "bin_end": 0.2,
            "count": 21
           },
           {
            "bin_start": 0.2,
            "bin_end": 0.30000000000000004,
            "count": 24
           },
           {
            "bin_start": 0.30000000000000004,
            "bin_end": 0.4,
            "count": 0
           },
           {
            "bin_start": 0.4,
            "bin_end": 0.5,
            "count": 11
           },
           {
            "bin_start": 0.5,
            "bin_end": 0.6000000000000001,
            "count": 27
           },
           {
            "bin_start": 0.6000000000000001,
            "bin_end": 0.7000000000000001,
            "count": 20
           },
           {
            "bin_start": 0.7000000000000001,
            "bin_end": 0.8,
            "count": 9
           },
           {
            "bin_start": 0.8,
            "bin_end": 0.9,
            "count": 22
           },
           {
            "bin_start": 0.9,
            "bin_end": 1,
            "count": 103
           }
          ]
         }
        },
        {
         "name": "id",
         "dtype": "int64",
         "stats": {
          "unique_count": 100,
          "nan_count": 0,
          "min": "4130",
          "max": "575331",
          "histogram": [
           {
            "bin_start": 4130,
            "bin_end": 61250.1,
            "count": 39
           },
           {
            "bin_start": 61250.1,
            "bin_end": 118370.2,
            "count": 27
           },
           {
            "bin_start": 118370.2,
            "bin_end": 175490.3,
            "count": 24
           },
           {
            "bin_start": 175490.3,
            "bin_end": 232610.4,
            "count": 24
           },
           {
            "bin_start": 232610.4,
            "bin_end": 289730.5,
            "count": 24
           },
           {
            "bin_start": 289730.5,
            "bin_end": 346850.6,
            "count": 36
           },
           {
            "bin_start": 346850.6,
            "bin_end": 403970.7,
            "count": 18
           },
           {
            "bin_start": 403970.7,
            "bin_end": 461090.8,
            "count": 48
           },
           {
            "bin_start": 461090.8,
            "bin_end": 518210.89999999997,
            "count": 33
           },
           {
            "bin_start": 518210.89999999997,
            "bin_end": 575331,
            "count": 27
           }
          ]
         }
        },
        {
         "name": "filepath",
         "dtype": "object",
         "stats": {
          "unique_count": 100,
          "nan_count": 0,
          "categories": [
           {
            "name": "/root/fiftyone/coco-2017/train/data/000000393274.jpg",
            "count": 3
           },
           {
            "name": "/root/fiftyone/coco-2017/train/data/000000427123.jpg",
            "count": 3
           },
           {
            "name": "98 others",
            "count": 294
           }
          ]
         }
        },
        {
         "name": "_deepnote_index_column",
         "dtype": "int64"
        }
       ],
       "rows_top": [
        {
         "url": "http://cocodataset.org/#explore?id=393274",
         "captionist": "COCO",
         "assessor": "Aymeric",
         "caption": "a yellow and white train traveling past a train station",
         "grade": 0.9,
         "id": 393274,
         "filepath": "/root/fiftyone/coco-2017/train/data/000000393274.jpg",
         "_deepnote_index_column": 0
        },
        {
         "url": "http://cocodataset.org/#explore?id=393274",
         "captionist": "Arthur",
         "assessor": "Aymeric",
         "caption": "several trains parked in a train station",
         "grade": 0.3,
         "id": 393274,
         "filepath": "/root/fiftyone/coco-2017/train/data/000000393274.jpg",
         "_deepnote_index_column": 1
        },
        {
         "url": "http://cocodataset.org/#explore?id=393274",
         "captionist": "Arthur",
         "assessor": "Aymeric",
         "caption": "a river with people nearby",
         "grade": 0,
         "id": 393274,
         "filepath": "/root/fiftyone/coco-2017/train/data/000000393274.jpg",
         "_deepnote_index_column": 2
        },
        {
         "url": "http://cocodataset.org/#explore?id=427123",
         "captionist": "COCO",
         "assessor": "Léo",
         "caption": "three people in formal military uniforms, two are wearing medals around their necks",
         "grade": 1,
         "id": 427123,
         "filepath": "/root/fiftyone/coco-2017/train/data/000000427123.jpg",
         "_deepnote_index_column": 3
        },
        {
         "url": "http://cocodataset.org/#explore?id=427123",
         "captionist": "Arthur",
         "assessor": "Léo",
         "caption": "smiling researchers receiving the Nobel prize",
         "grade": 0.5,
         "id": 427123,
         "filepath": "/root/fiftyone/coco-2017/train/data/000000427123.jpg",
         "_deepnote_index_column": 4
        },
        {
         "url": "http://cocodataset.org/#explore?id=427123",
         "captionist": "Arthur",
         "assessor": "Léo",
         "caption": "three donkeys in a dark room",
         "grade": 0,
         "id": 427123,
         "filepath": "/root/fiftyone/coco-2017/train/data/000000427123.jpg",
         "_deepnote_index_column": 5
        },
        {
         "url": "http://cocodataset.org/#explore?id=405324",
         "captionist": "COCO",
         "assessor": "Conrad",
         "caption": "the girl has a plate with a sandwich on it",
         "grade": 1,
         "id": 405324,
         "filepath": "/root/fiftyone/coco-2017/train/data/000000405324.jpg",
         "_deepnote_index_column": 6
        },
        {
         "url": "http://cocodataset.org/#explore?id=405324",
         "captionist": "Arthur",
         "assessor": "Conrad",
         "caption": "a fancy dinner downtown",
         "grade": 0.6,
         "id": 405324,
         "filepath": "/root/fiftyone/coco-2017/train/data/000000405324.jpg",
         "_deepnote_index_column": 7
        },
        {
         "url": "http://cocodataset.org/#explore?id=405324",
         "captionist": "Arthur",
         "assessor": "Conrad",
         "caption": "his empty plate causes the baby to cry",
         "grade": 0,
         "id": 405324,
         "filepath": "/root/fiftyone/coco-2017/train/data/000000405324.jpg",
         "_deepnote_index_column": 8
        },
        {
         "url": "http://cocodataset.org/#explore?id=300357",
         "captionist": "COCO",
         "assessor": "Aymeric",
         "caption": "a woman in a skirt and colorful shirt kneeling down on floral fabric",
         "grade": 0.95,
         "id": 300357,
         "filepath": "/root/fiftyone/coco-2017/train/data/000000300357.jpg",
         "_deepnote_index_column": 9
        },
        {
         "url": "http://cocodataset.org/#explore?id=300357",
         "captionist": "Arthur",
         "assessor": "Aymeric",
         "caption": "a woman trying desperately to leave her bed",
         "grade": 0.6,
         "id": 300357,
         "filepath": "/root/fiftyone/coco-2017/train/data/000000300357.jpg",
         "_deepnote_index_column": 10
        },
        {
         "url": "http://cocodataset.org/#explore?id=300357",
         "captionist": "Arthur",
         "assessor": "Aymeric",
         "caption": "two men lying in the sun, one using his dog as a kind of cushion",
         "grade": 0,
         "id": 300357,
         "filepath": "/root/fiftyone/coco-2017/train/data/000000300357.jpg",
         "_deepnote_index_column": 11
        },
        {
         "url": "http://cocodataset.org/#explore?id=57340",
         "captionist": "COCO",
         "assessor": "Léo",
         "caption": "there is a tower that has a american flag at the top and a clock on it",
         "grade": 1,
         "id": 57340,
         "filepath": "/root/fiftyone/coco-2017/train/data/000000057340.jpg",
         "_deepnote_index_column": 12
        },
        {
         "url": "http://cocodataset.org/#explore?id=57340",
         "captionist": "Arthur",
         "assessor": "Léo",
         "caption": "the night is falling over Manhattan",
         "grade": 0.3,
         "id": 57340,
         "filepath": "/root/fiftyone/coco-2017/train/data/000000057340.jpg",
         "_deepnote_index_column": 13
        },
        {
         "url": "http://cocodataset.org/#explore?id=57340",
         "captionist": "Arthur",
         "assessor": "Léo",
         "caption": "sunset over the Mississipi river",
         "grade": 0,
         "id": 57340,
         "filepath": "/root/fiftyone/coco-2017/train/data/000000057340.jpg",
         "_deepnote_index_column": 14
        },
        {
         "url": "http://cocodataset.org/#explore?id=198654",
         "captionist": "COCO",
         "assessor": "Conrad",
         "caption": "there are people playing a game of baseball",
         "grade": 1,
         "id": 198654,
         "filepath": "/root/fiftyone/coco-2017/train/data/000000198654.jpg",
         "_deepnote_index_column": 15
        },
        {
         "url": "http://cocodataset.org/#explore?id=198654",
         "captionist": "Arthur",
         "assessor": "Conrad",
         "caption": "players play the game",
         "grade": 0.6,
         "id": 198654,
         "filepath": "/root/fiftyone/coco-2017/train/data/000000198654.jpg",
         "_deepnote_index_column": 16
        },
        {
         "url": "http://cocodataset.org/#explore?id=198654",
         "captionist": "Arthur",
         "assessor": "Conrad",
         "caption": "dancers dancing on a Broadway show",
         "grade": 0,
         "id": 198654,
         "filepath": "/root/fiftyone/coco-2017/train/data/000000198654.jpg",
         "_deepnote_index_column": 17
        },
        {
         "url": "http://cocodataset.org/#explore?id=518361",
         "captionist": "COCO",
         "assessor": "Aymeric",
         "caption": "three people standing at the zoo watching a elephant",
         "grade": 0.95,
         "id": 518361,
         "filepath": "/root/fiftyone/coco-2017/train/data/000000518361.jpg",
         "_deepnote_index_column": 18
        },
        {
         "url": "http://cocodataset.org/#explore?id=518361",
         "captionist": "Arthur",
         "assessor": "Aymeric",
         "caption": "six people standing at the zoo watching two elephant",
         "grade": 0.65,
         "id": 518361,
         "filepath": "/root/fiftyone/coco-2017/train/data/000000518361.jpg",
         "_deepnote_index_column": 19
        },
        {
         "url": "http://cocodataset.org/#explore?id=518361",
         "captionist": "Arthur",
         "assessor": "Aymeric",
         "caption": "nobody watching nothing",
         "grade": 0.1,
         "id": 518361,
         "filepath": "/root/fiftyone/coco-2017/train/data/000000518361.jpg",
         "_deepnote_index_column": 20
        },
        {
         "url": "http://cocodataset.org/#explore?id=525640",
         "captionist": "COCO",
         "assessor": "Léo",
         "caption": "a banana dressed up to look like a person infront of a paper",
         "grade": 0.7,
         "id": 525640,
         "filepath": "/root/fiftyone/coco-2017/train/data/000000525640.jpg",
         "_deepnote_index_column": 21
        },
        {
         "url": "http://cocodataset.org/#explore?id=525640",
         "captionist": "Arthur",
         "assessor": "Léo",
         "caption": "a man signing a contract",
         "grade": 0,
         "id": 525640,
         "filepath": "/root/fiftyone/coco-2017/train/data/000000525640.jpg",
         "_deepnote_index_column": 22
        },
        {
         "url": "http://cocodataset.org/#explore?id=525640",
         "captionist": "Arthur",
         "assessor": "Léo",
         "caption": "a salad fruit in the process of making",
         "grade": 0.1,
         "id": 525640,
         "filepath": "/root/fiftyone/coco-2017/train/data/000000525640.jpg",
         "_deepnote_index_column": 23
        },
        {
         "url": "http://cocodataset.org/#explore?id=526347",
         "captionist": "COCO",
         "assessor": "Conrad",
         "caption": "a skateboarder on a skateboard in a skate park",
         "grade": 1,
         "id": 526347,
         "filepath": "/root/fiftyone/coco-2017/train/data/000000526347.jpg",
         "_deepnote_index_column": 24
        },
        {
         "url": "http://cocodataset.org/#explore?id=526347",
         "captionist": "Arthur",
         "assessor": "Conrad",
         "caption": "a young man in shorts doing sports",
         "grade": 0.4,
         "id": 526347,
         "filepath": "/root/fiftyone/coco-2017/train/data/000000526347.jpg",
         "_deepnote_index_column": 25
        },
        {
         "url": "http://cocodataset.org/#explore?id=526347",
         "captionist": "Arthur",
         "assessor": "Conrad",
         "caption": "a girl running after her dog",
         "grade": 0,
         "id": 526347,
         "filepath": "/root/fiftyone/coco-2017/train/data/000000526347.jpg",
         "_deepnote_index_column": 26
        },
        {
         "url": "http://cocodataset.org/#explore?id=4130",
         "captionist": "COCO",
         "assessor": "Aymeric",
         "caption": "a bus parked on a street in front of several buildings",
         "grade": 0.7,
         "id": 4130,
         "filepath": "/root/fiftyone/coco-2017/train/data/000000004130.jpg",
         "_deepnote_index_column": 27
        },
        {
         "url": "http://cocodataset.org/#explore?id=4130",
         "captionist": "Arthur",
         "assessor": "Aymeric",
         "caption": "a busy street some days before Christmas",
         "grade": 0.3,
         "id": 4130,
         "filepath": "/root/fiftyone/coco-2017/train/data/000000004130.jpg",
         "_deepnote_index_column": 28
        },
        {
         "url": "http://cocodataset.org/#explore?id=4130",
         "captionist": "Arthur",
         "assessor": "Aymeric",
         "caption": "a murder scene in a kitchen appliance shop",
         "grade": 0,
         "id": 4130,
         "filepath": "/root/fiftyone/coco-2017/train/data/000000004130.jpg",
         "_deepnote_index_column": 29
        },
        {
         "url": "http://cocodataset.org/#explore?id=522661",
         "captionist": "COCO",
         "assessor": "Léo",
         "caption": "two people holding suitcases walking towards a greyhound bus",
         "grade": 0.9,
         "id": 522661,
         "filepath": "/root/fiftyone/coco-2017/train/data/000000522661.jpg",
         "_deepnote_index_column": 30
        },
        {
         "url": "http://cocodataset.org/#explore?id=522661",
         "captionist": "Arthur",
         "assessor": "Léo",
         "caption": "a group of persons running after a departing long-distance bus",
         "grade": 0.5,
         "id": 522661,
         "filepath": "/root/fiftyone/coco-2017/train/data/000000522661.jpg",
         "_deepnote_index_column": 31
        },
        {
         "url": "http://cocodataset.org/#explore?id=522661",
         "captionist": "Arthur",
         "assessor": "Léo",
         "caption": "two swimmers in bathing suits lining at the front desk",
         "grade": 0,
         "id": 522661,
         "filepath": "/root/fiftyone/coco-2017/train/data/000000522661.jpg",
         "_deepnote_index_column": 32
        },
        {
         "url": "http://cocodataset.org/#explore?id=310526",
         "captionist": "COCO",
         "assessor": "Conrad",
         "caption": "a traffic light with a green signal next to tall buildings",
         "grade": 0.9,
         "id": 310526,
         "filepath": "/root/fiftyone/coco-2017/train/data/000000310526.jpg",
         "_deepnote_index_column": 33
        },
        {
         "url": "http://cocodataset.org/#explore?id=310526",
         "captionist": "Arthur",
         "assessor": "Conrad",
         "caption": "a red traffic light in the country side",
         "grade": 0.3,
         "id": 310526,
         "filepath": "/root/fiftyone/coco-2017/train/data/000000310526.jpg",
         "_deepnote_index_column": 34
        },
        {
         "url": "http://cocodataset.org/#explore?id=310526",
         "captionist": "Arthur",
         "assessor": "Conrad",
         "caption": "a male swan on a lake is courtshipping a female swan",
         "grade": 0,
         "id": 310526,
         "filepath": "/root/fiftyone/coco-2017/train/data/000000310526.jpg",
         "_deepnote_index_column": 35
        },
        {
         "url": "http://cocodataset.org/#explore?id=497591",
         "captionist": "COCO",
         "assessor": "Aymeric",
         "caption": "a small child is sitting on a bench outside",
         "grade": 0.7,
         "id": 497591,
         "filepath": "/root/fiftyone/coco-2017/train/data/000000497591.jpg",
         "_deepnote_index_column": 36
        },
        {
         "url": "http://cocodataset.org/#explore?id=497591",
         "captionist": "Arthur",
         "assessor": "Aymeric",
         "caption": "a child waiting for his parents to finish shopping",
         "grade": 0.2,
         "id": 497591,
         "filepath": "/root/fiftyone/coco-2017/train/data/000000497591.jpg",
         "_deepnote_index_column": 37
        },
        {
         "url": "http://cocodataset.org/#explore?id=497591",
         "captionist": "Arthur",
         "assessor": "Aymeric",
         "caption": "a shop with UNDERGROUND written on the entrance",
         "grade": 0.1,
         "id": 497591,
         "filepath": "/root/fiftyone/coco-2017/train/data/000000497591.jpg",
         "_deepnote_index_column": 38
        },
        {
         "url": "http://cocodataset.org/#explore?id=338991",
         "captionist": "COCO",
         "assessor": "Léo",
         "caption": "a man is on a tennis court playing tennis",
         "grade": 1,
         "id": 338991,
         "filepath": "/root/fiftyone/coco-2017/train/data/000000338991.jpg",
         "_deepnote_index_column": 39
        },
        {
         "url": "http://cocodataset.org/#explore?id=338991",
         "captionist": "Arthur",
         "assessor": "Léo",
         "caption": "fours tennis players sharing a court for a match",
         "grade": 0.4,
         "id": 338991,
         "filepath": "/root/fiftyone/coco-2017/train/data/000000338991.jpg",
         "_deepnote_index_column": 40
        },
        {
         "url": "http://cocodataset.org/#explore?id=338991",
         "captionist": "Arthur",
         "assessor": "Léo",
         "caption": "a very tall man kissing a very short girl",
         "grade": 0,
         "id": 338991,
         "filepath": "/root/fiftyone/coco-2017/train/data/000000338991.jpg",
         "_deepnote_index_column": 41
        },
        {
         "url": "http://cocodataset.org/#explore?id=446463",
         "captionist": "COCO",
         "assessor": "Conrad",
         "caption": "an old fashioned photograph of a fleet of buses",
         "grade": 1,
         "id": 446463,
         "filepath": "/root/fiftyone/coco-2017/train/data/000000446463.jpg",
         "_deepnote_index_column": 42
        },
        {
         "url": "http://cocodataset.org/#explore?id=446463",
         "captionist": "Arthur",
         "assessor": "Conrad",
         "caption": "Jules Verne's vision for public transport in 2000",
         "grade": 0.8,
         "id": 446463,
         "filepath": "/root/fiftyone/coco-2017/train/data/000000446463.jpg",
         "_deepnote_index_column": 43
        },
        {
         "url": "http://cocodataset.org/#explore?id=446463",
         "captionist": "Arthur",
         "assessor": "Conrad",
         "caption": "A naked person being captured by the police",
         "grade": 0,
         "id": 446463,
         "filepath": "/root/fiftyone/coco-2017/train/data/000000446463.jpg",
         "_deepnote_index_column": 44
        },
        {
         "url": "http://cocodataset.org/#explore?id=50356",
         "captionist": "COCO",
         "assessor": "Aymeric",
         "caption": "a lot of flowers that are sitting on a table",
         "grade": 0.75,
         "id": 50356,
         "filepath": "/root/fiftyone/coco-2017/train/data/000000050356.jpg",
         "_deepnote_index_column": 45
        },
        {
         "url": "http://cocodataset.org/#explore?id=50356",
         "captionist": "Arthur",
         "assessor": "Aymeric",
         "caption": "a red rose in a transparent vase",
         "grade": 0.5,
         "id": 50356,
         "filepath": "/root/fiftyone/coco-2017/train/data/000000050356.jpg",
         "_deepnote_index_column": 46
        },
        {
         "url": "http://cocodataset.org/#explore?id=50356",
         "captionist": "Arthur",
         "assessor": "Aymeric",
         "caption": "a farmer harvesting sunflowers",
         "grade": 0.05,
         "id": 50356,
         "filepath": "/root/fiftyone/coco-2017/train/data/000000050356.jpg",
         "_deepnote_index_column": 47
        },
        {
         "url": "http://cocodataset.org/#explore?id=301402",
         "captionist": "COCO",
         "assessor": "Léo",
         "caption": "a man sits at a table with a laptop computer on his knees",
         "grade": 0.9,
         "id": 301402,
         "filepath": "/root/fiftyone/coco-2017/train/data/000000301402.jpg",
         "_deepnote_index_column": 48
        },
        {
         "url": "http://cocodataset.org/#explore?id=301402",
         "captionist": "Arthur",
         "assessor": "Léo",
         "caption": "a young boy fidgetting while a woman is talking",
         "grade": 0.2,
         "id": 301402,
         "filepath": "/root/fiftyone/coco-2017/train/data/000000301402.jpg",
         "_deepnote_index_column": 49
        },
        {
         "url": "http://cocodataset.org/#explore?id=301402",
         "captionist": "Arthur",
         "assessor": "Léo",
         "caption": "a young man asking for helpo in a computer shop",
         "grade": 0.5,
         "id": 301402,
         "filepath": "/root/fiftyone/coco-2017/train/data/000000301402.jpg",
         "_deepnote_index_column": 50
        },
        {
         "url": "http://cocodataset.org/#explore?id=56624",
         "captionist": "COCO",
         "assessor": "Conrad",
         "caption": "a wood bench is outside covered in snow",
         "grade": 1,
         "id": 56624,
         "filepath": "/root/fiftyone/coco-2017/train/data/000000056624.jpg",
         "_deepnote_index_column": 51
        },
        {
         "url": "http://cocodataset.org/#explore?id=56624",
         "captionist": "Arthur",
         "assessor": "Conrad",
         "caption": "a bench decorated for Christmas",
         "grade": 0.6,
         "id": 56624,
         "filepath": "/root/fiftyone/coco-2017/train/data/000000056624.jpg",
         "_deepnote_index_column": 52
        },
        {
         "url": "http://cocodataset.org/#explore?id=56624",
         "captionist": "Arthur",
         "assessor": "Conrad",
         "caption": "three PWC employees writing a report",
         "grade": 0,
         "id": 56624,
         "filepath": "/root/fiftyone/coco-2017/train/data/000000056624.jpg",
         "_deepnote_index_column": 53
        },
        {
         "url": "http://cocodataset.org/#explore?id=21097",
         "captionist": "COCO",
         "assessor": "Aymeric",
         "caption": "the meal on the table is ready to be eaten",
         "grade": 0.4,
         "id": 21097,
         "filepath": "/root/fiftyone/coco-2017/train/data/000000021097.jpg",
         "_deepnote_index_column": 54
        },
        {
         "url": "http://cocodataset.org/#explore?id=21097",
         "captionist": "Arthur",
         "assessor": "Aymeric",
         "caption": "italian dish and plastic cutlery",
         "grade": 0.6,
         "id": 21097,
         "filepath": "/root/fiftyone/coco-2017/train/data/000000021097.jpg",
         "_deepnote_index_column": 55
        },
        {
         "url": "http://cocodataset.org/#explore?id=21097",
         "captionist": "Arthur",
         "assessor": "Aymeric",
         "caption": "a polluted river with dead fish",
         "grade": 0,
         "id": 21097,
         "filepath": "/root/fiftyone/coco-2017/train/data/000000021097.jpg",
         "_deepnote_index_column": 56
        },
        {
         "url": "http://cocodataset.org/#explore?id=14824",
         "captionist": "COCO",
         "assessor": "Léo",
         "caption": "a group of people dressed as zombies near a stop sign",
         "grade": 1,
         "id": 14824,
         "filepath": "/root/fiftyone/coco-2017/train/data/000000014824.jpg",
         "_deepnote_index_column": 57
        },
        {
         "url": "http://cocodataset.org/#explore?id=14824",
         "captionist": "Arthur",
         "assessor": "Léo",
         "caption": "a confused scene after an attack",
         "grade": 0.3,
         "id": 14824,
         "filepath": "/root/fiftyone/coco-2017/train/data/000000014824.jpg",
         "_deepnote_index_column": 58
        },
        {
         "url": "http://cocodataset.org/#explore?id=14824",
         "captionist": "Arthur",
         "assessor": "Léo",
         "caption": "a giraffe eating leaves at the top of the trees",
         "grade": 0,
         "id": 14824,
         "filepath": "/root/fiftyone/coco-2017/train/data/000000014824.jpg",
         "_deepnote_index_column": 59
        },
        {
         "url": "http://cocodataset.org/#explore?id=317730",
         "captionist": "COCO",
         "assessor": "Conrad",
         "caption": "a man is holding a surfboard decorated with the image of a woman",
         "grade": 1,
         "id": 317730,
         "filepath": "/root/fiftyone/coco-2017/train/data/000000317730.jpg",
         "_deepnote_index_column": 60
        },
        {
         "url": "http://cocodataset.org/#explore?id=317730",
         "captionist": "Arthur",
         "assessor": "Conrad",
         "caption": "a man is holding a surfboard decorated with the image of an octopus",
         "grade": 0.7,
         "id": 317730,
         "filepath": "/root/fiftyone/coco-2017/train/data/000000317730.jpg",
         "_deepnote_index_column": 61
        },
        {
         "url": "http://cocodataset.org/#explore?id=317730",
         "captionist": "Arthur",
         "assessor": "Conrad",
         "caption": "a man is holding skis decorated with snakes",
         "grade": 0.3,
         "id": 317730,
         "filepath": "/root/fiftyone/coco-2017/train/data/000000317730.jpg",
         "_deepnote_index_column": 62
        },
        {
         "url": "http://cocodataset.org/#explore?id=160703",
         "captionist": "COCO",
         "assessor": "Aymeric",
         "caption": "two pizza's on sliver pans on a table with utensils",
         "grade": 0.95,
         "id": 160703,
         "filepath": "/root/fiftyone/coco-2017/train/data/000000160703.jpg",
         "_deepnote_index_column": 63
        },
        {
         "url": "http://cocodataset.org/#explore?id=160703",
         "captionist": "Arthur",
         "assessor": "Aymeric",
         "caption": "five pizzas about to be eaten",
         "grade": 0.6,
         "id": 160703,
         "filepath": "/root/fiftyone/coco-2017/train/data/000000160703.jpg",
         "_deepnote_index_column": 64
        },
        {
         "url": "http://cocodataset.org/#explore?id=160703",
         "captionist": "Arthur",
         "assessor": "Aymeric",
         "caption": "a mob assaulting an empty pizza place",
         "grade": 0.2,
         "id": 160703,
         "filepath": "/root/fiftyone/coco-2017/train/data/000000160703.jpg",
         "_deepnote_index_column": 65
        },
        {
         "url": "http://cocodataset.org/#explore?id=302313",
         "captionist": "COCO",
         "assessor": "Léo",
         "caption": "the thin cow eats some grass next to the tree",
         "grade": 0.9,
         "id": 302313,
         "filepath": "/root/fiftyone/coco-2017/train/data/000000302313.jpg",
         "_deepnote_index_column": 66
        },
        {
         "url": "http://cocodataset.org/#explore?id=302313",
         "captionist": "Arthur",
         "assessor": "Léo",
         "caption": "black and white cow on a green pasture land",
         "grade": 0.4,
         "id": 302313,
         "filepath": "/root/fiftyone/coco-2017/train/data/000000302313.jpg",
         "_deepnote_index_column": 67
        },
        {
         "url": "http://cocodataset.org/#explore?id=302313",
         "captionist": "Arthur",
         "assessor": "Léo",
         "caption": "a cow herd mooing under the moonlight",
         "grade": 0.1,
         "id": 302313,
         "filepath": "/root/fiftyone/coco-2017/train/data/000000302313.jpg",
         "_deepnote_index_column": 68
        },
        {
         "url": "http://cocodataset.org/#explore?id=104842",
         "captionist": "COCO",
         "assessor": "Conrad",
         "caption": "a skateboarded takes to the air in a skateboard park",
         "grade": 1,
         "id": 104842,
         "filepath": "/root/fiftyone/coco-2017/train/data/000000104842.jpg",
         "_deepnote_index_column": 69
        },
        {
         "url": "http://cocodataset.org/#explore?id=104842",
         "captionist": "Arthur",
         "assessor": "Conrad",
         "caption": "a skateboarder at rest is watching other skateboarders",
         "grade": 0.6,
         "id": 104842,
         "filepath": "/root/fiftyone/coco-2017/train/data/000000104842.jpg",
         "_deepnote_index_column": 70
        }
       ],
       "rows_bottom": [
        {
         "url": "http://cocodataset.org/#explore?id=55627",
         "captionist": "Aymeric",
         "assessor": "Léo",
         "caption": "A bathroom with a sink",
         "grade": 0.8,
         "id": 55627,
         "filepath": "/root/fiftyone/coco-2017/train/data/000000055627.jpg",
         "_deepnote_index_column": 229
        },
        {
         "url": "http://cocodataset.org/#explore?id=55627",
         "captionist": "Aymeric",
         "assessor": "Léo",
         "caption": "Picture of a garden full of flowers",
         "grade": 0,
         "id": 55627,
         "filepath": "/root/fiftyone/coco-2017/train/data/000000055627.jpg",
         "_deepnote_index_column": 230
        },
        {
         "url": "http://cocodataset.org/#explore?id=436111",
         "captionist": "COCO",
         "assessor": "Conrad",
         "caption": "a white bathroom has dirt all over the floor.",
         "grade": 1,
         "id": 436111,
         "filepath": "/root/fiftyone/coco-2017/train/data/000000436111.jpg",
         "_deepnote_index_column": 231
        },
        {
         "url": "http://cocodataset.org/#explore?id=436111",
         "captionist": "Aymeric",
         "assessor": "Conrad",
         "caption": "photograph of a room in low angle",
         "grade": 0.4,
         "id": 436111,
         "filepath": "/root/fiftyone/coco-2017/train/data/000000436111.jpg",
         "_deepnote_index_column": 232
        },
        {
         "url": "http://cocodataset.org/#explore?id=436111",
         "captionist": "Aymeric",
         "assessor": "Conrad",
         "caption": "painting of trees ",
         "grade": 0,
         "id": 436111,
         "filepath": "/root/fiftyone/coco-2017/train/data/000000436111.jpg",
         "_deepnote_index_column": 233
        },
        {
         "url": "http://cocodataset.org/#explore?id=492286",
         "captionist": "COCO",
         "assessor": "Arthur",
         "caption": "a big train is about to leave and go away.",
         "grade": 0.7,
         "id": 492286,
         "filepath": "/root/fiftyone/coco-2017/train/data/000000492286.jpg",
         "_deepnote_index_column": 234
        },
        {
         "url": "http://cocodataset.org/#explore?id=492286",
         "captionist": "Aymeric",
         "assessor": "Arthur",
         "caption": "A vehicle with people next to it",
         "grade": 0.8,
         "id": 492286,
         "filepath": "/root/fiftyone/coco-2017/train/data/000000492286.jpg",
         "_deepnote_index_column": 235
        },
        {
         "url": "http://cocodataset.org/#explore?id=492286",
         "captionist": "Aymeric",
         "assessor": "Arthur",
         "caption": "A tall person standing in front of a door",
         "grade": 0.05,
         "id": 492286,
         "filepath": "/root/fiftyone/coco-2017/train/data/000000492286.jpg",
         "_deepnote_index_column": 236
        },
        {
         "url": "http://cocodataset.org/#explore?id=149892",
         "captionist": "COCO",
         "assessor": "Léo",
         "caption": "a bench and chair are seen on the bank of a river.",
         "grade": 0.9,
         "id": 149892,
         "filepath": "/root/fiftyone/coco-2017/train/data/000000149892.jpg",
         "_deepnote_index_column": 237
        },
        {
         "url": "http://cocodataset.org/#explore?id=149892",
         "captionist": "Aymeric",
         "assessor": "Léo",
         "caption": "People sitting next to a river",
         "grade": 0.3,
         "id": 149892,
         "filepath": "/root/fiftyone/coco-2017/train/data/000000149892.jpg",
         "_deepnote_index_column": 238
        },
        {
         "url": "http://cocodataset.org/#explore?id=149892",
         "captionist": "Aymeric",
         "assessor": "Léo",
         "caption": "The floor is lava",
         "grade": 0,
         "id": 149892,
         "filepath": "/root/fiftyone/coco-2017/train/data/000000149892.jpg",
         "_deepnote_index_column": 239
        },
        {
         "url": "http://cocodataset.org/#explore?id=493196",
         "captionist": "COCO",
         "assessor": "Conrad",
         "caption": "a man with helmet skating past some bicycle riders on the road",
         "grade": 1,
         "id": 493196,
         "filepath": "/root/fiftyone/coco-2017/train/data/000000493196.jpg",
         "_deepnote_index_column": 240
        },
        {
         "url": "http://cocodataset.org/#explore?id=493196",
         "captionist": "Aymeric",
         "assessor": "Conrad",
         "caption": "Bicycle riders under trees",
         "grade": 0.5,
         "id": 493196,
         "filepath": "/root/fiftyone/coco-2017/train/data/000000493196.jpg",
         "_deepnote_index_column": 241
        },
        {
         "url": "http://cocodataset.org/#explore?id=493196",
         "captionist": "Aymeric",
         "assessor": "Conrad",
         "caption": "A yellow road with two dogs ",
         "grade": 0,
         "id": 493196,
         "filepath": "/root/fiftyone/coco-2017/train/data/000000493196.jpg",
         "_deepnote_index_column": 242
        },
        {
         "url": "http://cocodataset.org/#explore?id=182575",
         "captionist": "COCO",
         "assessor": "Arthur",
         "caption": "this is a plate of broccoli and cauliflower",
         "grade": 0.9,
         "id": 182575,
         "filepath": "/root/fiftyone/coco-2017/train/data/000000182575.jpg",
         "_deepnote_index_column": 243
        },
        {
         "url": "http://cocodataset.org/#explore?id=182575",
         "captionist": "Aymeric",
         "assessor": "Arthur",
         "caption": "A plate of pasta",
         "grade": 0.2,
         "id": 182575,
         "filepath": "/root/fiftyone/coco-2017/train/data/000000182575.jpg",
         "_deepnote_index_column": 244
        },
        {
         "url": "http://cocodataset.org/#explore?id=182575",
         "captionist": "Aymeric",
         "assessor": "Arthur",
         "caption": "Three tables and a spoon ",
         "grade": 0.1,
         "id": 182575,
         "filepath": "/root/fiftyone/coco-2017/train/data/000000182575.jpg",
         "_deepnote_index_column": 245
        },
        {
         "url": "http://cocodataset.org/#explore?id=203559",
         "captionist": "COCO",
         "assessor": "Léo",
         "caption": "a man is inspecting a baby elephants eye",
         "grade": 1,
         "id": 203559,
         "filepath": "/root/fiftyone/coco-2017/train/data/000000203559.jpg",
         "_deepnote_index_column": 246
        },
        {
         "url": "http://cocodataset.org/#explore?id=203559",
         "captionist": "Aymeric",
         "assessor": "Léo",
         "caption": "Three elephants around a man",
         "grade": 0.6,
         "id": 203559,
         "filepath": "/root/fiftyone/coco-2017/train/data/000000203559.jpg",
         "_deepnote_index_column": 247
        },
        {
         "url": "http://cocodataset.org/#explore?id=203559",
         "captionist": "Aymeric",
         "assessor": "Léo",
         "caption": "A black and blue dress",
         "grade": 0,
         "id": 203559,
         "filepath": "/root/fiftyone/coco-2017/train/data/000000203559.jpg",
         "_deepnote_index_column": 248
        },
        {
         "url": "http://cocodataset.org/#explore?id=519950",
         "captionist": "COCO",
         "assessor": "Conrad",
         "caption": "a man is in mid air over a tennis court.",
         "grade": 1,
         "id": 519950,
         "filepath": "/root/fiftyone/coco-2017/train/data/000000519950.jpg",
         "_deepnote_index_column": 249
        },
        {
         "url": "http://cocodataset.org/#explore?id=519950",
         "captionist": "Aymeric",
         "assessor": "Conrad",
         "caption": "A man jumping in a pool to hit a ball",
         "grade": 0.7,
         "id": 519950,
         "filepath": "/root/fiftyone/coco-2017/train/data/000000519950.jpg",
         "_deepnote_index_column": 250
        },
        {
         "url": "http://cocodataset.org/#explore?id=519950",
         "captionist": "Aymeric",
         "assessor": "Conrad",
         "caption": "A dog playing with his owner",
         "grade": 0,
         "id": 519950,
         "filepath": "/root/fiftyone/coco-2017/train/data/000000519950.jpg",
         "_deepnote_index_column": 251
        },
        {
         "url": "http://cocodataset.org/#explore?id=27276",
         "captionist": "COCO",
         "assessor": "Arthur",
         "caption": "a dog is under the bed eating a box",
         "grade": 1,
         "id": 27276,
         "filepath": "/root/fiftyone/coco-2017/train/data/000000027276.jpg",
         "_deepnote_index_column": 252
        },
        {
         "url": "http://cocodataset.org/#explore?id=27276",
         "captionist": "Aymeric",
         "assessor": "Arthur",
         "caption": "a cat hiding is a small place",
         "grade": 0.1,
         "id": 27276,
         "filepath": "/root/fiftyone/coco-2017/train/data/000000027276.jpg",
         "_deepnote_index_column": 253
        },
        {
         "url": "http://cocodataset.org/#explore?id=27276",
         "captionist": "Aymeric",
         "assessor": "Arthur",
         "caption": "A blue and white rollercoaster ",
         "grade": 0,
         "id": 27276,
         "filepath": "/root/fiftyone/coco-2017/train/data/000000027276.jpg",
         "_deepnote_index_column": 254
        },
        {
         "url": "http://cocodataset.org/#explore?id=108425",
         "captionist": "COCO",
         "assessor": "Léo",
         "caption": "a man tossing a neon green frisbee in front of a house",
         "grade": 1,
         "id": 108425,
         "filepath": "/root/fiftyone/coco-2017/train/data/000000108425.jpg",
         "_deepnote_index_column": 255
        },
        {
         "url": "http://cocodataset.org/#explore?id=108425",
         "captionist": "Aymeric",
         "assessor": "Léo",
         "caption": "A nice building with two tables and a chair ",
         "grade": 0.7,
         "id": 108425,
         "filepath": "/root/fiftyone/coco-2017/train/data/000000108425.jpg",
         "_deepnote_index_column": 256
        },
        {
         "url": "http://cocodataset.org/#explore?id=108425",
         "captionist": "Aymeric",
         "assessor": "Léo",
         "caption": "Some grass in a grey background",
         "grade": 0.3,
         "id": 108425,
         "filepath": "/root/fiftyone/coco-2017/train/data/000000108425.jpg",
         "_deepnote_index_column": 257
        },
        {
         "url": "http://cocodataset.org/#explore?id=158713",
         "captionist": "COCO",
         "assessor": "Conrad",
         "caption": "a man who is driving a motorcycle pulling a cart with two people.",
         "grade": 1,
         "id": 158713,
         "filepath": "/root/fiftyone/coco-2017/train/data/000000158713.jpg",
         "_deepnote_index_column": 258
        },
        {
         "url": "http://cocodataset.org/#explore?id=158713",
         "captionist": "Aymeric",
         "assessor": "Conrad",
         "caption": "Photograph of a red motorcycle and a white trailer",
         "grade": 0.7,
         "id": 158713,
         "filepath": "/root/fiftyone/coco-2017/train/data/000000158713.jpg",
         "_deepnote_index_column": 259
        },
        {
         "url": "http://cocodataset.org/#explore?id=158713",
         "captionist": "Aymeric",
         "assessor": "Conrad",
         "caption": "Three people walking in circles",
         "grade": 0.1,
         "id": 158713,
         "filepath": "/root/fiftyone/coco-2017/train/data/000000158713.jpg",
         "_deepnote_index_column": 260
        },
        {
         "url": "http://cocodataset.org/#explore?id=5701",
         "captionist": "COCO",
         "assessor": "Arthur",
         "caption": "a person standing on a small paved square and holding a yellow frisbee",
         "grade": 1,
         "id": 5701,
         "filepath": "/root/fiftyone/coco-2017/train/data/000000005701.jpg",
         "_deepnote_index_column": 261
        },
        {
         "url": "http://cocodataset.org/#explore?id=5701",
         "captionist": "Aymeric",
         "assessor": "Arthur",
         "caption": "A yellow shirt and a yellow frisbee with a green background",
         "grade": 0.8,
         "id": 5701,
         "filepath": "/root/fiftyone/coco-2017/train/data/000000005701.jpg",
         "_deepnote_index_column": 262
        },
        {
         "url": "http://cocodataset.org/#explore?id=5701",
         "captionist": "Aymeric",
         "assessor": "Arthur",
         "caption": "The sun shines and the place is beautiful ",
         "grade": 0.3,
         "id": 5701,
         "filepath": "/root/fiftyone/coco-2017/train/data/000000005701.jpg",
         "_deepnote_index_column": 263
        },
        {
         "url": "http://cocodataset.org/#explore?id=254994",
         "captionist": "COCO",
         "assessor": "Léo",
         "caption": "a man holding a drinking glass and smiling.",
         "grade": 0.9,
         "id": 254994,
         "filepath": "/root/fiftyone/coco-2017/train/data/000000254994.jpg",
         "_deepnote_index_column": 264
        },
        {
         "url": "http://cocodataset.org/#explore?id=254994",
         "captionist": "Aymeric",
         "assessor": "Léo",
         "caption": "A person with a black tie ",
         "grade": 0.6,
         "id": 254994,
         "filepath": "/root/fiftyone/coco-2017/train/data/000000254994.jpg",
         "_deepnote_index_column": 265
        },
        {
         "url": "http://cocodataset.org/#explore?id=254994",
         "captionist": "Aymeric",
         "assessor": "Léo",
         "caption": "Photograph of a sad dog drinking coffee ",
         "grade": 0.1,
         "id": 254994,
         "filepath": "/root/fiftyone/coco-2017/train/data/000000254994.jpg",
         "_deepnote_index_column": 266
        },
        {
         "url": "http://cocodataset.org/#explore?id=256799",
         "captionist": "COCO",
         "assessor": "Conrad",
         "caption": "a chandelier sitting above a spiral stair case.",
         "grade": 1,
         "id": 256799,
         "filepath": "/root/fiftyone/coco-2017/train/data/000000256799.jpg",
         "_deepnote_index_column": 267
        },
        {
         "url": "http://cocodataset.org/#explore?id=256799",
         "captionist": "Aymeric",
         "assessor": "Conrad",
         "caption": "a chandelier and a clock in a very big room with stairs",
         "grade": 0.8,
         "id": 256799,
         "filepath": "/root/fiftyone/coco-2017/train/data/000000256799.jpg",
         "_deepnote_index_column": 268
        },
        {
         "url": "http://cocodataset.org/#explore?id=256799",
         "captionist": "Aymeric",
         "assessor": "Conrad",
         "caption": "Two people taking a nap",
         "grade": 0,
         "id": 256799,
         "filepath": "/root/fiftyone/coco-2017/train/data/000000256799.jpg",
         "_deepnote_index_column": 269
        },
        {
         "url": "http://cocodataset.org/#explore?id=524981",
         "captionist": "COCO",
         "assessor": "Arthur",
         "caption": "a dog sitting on a boat behind the sail.",
         "grade": 1,
         "id": 524981,
         "filepath": "/root/fiftyone/coco-2017/train/data/000000524981.jpg",
         "_deepnote_index_column": 270
        },
        {
         "url": "http://cocodataset.org/#explore?id=524981",
         "captionist": "Aymeric",
         "assessor": "Arthur",
         "caption": "An engine, a dog and a sail in water",
         "grade": 0.5,
         "id": 524981,
         "filepath": "/root/fiftyone/coco-2017/train/data/000000524981.jpg",
         "_deepnote_index_column": 271
        },
        {
         "url": "http://cocodataset.org/#explore?id=524981",
         "captionist": "Aymeric",
         "assessor": "Arthur",
         "caption": "Bowling pins going down a slide",
         "grade": 0,
         "id": 524981,
         "filepath": "/root/fiftyone/coco-2017/train/data/000000524981.jpg",
         "_deepnote_index_column": 272
        },
        {
         "url": "http://cocodataset.org/#explore?id=509839",
         "captionist": "COCO",
         "assessor": "Léo",
         "caption": "a public bathroom that is empty and not in use.",
         "grade": 1,
         "id": 509839,
         "filepath": "/root/fiftyone/coco-2017/train/data/000000509839.jpg",
         "_deepnote_index_column": 273
        },
        {
         "url": "http://cocodataset.org/#explore?id=509839",
         "captionist": "Aymeric",
         "assessor": "Léo",
         "caption": "Three sinks in a green room",
         "grade": 0.7,
         "id": 509839,
         "filepath": "/root/fiftyone/coco-2017/train/data/000000509839.jpg",
         "_deepnote_index_column": 274
        },
        {
         "url": "http://cocodataset.org/#explore?id=509839",
         "captionist": "Aymeric",
         "assessor": "Léo",
         "caption": "Two beds in a room",
         "grade": 0.1,
         "id": 509839,
         "filepath": "/root/fiftyone/coco-2017/train/data/000000509839.jpg",
         "_deepnote_index_column": 275
        },
        {
         "url": "http://cocodataset.org/#explore?id=194120",
         "captionist": "COCO",
         "assessor": "Conrad",
         "caption": "a cat sitting on a windowsill next to a painted pumpkin.",
         "grade": 1,
         "id": 194120,
         "filepath": "/root/fiftyone/coco-2017/train/data/000000194120.jpg",
         "_deepnote_index_column": 276
        },
        {
         "url": "http://cocodataset.org/#explore?id=194120",
         "captionist": "Aymeric",
         "assessor": "Conrad",
         "caption": "A cat lying on its back eats a pumpkin ",
         "grade": 0.4,
         "id": 194120,
         "filepath": "/root/fiftyone/coco-2017/train/data/000000194120.jpg",
         "_deepnote_index_column": 277
        },
        {
         "url": "http://cocodataset.org/#explore?id=194120",
         "captionist": "Aymeric",
         "assessor": "Conrad",
         "caption": "A banana filled with orange jelly ",
         "grade": 0,
         "id": 194120,
         "filepath": "/root/fiftyone/coco-2017/train/data/000000194120.jpg",
         "_deepnote_index_column": 278
        },
        {
         "url": "http://cocodataset.org/#explore?id=197329",
         "captionist": "COCO",
         "assessor": "Arthur",
         "caption": "some zebras and a giraffe tall brown grass and trees",
         "grade": 1,
         "id": 197329,
         "filepath": "/root/fiftyone/coco-2017/train/data/000000197329.jpg",
         "_deepnote_index_column": 279
        },
        {
         "url": "http://cocodataset.org/#explore?id=197329",
         "captionist": "Aymeric",
         "assessor": "Arthur",
         "caption": "A desert, dry grass and savannah animals",
         "grade": 1,
         "id": 197329,
         "filepath": "/root/fiftyone/coco-2017/train/data/000000197329.jpg",
         "_deepnote_index_column": 280
        },
        {
         "url": "http://cocodataset.org/#explore?id=197329",
         "captionist": "Aymeric",
         "assessor": "Arthur",
         "caption": "pikachu uses his thunder attack",
         "grade": 0,
         "id": 197329,
         "filepath": "/root/fiftyone/coco-2017/train/data/000000197329.jpg",
         "_deepnote_index_column": 281
        },
        {
         "url": "http://cocodataset.org/#explore?id=432637",
         "captionist": "COCO",
         "assessor": "Léo",
         "caption": "a group of people riding a carousel with trees in the background.",
         "grade": 0.8,
         "id": 432637,
         "filepath": "/root/fiftyone/coco-2017/train/data/000000432637.jpg",
         "_deepnote_index_column": 282
        },
        {
         "url": "http://cocodataset.org/#explore?id=432637",
         "captionist": "Aymeric",
         "assessor": "Léo",
         "caption": "People having fun on horses",
         "grade": 0.4,
         "id": 432637,
         "filepath": "/root/fiftyone/coco-2017/train/data/000000432637.jpg",
         "_deepnote_index_column": 283
        },
        {
         "url": "http://cocodataset.org/#explore?id=432637",
         "captionist": "Aymeric",
         "assessor": "Léo",
         "caption": "many candlelit sticks",
         "grade": 0,
         "id": 432637,
         "filepath": "/root/fiftyone/coco-2017/train/data/000000432637.jpg",
         "_deepnote_index_column": 284
        },
        {
         "url": "http://cocodataset.org/#explore?id=298014",
         "captionist": "COCO",
         "assessor": "Conrad",
         "caption": "a large architectural structure near a park",
         "grade": 1,
         "id": 298014,
         "filepath": "/root/fiftyone/coco-2017/train/data/000000298014.jpg",
         "_deepnote_index_column": 285
        },
        {
         "url": "http://cocodataset.org/#explore?id=298014",
         "captionist": "Aymeric",
         "assessor": "Conrad",
         "caption": "a traffic light on a city side walk with people",
         "grade": 0.8,
         "id": 298014,
         "filepath": "/root/fiftyone/coco-2017/train/data/000000298014.jpg",
         "_deepnote_index_column": 286
        },
        {
         "url": "http://cocodataset.org/#explore?id=298014",
         "captionist": "Aymeric",
         "assessor": "Conrad",
         "caption": "lighted street lamps",
         "grade": 0.5,
         "id": 298014,
         "filepath": "/root/fiftyone/coco-2017/train/data/000000298014.jpg",
         "_deepnote_index_column": 287
        },
        {
         "url": "http://cocodataset.org/#explore?id=250225",
         "captionist": "COCO",
         "assessor": "Arthur",
         "caption": "a display of fruit print dishes in a store",
         "grade": 1,
         "id": 250225,
         "filepath": "/root/fiftyone/coco-2017/train/data/000000250225.jpg",
         "_deepnote_index_column": 288
        },
        {
         "url": "http://cocodataset.org/#explore?id=250225",
         "captionist": "Aymeric",
         "assessor": "Arthur",
         "caption": "Fruits and vegetables in a store",
         "grade": 0.2,
         "id": 250225,
         "filepath": "/root/fiftyone/coco-2017/train/data/000000250225.jpg",
         "_deepnote_index_column": 289
        },
        {
         "url": "http://cocodataset.org/#explore?id=250225",
         "captionist": "Aymeric",
         "assessor": "Arthur",
         "caption": "beef steaks spread on the floor",
         "grade": 0,
         "id": 250225,
         "filepath": "/root/fiftyone/coco-2017/train/data/000000250225.jpg",
         "_deepnote_index_column": 290
        },
        {
         "url": "http://cocodataset.org/#explore?id=484457",
         "captionist": "COCO",
         "assessor": "Léo",
         "caption": "a large stack of square shaped cakes sitting on a lit table.",
         "grade": 0.9,
         "id": 484457,
         "filepath": "/root/fiftyone/coco-2017/train/data/000000484457.jpg",
         "_deepnote_index_column": 291
        },
        {
         "url": "http://cocodataset.org/#explore?id=484457",
         "captionist": "Aymeric",
         "assessor": "Léo",
         "caption": "Two tables and a cake",
         "grade": 0.6,
         "id": 484457,
         "filepath": "/root/fiftyone/coco-2017/train/data/000000484457.jpg",
         "_deepnote_index_column": 292
        },
        {
         "url": "http://cocodataset.org/#explore?id=484457",
         "captionist": "Aymeric",
         "assessor": "Léo",
         "caption": "black sculptures in the shape of chocolate bars",
         "grade": 0,
         "id": 484457,
         "filepath": "/root/fiftyone/coco-2017/train/data/000000484457.jpg",
         "_deepnote_index_column": 293
        },
        {
         "url": "http://cocodataset.org/#explore?id=541039",
         "captionist": "COCO",
         "assessor": "Conrad",
         "caption": "a group of people holding umbrellas standing behind a sign for a umbrella drive.",
         "grade": 1,
         "id": 541039,
         "filepath": "/root/fiftyone/coco-2017/train/data/000000541039.jpg",
         "_deepnote_index_column": 294
        },
        {
         "url": "http://cocodataset.org/#explore?id=541039",
         "captionist": "Aymeric",
         "assessor": "Conrad",
         "caption": "smiling black people who say thank you",
         "grade": 0.9,
         "id": 541039,
         "filepath": "/root/fiftyone/coco-2017/train/data/000000541039.jpg",
         "_deepnote_index_column": 295
        },
        {
         "url": "http://cocodataset.org/#explore?id=541039",
         "captionist": "Aymeric",
         "assessor": "Conrad",
         "caption": "Birthday gifts in a box",
         "grade": 0,
         "id": 541039,
         "filepath": "/root/fiftyone/coco-2017/train/data/000000541039.jpg",
         "_deepnote_index_column": 296
        },
        {
         "url": "http://cocodataset.org/#explore?id=423313",
         "captionist": "COCO",
         "assessor": "Arthur",
         "caption": "a group of motorcycles parked in front of a building.",
         "grade": 0.9,
         "id": 423313,
         "filepath": "/root/fiftyone/coco-2017/train/data/000000423313.jpg",
         "_deepnote_index_column": 297
        },
        {
         "url": "http://cocodataset.org/#explore?id=423313",
         "captionist": "Aymeric",
         "assessor": "Arthur",
         "caption": "Mortorcyles hiding small stores",
         "grade": 0.7,
         "id": 423313,
         "filepath": "/root/fiftyone/coco-2017/train/data/000000423313.jpg",
         "_deepnote_index_column": 298
        },
        {
         "url": "http://cocodataset.org/#explore?id=423313",
         "captionist": "Aymeric",
         "assessor": "Arthur",
         "caption": "sunflowers looking towards the sun",
         "grade": 0,
         "id": 423313,
         "filepath": "/root/fiftyone/coco-2017/train/data/000000423313.jpg",
         "_deepnote_index_column": 299
        }
       ]
      },
      "text/plain": "                                           url captionist assessor  \\\n0    http://cocodataset.org/#explore?id=393274       COCO  Aymeric   \n1    http://cocodataset.org/#explore?id=393274     Arthur  Aymeric   \n2    http://cocodataset.org/#explore?id=393274     Arthur  Aymeric   \n3    http://cocodataset.org/#explore?id=427123       COCO      Léo   \n4    http://cocodataset.org/#explore?id=427123     Arthur      Léo   \n..                                         ...        ...      ...   \n295  http://cocodataset.org/#explore?id=541039    Aymeric   Conrad   \n296  http://cocodataset.org/#explore?id=541039    Aymeric   Conrad   \n297  http://cocodataset.org/#explore?id=423313       COCO   Arthur   \n298  http://cocodataset.org/#explore?id=423313    Aymeric   Arthur   \n299  http://cocodataset.org/#explore?id=423313    Aymeric   Arthur   \n\n                                               caption  grade      id  \\\n0    a yellow and white train traveling past a trai...    0.9  393274   \n1             several trains parked in a train station    0.3  393274   \n2                           a river with people nearby    0.0  393274   \n3    three people in formal military uniforms, two ...    1.0  427123   \n4        smiling researchers receiving the Nobel prize    0.5  427123   \n..                                                 ...    ...     ...   \n295             smiling black people who say thank you    0.9  541039   \n296                            Birthday gifts in a box    0.0  541039   \n297  a group of motorcycles parked in front of a bu...    0.9  423313   \n298                    Mortorcyles hiding small stores    0.7  423313   \n299                 sunflowers looking towards the sun    0.0  423313   \n\n                                              filepath  \n0    /root/fiftyone/coco-2017/train/data/0000003932...  \n1    /root/fiftyone/coco-2017/train/data/0000003932...  \n2    /root/fiftyone/coco-2017/train/data/0000003932...  \n3    /root/fiftyone/coco-2017/train/data/0000004271...  \n4    /root/fiftyone/coco-2017/train/data/0000004271...  \n..                                                 ...  \n295  /root/fiftyone/coco-2017/train/data/0000005410...  \n296  /root/fiftyone/coco-2017/train/data/0000005410...  \n297  /root/fiftyone/coco-2017/train/data/0000004233...  \n298  /root/fiftyone/coco-2017/train/data/0000004233...  \n299  /root/fiftyone/coco-2017/train/data/0000004233...  \n\n[300 rows x 7 columns]",
      "text/html": "<div>\n<style scoped>\n    .dataframe tbody tr th:only-of-type {\n        vertical-align: middle;\n    }\n\n    .dataframe tbody tr th {\n        vertical-align: top;\n    }\n\n    .dataframe thead th {\n        text-align: right;\n    }\n</style>\n<table border=\"1\" class=\"dataframe\">\n  <thead>\n    <tr style=\"text-align: right;\">\n      <th></th>\n      <th>url</th>\n      <th>captionist</th>\n      <th>assessor</th>\n      <th>caption</th>\n      <th>grade</th>\n      <th>id</th>\n      <th>filepath</th>\n    </tr>\n  </thead>\n  <tbody>\n    <tr>\n      <th>0</th>\n      <td>http://cocodataset.org/#explore?id=393274</td>\n      <td>COCO</td>\n      <td>Aymeric</td>\n      <td>a yellow and white train traveling past a trai...</td>\n      <td>0.9</td>\n      <td>393274</td>\n      <td>/root/fiftyone/coco-2017/train/data/0000003932...</td>\n    </tr>\n    <tr>\n      <th>1</th>\n      <td>http://cocodataset.org/#explore?id=393274</td>\n      <td>Arthur</td>\n      <td>Aymeric</td>\n      <td>several trains parked in a train station</td>\n      <td>0.3</td>\n      <td>393274</td>\n      <td>/root/fiftyone/coco-2017/train/data/0000003932...</td>\n    </tr>\n    <tr>\n      <th>2</th>\n      <td>http://cocodataset.org/#explore?id=393274</td>\n      <td>Arthur</td>\n      <td>Aymeric</td>\n      <td>a river with people nearby</td>\n      <td>0.0</td>\n      <td>393274</td>\n      <td>/root/fiftyone/coco-2017/train/data/0000003932...</td>\n    </tr>\n    <tr>\n      <th>3</th>\n      <td>http://cocodataset.org/#explore?id=427123</td>\n      <td>COCO</td>\n      <td>Léo</td>\n      <td>three people in formal military uniforms, two ...</td>\n      <td>1.0</td>\n      <td>427123</td>\n      <td>/root/fiftyone/coco-2017/train/data/0000004271...</td>\n    </tr>\n    <tr>\n      <th>4</th>\n      <td>http://cocodataset.org/#explore?id=427123</td>\n      <td>Arthur</td>\n      <td>Léo</td>\n      <td>smiling researchers receiving the Nobel prize</td>\n      <td>0.5</td>\n      <td>427123</td>\n      <td>/root/fiftyone/coco-2017/train/data/0000004271...</td>\n    </tr>\n    <tr>\n      <th>...</th>\n      <td>...</td>\n      <td>...</td>\n      <td>...</td>\n      <td>...</td>\n      <td>...</td>\n      <td>...</td>\n      <td>...</td>\n    </tr>\n    <tr>\n      <th>295</th>\n      <td>http://cocodataset.org/#explore?id=541039</td>\n      <td>Aymeric</td>\n      <td>Conrad</td>\n      <td>smiling black people who say thank you</td>\n      <td>0.9</td>\n      <td>541039</td>\n      <td>/root/fiftyone/coco-2017/train/data/0000005410...</td>\n    </tr>\n    <tr>\n      <th>296</th>\n      <td>http://cocodataset.org/#explore?id=541039</td>\n      <td>Aymeric</td>\n      <td>Conrad</td>\n      <td>Birthday gifts in a box</td>\n      <td>0.0</td>\n      <td>541039</td>\n      <td>/root/fiftyone/coco-2017/train/data/0000005410...</td>\n    </tr>\n    <tr>\n      <th>297</th>\n      <td>http://cocodataset.org/#explore?id=423313</td>\n      <td>COCO</td>\n      <td>Arthur</td>\n      <td>a group of motorcycles parked in front of a bu...</td>\n      <td>0.9</td>\n      <td>423313</td>\n      <td>/root/fiftyone/coco-2017/train/data/0000004233...</td>\n    </tr>\n    <tr>\n      <th>298</th>\n      <td>http://cocodataset.org/#explore?id=423313</td>\n      <td>Aymeric</td>\n      <td>Arthur</td>\n      <td>Mortorcyles hiding small stores</td>\n      <td>0.7</td>\n      <td>423313</td>\n      <td>/root/fiftyone/coco-2017/train/data/0000004233...</td>\n    </tr>\n    <tr>\n      <th>299</th>\n      <td>http://cocodataset.org/#explore?id=423313</td>\n      <td>Aymeric</td>\n      <td>Arthur</td>\n      <td>sunflowers looking towards the sun</td>\n      <td>0.0</td>\n      <td>423313</td>\n      <td>/root/fiftyone/coco-2017/train/data/0000004233...</td>\n    </tr>\n  </tbody>\n</table>\n<p>300 rows × 7 columns</p>\n</div>"
     },
     "metadata": {}
    }
   ],
   "execution_count": null
  },
  {
   "cell_type": "code",
   "metadata": {
    "tags": [],
    "cell_id": "00009-ac57bc6c-2d1c-4131-abb3-6df34a40d014",
    "deepnote_to_be_reexecuted": false,
    "source_hash": "d37d1c04",
    "execution_start": 1639158396919,
    "execution_millis": 417,
    "deepnote_output_heights": [
     1
    ],
    "deepnote_cell_type": "code"
   },
   "source": "import plotly.express as px\nfig = px.histogram(\n    coco_ratings_300_df, x=\"human_grade\", facet_row=\"captionist\", facet_col=\"assessor\",\n    category_orders={\"captionist\": [\"Conrad\", \"Aymeric\", \"Léo\", \"Arthur\"], \"assessor\": [\"Conrad\", \"Aymeric\", \"Léo\", \"Arthur\"]}\n)\nfig.for_each_annotation(lambda a: a.update(text=a.text.split(\"=\")[-1]))\nfig.show()",
   "outputs": [
    {
     "data": {
      "text/html": "<html>\n<head><meta charset=\"utf-8\" /></head>\n<body>\n    <div>            <script src=\"https://cdnjs.cloudflare.com/ajax/libs/mathjax/2.7.5/MathJax.js?config=TeX-AMS-MML_SVG\"></script><script type=\"text/javascript\">if (window.MathJax) {MathJax.Hub.Config({SVG: {font: \"STIX-Web\"}});}</script>                <script type=\"text/javascript\">window.PlotlyConfig = {MathJaxConfig: 'local'};</script>\n        <script src=\"https://cdn.plot.ly/plotly-2.6.3.min.js\"></script>                <div id=\"9102920d-d096-4c50-a890-e0a77f9a07e8\" class=\"plotly-graph-div\" style=\"height:525px; width:100%;\"></div>            <script type=\"text/javascript\">                                    window.PLOTLYENV=window.PLOTLYENV || {};                                    if (document.getElementById(\"9102920d-d096-4c50-a890-e0a77f9a07e8\")) {                    Plotly.newPlot(                        \"9102920d-d096-4c50-a890-e0a77f9a07e8\",                        [{\"alignmentgroup\":\"True\",\"bingroup\":\"x\",\"hovertemplate\":\"captionist=Conrad<br>assessor=Aymeric<br>grade=%{x}<br>count=%{y}<extra></extra>\",\"legendgroup\":\"\",\"marker\":{\"color\":\"#636efa\"},\"name\":\"\",\"offsetgroup\":\"\",\"orientation\":\"v\",\"showlegend\":false,\"x\":[0.3,0.05,0.6,0.1,0.7,0.6,0.65,0.2,0.75,0.55,0.7,0.3,0.66,0.05,0.63,0.0],\"xaxis\":\"x18\",\"yaxis\":\"y18\",\"type\":\"histogram\"},{\"alignmentgroup\":\"True\",\"bingroup\":\"x\",\"hovertemplate\":\"captionist=Conrad<br>assessor=L\\u00e9o<br>grade=%{x}<br>count=%{y}<extra></extra>\",\"legendgroup\":\"\",\"marker\":{\"color\":\"#636efa\"},\"name\":\"\",\"offsetgroup\":\"\",\"orientation\":\"v\",\"showlegend\":false,\"x\":[0.8,0.0,0.8,0.4,0.2,0.0,0.9,0.5,0.8,0.2,0.4,0.2,0.8,0.2,0.6,0.1],\"xaxis\":\"x19\",\"yaxis\":\"y19\",\"type\":\"histogram\"},{\"alignmentgroup\":\"True\",\"bingroup\":\"x\",\"hovertemplate\":\"captionist=Conrad<br>assessor=Arthur<br>grade=%{x}<br>count=%{y}<extra></extra>\",\"legendgroup\":\"\",\"marker\":{\"color\":\"#636efa\"},\"name\":\"\",\"offsetgroup\":\"\",\"orientation\":\"v\",\"showlegend\":false,\"x\":[0.75,0.3,1.0,0.4,0.8,0.2,0.9,0.1,0.8,0.1,1.0,0.2,0.9,0.1,0.4,0.05,0.9,0.1],\"xaxis\":\"x20\",\"yaxis\":\"y20\",\"type\":\"histogram\"},{\"alignmentgroup\":\"True\",\"bingroup\":\"x\",\"hovertemplate\":\"captionist=Aymeric<br>assessor=Conrad<br>grade=%{x}<br>count=%{y}<extra></extra>\",\"legendgroup\":\"\",\"marker\":{\"color\":\"#636efa\"},\"name\":\"\",\"offsetgroup\":\"\",\"orientation\":\"v\",\"showlegend\":false,\"x\":[0.8,0.0,0.4,0.0,0.5,0.0,0.7,0.0,0.7,0.1,0.8,0.0,0.4,0.0,0.8,0.5,0.9,0.0],\"xaxis\":\"x13\",\"yaxis\":\"y13\",\"type\":\"histogram\"},{\"alignmentgroup\":\"True\",\"bingroup\":\"x\",\"hovertemplate\":\"captionist=Aymeric<br>assessor=L\\u00e9o<br>grade=%{x}<br>count=%{y}<extra></extra>\",\"legendgroup\":\"\",\"marker\":{\"color\":\"#636efa\"},\"name\":\"\",\"offsetgroup\":\"\",\"orientation\":\"v\",\"showlegend\":false,\"x\":[0.8,0.0,0.3,0.0,0.6,0.0,0.7,0.3,0.6,0.1,0.7,0.1,0.4,0.0,0.6,0.0],\"xaxis\":\"x15\",\"yaxis\":\"y15\",\"type\":\"histogram\"},{\"alignmentgroup\":\"True\",\"bingroup\":\"x\",\"hovertemplate\":\"captionist=Aymeric<br>assessor=Arthur<br>grade=%{x}<br>count=%{y}<extra></extra>\",\"legendgroup\":\"\",\"marker\":{\"color\":\"#636efa\"},\"name\":\"\",\"offsetgroup\":\"\",\"orientation\":\"v\",\"showlegend\":false,\"x\":[0.1,0.0,0.8,0.05,0.2,0.1,0.1,0.0,0.8,0.3,0.5,0.0,1.0,0.0,0.2,0.0,0.7,0.0],\"xaxis\":\"x16\",\"yaxis\":\"y16\",\"type\":\"histogram\"},{\"alignmentgroup\":\"True\",\"bingroup\":\"x\",\"hovertemplate\":\"captionist=L\\u00e9o<br>assessor=Conrad<br>grade=%{x}<br>count=%{y}<extra></extra>\",\"legendgroup\":\"\",\"marker\":{\"color\":\"#636efa\"},\"name\":\"\",\"offsetgroup\":\"\",\"orientation\":\"v\",\"showlegend\":false,\"x\":[0.7,0.0,0.9,0.0,0.8,0.1,0.5,0.0,0.7,0.0,0.8,0.0,0.6,0.0,0.9,0.0],\"xaxis\":\"x9\",\"yaxis\":\"y9\",\"type\":\"histogram\"},{\"alignmentgroup\":\"True\",\"bingroup\":\"x\",\"hovertemplate\":\"captionist=L\\u00e9o<br>assessor=Aymeric<br>grade=%{x}<br>count=%{y}<extra></extra>\",\"legendgroup\":\"\",\"marker\":{\"color\":\"#636efa\"},\"name\":\"\",\"offsetgroup\":\"\",\"orientation\":\"v\",\"showlegend\":false,\"x\":[0.75,0.0,0.75,0.0,0.5,0.05,0.75,0.1,0.5,0.0,0.8,0.0,0.6,0.0,0.75,0.05,0.75,0.0],\"xaxis\":\"x10\",\"yaxis\":\"y10\",\"type\":\"histogram\"},{\"alignmentgroup\":\"True\",\"bingroup\":\"x\",\"hovertemplate\":\"captionist=L\\u00e9o<br>assessor=Arthur<br>grade=%{x}<br>count=%{y}<extra></extra>\",\"legendgroup\":\"\",\"marker\":{\"color\":\"#636efa\"},\"name\":\"\",\"offsetgroup\":\"\",\"orientation\":\"v\",\"showlegend\":false,\"x\":[0.8,0.0,0.9,0.0,0.9,0.1,0.8,0.0,1.0,0.0,0.7,0.0,1.0,0.15,0.9,0.0],\"xaxis\":\"x12\",\"yaxis\":\"y12\",\"type\":\"histogram\"},{\"alignmentgroup\":\"True\",\"bingroup\":\"x\",\"hovertemplate\":\"captionist=Arthur<br>assessor=Conrad<br>grade=%{x}<br>count=%{y}<extra></extra>\",\"legendgroup\":\"\",\"marker\":{\"color\":\"#636efa\"},\"name\":\"\",\"offsetgroup\":\"\",\"orientation\":\"v\",\"showlegend\":false,\"x\":[0.6,0.0,0.6,0.0,0.4,0.0,0.3,0.0,0.8,0.0,0.6,0.0,0.7,0.3,0.6,0.1],\"xaxis\":\"x5\",\"yaxis\":\"y5\",\"type\":\"histogram\"},{\"alignmentgroup\":\"True\",\"bingroup\":\"x\",\"hovertemplate\":\"captionist=Arthur<br>assessor=Aymeric<br>grade=%{x}<br>count=%{y}<extra></extra>\",\"legendgroup\":\"\",\"marker\":{\"color\":\"#636efa\"},\"name\":\"\",\"offsetgroup\":\"\",\"orientation\":\"v\",\"showlegend\":false,\"x\":[0.3,0.0,0.6,0.0,0.65,0.1,0.3,0.0,0.2,0.1,0.5,0.05,0.6,0.0,0.6,0.2],\"xaxis\":\"x6\",\"yaxis\":\"y6\",\"type\":\"histogram\"},{\"alignmentgroup\":\"True\",\"bingroup\":\"x\",\"hovertemplate\":\"captionist=Arthur<br>assessor=L\\u00e9o<br>grade=%{x}<br>count=%{y}<extra></extra>\",\"legendgroup\":\"\",\"marker\":{\"color\":\"#636efa\"},\"name\":\"\",\"offsetgroup\":\"\",\"orientation\":\"v\",\"showlegend\":false,\"x\":[0.5,0.0,0.3,0.0,0.0,0.1,0.5,0.0,0.4,0.0,0.2,0.5,0.3,0.0,0.4,0.1],\"xaxis\":\"x7\",\"yaxis\":\"y7\",\"type\":\"histogram\"},{\"alignmentgroup\":\"True\",\"bingroup\":\"x\",\"hovertemplate\":\"captionist=COCO<br>assessor=Conrad<br>grade=%{x}<br>count=%{y}<extra></extra>\",\"legendgroup\":\"\",\"marker\":{\"color\":\"#636efa\"},\"name\":\"\",\"offsetgroup\":\"\",\"orientation\":\"v\",\"showlegend\":false,\"x\":[1.0,1.0,1.0,0.9,1.0,1.0,1.0,1.0,1.0,1.0,1.0,0.9,1.0,1.0,1.0,1.0,1.0,1.0,1.0,1.0,1.0,1.0,1.0,1.0,1.0],\"xaxis\":\"x\",\"yaxis\":\"y\",\"type\":\"histogram\"},{\"alignmentgroup\":\"True\",\"bingroup\":\"x\",\"hovertemplate\":\"captionist=COCO<br>assessor=Aymeric<br>grade=%{x}<br>count=%{y}<extra></extra>\",\"legendgroup\":\"\",\"marker\":{\"color\":\"#636efa\"},\"name\":\"\",\"offsetgroup\":\"\",\"orientation\":\"v\",\"showlegend\":false,\"x\":[0.9,0.95,0.95,0.7,0.7,0.75,0.4,0.95,0.88,0.95,0.92,0.98,0.9,0.7,0.88,0.93,0.93,0.96,0.9,0.95,0.75,0.97,0.88,0.97,0.95],\"xaxis\":\"x2\",\"yaxis\":\"y2\",\"type\":\"histogram\"},{\"alignmentgroup\":\"True\",\"bingroup\":\"x\",\"hovertemplate\":\"captionist=COCO<br>assessor=L\\u00e9o<br>grade=%{x}<br>count=%{y}<extra></extra>\",\"legendgroup\":\"\",\"marker\":{\"color\":\"#636efa\"},\"name\":\"\",\"offsetgroup\":\"\",\"orientation\":\"v\",\"showlegend\":false,\"x\":[1.0,1.0,0.7,0.9,1.0,0.9,1.0,0.9,1.0,1.0,0.9,0.9,0.9,1.0,0.9,1.0,1.0,0.9,1.0,1.0,0.9,1.0,0.8,0.9],\"xaxis\":\"x3\",\"yaxis\":\"y3\",\"type\":\"histogram\"},{\"alignmentgroup\":\"True\",\"bingroup\":\"x\",\"hovertemplate\":\"captionist=COCO<br>assessor=Arthur<br>grade=%{x}<br>count=%{y}<extra></extra>\",\"legendgroup\":\"\",\"marker\":{\"color\":\"#636efa\"},\"name\":\"\",\"offsetgroup\":\"\",\"orientation\":\"v\",\"showlegend\":false,\"x\":[0.9,1.0,1.0,0.9,0.9,1.0,1.0,1.0,1.0,1.0,0.9,0.9,0.9,0.9,1.0,1.0,1.0,1.0,0.7,0.9,1.0,1.0,1.0,1.0,1.0,0.9],\"xaxis\":\"x4\",\"yaxis\":\"y4\",\"type\":\"histogram\"}],                        {\"template\":{\"data\":{\"bar\":[{\"error_x\":{\"color\":\"#2a3f5f\"},\"error_y\":{\"color\":\"#2a3f5f\"},\"marker\":{\"line\":{\"color\":\"#E5ECF6\",\"width\":0.5},\"pattern\":{\"fillmode\":\"overlay\",\"size\":10,\"solidity\":0.2}},\"type\":\"bar\"}],\"barpolar\":[{\"marker\":{\"line\":{\"color\":\"#E5ECF6\",\"width\":0.5},\"pattern\":{\"fillmode\":\"overlay\",\"size\":10,\"solidity\":0.2}},\"type\":\"barpolar\"}],\"carpet\":[{\"aaxis\":{\"endlinecolor\":\"#2a3f5f\",\"gridcolor\":\"white\",\"linecolor\":\"white\",\"minorgridcolor\":\"white\",\"startlinecolor\":\"#2a3f5f\"},\"baxis\":{\"endlinecolor\":\"#2a3f5f\",\"gridcolor\":\"white\",\"linecolor\":\"white\",\"minorgridcolor\":\"white\",\"startlinecolor\":\"#2a3f5f\"},\"type\":\"carpet\"}],\"choropleth\":[{\"colorbar\":{\"outlinewidth\":0,\"ticks\":\"\"},\"type\":\"choropleth\"}],\"contour\":[{\"colorbar\":{\"outlinewidth\":0,\"ticks\":\"\"},\"colorscale\":[[0.0,\"#0d0887\"],[0.1111111111111111,\"#46039f\"],[0.2222222222222222,\"#7201a8\"],[0.3333333333333333,\"#9c179e\"],[0.4444444444444444,\"#bd3786\"],[0.5555555555555556,\"#d8576b\"],[0.6666666666666666,\"#ed7953\"],[0.7777777777777778,\"#fb9f3a\"],[0.8888888888888888,\"#fdca26\"],[1.0,\"#f0f921\"]],\"type\":\"contour\"}],\"contourcarpet\":[{\"colorbar\":{\"outlinewidth\":0,\"ticks\":\"\"},\"type\":\"contourcarpet\"}],\"heatmap\":[{\"colorbar\":{\"outlinewidth\":0,\"ticks\":\"\"},\"colorscale\":[[0.0,\"#0d0887\"],[0.1111111111111111,\"#46039f\"],[0.2222222222222222,\"#7201a8\"],[0.3333333333333333,\"#9c179e\"],[0.4444444444444444,\"#bd3786\"],[0.5555555555555556,\"#d8576b\"],[0.6666666666666666,\"#ed7953\"],[0.7777777777777778,\"#fb9f3a\"],[0.8888888888888888,\"#fdca26\"],[1.0,\"#f0f921\"]],\"type\":\"heatmap\"}],\"heatmapgl\":[{\"colorbar\":{\"outlinewidth\":0,\"ticks\":\"\"},\"colorscale\":[[0.0,\"#0d0887\"],[0.1111111111111111,\"#46039f\"],[0.2222222222222222,\"#7201a8\"],[0.3333333333333333,\"#9c179e\"],[0.4444444444444444,\"#bd3786\"],[0.5555555555555556,\"#d8576b\"],[0.6666666666666666,\"#ed7953\"],[0.7777777777777778,\"#fb9f3a\"],[0.8888888888888888,\"#fdca26\"],[1.0,\"#f0f921\"]],\"type\":\"heatmapgl\"}],\"histogram\":[{\"marker\":{\"pattern\":{\"fillmode\":\"overlay\",\"size\":10,\"solidity\":0.2}},\"type\":\"histogram\"}],\"histogram2d\":[{\"colorbar\":{\"outlinewidth\":0,\"ticks\":\"\"},\"colorscale\":[[0.0,\"#0d0887\"],[0.1111111111111111,\"#46039f\"],[0.2222222222222222,\"#7201a8\"],[0.3333333333333333,\"#9c179e\"],[0.4444444444444444,\"#bd3786\"],[0.5555555555555556,\"#d8576b\"],[0.6666666666666666,\"#ed7953\"],[0.7777777777777778,\"#fb9f3a\"],[0.8888888888888888,\"#fdca26\"],[1.0,\"#f0f921\"]],\"type\":\"histogram2d\"}],\"histogram2dcontour\":[{\"colorbar\":{\"outlinewidth\":0,\"ticks\":\"\"},\"colorscale\":[[0.0,\"#0d0887\"],[0.1111111111111111,\"#46039f\"],[0.2222222222222222,\"#7201a8\"],[0.3333333333333333,\"#9c179e\"],[0.4444444444444444,\"#bd3786\"],[0.5555555555555556,\"#d8576b\"],[0.6666666666666666,\"#ed7953\"],[0.7777777777777778,\"#fb9f3a\"],[0.8888888888888888,\"#fdca26\"],[1.0,\"#f0f921\"]],\"type\":\"histogram2dcontour\"}],\"mesh3d\":[{\"colorbar\":{\"outlinewidth\":0,\"ticks\":\"\"},\"type\":\"mesh3d\"}],\"parcoords\":[{\"line\":{\"colorbar\":{\"outlinewidth\":0,\"ticks\":\"\"}},\"type\":\"parcoords\"}],\"pie\":[{\"automargin\":true,\"type\":\"pie\"}],\"scatter\":[{\"marker\":{\"colorbar\":{\"outlinewidth\":0,\"ticks\":\"\"}},\"type\":\"scatter\"}],\"scatter3d\":[{\"line\":{\"colorbar\":{\"outlinewidth\":0,\"ticks\":\"\"}},\"marker\":{\"colorbar\":{\"outlinewidth\":0,\"ticks\":\"\"}},\"type\":\"scatter3d\"}],\"scattercarpet\":[{\"marker\":{\"colorbar\":{\"outlinewidth\":0,\"ticks\":\"\"}},\"type\":\"scattercarpet\"}],\"scattergeo\":[{\"marker\":{\"colorbar\":{\"outlinewidth\":0,\"ticks\":\"\"}},\"type\":\"scattergeo\"}],\"scattergl\":[{\"marker\":{\"colorbar\":{\"outlinewidth\":0,\"ticks\":\"\"}},\"type\":\"scattergl\"}],\"scattermapbox\":[{\"marker\":{\"colorbar\":{\"outlinewidth\":0,\"ticks\":\"\"}},\"type\":\"scattermapbox\"}],\"scatterpolar\":[{\"marker\":{\"colorbar\":{\"outlinewidth\":0,\"ticks\":\"\"}},\"type\":\"scatterpolar\"}],\"scatterpolargl\":[{\"marker\":{\"colorbar\":{\"outlinewidth\":0,\"ticks\":\"\"}},\"type\":\"scatterpolargl\"}],\"scatterternary\":[{\"marker\":{\"colorbar\":{\"outlinewidth\":0,\"ticks\":\"\"}},\"type\":\"scatterternary\"}],\"surface\":[{\"colorbar\":{\"outlinewidth\":0,\"ticks\":\"\"},\"colorscale\":[[0.0,\"#0d0887\"],[0.1111111111111111,\"#46039f\"],[0.2222222222222222,\"#7201a8\"],[0.3333333333333333,\"#9c179e\"],[0.4444444444444444,\"#bd3786\"],[0.5555555555555556,\"#d8576b\"],[0.6666666666666666,\"#ed7953\"],[0.7777777777777778,\"#fb9f3a\"],[0.8888888888888888,\"#fdca26\"],[1.0,\"#f0f921\"]],\"type\":\"surface\"}],\"table\":[{\"cells\":{\"fill\":{\"color\":\"#EBF0F8\"},\"line\":{\"color\":\"white\"}},\"header\":{\"fill\":{\"color\":\"#C8D4E3\"},\"line\":{\"color\":\"white\"}},\"type\":\"table\"}]},\"layout\":{\"annotationdefaults\":{\"arrowcolor\":\"#2a3f5f\",\"arrowhead\":0,\"arrowwidth\":1},\"autotypenumbers\":\"strict\",\"coloraxis\":{\"colorbar\":{\"outlinewidth\":0,\"ticks\":\"\"}},\"colorscale\":{\"diverging\":[[0,\"#8e0152\"],[0.1,\"#c51b7d\"],[0.2,\"#de77ae\"],[0.3,\"#f1b6da\"],[0.4,\"#fde0ef\"],[0.5,\"#f7f7f7\"],[0.6,\"#e6f5d0\"],[0.7,\"#b8e186\"],[0.8,\"#7fbc41\"],[0.9,\"#4d9221\"],[1,\"#276419\"]],\"sequential\":[[0.0,\"#0d0887\"],[0.1111111111111111,\"#46039f\"],[0.2222222222222222,\"#7201a8\"],[0.3333333333333333,\"#9c179e\"],[0.4444444444444444,\"#bd3786\"],[0.5555555555555556,\"#d8576b\"],[0.6666666666666666,\"#ed7953\"],[0.7777777777777778,\"#fb9f3a\"],[0.8888888888888888,\"#fdca26\"],[1.0,\"#f0f921\"]],\"sequentialminus\":[[0.0,\"#0d0887\"],[0.1111111111111111,\"#46039f\"],[0.2222222222222222,\"#7201a8\"],[0.3333333333333333,\"#9c179e\"],[0.4444444444444444,\"#bd3786\"],[0.5555555555555556,\"#d8576b\"],[0.6666666666666666,\"#ed7953\"],[0.7777777777777778,\"#fb9f3a\"],[0.8888888888888888,\"#fdca26\"],[1.0,\"#f0f921\"]]},\"colorway\":[\"#636efa\",\"#EF553B\",\"#00cc96\",\"#ab63fa\",\"#FFA15A\",\"#19d3f3\",\"#FF6692\",\"#B6E880\",\"#FF97FF\",\"#FECB52\"],\"font\":{\"color\":\"#2a3f5f\"},\"geo\":{\"bgcolor\":\"white\",\"lakecolor\":\"white\",\"landcolor\":\"#E5ECF6\",\"showlakes\":true,\"showland\":true,\"subunitcolor\":\"white\"},\"hoverlabel\":{\"align\":\"left\"},\"hovermode\":\"closest\",\"mapbox\":{\"style\":\"light\"},\"paper_bgcolor\":\"white\",\"plot_bgcolor\":\"#E5ECF6\",\"polar\":{\"angularaxis\":{\"gridcolor\":\"white\",\"linecolor\":\"white\",\"ticks\":\"\"},\"bgcolor\":\"#E5ECF6\",\"radialaxis\":{\"gridcolor\":\"white\",\"linecolor\":\"white\",\"ticks\":\"\"}},\"scene\":{\"xaxis\":{\"backgroundcolor\":\"#E5ECF6\",\"gridcolor\":\"white\",\"gridwidth\":2,\"linecolor\":\"white\",\"showbackground\":true,\"ticks\":\"\",\"zerolinecolor\":\"white\"},\"yaxis\":{\"backgroundcolor\":\"#E5ECF6\",\"gridcolor\":\"white\",\"gridwidth\":2,\"linecolor\":\"white\",\"showbackground\":true,\"ticks\":\"\",\"zerolinecolor\":\"white\"},\"zaxis\":{\"backgroundcolor\":\"#E5ECF6\",\"gridcolor\":\"white\",\"gridwidth\":2,\"linecolor\":\"white\",\"showbackground\":true,\"ticks\":\"\",\"zerolinecolor\":\"white\"}},\"shapedefaults\":{\"line\":{\"color\":\"#2a3f5f\"}},\"ternary\":{\"aaxis\":{\"gridcolor\":\"white\",\"linecolor\":\"white\",\"ticks\":\"\"},\"baxis\":{\"gridcolor\":\"white\",\"linecolor\":\"white\",\"ticks\":\"\"},\"bgcolor\":\"#E5ECF6\",\"caxis\":{\"gridcolor\":\"white\",\"linecolor\":\"white\",\"ticks\":\"\"}},\"title\":{\"x\":0.05},\"xaxis\":{\"automargin\":true,\"gridcolor\":\"white\",\"linecolor\":\"white\",\"ticks\":\"\",\"title\":{\"standoff\":15},\"zerolinecolor\":\"white\",\"zerolinewidth\":2},\"yaxis\":{\"automargin\":true,\"gridcolor\":\"white\",\"linecolor\":\"white\",\"ticks\":\"\",\"title\":{\"standoff\":15},\"zerolinecolor\":\"white\",\"zerolinewidth\":2}}},\"xaxis\":{\"anchor\":\"y\",\"domain\":[0.0,0.22999999999999998],\"title\":{\"text\":\"grade\"}},\"yaxis\":{\"anchor\":\"x\",\"domain\":[0.0,0.17600000000000002],\"title\":{\"text\":\"count\"}},\"xaxis2\":{\"anchor\":\"y2\",\"domain\":[0.24999999999999997,0.48],\"matches\":\"x\",\"title\":{\"text\":\"grade\"}},\"yaxis2\":{\"anchor\":\"x2\",\"domain\":[0.0,0.17600000000000002],\"matches\":\"y\",\"showticklabels\":false},\"xaxis3\":{\"anchor\":\"y3\",\"domain\":[0.49999999999999994,0.73],\"matches\":\"x\",\"title\":{\"text\":\"grade\"}},\"yaxis3\":{\"anchor\":\"x3\",\"domain\":[0.0,0.17600000000000002],\"matches\":\"y\",\"showticklabels\":false},\"xaxis4\":{\"anchor\":\"y4\",\"domain\":[0.75,0.98],\"matches\":\"x\",\"title\":{\"text\":\"grade\"}},\"yaxis4\":{\"anchor\":\"x4\",\"domain\":[0.0,0.17600000000000002],\"matches\":\"y\",\"showticklabels\":false},\"xaxis5\":{\"anchor\":\"y5\",\"domain\":[0.0,0.22999999999999998],\"matches\":\"x\",\"showticklabels\":false},\"yaxis5\":{\"anchor\":\"x5\",\"domain\":[0.20600000000000002,0.382],\"matches\":\"y\",\"title\":{\"text\":\"count\"}},\"xaxis6\":{\"anchor\":\"y6\",\"domain\":[0.24999999999999997,0.48],\"matches\":\"x\",\"showticklabels\":false},\"yaxis6\":{\"anchor\":\"x6\",\"domain\":[0.20600000000000002,0.382],\"matches\":\"y\",\"showticklabels\":false},\"xaxis7\":{\"anchor\":\"y7\",\"domain\":[0.49999999999999994,0.73],\"matches\":\"x\",\"showticklabels\":false},\"yaxis7\":{\"anchor\":\"x7\",\"domain\":[0.20600000000000002,0.382],\"matches\":\"y\",\"showticklabels\":false},\"xaxis8\":{\"anchor\":\"y8\",\"domain\":[0.75,0.98],\"matches\":\"x\",\"showticklabels\":false},\"yaxis8\":{\"anchor\":\"x8\",\"domain\":[0.20600000000000002,0.382],\"matches\":\"y\",\"showticklabels\":false},\"xaxis9\":{\"anchor\":\"y9\",\"domain\":[0.0,0.22999999999999998],\"matches\":\"x\",\"showticklabels\":false},\"yaxis9\":{\"anchor\":\"x9\",\"domain\":[0.41200000000000003,0.5880000000000001],\"matches\":\"y\",\"title\":{\"text\":\"count\"}},\"xaxis10\":{\"anchor\":\"y10\",\"domain\":[0.24999999999999997,0.48],\"matches\":\"x\",\"showticklabels\":false},\"yaxis10\":{\"anchor\":\"x10\",\"domain\":[0.41200000000000003,0.5880000000000001],\"matches\":\"y\",\"showticklabels\":false},\"xaxis11\":{\"anchor\":\"y11\",\"domain\":[0.49999999999999994,0.73],\"matches\":\"x\",\"showticklabels\":false},\"yaxis11\":{\"anchor\":\"x11\",\"domain\":[0.41200000000000003,0.5880000000000001],\"matches\":\"y\",\"showticklabels\":false},\"xaxis12\":{\"anchor\":\"y12\",\"domain\":[0.75,0.98],\"matches\":\"x\",\"showticklabels\":false},\"yaxis12\":{\"anchor\":\"x12\",\"domain\":[0.41200000000000003,0.5880000000000001],\"matches\":\"y\",\"showticklabels\":false},\"xaxis13\":{\"anchor\":\"y13\",\"domain\":[0.0,0.22999999999999998],\"matches\":\"x\",\"showticklabels\":false},\"yaxis13\":{\"anchor\":\"x13\",\"domain\":[0.618,0.794],\"matches\":\"y\",\"title\":{\"text\":\"count\"}},\"xaxis14\":{\"anchor\":\"y14\",\"domain\":[0.24999999999999997,0.48],\"matches\":\"x\",\"showticklabels\":false},\"yaxis14\":{\"anchor\":\"x14\",\"domain\":[0.618,0.794],\"matches\":\"y\",\"showticklabels\":false},\"xaxis15\":{\"anchor\":\"y15\",\"domain\":[0.49999999999999994,0.73],\"matches\":\"x\",\"showticklabels\":false},\"yaxis15\":{\"anchor\":\"x15\",\"domain\":[0.618,0.794],\"matches\":\"y\",\"showticklabels\":false},\"xaxis16\":{\"anchor\":\"y16\",\"domain\":[0.75,0.98],\"matches\":\"x\",\"showticklabels\":false},\"yaxis16\":{\"anchor\":\"x16\",\"domain\":[0.618,0.794],\"matches\":\"y\",\"showticklabels\":false},\"xaxis17\":{\"anchor\":\"y17\",\"domain\":[0.0,0.22999999999999998],\"matches\":\"x\",\"showticklabels\":false},\"yaxis17\":{\"anchor\":\"x17\",\"domain\":[0.8240000000000001,1.0],\"matches\":\"y\",\"title\":{\"text\":\"count\"}},\"xaxis18\":{\"anchor\":\"y18\",\"domain\":[0.24999999999999997,0.48],\"matches\":\"x\",\"showticklabels\":false},\"yaxis18\":{\"anchor\":\"x18\",\"domain\":[0.8240000000000001,1.0],\"matches\":\"y\",\"showticklabels\":false},\"xaxis19\":{\"anchor\":\"y19\",\"domain\":[0.49999999999999994,0.73],\"matches\":\"x\",\"showticklabels\":false},\"yaxis19\":{\"anchor\":\"x19\",\"domain\":[0.8240000000000001,1.0],\"matches\":\"y\",\"showticklabels\":false},\"xaxis20\":{\"anchor\":\"y20\",\"domain\":[0.75,0.98],\"matches\":\"x\",\"showticklabels\":false},\"yaxis20\":{\"anchor\":\"x20\",\"domain\":[0.8240000000000001,1.0],\"matches\":\"y\",\"showticklabels\":false},\"annotations\":[{\"font\":{},\"showarrow\":false,\"text\":\"Conrad\",\"x\":0.11499999999999999,\"xanchor\":\"center\",\"xref\":\"paper\",\"y\":1.0,\"yanchor\":\"bottom\",\"yref\":\"paper\"},{\"font\":{},\"showarrow\":false,\"text\":\"Aymeric\",\"x\":0.365,\"xanchor\":\"center\",\"xref\":\"paper\",\"y\":1.0,\"yanchor\":\"bottom\",\"yref\":\"paper\"},{\"font\":{},\"showarrow\":false,\"text\":\"L\\u00e9o\",\"x\":0.615,\"xanchor\":\"center\",\"xref\":\"paper\",\"y\":1.0,\"yanchor\":\"bottom\",\"yref\":\"paper\"},{\"font\":{},\"showarrow\":false,\"text\":\"Arthur\",\"x\":0.865,\"xanchor\":\"center\",\"xref\":\"paper\",\"y\":1.0,\"yanchor\":\"bottom\",\"yref\":\"paper\"},{\"font\":{},\"showarrow\":false,\"text\":\"COCO\",\"textangle\":90,\"x\":0.98,\"xanchor\":\"left\",\"xref\":\"paper\",\"y\":0.08800000000000001,\"yanchor\":\"middle\",\"yref\":\"paper\"},{\"font\":{},\"showarrow\":false,\"text\":\"Arthur\",\"textangle\":90,\"x\":0.98,\"xanchor\":\"left\",\"xref\":\"paper\",\"y\":0.29400000000000004,\"yanchor\":\"middle\",\"yref\":\"paper\"},{\"font\":{},\"showarrow\":false,\"text\":\"L\\u00e9o\",\"textangle\":90,\"x\":0.98,\"xanchor\":\"left\",\"xref\":\"paper\",\"y\":0.5,\"yanchor\":\"middle\",\"yref\":\"paper\"},{\"font\":{},\"showarrow\":false,\"text\":\"Aymeric\",\"textangle\":90,\"x\":0.98,\"xanchor\":\"left\",\"xref\":\"paper\",\"y\":0.706,\"yanchor\":\"middle\",\"yref\":\"paper\"},{\"font\":{},\"showarrow\":false,\"text\":\"Conrad\",\"textangle\":90,\"x\":0.98,\"xanchor\":\"left\",\"xref\":\"paper\",\"y\":0.912,\"yanchor\":\"middle\",\"yref\":\"paper\"}],\"legend\":{\"tracegroupgap\":0},\"margin\":{\"t\":60},\"barmode\":\"relative\"},                        {\"responsive\": true}                    ).then(function(){\n                            \nvar gd = document.getElementById('9102920d-d096-4c50-a890-e0a77f9a07e8');\nvar x = new MutationObserver(function (mutations, observer) {{\n        var display = window.getComputedStyle(gd).display;\n        if (!display || display === 'none') {{\n            console.log([gd, 'removed!']);\n            Plotly.purge(gd);\n            observer.disconnect();\n        }}\n}});\n\n// Listen for the removal of the full notebook cells\nvar notebookContainer = gd.closest('#notebook-container');\nif (notebookContainer) {{\n    x.observe(notebookContainer, {childList: true});\n}}\n\n// Listen for the clearing of the current output cell\nvar outputEl = gd.closest('.output');\nif (outputEl) {{\n    x.observe(outputEl, {childList: true});\n}}\n\n                        })                };                            </script>        </div>\n</body>\n</html>"
     },
     "metadata": {},
     "output_type": "display_data"
    }
   ],
   "execution_count": null
  },
  {
   "cell_type": "code",
   "metadata": {
    "tags": [],
    "cell_id": "00010-9a223ef3-b7da-451c-8ac4-32ed8aa1b61e",
    "deepnote_to_be_reexecuted": false,
    "source_hash": "350701b1",
    "execution_start": 1639158615197,
    "execution_millis": 73,
    "deepnote_output_heights": [
     1
    ],
    "deepnote_cell_type": "code"
   },
   "source": "fig = px.density_heatmap(coco_ratings_300_df, x=\"captionist\", y=\"assessor\", z=\"human_grade\", histfunc='avg')\nfig.show()",
   "outputs": [
    {
     "data": {
      "text/html": "<html>\n<head><meta charset=\"utf-8\" /></head>\n<body>\n    <div>            <script src=\"https://cdnjs.cloudflare.com/ajax/libs/mathjax/2.7.5/MathJax.js?config=TeX-AMS-MML_SVG\"></script><script type=\"text/javascript\">if (window.MathJax) {MathJax.Hub.Config({SVG: {font: \"STIX-Web\"}});}</script>                <script type=\"text/javascript\">window.PlotlyConfig = {MathJaxConfig: 'local'};</script>\n        <script src=\"https://cdn.plot.ly/plotly-2.6.3.min.js\"></script>                <div id=\"9a960fc4-55c0-4a89-81ee-c9cb6e688aff\" class=\"plotly-graph-div\" style=\"height:525px; width:100%;\"></div>            <script type=\"text/javascript\">                                    window.PLOTLYENV=window.PLOTLYENV || {};                                    if (document.getElementById(\"9a960fc4-55c0-4a89-81ee-c9cb6e688aff\")) {                    Plotly.newPlot(                        \"9a960fc4-55c0-4a89-81ee-c9cb6e688aff\",                        [{\"coloraxis\":\"coloraxis\",\"histfunc\":\"avg\",\"hovertemplate\":\"captionist=%{x}<br>assessor=%{y}<br>avg of grade=%{z}<extra></extra>\",\"name\":\"\",\"x\":[\"COCO\",\"Arthur\",\"Arthur\",\"COCO\",\"Arthur\",\"Arthur\",\"COCO\",\"Arthur\",\"Arthur\",\"COCO\",\"Arthur\",\"Arthur\",\"COCO\",\"Arthur\",\"Arthur\",\"COCO\",\"Arthur\",\"Arthur\",\"COCO\",\"Arthur\",\"Arthur\",\"COCO\",\"Arthur\",\"Arthur\",\"COCO\",\"Arthur\",\"Arthur\",\"COCO\",\"Arthur\",\"Arthur\",\"COCO\",\"Arthur\",\"Arthur\",\"COCO\",\"Arthur\",\"Arthur\",\"COCO\",\"Arthur\",\"Arthur\",\"COCO\",\"Arthur\",\"Arthur\",\"COCO\",\"Arthur\",\"Arthur\",\"COCO\",\"Arthur\",\"Arthur\",\"COCO\",\"Arthur\",\"Arthur\",\"COCO\",\"Arthur\",\"Arthur\",\"COCO\",\"Arthur\",\"Arthur\",\"COCO\",\"Arthur\",\"Arthur\",\"COCO\",\"Arthur\",\"Arthur\",\"COCO\",\"Arthur\",\"Arthur\",\"COCO\",\"Arthur\",\"Arthur\",\"COCO\",\"Arthur\",\"Arthur\",\"COCO\",\"Conrad\",\"Conrad\",\"COCO\",\"Conrad\",\"Conrad\",\"COCO\",\"Conrad\",\"Conrad\",\"COCO\",\"Conrad\",\"Conrad\",\"COCO\",\"Conrad\",\"Conrad\",\"COCO\",\"Conrad\",\"Conrad\",\"COCO\",\"Conrad\",\"Conrad\",\"COCO\",\"Conrad\",\"Conrad\",\"COCO\",\"Conrad\",\"Conrad\",\"COCO\",\"Conrad\",\"Conrad\",\"COCO\",\"Conrad\",\"Conrad\",\"COCO\",\"Conrad\",\"Conrad\",\"COCO\",\"Conrad\",\"Conrad\",\"COCO\",\"Conrad\",\"Conrad\",\"COCO\",\"Conrad\",\"Conrad\",\"COCO\",\"Conrad\",\"Conrad\",\"COCO\",\"Conrad\",\"Conrad\",\"COCO\",\"Conrad\",\"Conrad\",\"COCO\",\"Conrad\",\"Conrad\",\"COCO\",\"Conrad\",\"Conrad\",\"COCO\",\"Conrad\",\"Conrad\",\"COCO\",\"Conrad\",\"Conrad\",\"COCO\",\"Conrad\",\"Conrad\",\"COCO\",\"Conrad\",\"Conrad\",\"COCO\",\"Conrad\",\"Conrad\",\"COCO\",\"L\\u00e9o\",\"L\\u00e9o\",\"COCO\",\"L\\u00e9o\",\"L\\u00e9o\",\"COCO\",\"L\\u00e9o\",\"L\\u00e9o\",\"COCO\",\"L\\u00e9o\",\"L\\u00e9o\",\"COCO\",\"L\\u00e9o\",\"L\\u00e9o\",\"COCO\",\"L\\u00e9o\",\"L\\u00e9o\",\"COCO\",\"L\\u00e9o\",\"L\\u00e9o\",\"COCO\",\"L\\u00e9o\",\"L\\u00e9o\",\"COCO\",\"L\\u00e9o\",\"L\\u00e9o\",\"COCO\",\"L\\u00e9o\",\"L\\u00e9o\",\"COCO\",\"L\\u00e9o\",\"L\\u00e9o\",\"COCO\",\"L\\u00e9o\",\"L\\u00e9o\",\"COCO\",\"L\\u00e9o\",\"L\\u00e9o\",\"COCO\",\"L\\u00e9o\",\"L\\u00e9o\",\"COCO\",\"L\\u00e9o\",\"L\\u00e9o\",\"COCO\",\"L\\u00e9o\",\"L\\u00e9o\",\"COCO\",\"L\\u00e9o\",\"L\\u00e9o\",\"COCO\",\"L\\u00e9o\",\"L\\u00e9o\",\"COCO\",\"L\\u00e9o\",\"L\\u00e9o\",\"COCO\",\"L\\u00e9o\",\"L\\u00e9o\",\"COCO\",\"L\\u00e9o\",\"L\\u00e9o\",\"COCO\",\"L\\u00e9o\",\"L\\u00e9o\",\"COCO\",\"L\\u00e9o\",\"L\\u00e9o\",\"COCO\",\"L\\u00e9o\",\"L\\u00e9o\",\"COCO\",\"L\\u00e9o\",\"L\\u00e9o\",\"COCO\",\"Aymeric\",\"Aymeric\",\"COCO\",\"Aymeric\",\"Aymeric\",\"COCO\",\"Aymeric\",\"Aymeric\",\"COCO\",\"Aymeric\",\"Aymeric\",\"COCO\",\"Aymeric\",\"Aymeric\",\"COCO\",\"Aymeric\",\"Aymeric\",\"COCO\",\"Aymeric\",\"Aymeric\",\"COCO\",\"Aymeric\",\"Aymeric\",\"COCO\",\"Aymeric\",\"Aymeric\",\"COCO\",\"Aymeric\",\"Aymeric\",\"COCO\",\"Aymeric\",\"Aymeric\",\"COCO\",\"Aymeric\",\"Aymeric\",\"COCO\",\"Aymeric\",\"Aymeric\",\"COCO\",\"Aymeric\",\"Aymeric\",\"COCO\",\"Aymeric\",\"Aymeric\",\"COCO\",\"Aymeric\",\"Aymeric\",\"COCO\",\"Aymeric\",\"Aymeric\",\"COCO\",\"Aymeric\",\"Aymeric\",\"COCO\",\"Aymeric\",\"Aymeric\",\"COCO\",\"Aymeric\",\"Aymeric\",\"COCO\",\"Aymeric\",\"Aymeric\",\"COCO\",\"Aymeric\",\"Aymeric\",\"COCO\",\"Aymeric\",\"Aymeric\",\"COCO\",\"Aymeric\",\"Aymeric\",\"COCO\",\"Aymeric\",\"Aymeric\",\"COCO\",\"Aymeric\",\"Aymeric\"],\"xaxis\":\"x\",\"xbingroup\":\"x\",\"y\":[\"Aymeric\",\"Aymeric\",\"Aymeric\",\"L\\u00e9o\",\"L\\u00e9o\",\"L\\u00e9o\",\"Conrad\",\"Conrad\",\"Conrad\",\"Aymeric\",\"Aymeric\",\"Aymeric\",\"L\\u00e9o\",\"L\\u00e9o\",\"L\\u00e9o\",\"Conrad\",\"Conrad\",\"Conrad\",\"Aymeric\",\"Aymeric\",\"Aymeric\",\"L\\u00e9o\",\"L\\u00e9o\",\"L\\u00e9o\",\"Conrad\",\"Conrad\",\"Conrad\",\"Aymeric\",\"Aymeric\",\"Aymeric\",\"L\\u00e9o\",\"L\\u00e9o\",\"L\\u00e9o\",\"Conrad\",\"Conrad\",\"Conrad\",\"Aymeric\",\"Aymeric\",\"Aymeric\",\"L\\u00e9o\",\"L\\u00e9o\",\"L\\u00e9o\",\"Conrad\",\"Conrad\",\"Conrad\",\"Aymeric\",\"Aymeric\",\"Aymeric\",\"L\\u00e9o\",\"L\\u00e9o\",\"L\\u00e9o\",\"Conrad\",\"Conrad\",\"Conrad\",\"Aymeric\",\"Aymeric\",\"Aymeric\",\"L\\u00e9o\",\"L\\u00e9o\",\"L\\u00e9o\",\"Conrad\",\"Conrad\",\"Conrad\",\"Aymeric\",\"Aymeric\",\"Aymeric\",\"L\\u00e9o\",\"L\\u00e9o\",\"L\\u00e9o\",\"Conrad\",\"Conrad\",\"Conrad\",\"Arthur\",\"Arthur\",\"Arthur\",\"Aymeric\",\"Aymeric\",\"Aymeric\",\"L\\u00e9o\",\"L\\u00e9o\",\"L\\u00e9o\",\"Arthur\",\"Arthur\",\"Arthur\",\"Aymeric\",\"Aymeric\",\"Aymeric\",\"L\\u00e9o\",\"L\\u00e9o\",\"L\\u00e9o\",\"Arthur\",\"Arthur\",\"Arthur\",\"Aymeric\",\"Aymeric\",\"Aymeric\",\"L\\u00e9o\",\"L\\u00e9o\",\"L\\u00e9o\",\"Arthur\",\"Arthur\",\"Arthur\",\"Aymeric\",\"Aymeric\",\"Aymeric\",\"L\\u00e9o\",\"L\\u00e9o\",\"L\\u00e9o\",\"Arthur\",\"Arthur\",\"Arthur\",\"Aymeric\",\"Aymeric\",\"Aymeric\",\"L\\u00e9o\",\"L\\u00e9o\",\"L\\u00e9o\",\"Arthur\",\"Arthur\",\"Arthur\",\"Aymeric\",\"Aymeric\",\"Aymeric\",\"L\\u00e9o\",\"L\\u00e9o\",\"L\\u00e9o\",\"Arthur\",\"Arthur\",\"Arthur\",\"Aymeric\",\"Aymeric\",\"Aymeric\",\"L\\u00e9o\",\"L\\u00e9o\",\"L\\u00e9o\",\"Arthur\",\"Arthur\",\"Arthur\",\"Aymeric\",\"Aymeric\",\"Aymeric\",\"L\\u00e9o\",\"L\\u00e9o\",\"L\\u00e9o\",\"Arthur\",\"Arthur\",\"Arthur\",\"Aymeric\",\"Aymeric\",\"Aymeric\",\"Conrad\",\"Conrad\",\"Conrad\",\"Arthur\",\"Arthur\",\"Arthur\",\"Aymeric\",\"Aymeric\",\"Aymeric\",\"Conrad\",\"Conrad\",\"Conrad\",\"Arthur\",\"Arthur\",\"Arthur\",\"Aymeric\",\"Aymeric\",\"Aymeric\",\"Conrad\",\"Conrad\",\"Conrad\",\"Arthur\",\"Arthur\",\"Arthur\",\"Aymeric\",\"Aymeric\",\"Aymeric\",\"Conrad\",\"Conrad\",\"Conrad\",\"Arthur\",\"Arthur\",\"Arthur\",\"Aymeric\",\"Aymeric\",\"Aymeric\",\"Conrad\",\"Conrad\",\"Conrad\",\"Arthur\",\"Arthur\",\"Arthur\",\"Aymeric\",\"Aymeric\",\"Aymeric\",\"Conrad\",\"Conrad\",\"Conrad\",\"Arthur\",\"Arthur\",\"Arthur\",\"Aymeric\",\"Aymeric\",\"Aymeric\",\"Conrad\",\"Conrad\",\"Conrad\",\"Arthur\",\"Arthur\",\"Arthur\",\"Aymeric\",\"Aymeric\",\"Aymeric\",\"Conrad\",\"Conrad\",\"Conrad\",\"Arthur\",\"Arthur\",\"Arthur\",\"Aymeric\",\"Aymeric\",\"Aymeric\",\"Conrad\",\"Conrad\",\"Conrad\",\"Arthur\",\"Arthur\",\"Arthur\",\"L\\u00e9o\",\"L\\u00e9o\",\"L\\u00e9o\",\"Conrad\",\"Conrad\",\"Conrad\",\"Arthur\",\"Arthur\",\"Arthur\",\"L\\u00e9o\",\"L\\u00e9o\",\"L\\u00e9o\",\"Conrad\",\"Conrad\",\"Conrad\",\"Arthur\",\"Arthur\",\"Arthur\",\"L\\u00e9o\",\"L\\u00e9o\",\"L\\u00e9o\",\"Conrad\",\"Conrad\",\"Conrad\",\"Arthur\",\"Arthur\",\"Arthur\",\"L\\u00e9o\",\"L\\u00e9o\",\"L\\u00e9o\",\"Conrad\",\"Conrad\",\"Conrad\",\"Arthur\",\"Arthur\",\"Arthur\",\"L\\u00e9o\",\"L\\u00e9o\",\"L\\u00e9o\",\"Conrad\",\"Conrad\",\"Conrad\",\"Arthur\",\"Arthur\",\"Arthur\",\"L\\u00e9o\",\"L\\u00e9o\",\"L\\u00e9o\",\"Conrad\",\"Conrad\",\"Conrad\",\"Arthur\",\"Arthur\",\"Arthur\",\"L\\u00e9o\",\"L\\u00e9o\",\"L\\u00e9o\",\"Conrad\",\"Conrad\",\"Conrad\",\"Arthur\",\"Arthur\",\"Arthur\",\"L\\u00e9o\",\"L\\u00e9o\",\"L\\u00e9o\",\"Conrad\",\"Conrad\",\"Conrad\",\"Arthur\",\"Arthur\",\"Arthur\"],\"yaxis\":\"y\",\"ybingroup\":\"y\",\"z\":[0.9,0.3,0.0,1.0,0.5,0.0,1.0,0.6,0.0,0.95,0.6,0.0,1.0,0.3,0.0,1.0,0.6,0.0,0.95,0.65,0.1,0.7,0.0,0.1,1.0,0.4,0.0,0.7,0.3,0.0,0.9,0.5,0.0,0.9,0.3,0.0,0.7,0.2,0.1,1.0,0.4,0.0,1.0,0.8,0.0,0.75,0.5,0.05,0.9,0.2,0.5,1.0,0.6,0.0,0.4,0.6,0.0,1.0,0.3,0.0,1.0,0.7,0.3,0.95,0.6,0.2,0.9,0.4,0.1,1.0,0.6,0.1,0.9,0.75,0.3,0.88,0.3,0.05,1.0,0.8,0.0,1.0,1.0,0.4,0.95,0.6,0.1,1.0,0.8,0.4,1.0,0.8,0.2,0.92,0.7,0.6,0.9,0.2,0.0,0.9,0.9,0.1,0.98,0.65,0.2,0.9,0.9,0.5,0.9,0.8,0.1,0.9,0.75,0.55,0.9,0.8,0.2,1.0,1.0,0.2,0.7,0.7,0.3,1.0,0.4,0.2,1.0,0.9,0.1,0.88,0.66,0.05,0.9,0.8,0.2,1.0,0.4,0.05,0.93,0.63,0.0,1.0,0.6,0.1,1.0,0.9,0.1,0.93,0.75,0.0,1.0,0.7,0.0,1.0,0.8,0.0,0.96,0.75,0.0,1.0,0.9,0.0,0.9,0.9,0.0,0.9,0.5,0.05,1.0,0.8,0.1,0.9,0.9,0.1,0.95,0.75,0.1,0.9,0.5,0.0,0.9,0.8,0.0,0.75,0.5,0.0,1.0,0.7,0.0,0.9,1.0,0.0,0.97,0.8,0.0,1.0,0.8,0.0,1.0,0.7,0.0,0.88,0.6,0.0,1.0,0.6,0.0,1.0,1.0,0.15,0.97,0.75,0.05,1.0,0.9,0.0,1.0,0.9,0.0,0.95,0.75,0.0,1.0,0.8,0.0,1.0,0.1,0.0,1.0,0.8,0.0,1.0,0.4,0.0,0.7,0.8,0.05,0.9,0.3,0.0,1.0,0.5,0.0,0.9,0.2,0.1,1.0,0.6,0.0,1.0,0.7,0.0,1.0,0.1,0.0,1.0,0.7,0.3,1.0,0.7,0.1,1.0,0.8,0.3,0.9,0.6,0.1,1.0,0.8,0.0,1.0,0.5,0.0,1.0,0.7,0.1,1.0,0.4,0.0,1.0,1.0,0.0,0.8,0.4,0.0,1.0,0.8,0.5,1.0,0.2,0.0,0.9,0.6,0.0,1.0,0.9,0.0,0.9,0.7,0.0],\"type\":\"histogram2d\"}],                        {\"template\":{\"data\":{\"bar\":[{\"error_x\":{\"color\":\"#2a3f5f\"},\"error_y\":{\"color\":\"#2a3f5f\"},\"marker\":{\"line\":{\"color\":\"#E5ECF6\",\"width\":0.5},\"pattern\":{\"fillmode\":\"overlay\",\"size\":10,\"solidity\":0.2}},\"type\":\"bar\"}],\"barpolar\":[{\"marker\":{\"line\":{\"color\":\"#E5ECF6\",\"width\":0.5},\"pattern\":{\"fillmode\":\"overlay\",\"size\":10,\"solidity\":0.2}},\"type\":\"barpolar\"}],\"carpet\":[{\"aaxis\":{\"endlinecolor\":\"#2a3f5f\",\"gridcolor\":\"white\",\"linecolor\":\"white\",\"minorgridcolor\":\"white\",\"startlinecolor\":\"#2a3f5f\"},\"baxis\":{\"endlinecolor\":\"#2a3f5f\",\"gridcolor\":\"white\",\"linecolor\":\"white\",\"minorgridcolor\":\"white\",\"startlinecolor\":\"#2a3f5f\"},\"type\":\"carpet\"}],\"choropleth\":[{\"colorbar\":{\"outlinewidth\":0,\"ticks\":\"\"},\"type\":\"choropleth\"}],\"contour\":[{\"colorbar\":{\"outlinewidth\":0,\"ticks\":\"\"},\"colorscale\":[[0.0,\"#0d0887\"],[0.1111111111111111,\"#46039f\"],[0.2222222222222222,\"#7201a8\"],[0.3333333333333333,\"#9c179e\"],[0.4444444444444444,\"#bd3786\"],[0.5555555555555556,\"#d8576b\"],[0.6666666666666666,\"#ed7953\"],[0.7777777777777778,\"#fb9f3a\"],[0.8888888888888888,\"#fdca26\"],[1.0,\"#f0f921\"]],\"type\":\"contour\"}],\"contourcarpet\":[{\"colorbar\":{\"outlinewidth\":0,\"ticks\":\"\"},\"type\":\"contourcarpet\"}],\"heatmap\":[{\"colorbar\":{\"outlinewidth\":0,\"ticks\":\"\"},\"colorscale\":[[0.0,\"#0d0887\"],[0.1111111111111111,\"#46039f\"],[0.2222222222222222,\"#7201a8\"],[0.3333333333333333,\"#9c179e\"],[0.4444444444444444,\"#bd3786\"],[0.5555555555555556,\"#d8576b\"],[0.6666666666666666,\"#ed7953\"],[0.7777777777777778,\"#fb9f3a\"],[0.8888888888888888,\"#fdca26\"],[1.0,\"#f0f921\"]],\"type\":\"heatmap\"}],\"heatmapgl\":[{\"colorbar\":{\"outlinewidth\":0,\"ticks\":\"\"},\"colorscale\":[[0.0,\"#0d0887\"],[0.1111111111111111,\"#46039f\"],[0.2222222222222222,\"#7201a8\"],[0.3333333333333333,\"#9c179e\"],[0.4444444444444444,\"#bd3786\"],[0.5555555555555556,\"#d8576b\"],[0.6666666666666666,\"#ed7953\"],[0.7777777777777778,\"#fb9f3a\"],[0.8888888888888888,\"#fdca26\"],[1.0,\"#f0f921\"]],\"type\":\"heatmapgl\"}],\"histogram\":[{\"marker\":{\"pattern\":{\"fillmode\":\"overlay\",\"size\":10,\"solidity\":0.2}},\"type\":\"histogram\"}],\"histogram2d\":[{\"colorbar\":{\"outlinewidth\":0,\"ticks\":\"\"},\"colorscale\":[[0.0,\"#0d0887\"],[0.1111111111111111,\"#46039f\"],[0.2222222222222222,\"#7201a8\"],[0.3333333333333333,\"#9c179e\"],[0.4444444444444444,\"#bd3786\"],[0.5555555555555556,\"#d8576b\"],[0.6666666666666666,\"#ed7953\"],[0.7777777777777778,\"#fb9f3a\"],[0.8888888888888888,\"#fdca26\"],[1.0,\"#f0f921\"]],\"type\":\"histogram2d\"}],\"histogram2dcontour\":[{\"colorbar\":{\"outlinewidth\":0,\"ticks\":\"\"},\"colorscale\":[[0.0,\"#0d0887\"],[0.1111111111111111,\"#46039f\"],[0.2222222222222222,\"#7201a8\"],[0.3333333333333333,\"#9c179e\"],[0.4444444444444444,\"#bd3786\"],[0.5555555555555556,\"#d8576b\"],[0.6666666666666666,\"#ed7953\"],[0.7777777777777778,\"#fb9f3a\"],[0.8888888888888888,\"#fdca26\"],[1.0,\"#f0f921\"]],\"type\":\"histogram2dcontour\"}],\"mesh3d\":[{\"colorbar\":{\"outlinewidth\":0,\"ticks\":\"\"},\"type\":\"mesh3d\"}],\"parcoords\":[{\"line\":{\"colorbar\":{\"outlinewidth\":0,\"ticks\":\"\"}},\"type\":\"parcoords\"}],\"pie\":[{\"automargin\":true,\"type\":\"pie\"}],\"scatter\":[{\"marker\":{\"colorbar\":{\"outlinewidth\":0,\"ticks\":\"\"}},\"type\":\"scatter\"}],\"scatter3d\":[{\"line\":{\"colorbar\":{\"outlinewidth\":0,\"ticks\":\"\"}},\"marker\":{\"colorbar\":{\"outlinewidth\":0,\"ticks\":\"\"}},\"type\":\"scatter3d\"}],\"scattercarpet\":[{\"marker\":{\"colorbar\":{\"outlinewidth\":0,\"ticks\":\"\"}},\"type\":\"scattercarpet\"}],\"scattergeo\":[{\"marker\":{\"colorbar\":{\"outlinewidth\":0,\"ticks\":\"\"}},\"type\":\"scattergeo\"}],\"scattergl\":[{\"marker\":{\"colorbar\":{\"outlinewidth\":0,\"ticks\":\"\"}},\"type\":\"scattergl\"}],\"scattermapbox\":[{\"marker\":{\"colorbar\":{\"outlinewidth\":0,\"ticks\":\"\"}},\"type\":\"scattermapbox\"}],\"scatterpolar\":[{\"marker\":{\"colorbar\":{\"outlinewidth\":0,\"ticks\":\"\"}},\"type\":\"scatterpolar\"}],\"scatterpolargl\":[{\"marker\":{\"colorbar\":{\"outlinewidth\":0,\"ticks\":\"\"}},\"type\":\"scatterpolargl\"}],\"scatterternary\":[{\"marker\":{\"colorbar\":{\"outlinewidth\":0,\"ticks\":\"\"}},\"type\":\"scatterternary\"}],\"surface\":[{\"colorbar\":{\"outlinewidth\":0,\"ticks\":\"\"},\"colorscale\":[[0.0,\"#0d0887\"],[0.1111111111111111,\"#46039f\"],[0.2222222222222222,\"#7201a8\"],[0.3333333333333333,\"#9c179e\"],[0.4444444444444444,\"#bd3786\"],[0.5555555555555556,\"#d8576b\"],[0.6666666666666666,\"#ed7953\"],[0.7777777777777778,\"#fb9f3a\"],[0.8888888888888888,\"#fdca26\"],[1.0,\"#f0f921\"]],\"type\":\"surface\"}],\"table\":[{\"cells\":{\"fill\":{\"color\":\"#EBF0F8\"},\"line\":{\"color\":\"white\"}},\"header\":{\"fill\":{\"color\":\"#C8D4E3\"},\"line\":{\"color\":\"white\"}},\"type\":\"table\"}]},\"layout\":{\"annotationdefaults\":{\"arrowcolor\":\"#2a3f5f\",\"arrowhead\":0,\"arrowwidth\":1},\"autotypenumbers\":\"strict\",\"coloraxis\":{\"colorbar\":{\"outlinewidth\":0,\"ticks\":\"\"}},\"colorscale\":{\"diverging\":[[0,\"#8e0152\"],[0.1,\"#c51b7d\"],[0.2,\"#de77ae\"],[0.3,\"#f1b6da\"],[0.4,\"#fde0ef\"],[0.5,\"#f7f7f7\"],[0.6,\"#e6f5d0\"],[0.7,\"#b8e186\"],[0.8,\"#7fbc41\"],[0.9,\"#4d9221\"],[1,\"#276419\"]],\"sequential\":[[0.0,\"#0d0887\"],[0.1111111111111111,\"#46039f\"],[0.2222222222222222,\"#7201a8\"],[0.3333333333333333,\"#9c179e\"],[0.4444444444444444,\"#bd3786\"],[0.5555555555555556,\"#d8576b\"],[0.6666666666666666,\"#ed7953\"],[0.7777777777777778,\"#fb9f3a\"],[0.8888888888888888,\"#fdca26\"],[1.0,\"#f0f921\"]],\"sequentialminus\":[[0.0,\"#0d0887\"],[0.1111111111111111,\"#46039f\"],[0.2222222222222222,\"#7201a8\"],[0.3333333333333333,\"#9c179e\"],[0.4444444444444444,\"#bd3786\"],[0.5555555555555556,\"#d8576b\"],[0.6666666666666666,\"#ed7953\"],[0.7777777777777778,\"#fb9f3a\"],[0.8888888888888888,\"#fdca26\"],[1.0,\"#f0f921\"]]},\"colorway\":[\"#636efa\",\"#EF553B\",\"#00cc96\",\"#ab63fa\",\"#FFA15A\",\"#19d3f3\",\"#FF6692\",\"#B6E880\",\"#FF97FF\",\"#FECB52\"],\"font\":{\"color\":\"#2a3f5f\"},\"geo\":{\"bgcolor\":\"white\",\"lakecolor\":\"white\",\"landcolor\":\"#E5ECF6\",\"showlakes\":true,\"showland\":true,\"subunitcolor\":\"white\"},\"hoverlabel\":{\"align\":\"left\"},\"hovermode\":\"closest\",\"mapbox\":{\"style\":\"light\"},\"paper_bgcolor\":\"white\",\"plot_bgcolor\":\"#E5ECF6\",\"polar\":{\"angularaxis\":{\"gridcolor\":\"white\",\"linecolor\":\"white\",\"ticks\":\"\"},\"bgcolor\":\"#E5ECF6\",\"radialaxis\":{\"gridcolor\":\"white\",\"linecolor\":\"white\",\"ticks\":\"\"}},\"scene\":{\"xaxis\":{\"backgroundcolor\":\"#E5ECF6\",\"gridcolor\":\"white\",\"gridwidth\":2,\"linecolor\":\"white\",\"showbackground\":true,\"ticks\":\"\",\"zerolinecolor\":\"white\"},\"yaxis\":{\"backgroundcolor\":\"#E5ECF6\",\"gridcolor\":\"white\",\"gridwidth\":2,\"linecolor\":\"white\",\"showbackground\":true,\"ticks\":\"\",\"zerolinecolor\":\"white\"},\"zaxis\":{\"backgroundcolor\":\"#E5ECF6\",\"gridcolor\":\"white\",\"gridwidth\":2,\"linecolor\":\"white\",\"showbackground\":true,\"ticks\":\"\",\"zerolinecolor\":\"white\"}},\"shapedefaults\":{\"line\":{\"color\":\"#2a3f5f\"}},\"ternary\":{\"aaxis\":{\"gridcolor\":\"white\",\"linecolor\":\"white\",\"ticks\":\"\"},\"baxis\":{\"gridcolor\":\"white\",\"linecolor\":\"white\",\"ticks\":\"\"},\"bgcolor\":\"#E5ECF6\",\"caxis\":{\"gridcolor\":\"white\",\"linecolor\":\"white\",\"ticks\":\"\"}},\"title\":{\"x\":0.05},\"xaxis\":{\"automargin\":true,\"gridcolor\":\"white\",\"linecolor\":\"white\",\"ticks\":\"\",\"title\":{\"standoff\":15},\"zerolinecolor\":\"white\",\"zerolinewidth\":2},\"yaxis\":{\"automargin\":true,\"gridcolor\":\"white\",\"linecolor\":\"white\",\"ticks\":\"\",\"title\":{\"standoff\":15},\"zerolinecolor\":\"white\",\"zerolinewidth\":2}}},\"xaxis\":{\"anchor\":\"y\",\"domain\":[0.0,1.0],\"title\":{\"text\":\"captionist\"}},\"yaxis\":{\"anchor\":\"x\",\"domain\":[0.0,1.0],\"title\":{\"text\":\"assessor\"}},\"coloraxis\":{\"colorbar\":{\"title\":{\"text\":\"avg of grade\"}},\"colorscale\":[[0.0,\"#0d0887\"],[0.1111111111111111,\"#46039f\"],[0.2222222222222222,\"#7201a8\"],[0.3333333333333333,\"#9c179e\"],[0.4444444444444444,\"#bd3786\"],[0.5555555555555556,\"#d8576b\"],[0.6666666666666666,\"#ed7953\"],[0.7777777777777778,\"#fb9f3a\"],[0.8888888888888888,\"#fdca26\"],[1.0,\"#f0f921\"]]},\"legend\":{\"tracegroupgap\":0},\"margin\":{\"t\":60}},                        {\"responsive\": true}                    ).then(function(){\n                            \nvar gd = document.getElementById('9a960fc4-55c0-4a89-81ee-c9cb6e688aff');\nvar x = new MutationObserver(function (mutations, observer) {{\n        var display = window.getComputedStyle(gd).display;\n        if (!display || display === 'none') {{\n            console.log([gd, 'removed!']);\n            Plotly.purge(gd);\n            observer.disconnect();\n        }}\n}});\n\n// Listen for the removal of the full notebook cells\nvar notebookContainer = gd.closest('#notebook-container');\nif (notebookContainer) {{\n    x.observe(notebookContainer, {childList: true});\n}}\n\n// Listen for the clearing of the current output cell\nvar outputEl = gd.closest('.output');\nif (outputEl) {{\n    x.observe(outputEl, {childList: true});\n}}\n\n                        })                };                            </script>        </div>\n</body>\n</html>"
     },
     "metadata": {},
     "output_type": "display_data"
    }
   ],
   "execution_count": null
  },
  {
   "cell_type": "markdown",
   "source": "## Notation des images par CLIP\n\nOn donne chaque image à CLIP pour la comparer aux notes données par les évaluateurs humains.",
   "metadata": {
    "tags": [],
    "cell_id": "00011-eee7f6c3-3eed-442e-83a5-f7dd816e8694",
    "deepnote_cell_type": "markdown"
   }
  },
  {
   "cell_type": "code",
   "metadata": {
    "tags": [],
    "cell_id": "00012-aaf861d9-ea62-4c9f-a34a-786617652594",
    "deepnote_to_be_reexecuted": false,
    "source_hash": "583759b2",
    "execution_start": 1639164268753,
    "execution_millis": 315,
    "deepnote_cell_type": "code"
   },
   "source": "import pandas as pd\n\ncoco_ratings_300_df = pd.read_csv('data/2-coco_df-id-url-captionnist-assessor-grade.csv')",
   "outputs": [],
   "execution_count": null
  },
  {
   "cell_type": "code",
   "metadata": {
    "tags": [],
    "cell_id": "00014-1be16914-94ee-47b6-911b-b3999830bce9",
    "deepnote_to_be_reexecuted": false,
    "source_hash": "a34bf7d8",
    "execution_start": 1639164465980,
    "execution_millis": 2,
    "deepnote_cell_type": "code"
   },
   "source": "# reshaping the captions in a 100x3 table\n\ncaptions_only = coco_ratings_300_df[['caption', 'id']].assign(rank = [1,2,3]*100)\ncaptions_only = captions_only.pivot(values='caption',  index='id', columns='rank')",
   "outputs": [],
   "execution_count": null
  },
  {
   "cell_type": "code",
   "metadata": {
    "tags": [],
    "cell_id": "00014-ca42f8e5-1120-4bd9-96e8-3f02109630cb",
    "deepnote_to_be_reexecuted": false,
    "source_hash": "ff62cb2f",
    "execution_start": 1639164814966,
    "execution_millis": 10287,
    "deepnote_cell_type": "code"
   },
   "source": "import torch\nimport clip\nfrom PIL import Image\n\ncoco_clip_ratings_300_df = coco_ratings_300_df.copy()\n\nverbose = 0\ndevice = \"cuda\" if torch.cuda.is_available() else \"cpu\"\nmodel, preprocess = clip.load(\"ViT-B/32\", device=device)\n\nfor image_id, three_captions in captions_only.iterrows() :\n    \n    image_path = coco_ratings_300_df.loc[coco_ratings_300_df['id']==image_id, 'filepath']\n    image_path = image_path.to_numpy()[0] # normally three lines correspond to one id\n    \n    if verbose >= 1:\n        print( \"Image path: \")\n        print( image_path )\n\n    image = Image.open(image_path)\n    image = preprocess(image).unsqueeze(0).to(device)\n    text = clip.tokenize( three_captions.to_numpy() ).to(device)\n\n    with torch.no_grad():\n        image_features = model.encode_image(image)\n        text_features  = model.encode_text(text)\n        \n        logits_per_image, logits_per_text = model(image, text)\n        probs = logits_per_image.softmax(dim = -1).numpy().flatten()\n\n    if verbose >= 1:\n        print( \"Probs: \")\n        print( probs )\n\n    # grades are given three by three\n    coco_clip_ratings_300_df.loc[coco_ratings_300_df['id']==image_id, 'clip_grade'] = probs\n\ncoco_clip_ratings_300_df.to_csv(\"data/3-coco_df-clip-grades.csv\", index=False)",
   "outputs": [
    {
     "output_type": "error",
     "ename": "KernelInterrupted",
     "evalue": "Execution interrupted by the Jupyter kernel.",
     "traceback": [
      "\u001b[0;31m---------------------------------------------------------------------------\u001b[0m",
      "\u001b[0;31mKernelInterrupted\u001b[0m: Execution interrupted by the Jupyter kernel."
     ]
    }
   ],
   "execution_count": null
  },
  {
   "cell_type": "markdown",
   "source": "## Analyses descriptives",
   "metadata": {
    "tags": [],
    "cell_id": "00015-fc9c0ec0-7d15-475c-a0b6-5dba2c847b6a",
    "deepnote_cell_type": "markdown"
   }
  },
  {
   "cell_type": "code",
   "metadata": {
    "tags": [],
    "cell_id": "00016-2cc0b729-b55f-4f9f-a23f-937ab5ca9dee",
    "deepnote_to_be_reexecuted": false,
    "source_hash": "77a38bcd",
    "execution_start": 1639164858932,
    "execution_millis": 7,
    "deepnote_cell_type": "code"
   },
   "source": "import pandas as pd\n\ncoco_clip_ratings_300_df = pd.read_csv(\"data/3-coco_df-clip-grades.csv\")",
   "outputs": [],
   "execution_count": null
  },
  {
   "cell_type": "code",
   "metadata": {
    "tags": [],
    "cell_id": "00017-49889925-ce2b-4ee4-958b-27851d41d30a",
    "deepnote_to_be_reexecuted": false,
    "source_hash": "8ec63bac",
    "execution_start": 1639164870133,
    "execution_millis": 66,
    "deepnote_cell_type": "code"
   },
   "source": "coco_clip_ratings_300_df",
   "outputs": [
    {
     "output_type": "execute_result",
     "execution_count": 2,
     "data": {
      "application/vnd.deepnote.dataframe.v2+json": {
       "row_count": 300,
       "column_count": 8,
       "columns": [
        {
         "name": "url",
         "dtype": "object",
         "stats": {
          "unique_count": 100,
          "nan_count": 0,
          "categories": [
           {
            "name": "http://cocodataset.org/#explore?id=393274",
            "count": 3
           },
           {
            "name": "http://cocodataset.org/#explore?id=427123",
            "count": 3
           },
           {
            "name": "98 others",
            "count": 294
           }
          ]
         }
        },
        {
         "name": "captionist",
         "dtype": "object",
         "stats": {
          "unique_count": 5,
          "nan_count": 0,
          "categories": [
           {
            "name": "COCO",
            "count": 100
           },
           {
            "name": "Aymeric",
            "count": 52
           },
           {
            "name": "3 others",
            "count": 148
           }
          ]
         }
        },
        {
         "name": "assessor",
         "dtype": "object",
         "stats": {
          "unique_count": 4,
          "nan_count": 0,
          "categories": [
           {
            "name": "Arthur",
            "count": 78
           },
           {
            "name": "Aymeric",
            "count": 75
           },
           {
            "name": "2 others",
            "count": 147
           }
          ]
         }
        },
        {
         "name": "caption",
         "dtype": "object",
         "stats": {
          "unique_count": 299,
          "nan_count": 0,
          "categories": [
           {
            "name": "a traffic light with a green signal next to tall buildings",
            "count": 2
           },
           {
            "name": "a yellow and white train traveling past a train station",
            "count": 1
           },
           {
            "name": "297 others",
            "count": 297
           }
          ]
         }
        },
        {
         "name": "grade",
         "dtype": "float64",
         "stats": {
          "unique_count": 25,
          "nan_count": 0,
          "min": "0.0",
          "max": "1.0",
          "histogram": [
           {
            "bin_start": 0,
            "bin_end": 0.1,
            "count": 63
           },
           {
            "bin_start": 0.1,
            "bin_end": 0.2,
            "count": 21
           },
           {
            "bin_start": 0.2,
            "bin_end": 0.30000000000000004,
            "count": 24
           },
           {
            "bin_start": 0.30000000000000004,
            "bin_end": 0.4,
            "count": 0
           },
           {
            "bin_start": 0.4,
            "bin_end": 0.5,
            "count": 11
           },
           {
            "bin_start": 0.5,
            "bin_end": 0.6000000000000001,
            "count": 27
           },
           {
            "bin_start": 0.6000000000000001,
            "bin_end": 0.7000000000000001,
            "count": 20
           },
           {
            "bin_start": 0.7000000000000001,
            "bin_end": 0.8,
            "count": 9
           },
           {
            "bin_start": 0.8,
            "bin_end": 0.9,
            "count": 22
           },
           {
            "bin_start": 0.9,
            "bin_end": 1,
            "count": 103
           }
          ]
         }
        },
        {
         "name": "id",
         "dtype": "int64",
         "stats": {
          "unique_count": 100,
          "nan_count": 0,
          "min": "4130",
          "max": "575331",
          "histogram": [
           {
            "bin_start": 4130,
            "bin_end": 61250.1,
            "count": 39
           },
           {
            "bin_start": 61250.1,
            "bin_end": 118370.2,
            "count": 27
           },
           {
            "bin_start": 118370.2,
            "bin_end": 175490.3,
            "count": 24
           },
           {
            "bin_start": 175490.3,
            "bin_end": 232610.4,
            "count": 24
           },
           {
            "bin_start": 232610.4,
            "bin_end": 289730.5,
            "count": 24
           },
           {
            "bin_start": 289730.5,
            "bin_end": 346850.6,
            "count": 36
           },
           {
            "bin_start": 346850.6,
            "bin_end": 403970.7,
            "count": 18
           },
           {
            "bin_start": 403970.7,
            "bin_end": 461090.8,
            "count": 48
           },
           {
            "bin_start": 461090.8,
            "bin_end": 518210.89999999997,
            "count": 33
           },
           {
            "bin_start": 518210.89999999997,
            "bin_end": 575331,
            "count": 27
           }
          ]
         }
        },
        {
         "name": "filepath",
         "dtype": "object",
         "stats": {
          "unique_count": 100,
          "nan_count": 0,
          "categories": [
           {
            "name": "/root/fiftyone/coco-2017/train/data/000000393274.jpg",
            "count": 3
           },
           {
            "name": "/root/fiftyone/coco-2017/train/data/000000427123.jpg",
            "count": 3
           },
           {
            "name": "98 others",
            "count": 294
           }
          ]
         }
        },
        {
         "name": "clip_grade",
         "dtype": "float64",
         "stats": {
          "unique_count": 300,
          "nan_count": 0,
          "min": "5.194306356565148e-12",
          "max": "0.9999979734420776",
          "histogram": [
           {
            "bin_start": 5.194306356565148e-12,
            "bin_end": 0.09999979734888263,
            "count": 165
           },
           {
            "bin_start": 0.09999979734888263,
            "bin_end": 0.19999959469257098,
            "count": 11
           },
           {
            "bin_start": 0.19999959469257098,
            "bin_end": 0.29999939203625925,
            "count": 11
           },
           {
            "bin_start": 0.29999939203625925,
            "bin_end": 0.3999991893799476,
            "count": 7
           },
           {
            "bin_start": 0.3999991893799476,
            "bin_end": 0.49999898672363596,
            "count": 6
           },
           {
            "bin_start": 0.49999898672363596,
            "bin_end": 0.5999987840673242,
            "count": 6
           },
           {
            "bin_start": 0.5999987840673242,
            "bin_end": 0.6999985814110126,
            "count": 7
           },
           {
            "bin_start": 0.6999985814110126,
            "bin_end": 0.7999983787547009,
            "count": 13
           },
           {
            "bin_start": 0.7999983787547009,
            "bin_end": 0.8999981760983893,
            "count": 9
           },
           {
            "bin_start": 0.8999981760983893,
            "bin_end": 0.9999979734420776,
            "count": 65
           }
          ]
         }
        },
        {
         "name": "_deepnote_index_column",
         "dtype": "int64"
        }
       ],
       "rows_top": [
        {
         "url": "http://cocodataset.org/#explore?id=393274",
         "captionist": "COCO",
         "assessor": "Aymeric",
         "caption": "a yellow and white train traveling past a train station",
         "grade": 0.9,
         "id": 393274,
         "filepath": "/root/fiftyone/coco-2017/train/data/000000393274.jpg",
         "clip_grade": 0.7304041385650635,
         "_deepnote_index_column": 0
        },
        {
         "url": "http://cocodataset.org/#explore?id=393274",
         "captionist": "Arthur",
         "assessor": "Aymeric",
         "caption": "several trains parked in a train station",
         "grade": 0.3,
         "id": 393274,
         "filepath": "/root/fiftyone/coco-2017/train/data/000000393274.jpg",
         "clip_grade": 0.2695841491222381,
         "_deepnote_index_column": 1
        },
        {
         "url": "http://cocodataset.org/#explore?id=393274",
         "captionist": "Arthur",
         "assessor": "Aymeric",
         "caption": "a river with people nearby",
         "grade": 0,
         "id": 393274,
         "filepath": "/root/fiftyone/coco-2017/train/data/000000393274.jpg",
         "clip_grade": 0.00001171631538454676,
         "_deepnote_index_column": 2
        },
        {
         "url": "http://cocodataset.org/#explore?id=427123",
         "captionist": "COCO",
         "assessor": "Léo",
         "caption": "three people in formal military uniforms, two are wearing medals around their necks",
         "grade": 1,
         "id": 427123,
         "filepath": "/root/fiftyone/coco-2017/train/data/000000427123.jpg",
         "clip_grade": 0.999040424823761,
         "_deepnote_index_column": 3
        },
        {
         "url": "http://cocodataset.org/#explore?id=427123",
         "captionist": "Arthur",
         "assessor": "Léo",
         "caption": "smiling researchers receiving the Nobel prize",
         "grade": 0.5,
         "id": 427123,
         "filepath": "/root/fiftyone/coco-2017/train/data/000000427123.jpg",
         "clip_grade": 0.000926375738345,
         "_deepnote_index_column": 4
        },
        {
         "url": "http://cocodataset.org/#explore?id=427123",
         "captionist": "Arthur",
         "assessor": "Léo",
         "caption": "three donkeys in a dark room",
         "grade": 0,
         "id": 427123,
         "filepath": "/root/fiftyone/coco-2017/train/data/000000427123.jpg",
         "clip_grade": 0.000033188618544954807,
         "_deepnote_index_column": 5
        },
        {
         "url": "http://cocodataset.org/#explore?id=405324",
         "captionist": "COCO",
         "assessor": "Conrad",
         "caption": "the girl has a plate with a sandwich on it",
         "grade": 1,
         "id": 405324,
         "filepath": "/root/fiftyone/coco-2017/train/data/000000405324.jpg",
         "clip_grade": 0.99873286485672,
         "_deepnote_index_column": 6
        },
        {
         "url": "http://cocodataset.org/#explore?id=405324",
         "captionist": "Arthur",
         "assessor": "Conrad",
         "caption": "a fancy dinner downtown",
         "grade": 0.6,
         "id": 405324,
         "filepath": "/root/fiftyone/coco-2017/train/data/000000405324.jpg",
         "clip_grade": 0.0012116107391193,
         "_deepnote_index_column": 7
        },
        {
         "url": "http://cocodataset.org/#explore?id=405324",
         "captionist": "Arthur",
         "assessor": "Conrad",
         "caption": "his empty plate causes the baby to cry",
         "grade": 0,
         "id": 405324,
         "filepath": "/root/fiftyone/coco-2017/train/data/000000405324.jpg",
         "clip_grade": 0.00005553846131078899,
         "_deepnote_index_column": 8
        },
        {
         "url": "http://cocodataset.org/#explore?id=300357",
         "captionist": "COCO",
         "assessor": "Aymeric",
         "caption": "a woman in a skirt and colorful shirt kneeling down on floral fabric",
         "grade": 0.95,
         "id": 300357,
         "filepath": "/root/fiftyone/coco-2017/train/data/000000300357.jpg",
         "clip_grade": 0.924143135547638,
         "_deepnote_index_column": 9
        },
        {
         "url": "http://cocodataset.org/#explore?id=300357",
         "captionist": "Arthur",
         "assessor": "Aymeric",
         "caption": "a woman trying desperately to leave her bed",
         "grade": 0.6,
         "id": 300357,
         "filepath": "/root/fiftyone/coco-2017/train/data/000000300357.jpg",
         "clip_grade": 0.0758567005395889,
         "_deepnote_index_column": 10
        },
        {
         "url": "http://cocodataset.org/#explore?id=300357",
         "captionist": "Arthur",
         "assessor": "Aymeric",
         "caption": "two men lying in the sun, one using his dog as a kind of cushion",
         "grade": 0,
         "id": 300357,
         "filepath": "/root/fiftyone/coco-2017/train/data/000000300357.jpg",
         "clip_grade": 1.6981233841306678e-7,
         "_deepnote_index_column": 11
        },
        {
         "url": "http://cocodataset.org/#explore?id=57340",
         "captionist": "COCO",
         "assessor": "Léo",
         "caption": "there is a tower that has a american flag at the top and a clock on it",
         "grade": 1,
         "id": 57340,
         "filepath": "/root/fiftyone/coco-2017/train/data/000000057340.jpg",
         "clip_grade": 0.999755084514618,
         "_deepnote_index_column": 12
        },
        {
         "url": "http://cocodataset.org/#explore?id=57340",
         "captionist": "Arthur",
         "assessor": "Léo",
         "caption": "the night is falling over Manhattan",
         "grade": 0.3,
         "id": 57340,
         "filepath": "/root/fiftyone/coco-2017/train/data/000000057340.jpg",
         "clip_grade": 0.0002309042756678,
         "_deepnote_index_column": 13
        },
        {
         "url": "http://cocodataset.org/#explore?id=57340",
         "captionist": "Arthur",
         "assessor": "Léo",
         "caption": "sunset over the Mississipi river",
         "grade": 0,
         "id": 57340,
         "filepath": "/root/fiftyone/coco-2017/train/data/000000057340.jpg",
         "clip_grade": 0.00001408355910825776,
         "_deepnote_index_column": 14
        },
        {
         "url": "http://cocodataset.org/#explore?id=198654",
         "captionist": "COCO",
         "assessor": "Conrad",
         "caption": "there are people playing a game of baseball",
         "grade": 1,
         "id": 198654,
         "filepath": "/root/fiftyone/coco-2017/train/data/000000198654.jpg",
         "clip_grade": 0.667002260684967,
         "_deepnote_index_column": 15
        },
        {
         "url": "http://cocodataset.org/#explore?id=198654",
         "captionist": "Arthur",
         "assessor": "Conrad",
         "caption": "players play the game",
         "grade": 0.6,
         "id": 198654,
         "filepath": "/root/fiftyone/coco-2017/train/data/000000198654.jpg",
         "clip_grade": 0.3326966464519501,
         "_deepnote_index_column": 16
        },
        {
         "url": "http://cocodataset.org/#explore?id=198654",
         "captionist": "Arthur",
         "assessor": "Conrad",
         "caption": "dancers dancing on a Broadway show",
         "grade": 0,
         "id": 198654,
         "filepath": "/root/fiftyone/coco-2017/train/data/000000198654.jpg",
         "clip_grade": 0.0003011362859979,
         "_deepnote_index_column": 17
        },
        {
         "url": "http://cocodataset.org/#explore?id=518361",
         "captionist": "COCO",
         "assessor": "Aymeric",
         "caption": "three people standing at the zoo watching a elephant",
         "grade": 0.95,
         "id": 518361,
         "filepath": "/root/fiftyone/coco-2017/train/data/000000518361.jpg",
         "clip_grade": 0.6237627863883972,
         "_deepnote_index_column": 18
        },
        {
         "url": "http://cocodataset.org/#explore?id=518361",
         "captionist": "Arthur",
         "assessor": "Aymeric",
         "caption": "six people standing at the zoo watching two elephant",
         "grade": 0.65,
         "id": 518361,
         "filepath": "/root/fiftyone/coco-2017/train/data/000000518361.jpg",
         "clip_grade": 0.3762371838092804,
         "_deepnote_index_column": 19
        },
        {
         "url": "http://cocodataset.org/#explore?id=518361",
         "captionist": "Arthur",
         "assessor": "Aymeric",
         "caption": "nobody watching nothing",
         "grade": 0.1,
         "id": 518361,
         "filepath": "/root/fiftyone/coco-2017/train/data/000000518361.jpg",
         "clip_grade": 3.843448936891036e-8,
         "_deepnote_index_column": 20
        },
        {
         "url": "http://cocodataset.org/#explore?id=525640",
         "captionist": "COCO",
         "assessor": "Léo",
         "caption": "a banana dressed up to look like a person infront of a paper",
         "grade": 0.7,
         "id": 525640,
         "filepath": "/root/fiftyone/coco-2017/train/data/000000525640.jpg",
         "clip_grade": 0.9965531826019288,
         "_deepnote_index_column": 21
        },
        {
         "url": "http://cocodataset.org/#explore?id=525640",
         "captionist": "Arthur",
         "assessor": "Léo",
         "caption": "a man signing a contract",
         "grade": 0,
         "id": 525640,
         "filepath": "/root/fiftyone/coco-2017/train/data/000000525640.jpg",
         "clip_grade": 0.0019702070858329,
         "_deepnote_index_column": 22
        },
        {
         "url": "http://cocodataset.org/#explore?id=525640",
         "captionist": "Arthur",
         "assessor": "Léo",
         "caption": "a salad fruit in the process of making",
         "grade": 0.1,
         "id": 525640,
         "filepath": "/root/fiftyone/coco-2017/train/data/000000525640.jpg",
         "clip_grade": 0.001476630452089,
         "_deepnote_index_column": 23
        },
        {
         "url": "http://cocodataset.org/#explore?id=526347",
         "captionist": "COCO",
         "assessor": "Conrad",
         "caption": "a skateboarder on a skateboard in a skate park",
         "grade": 1,
         "id": 526347,
         "filepath": "/root/fiftyone/coco-2017/train/data/000000526347.jpg",
         "clip_grade": 0.997990608215332,
         "_deepnote_index_column": 24
        },
        {
         "url": "http://cocodataset.org/#explore?id=526347",
         "captionist": "Arthur",
         "assessor": "Conrad",
         "caption": "a young man in shorts doing sports",
         "grade": 0.4,
         "id": 526347,
         "filepath": "/root/fiftyone/coco-2017/train/data/000000526347.jpg",
         "clip_grade": 0.0020088499877601,
         "_deepnote_index_column": 25
        },
        {
         "url": "http://cocodataset.org/#explore?id=526347",
         "captionist": "Arthur",
         "assessor": "Conrad",
         "caption": "a girl running after her dog",
         "grade": 0,
         "id": 526347,
         "filepath": "/root/fiftyone/coco-2017/train/data/000000526347.jpg",
         "clip_grade": 6.322166541394836e-7,
         "_deepnote_index_column": 26
        },
        {
         "url": "http://cocodataset.org/#explore?id=4130",
         "captionist": "COCO",
         "assessor": "Aymeric",
         "caption": "a bus parked on a street in front of several buildings",
         "grade": 0.7,
         "id": 4130,
         "filepath": "/root/fiftyone/coco-2017/train/data/000000004130.jpg",
         "clip_grade": 0.9971586465835572,
         "_deepnote_index_column": 27
        },
        {
         "url": "http://cocodataset.org/#explore?id=4130",
         "captionist": "Arthur",
         "assessor": "Aymeric",
         "caption": "a busy street some days before Christmas",
         "grade": 0.3,
         "id": 4130,
         "filepath": "/root/fiftyone/coco-2017/train/data/000000004130.jpg",
         "clip_grade": 0.0028411943931132,
         "_deepnote_index_column": 28
        },
        {
         "url": "http://cocodataset.org/#explore?id=4130",
         "captionist": "Arthur",
         "assessor": "Aymeric",
         "caption": "a murder scene in a kitchen appliance shop",
         "grade": 0,
         "id": 4130,
         "filepath": "/root/fiftyone/coco-2017/train/data/000000004130.jpg",
         "clip_grade": 1.772941544686546e-7,
         "_deepnote_index_column": 29
        },
        {
         "url": "http://cocodataset.org/#explore?id=522661",
         "captionist": "COCO",
         "assessor": "Léo",
         "caption": "two people holding suitcases walking towards a greyhound bus",
         "grade": 0.9,
         "id": 522661,
         "filepath": "/root/fiftyone/coco-2017/train/data/000000522661.jpg",
         "clip_grade": 0.9335500597953796,
         "_deepnote_index_column": 30
        },
        {
         "url": "http://cocodataset.org/#explore?id=522661",
         "captionist": "Arthur",
         "assessor": "Léo",
         "caption": "a group of persons running after a departing long-distance bus",
         "grade": 0.5,
         "id": 522661,
         "filepath": "/root/fiftyone/coco-2017/train/data/000000522661.jpg",
         "clip_grade": 0.0664443597197532,
         "_deepnote_index_column": 31
        },
        {
         "url": "http://cocodataset.org/#explore?id=522661",
         "captionist": "Arthur",
         "assessor": "Léo",
         "caption": "two swimmers in bathing suits lining at the front desk",
         "grade": 0,
         "id": 522661,
         "filepath": "/root/fiftyone/coco-2017/train/data/000000522661.jpg",
         "clip_grade": 0.000005527100256585982,
         "_deepnote_index_column": 32
        },
        {
         "url": "http://cocodataset.org/#explore?id=310526",
         "captionist": "COCO",
         "assessor": "Conrad",
         "caption": "a traffic light with a green signal next to tall buildings",
         "grade": 0.9,
         "id": 310526,
         "filepath": "/root/fiftyone/coco-2017/train/data/000000310526.jpg",
         "clip_grade": 0.9999392032623292,
         "_deepnote_index_column": 33
        },
        {
         "url": "http://cocodataset.org/#explore?id=310526",
         "captionist": "Arthur",
         "assessor": "Conrad",
         "caption": "a red traffic light in the country side",
         "grade": 0.3,
         "id": 310526,
         "filepath": "/root/fiftyone/coco-2017/train/data/000000310526.jpg",
         "clip_grade": 0.00006082302206777968,
         "_deepnote_index_column": 34
        },
        {
         "url": "http://cocodataset.org/#explore?id=310526",
         "captionist": "Arthur",
         "assessor": "Conrad",
         "caption": "a male swan on a lake is courtshipping a female swan",
         "grade": 0,
         "id": 310526,
         "filepath": "/root/fiftyone/coco-2017/train/data/000000310526.jpg",
         "clip_grade": 2.541701016323117e-10,
         "_deepnote_index_column": 35
        },
        {
         "url": "http://cocodataset.org/#explore?id=497591",
         "captionist": "COCO",
         "assessor": "Aymeric",
         "caption": "a small child is sitting on a bench outside",
         "grade": 0.7,
         "id": 497591,
         "filepath": "/root/fiftyone/coco-2017/train/data/000000497591.jpg",
         "clip_grade": 0.7360213994979858,
         "_deepnote_index_column": 36
        },
        {
         "url": "http://cocodataset.org/#explore?id=497591",
         "captionist": "Arthur",
         "assessor": "Aymeric",
         "caption": "a child waiting for his parents to finish shopping",
         "grade": 0.2,
         "id": 497591,
         "filepath": "/root/fiftyone/coco-2017/train/data/000000497591.jpg",
         "clip_grade": 0.2425294667482376,
         "_deepnote_index_column": 37
        },
        {
         "url": "http://cocodataset.org/#explore?id=497591",
         "captionist": "Arthur",
         "assessor": "Aymeric",
         "caption": "a shop with UNDERGROUND written on the entrance",
         "grade": 0.1,
         "id": 497591,
         "filepath": "/root/fiftyone/coco-2017/train/data/000000497591.jpg",
         "clip_grade": 0.0214491542428731,
         "_deepnote_index_column": 38
        },
        {
         "url": "http://cocodataset.org/#explore?id=338991",
         "captionist": "COCO",
         "assessor": "Léo",
         "caption": "a man is on a tennis court playing tennis",
         "grade": 1,
         "id": 338991,
         "filepath": "/root/fiftyone/coco-2017/train/data/000000338991.jpg",
         "clip_grade": 0.8939439058303833,
         "_deepnote_index_column": 39
        },
        {
         "url": "http://cocodataset.org/#explore?id=338991",
         "captionist": "Arthur",
         "assessor": "Léo",
         "caption": "fours tennis players sharing a court for a match",
         "grade": 0.4,
         "id": 338991,
         "filepath": "/root/fiftyone/coco-2017/train/data/000000338991.jpg",
         "clip_grade": 0.1060082763433456,
         "_deepnote_index_column": 40
        },
        {
         "url": "http://cocodataset.org/#explore?id=338991",
         "captionist": "Arthur",
         "assessor": "Léo",
         "caption": "a very tall man kissing a very short girl",
         "grade": 0,
         "id": 338991,
         "filepath": "/root/fiftyone/coco-2017/train/data/000000338991.jpg",
         "clip_grade": 0.00004784206248586997,
         "_deepnote_index_column": 41
        },
        {
         "url": "http://cocodataset.org/#explore?id=446463",
         "captionist": "COCO",
         "assessor": "Conrad",
         "caption": "an old fashioned photograph of a fleet of buses",
         "grade": 1,
         "id": 446463,
         "filepath": "/root/fiftyone/coco-2017/train/data/000000446463.jpg",
         "clip_grade": 0.9973746538162231,
         "_deepnote_index_column": 42
        },
        {
         "url": "http://cocodataset.org/#explore?id=446463",
         "captionist": "Arthur",
         "assessor": "Conrad",
         "caption": "Jules Verne's vision for public transport in 2000",
         "grade": 0.8,
         "id": 446463,
         "filepath": "/root/fiftyone/coco-2017/train/data/000000446463.jpg",
         "clip_grade": 0.0001564124249853,
         "_deepnote_index_column": 43
        },
        {
         "url": "http://cocodataset.org/#explore?id=446463",
         "captionist": "Arthur",
         "assessor": "Conrad",
         "caption": "A naked person being captured by the police",
         "grade": 0,
         "id": 446463,
         "filepath": "/root/fiftyone/coco-2017/train/data/000000446463.jpg",
         "clip_grade": 0.0024688846897333,
         "_deepnote_index_column": 44
        },
        {
         "url": "http://cocodataset.org/#explore?id=50356",
         "captionist": "COCO",
         "assessor": "Aymeric",
         "caption": "a lot of flowers that are sitting on a table",
         "grade": 0.75,
         "id": 50356,
         "filepath": "/root/fiftyone/coco-2017/train/data/000000050356.jpg",
         "clip_grade": 0.6494132876396179,
         "_deepnote_index_column": 45
        },
        {
         "url": "http://cocodataset.org/#explore?id=50356",
         "captionist": "Arthur",
         "assessor": "Aymeric",
         "caption": "a red rose in a transparent vase",
         "grade": 0.5,
         "id": 50356,
         "filepath": "/root/fiftyone/coco-2017/train/data/000000050356.jpg",
         "clip_grade": 0.350582867860794,
         "_deepnote_index_column": 46
        },
        {
         "url": "http://cocodataset.org/#explore?id=50356",
         "captionist": "Arthur",
         "assessor": "Aymeric",
         "caption": "a farmer harvesting sunflowers",
         "grade": 0.05,
         "id": 50356,
         "filepath": "/root/fiftyone/coco-2017/train/data/000000050356.jpg",
         "clip_grade": 0.000003890297193720471,
         "_deepnote_index_column": 47
        },
        {
         "url": "http://cocodataset.org/#explore?id=301402",
         "captionist": "COCO",
         "assessor": "Léo",
         "caption": "a man sits at a table with a laptop computer on his knees",
         "grade": 0.9,
         "id": 301402,
         "filepath": "/root/fiftyone/coco-2017/train/data/000000301402.jpg",
         "clip_grade": 0.9979419112205504,
         "_deepnote_index_column": 48
        },
        {
         "url": "http://cocodataset.org/#explore?id=301402",
         "captionist": "Arthur",
         "assessor": "Léo",
         "caption": "a young boy fidgetting while a woman is talking",
         "grade": 0.2,
         "id": 301402,
         "filepath": "/root/fiftyone/coco-2017/train/data/000000301402.jpg",
         "clip_grade": 0.0003379001864232,
         "_deepnote_index_column": 49
        },
        {
         "url": "http://cocodataset.org/#explore?id=301402",
         "captionist": "Arthur",
         "assessor": "Léo",
         "caption": "a young man asking for helpo in a computer shop",
         "grade": 0.5,
         "id": 301402,
         "filepath": "/root/fiftyone/coco-2017/train/data/000000301402.jpg",
         "clip_grade": 0.0017202262533828,
         "_deepnote_index_column": 50
        },
        {
         "url": "http://cocodataset.org/#explore?id=56624",
         "captionist": "COCO",
         "assessor": "Conrad",
         "caption": "a wood bench is outside covered in snow",
         "grade": 1,
         "id": 56624,
         "filepath": "/root/fiftyone/coco-2017/train/data/000000056624.jpg",
         "clip_grade": 0.9589766263961792,
         "_deepnote_index_column": 51
        },
        {
         "url": "http://cocodataset.org/#explore?id=56624",
         "captionist": "Arthur",
         "assessor": "Conrad",
         "caption": "a bench decorated for Christmas",
         "grade": 0.6,
         "id": 56624,
         "filepath": "/root/fiftyone/coco-2017/train/data/000000056624.jpg",
         "clip_grade": 0.0410142578184604,
         "_deepnote_index_column": 52
        },
        {
         "url": "http://cocodataset.org/#explore?id=56624",
         "captionist": "Arthur",
         "assessor": "Conrad",
         "caption": "three PWC employees writing a report",
         "grade": 0,
         "id": 56624,
         "filepath": "/root/fiftyone/coco-2017/train/data/000000056624.jpg",
         "clip_grade": 0.000009146355296252295,
         "_deepnote_index_column": 53
        },
        {
         "url": "http://cocodataset.org/#explore?id=21097",
         "captionist": "COCO",
         "assessor": "Aymeric",
         "caption": "the meal on the table is ready to be eaten",
         "grade": 0.4,
         "id": 21097,
         "filepath": "/root/fiftyone/coco-2017/train/data/000000021097.jpg",
         "clip_grade": 0.0491184778511524,
         "_deepnote_index_column": 54
        },
        {
         "url": "http://cocodataset.org/#explore?id=21097",
         "captionist": "Arthur",
         "assessor": "Aymeric",
         "caption": "italian dish and plastic cutlery",
         "grade": 0.6,
         "id": 21097,
         "filepath": "/root/fiftyone/coco-2017/train/data/000000021097.jpg",
         "clip_grade": 0.950875759124756,
         "_deepnote_index_column": 55
        },
        {
         "url": "http://cocodataset.org/#explore?id=21097",
         "captionist": "Arthur",
         "assessor": "Aymeric",
         "caption": "a polluted river with dead fish",
         "grade": 0,
         "id": 21097,
         "filepath": "/root/fiftyone/coco-2017/train/data/000000021097.jpg",
         "clip_grade": 0.000005736236744269263,
         "_deepnote_index_column": 56
        },
        {
         "url": "http://cocodataset.org/#explore?id=14824",
         "captionist": "COCO",
         "assessor": "Léo",
         "caption": "a group of people dressed as zombies near a stop sign",
         "grade": 1,
         "id": 14824,
         "filepath": "/root/fiftyone/coco-2017/train/data/000000014824.jpg",
         "clip_grade": 0.9987751841545104,
         "_deepnote_index_column": 57
        },
        {
         "url": "http://cocodataset.org/#explore?id=14824",
         "captionist": "Arthur",
         "assessor": "Léo",
         "caption": "a confused scene after an attack",
         "grade": 0.3,
         "id": 14824,
         "filepath": "/root/fiftyone/coco-2017/train/data/000000014824.jpg",
         "clip_grade": 0.0012244351673871,
         "_deepnote_index_column": 58
        },
        {
         "url": "http://cocodataset.org/#explore?id=14824",
         "captionist": "Arthur",
         "assessor": "Léo",
         "caption": "a giraffe eating leaves at the top of the trees",
         "grade": 0,
         "id": 14824,
         "filepath": "/root/fiftyone/coco-2017/train/data/000000014824.jpg",
         "clip_grade": 3.60185680392533e-7,
         "_deepnote_index_column": 59
        },
        {
         "url": "http://cocodataset.org/#explore?id=317730",
         "captionist": "COCO",
         "assessor": "Conrad",
         "caption": "a man is holding a surfboard decorated with the image of a woman",
         "grade": 1,
         "id": 317730,
         "filepath": "/root/fiftyone/coco-2017/train/data/000000317730.jpg",
         "clip_grade": 0.5484319925308228,
         "_deepnote_index_column": 60
        },
        {
         "url": "http://cocodataset.org/#explore?id=317730",
         "captionist": "Arthur",
         "assessor": "Conrad",
         "caption": "a man is holding a surfboard decorated with the image of an octopus",
         "grade": 0.7,
         "id": 317730,
         "filepath": "/root/fiftyone/coco-2017/train/data/000000317730.jpg",
         "clip_grade": 0.4514669775962829,
         "_deepnote_index_column": 61
        }
       ],
       "rows_bottom": [
        {
         "url": "http://cocodataset.org/#explore?id=149892",
         "captionist": "COCO",
         "assessor": "Léo",
         "caption": "a bench and chair are seen on the bank of a river.",
         "grade": 0.9,
         "id": 149892,
         "filepath": "/root/fiftyone/coco-2017/train/data/000000149892.jpg",
         "clip_grade": 0.9618163108825684,
         "_deepnote_index_column": 237
        },
        {
         "url": "http://cocodataset.org/#explore?id=149892",
         "captionist": "Aymeric",
         "assessor": "Léo",
         "caption": "People sitting next to a river",
         "grade": 0.3,
         "id": 149892,
         "filepath": "/root/fiftyone/coco-2017/train/data/000000149892.jpg",
         "clip_grade": 0.0381830111145973,
         "_deepnote_index_column": 238
        },
        {
         "url": "http://cocodataset.org/#explore?id=149892",
         "captionist": "Aymeric",
         "assessor": "Léo",
         "caption": "The floor is lava",
         "grade": 0,
         "id": 149892,
         "filepath": "/root/fiftyone/coco-2017/train/data/000000149892.jpg",
         "clip_grade": 7.010787044237077e-7,
         "_deepnote_index_column": 239
        },
        {
         "url": "http://cocodataset.org/#explore?id=493196",
         "captionist": "COCO",
         "assessor": "Conrad",
         "caption": "a man with helmet skating past some bicycle riders on the road",
         "grade": 1,
         "id": 493196,
         "filepath": "/root/fiftyone/coco-2017/train/data/000000493196.jpg",
         "clip_grade": 0.997199773788452,
         "_deepnote_index_column": 240
        },
        {
         "url": "http://cocodataset.org/#explore?id=493196",
         "captionist": "Aymeric",
         "assessor": "Conrad",
         "caption": "Bicycle riders under trees",
         "grade": 0.5,
         "id": 493196,
         "filepath": "/root/fiftyone/coco-2017/train/data/000000493196.jpg",
         "clip_grade": 0.0027965942863374,
         "_deepnote_index_column": 241
        },
        {
         "url": "http://cocodataset.org/#explore?id=493196",
         "captionist": "Aymeric",
         "assessor": "Conrad",
         "caption": "A yellow road with two dogs ",
         "grade": 0,
         "id": 493196,
         "filepath": "/root/fiftyone/coco-2017/train/data/000000493196.jpg",
         "clip_grade": 0.000003707198402480572,
         "_deepnote_index_column": 242
        },
        {
         "url": "http://cocodataset.org/#explore?id=182575",
         "captionist": "COCO",
         "assessor": "Arthur",
         "caption": "this is a plate of broccoli and cauliflower",
         "grade": 0.9,
         "id": 182575,
         "filepath": "/root/fiftyone/coco-2017/train/data/000000182575.jpg",
         "clip_grade": 0.939659059047699,
         "_deepnote_index_column": 243
        },
        {
         "url": "http://cocodataset.org/#explore?id=182575",
         "captionist": "Aymeric",
         "assessor": "Arthur",
         "caption": "A plate of pasta",
         "grade": 0.2,
         "id": 182575,
         "filepath": "/root/fiftyone/coco-2017/train/data/000000182575.jpg",
         "clip_grade": 0.0305341333150863,
         "_deepnote_index_column": 244
        },
        {
         "url": "http://cocodataset.org/#explore?id=182575",
         "captionist": "Aymeric",
         "assessor": "Arthur",
         "caption": "Three tables and a spoon ",
         "grade": 0.1,
         "id": 182575,
         "filepath": "/root/fiftyone/coco-2017/train/data/000000182575.jpg",
         "clip_grade": 0.0298067908734083,
         "_deepnote_index_column": 245
        },
        {
         "url": "http://cocodataset.org/#explore?id=203559",
         "captionist": "COCO",
         "assessor": "Léo",
         "caption": "a man is inspecting a baby elephants eye",
         "grade": 1,
         "id": 203559,
         "filepath": "/root/fiftyone/coco-2017/train/data/000000203559.jpg",
         "clip_grade": 0.9694643020629884,
         "_deepnote_index_column": 246
        },
        {
         "url": "http://cocodataset.org/#explore?id=203559",
         "captionist": "Aymeric",
         "assessor": "Léo",
         "caption": "Three elephants around a man",
         "grade": 0.6,
         "id": 203559,
         "filepath": "/root/fiftyone/coco-2017/train/data/000000203559.jpg",
         "clip_grade": 0.030535627156496,
         "_deepnote_index_column": 247
        },
        {
         "url": "http://cocodataset.org/#explore?id=203559",
         "captionist": "Aymeric",
         "assessor": "Léo",
         "caption": "A black and blue dress",
         "grade": 0,
         "id": 203559,
         "filepath": "/root/fiftyone/coco-2017/train/data/000000203559.jpg",
         "clip_grade": 2.8619025371767748e-8,
         "_deepnote_index_column": 248
        },
        {
         "url": "http://cocodataset.org/#explore?id=519950",
         "captionist": "COCO",
         "assessor": "Conrad",
         "caption": "a man is in mid air over a tennis court.",
         "grade": 1,
         "id": 519950,
         "filepath": "/root/fiftyone/coco-2017/train/data/000000519950.jpg",
         "clip_grade": 0.9940815567970276,
         "_deepnote_index_column": 249
        },
        {
         "url": "http://cocodataset.org/#explore?id=519950",
         "captionist": "Aymeric",
         "assessor": "Conrad",
         "caption": "A man jumping in a pool to hit a ball",
         "grade": 0.7,
         "id": 519950,
         "filepath": "/root/fiftyone/coco-2017/train/data/000000519950.jpg",
         "clip_grade": 0.0059103374369442,
         "_deepnote_index_column": 250
        },
        {
         "url": "http://cocodataset.org/#explore?id=519950",
         "captionist": "Aymeric",
         "assessor": "Conrad",
         "caption": "A dog playing with his owner",
         "grade": 0,
         "id": 519950,
         "filepath": "/root/fiftyone/coco-2017/train/data/000000519950.jpg",
         "clip_grade": 0.000008011237696337048,
         "_deepnote_index_column": 251
        },
        {
         "url": "http://cocodataset.org/#explore?id=27276",
         "captionist": "COCO",
         "assessor": "Arthur",
         "caption": "a dog is under the bed eating a box",
         "grade": 1,
         "id": 27276,
         "filepath": "/root/fiftyone/coco-2017/train/data/000000027276.jpg",
         "clip_grade": 0.999956488609314,
         "_deepnote_index_column": 252
        },
        {
         "url": "http://cocodataset.org/#explore?id=27276",
         "captionist": "Aymeric",
         "assessor": "Arthur",
         "caption": "a cat hiding is a small place",
         "grade": 0.1,
         "id": 27276,
         "filepath": "/root/fiftyone/coco-2017/train/data/000000027276.jpg",
         "clip_grade": 0.0000435502479376737,
         "_deepnote_index_column": 253
        },
        {
         "url": "http://cocodataset.org/#explore?id=27276",
         "captionist": "Aymeric",
         "assessor": "Arthur",
         "caption": "A blue and white rollercoaster ",
         "grade": 0,
         "id": 27276,
         "filepath": "/root/fiftyone/coco-2017/train/data/000000027276.jpg",
         "clip_grade": 3.1107472153735216e-8,
         "_deepnote_index_column": 254
        },
        {
         "url": "http://cocodataset.org/#explore?id=108425",
         "captionist": "COCO",
         "assessor": "Léo",
         "caption": "a man tossing a neon green frisbee in front of a house",
         "grade": 1,
         "id": 108425,
         "filepath": "/root/fiftyone/coco-2017/train/data/000000108425.jpg",
         "clip_grade": 0.9999951124191284,
         "_deepnote_index_column": 255
        },
        {
         "url": "http://cocodataset.org/#explore?id=108425",
         "captionist": "Aymeric",
         "assessor": "Léo",
         "caption": "A nice building with two tables and a chair ",
         "grade": 0.7,
         "id": 108425,
         "filepath": "/root/fiftyone/coco-2017/train/data/000000108425.jpg",
         "clip_grade": 0.000004866552444582339,
         "_deepnote_index_column": 256
        },
        {
         "url": "http://cocodataset.org/#explore?id=108425",
         "captionist": "Aymeric",
         "assessor": "Léo",
         "caption": "Some grass in a grey background",
         "grade": 0.3,
         "id": 108425,
         "filepath": "/root/fiftyone/coco-2017/train/data/000000108425.jpg",
         "clip_grade": 4.9505249677395113e-8,
         "_deepnote_index_column": 257
        },
        {
         "url": "http://cocodataset.org/#explore?id=158713",
         "captionist": "COCO",
         "assessor": "Conrad",
         "caption": "a man who is driving a motorcycle pulling a cart with two people.",
         "grade": 1,
         "id": 158713,
         "filepath": "/root/fiftyone/coco-2017/train/data/000000158713.jpg",
         "clip_grade": 0.9956342577934264,
         "_deepnote_index_column": 258
        },
        {
         "url": "http://cocodataset.org/#explore?id=158713",
         "captionist": "Aymeric",
         "assessor": "Conrad",
         "caption": "Photograph of a red motorcycle and a white trailer",
         "grade": 0.7,
         "id": 158713,
         "filepath": "/root/fiftyone/coco-2017/train/data/000000158713.jpg",
         "clip_grade": 0.002552397781983,
         "_deepnote_index_column": 259
        },
        {
         "url": "http://cocodataset.org/#explore?id=158713",
         "captionist": "Aymeric",
         "assessor": "Conrad",
         "caption": "Three people walking in circles",
         "grade": 0.1,
         "id": 158713,
         "filepath": "/root/fiftyone/coco-2017/train/data/000000158713.jpg",
         "clip_grade": 0.0018133349949494,
         "_deepnote_index_column": 260
        },
        {
         "url": "http://cocodataset.org/#explore?id=5701",
         "captionist": "COCO",
         "assessor": "Arthur",
         "caption": "a person standing on a small paved square and holding a yellow frisbee",
         "grade": 1,
         "id": 5701,
         "filepath": "/root/fiftyone/coco-2017/train/data/000000005701.jpg",
         "clip_grade": 0.940963864326477,
         "_deepnote_index_column": 261
        },
        {
         "url": "http://cocodataset.org/#explore?id=5701",
         "captionist": "Aymeric",
         "assessor": "Arthur",
         "caption": "A yellow shirt and a yellow frisbee with a green background",
         "grade": 0.8,
         "id": 5701,
         "filepath": "/root/fiftyone/coco-2017/train/data/000000005701.jpg",
         "clip_grade": 0.0590341165661811,
         "_deepnote_index_column": 262
        },
        {
         "url": "http://cocodataset.org/#explore?id=5701",
         "captionist": "Aymeric",
         "assessor": "Arthur",
         "caption": "The sun shines and the place is beautiful ",
         "grade": 0.3,
         "id": 5701,
         "filepath": "/root/fiftyone/coco-2017/train/data/000000005701.jpg",
         "clip_grade": 0.000002041705783994985,
         "_deepnote_index_column": 263
        },
        {
         "url": "http://cocodataset.org/#explore?id=254994",
         "captionist": "COCO",
         "assessor": "Léo",
         "caption": "a man holding a drinking glass and smiling.",
         "grade": 0.9,
         "id": 254994,
         "filepath": "/root/fiftyone/coco-2017/train/data/000000254994.jpg",
         "clip_grade": 0.9837910532951356,
         "_deepnote_index_column": 264
        },
        {
         "url": "http://cocodataset.org/#explore?id=254994",
         "captionist": "Aymeric",
         "assessor": "Léo",
         "caption": "A person with a black tie ",
         "grade": 0.6,
         "id": 254994,
         "filepath": "/root/fiftyone/coco-2017/train/data/000000254994.jpg",
         "clip_grade": 0.0161569360643625,
         "_deepnote_index_column": 265
        },
        {
         "url": "http://cocodataset.org/#explore?id=254994",
         "captionist": "Aymeric",
         "assessor": "Léo",
         "caption": "Photograph of a sad dog drinking coffee ",
         "grade": 0.1,
         "id": 254994,
         "filepath": "/root/fiftyone/coco-2017/train/data/000000254994.jpg",
         "clip_grade": 0.00005212590986047872,
         "_deepnote_index_column": 266
        },
        {
         "url": "http://cocodataset.org/#explore?id=256799",
         "captionist": "COCO",
         "assessor": "Conrad",
         "caption": "a chandelier sitting above a spiral stair case.",
         "grade": 1,
         "id": 256799,
         "filepath": "/root/fiftyone/coco-2017/train/data/000000256799.jpg",
         "clip_grade": 0.0769630372524261,
         "_deepnote_index_column": 267
        },
        {
         "url": "http://cocodataset.org/#explore?id=256799",
         "captionist": "Aymeric",
         "assessor": "Conrad",
         "caption": "a chandelier and a clock in a very big room with stairs",
         "grade": 0.8,
         "id": 256799,
         "filepath": "/root/fiftyone/coco-2017/train/data/000000256799.jpg",
         "clip_grade": 0.923011064529419,
         "_deepnote_index_column": 268
        },
        {
         "url": "http://cocodataset.org/#explore?id=256799",
         "captionist": "Aymeric",
         "assessor": "Conrad",
         "caption": "Two people taking a nap",
         "grade": 0,
         "id": 256799,
         "filepath": "/root/fiftyone/coco-2017/train/data/000000256799.jpg",
         "clip_grade": 0.000025906523660523817,
         "_deepnote_index_column": 269
        },
        {
         "url": "http://cocodataset.org/#explore?id=524981",
         "captionist": "COCO",
         "assessor": "Arthur",
         "caption": "a dog sitting on a boat behind the sail.",
         "grade": 1,
         "id": 524981,
         "filepath": "/root/fiftyone/coco-2017/train/data/000000524981.jpg",
         "clip_grade": 0.7042451500892639,
         "_deepnote_index_column": 270
        },
        {
         "url": "http://cocodataset.org/#explore?id=524981",
         "captionist": "Aymeric",
         "assessor": "Arthur",
         "caption": "An engine, a dog and a sail in water",
         "grade": 0.5,
         "id": 524981,
         "filepath": "/root/fiftyone/coco-2017/train/data/000000524981.jpg",
         "clip_grade": 0.2957548201084137,
         "_deepnote_index_column": 271
        },
        {
         "url": "http://cocodataset.org/#explore?id=524981",
         "captionist": "Aymeric",
         "assessor": "Arthur",
         "caption": "Bowling pins going down a slide",
         "grade": 0,
         "id": 524981,
         "filepath": "/root/fiftyone/coco-2017/train/data/000000524981.jpg",
         "clip_grade": 1.3809857424273986e-10,
         "_deepnote_index_column": 272
        },
        {
         "url": "http://cocodataset.org/#explore?id=509839",
         "captionist": "COCO",
         "assessor": "Léo",
         "caption": "a public bathroom that is empty and not in use.",
         "grade": 1,
         "id": 509839,
         "filepath": "/root/fiftyone/coco-2017/train/data/000000509839.jpg",
         "clip_grade": 0.834164559841156,
         "_deepnote_index_column": 273
        },
        {
         "url": "http://cocodataset.org/#explore?id=509839",
         "captionist": "Aymeric",
         "assessor": "Léo",
         "caption": "Three sinks in a green room",
         "grade": 0.7,
         "id": 509839,
         "filepath": "/root/fiftyone/coco-2017/train/data/000000509839.jpg",
         "clip_grade": 0.1649339199066162,
         "_deepnote_index_column": 274
        },
        {
         "url": "http://cocodataset.org/#explore?id=509839",
         "captionist": "Aymeric",
         "assessor": "Léo",
         "caption": "Two beds in a room",
         "grade": 0.1,
         "id": 509839,
         "filepath": "/root/fiftyone/coco-2017/train/data/000000509839.jpg",
         "clip_grade": 0.0009015258983708,
         "_deepnote_index_column": 275
        },
        {
         "url": "http://cocodataset.org/#explore?id=194120",
         "captionist": "COCO",
         "assessor": "Conrad",
         "caption": "a cat sitting on a windowsill next to a painted pumpkin.",
         "grade": 1,
         "id": 194120,
         "filepath": "/root/fiftyone/coco-2017/train/data/000000194120.jpg",
         "clip_grade": 0.999298334121704,
         "_deepnote_index_column": 276
        },
        {
         "url": "http://cocodataset.org/#explore?id=194120",
         "captionist": "Aymeric",
         "assessor": "Conrad",
         "caption": "A cat lying on its back eats a pumpkin ",
         "grade": 0.4,
         "id": 194120,
         "filepath": "/root/fiftyone/coco-2017/train/data/000000194120.jpg",
         "clip_grade": 0.0007015994633547,
         "_deepnote_index_column": 277
        },
        {
         "url": "http://cocodataset.org/#explore?id=194120",
         "captionist": "Aymeric",
         "assessor": "Conrad",
         "caption": "A banana filled with orange jelly ",
         "grade": 0,
         "id": 194120,
         "filepath": "/root/fiftyone/coco-2017/train/data/000000194120.jpg",
         "clip_grade": 3.050875463372904e-8,
         "_deepnote_index_column": 278
        },
        {
         "url": "http://cocodataset.org/#explore?id=197329",
         "captionist": "COCO",
         "assessor": "Arthur",
         "caption": "some zebras and a giraffe tall brown grass and trees",
         "grade": 1,
         "id": 197329,
         "filepath": "/root/fiftyone/coco-2017/train/data/000000197329.jpg",
         "clip_grade": 0.6063777804374695,
         "_deepnote_index_column": 279
        },
        {
         "url": "http://cocodataset.org/#explore?id=197329",
         "captionist": "Aymeric",
         "assessor": "Arthur",
         "caption": "A desert, dry grass and savannah animals",
         "grade": 1,
         "id": 197329,
         "filepath": "/root/fiftyone/coco-2017/train/data/000000197329.jpg",
         "clip_grade": 0.3936221599578857,
         "_deepnote_index_column": 280
        },
        {
         "url": "http://cocodataset.org/#explore?id=197329",
         "captionist": "Aymeric",
         "assessor": "Arthur",
         "caption": "pikachu uses his thunder attack",
         "grade": 0,
         "id": 197329,
         "filepath": "/root/fiftyone/coco-2017/train/data/000000197329.jpg",
         "clip_grade": 1.4981185358919904e-7,
         "_deepnote_index_column": 281
        },
        {
         "url": "http://cocodataset.org/#explore?id=432637",
         "captionist": "COCO",
         "assessor": "Léo",
         "caption": "a group of people riding a carousel with trees in the background.",
         "grade": 0.8,
         "id": 432637,
         "filepath": "/root/fiftyone/coco-2017/train/data/000000432637.jpg",
         "clip_grade": 0.9190086722373962,
         "_deepnote_index_column": 282
        },
        {
         "url": "http://cocodataset.org/#explore?id=432637",
         "captionist": "Aymeric",
         "assessor": "Léo",
         "caption": "People having fun on horses",
         "grade": 0.4,
         "id": 432637,
         "filepath": "/root/fiftyone/coco-2017/train/data/000000432637.jpg",
         "clip_grade": 0.0809874907135963,
         "_deepnote_index_column": 283
        },
        {
         "url": "http://cocodataset.org/#explore?id=432637",
         "captionist": "Aymeric",
         "assessor": "Léo",
         "caption": "many candlelit sticks",
         "grade": 0,
         "id": 432637,
         "filepath": "/root/fiftyone/coco-2017/train/data/000000432637.jpg",
         "clip_grade": 0.000003781498890020885,
         "_deepnote_index_column": 284
        },
        {
         "url": "http://cocodataset.org/#explore?id=298014",
         "captionist": "COCO",
         "assessor": "Conrad",
         "caption": "a large architectural structure near a park",
         "grade": 1,
         "id": 298014,
         "filepath": "/root/fiftyone/coco-2017/train/data/000000298014.jpg",
         "clip_grade": 0.0851136744022369,
         "_deepnote_index_column": 285
        },
        {
         "url": "http://cocodataset.org/#explore?id=298014",
         "captionist": "Aymeric",
         "assessor": "Conrad",
         "caption": "a traffic light on a city side walk with people",
         "grade": 0.8,
         "id": 298014,
         "filepath": "/root/fiftyone/coco-2017/train/data/000000298014.jpg",
         "clip_grade": 0.7205550074577332,
         "_deepnote_index_column": 286
        },
        {
         "url": "http://cocodataset.org/#explore?id=298014",
         "captionist": "Aymeric",
         "assessor": "Conrad",
         "caption": "lighted street lamps",
         "grade": 0.5,
         "id": 298014,
         "filepath": "/root/fiftyone/coco-2017/train/data/000000298014.jpg",
         "clip_grade": 0.1943313181400299,
         "_deepnote_index_column": 287
        },
        {
         "url": "http://cocodataset.org/#explore?id=250225",
         "captionist": "COCO",
         "assessor": "Arthur",
         "caption": "a display of fruit print dishes in a store",
         "grade": 1,
         "id": 250225,
         "filepath": "/root/fiftyone/coco-2017/train/data/000000250225.jpg",
         "clip_grade": 0.9996780157089232,
         "_deepnote_index_column": 288
        },
        {
         "url": "http://cocodataset.org/#explore?id=250225",
         "captionist": "Aymeric",
         "assessor": "Arthur",
         "caption": "Fruits and vegetables in a store",
         "grade": 0.2,
         "id": 250225,
         "filepath": "/root/fiftyone/coco-2017/train/data/000000250225.jpg",
         "clip_grade": 0.000321940111462,
         "_deepnote_index_column": 289
        },
        {
         "url": "http://cocodataset.org/#explore?id=250225",
         "captionist": "Aymeric",
         "assessor": "Arthur",
         "caption": "beef steaks spread on the floor",
         "grade": 0,
         "id": 250225,
         "filepath": "/root/fiftyone/coco-2017/train/data/000000250225.jpg",
         "clip_grade": 1.0083147117256885e-7,
         "_deepnote_index_column": 290
        },
        {
         "url": "http://cocodataset.org/#explore?id=484457",
         "captionist": "COCO",
         "assessor": "Léo",
         "caption": "a large stack of square shaped cakes sitting on a lit table.",
         "grade": 0.9,
         "id": 484457,
         "filepath": "/root/fiftyone/coco-2017/train/data/000000484457.jpg",
         "clip_grade": 0.8434022665023804,
         "_deepnote_index_column": 291
        },
        {
         "url": "http://cocodataset.org/#explore?id=484457",
         "captionist": "Aymeric",
         "assessor": "Léo",
         "caption": "Two tables and a cake",
         "grade": 0.6,
         "id": 484457,
         "filepath": "/root/fiftyone/coco-2017/train/data/000000484457.jpg",
         "clip_grade": 0.1565882116556167,
         "_deepnote_index_column": 292
        },
        {
         "url": "http://cocodataset.org/#explore?id=484457",
         "captionist": "Aymeric",
         "assessor": "Léo",
         "caption": "black sculptures in the shape of chocolate bars",
         "grade": 0,
         "id": 484457,
         "filepath": "/root/fiftyone/coco-2017/train/data/000000484457.jpg",
         "clip_grade": 0.000009588069588062352,
         "_deepnote_index_column": 293
        },
        {
         "url": "http://cocodataset.org/#explore?id=541039",
         "captionist": "COCO",
         "assessor": "Conrad",
         "caption": "a group of people holding umbrellas standing behind a sign for a umbrella drive.",
         "grade": 1,
         "id": 541039,
         "filepath": "/root/fiftyone/coco-2017/train/data/000000541039.jpg",
         "clip_grade": 0.999808132648468,
         "_deepnote_index_column": 294
        },
        {
         "url": "http://cocodataset.org/#explore?id=541039",
         "captionist": "Aymeric",
         "assessor": "Conrad",
         "caption": "smiling black people who say thank you",
         "grade": 0.9,
         "id": 541039,
         "filepath": "/root/fiftyone/coco-2017/train/data/000000541039.jpg",
         "clip_grade": 0.0001917687186505,
         "_deepnote_index_column": 295
        },
        {
         "url": "http://cocodataset.org/#explore?id=541039",
         "captionist": "Aymeric",
         "assessor": "Conrad",
         "caption": "Birthday gifts in a box",
         "grade": 0,
         "id": 541039,
         "filepath": "/root/fiftyone/coco-2017/train/data/000000541039.jpg",
         "clip_grade": 1.695432558790344e-7,
         "_deepnote_index_column": 296
        },
        {
         "url": "http://cocodataset.org/#explore?id=423313",
         "captionist": "COCO",
         "assessor": "Arthur",
         "caption": "a group of motorcycles parked in front of a building.",
         "grade": 0.9,
         "id": 423313,
         "filepath": "/root/fiftyone/coco-2017/train/data/000000423313.jpg",
         "clip_grade": 0.99993634223938,
         "_deepnote_index_column": 297
        },
        {
         "url": "http://cocodataset.org/#explore?id=423313",
         "captionist": "Aymeric",
         "assessor": "Arthur",
         "caption": "Mortorcyles hiding small stores",
         "grade": 0.7,
         "id": 423313,
         "filepath": "/root/fiftyone/coco-2017/train/data/000000423313.jpg",
         "clip_grade": 0.00006363866123137996,
         "_deepnote_index_column": 298
        },
        {
         "url": "http://cocodataset.org/#explore?id=423313",
         "captionist": "Aymeric",
         "assessor": "Arthur",
         "caption": "sunflowers looking towards the sun",
         "grade": 0,
         "id": 423313,
         "filepath": "/root/fiftyone/coco-2017/train/data/000000423313.jpg",
         "clip_grade": 1.117054981847332e-8,
         "_deepnote_index_column": 299
        }
       ]
      },
      "text/plain": "                                           url captionist assessor  \\\n0    http://cocodataset.org/#explore?id=393274       COCO  Aymeric   \n1    http://cocodataset.org/#explore?id=393274     Arthur  Aymeric   \n2    http://cocodataset.org/#explore?id=393274     Arthur  Aymeric   \n3    http://cocodataset.org/#explore?id=427123       COCO      Léo   \n4    http://cocodataset.org/#explore?id=427123     Arthur      Léo   \n..                                         ...        ...      ...   \n295  http://cocodataset.org/#explore?id=541039    Aymeric   Conrad   \n296  http://cocodataset.org/#explore?id=541039    Aymeric   Conrad   \n297  http://cocodataset.org/#explore?id=423313       COCO   Arthur   \n298  http://cocodataset.org/#explore?id=423313    Aymeric   Arthur   \n299  http://cocodataset.org/#explore?id=423313    Aymeric   Arthur   \n\n                                               caption  grade      id  \\\n0    a yellow and white train traveling past a trai...    0.9  393274   \n1             several trains parked in a train station    0.3  393274   \n2                           a river with people nearby    0.0  393274   \n3    three people in formal military uniforms, two ...    1.0  427123   \n4        smiling researchers receiving the Nobel prize    0.5  427123   \n..                                                 ...    ...     ...   \n295             smiling black people who say thank you    0.9  541039   \n296                            Birthday gifts in a box    0.0  541039   \n297  a group of motorcycles parked in front of a bu...    0.9  423313   \n298                    Mortorcyles hiding small stores    0.7  423313   \n299                 sunflowers looking towards the sun    0.0  423313   \n\n                                              filepath    clip_grade  \n0    /root/fiftyone/coco-2017/train/data/0000003932...  7.304041e-01  \n1    /root/fiftyone/coco-2017/train/data/0000003932...  2.695841e-01  \n2    /root/fiftyone/coco-2017/train/data/0000003932...  1.171632e-05  \n3    /root/fiftyone/coco-2017/train/data/0000004271...  9.990404e-01  \n4    /root/fiftyone/coco-2017/train/data/0000004271...  9.263757e-04  \n..                                                 ...           ...  \n295  /root/fiftyone/coco-2017/train/data/0000005410...  1.917687e-04  \n296  /root/fiftyone/coco-2017/train/data/0000005410...  1.695433e-07  \n297  /root/fiftyone/coco-2017/train/data/0000004233...  9.999363e-01  \n298  /root/fiftyone/coco-2017/train/data/0000004233...  6.363866e-05  \n299  /root/fiftyone/coco-2017/train/data/0000004233...  1.117055e-08  \n\n[300 rows x 8 columns]",
      "text/html": "<div>\n<style scoped>\n    .dataframe tbody tr th:only-of-type {\n        vertical-align: middle;\n    }\n\n    .dataframe tbody tr th {\n        vertical-align: top;\n    }\n\n    .dataframe thead th {\n        text-align: right;\n    }\n</style>\n<table border=\"1\" class=\"dataframe\">\n  <thead>\n    <tr style=\"text-align: right;\">\n      <th></th>\n      <th>url</th>\n      <th>captionist</th>\n      <th>assessor</th>\n      <th>caption</th>\n      <th>grade</th>\n      <th>id</th>\n      <th>filepath</th>\n      <th>clip_grade</th>\n    </tr>\n  </thead>\n  <tbody>\n    <tr>\n      <th>0</th>\n      <td>http://cocodataset.org/#explore?id=393274</td>\n      <td>COCO</td>\n      <td>Aymeric</td>\n      <td>a yellow and white train traveling past a trai...</td>\n      <td>0.9</td>\n      <td>393274</td>\n      <td>/root/fiftyone/coco-2017/train/data/0000003932...</td>\n      <td>7.304041e-01</td>\n    </tr>\n    <tr>\n      <th>1</th>\n      <td>http://cocodataset.org/#explore?id=393274</td>\n      <td>Arthur</td>\n      <td>Aymeric</td>\n      <td>several trains parked in a train station</td>\n      <td>0.3</td>\n      <td>393274</td>\n      <td>/root/fiftyone/coco-2017/train/data/0000003932...</td>\n      <td>2.695841e-01</td>\n    </tr>\n    <tr>\n      <th>2</th>\n      <td>http://cocodataset.org/#explore?id=393274</td>\n      <td>Arthur</td>\n      <td>Aymeric</td>\n      <td>a river with people nearby</td>\n      <td>0.0</td>\n      <td>393274</td>\n      <td>/root/fiftyone/coco-2017/train/data/0000003932...</td>\n      <td>1.171632e-05</td>\n    </tr>\n    <tr>\n      <th>3</th>\n      <td>http://cocodataset.org/#explore?id=427123</td>\n      <td>COCO</td>\n      <td>Léo</td>\n      <td>three people in formal military uniforms, two ...</td>\n      <td>1.0</td>\n      <td>427123</td>\n      <td>/root/fiftyone/coco-2017/train/data/0000004271...</td>\n      <td>9.990404e-01</td>\n    </tr>\n    <tr>\n      <th>4</th>\n      <td>http://cocodataset.org/#explore?id=427123</td>\n      <td>Arthur</td>\n      <td>Léo</td>\n      <td>smiling researchers receiving the Nobel prize</td>\n      <td>0.5</td>\n      <td>427123</td>\n      <td>/root/fiftyone/coco-2017/train/data/0000004271...</td>\n      <td>9.263757e-04</td>\n    </tr>\n    <tr>\n      <th>...</th>\n      <td>...</td>\n      <td>...</td>\n      <td>...</td>\n      <td>...</td>\n      <td>...</td>\n      <td>...</td>\n      <td>...</td>\n      <td>...</td>\n    </tr>\n    <tr>\n      <th>295</th>\n      <td>http://cocodataset.org/#explore?id=541039</td>\n      <td>Aymeric</td>\n      <td>Conrad</td>\n      <td>smiling black people who say thank you</td>\n      <td>0.9</td>\n      <td>541039</td>\n      <td>/root/fiftyone/coco-2017/train/data/0000005410...</td>\n      <td>1.917687e-04</td>\n    </tr>\n    <tr>\n      <th>296</th>\n      <td>http://cocodataset.org/#explore?id=541039</td>\n      <td>Aymeric</td>\n      <td>Conrad</td>\n      <td>Birthday gifts in a box</td>\n      <td>0.0</td>\n      <td>541039</td>\n      <td>/root/fiftyone/coco-2017/train/data/0000005410...</td>\n      <td>1.695433e-07</td>\n    </tr>\n    <tr>\n      <th>297</th>\n      <td>http://cocodataset.org/#explore?id=423313</td>\n      <td>COCO</td>\n      <td>Arthur</td>\n      <td>a group of motorcycles parked in front of a bu...</td>\n      <td>0.9</td>\n      <td>423313</td>\n      <td>/root/fiftyone/coco-2017/train/data/0000004233...</td>\n      <td>9.999363e-01</td>\n    </tr>\n    <tr>\n      <th>298</th>\n      <td>http://cocodataset.org/#explore?id=423313</td>\n      <td>Aymeric</td>\n      <td>Arthur</td>\n      <td>Mortorcyles hiding small stores</td>\n      <td>0.7</td>\n      <td>423313</td>\n      <td>/root/fiftyone/coco-2017/train/data/0000004233...</td>\n      <td>6.363866e-05</td>\n    </tr>\n    <tr>\n      <th>299</th>\n      <td>http://cocodataset.org/#explore?id=423313</td>\n      <td>Aymeric</td>\n      <td>Arthur</td>\n      <td>sunflowers looking towards the sun</td>\n      <td>0.0</td>\n      <td>423313</td>\n      <td>/root/fiftyone/coco-2017/train/data/0000004233...</td>\n      <td>1.117055e-08</td>\n    </tr>\n  </tbody>\n</table>\n<p>300 rows × 8 columns</p>\n</div>"
     },
     "metadata": {}
    }
   ],
   "execution_count": null
  },
  {
   "cell_type": "code",
   "source": "_deepnote_run_altair(coco_clip_ratings_300_df, \"\"\"{\"$schema\":\"https://vega.github.io/schema/vega-lite/v4.json\",\"mark\":{\"type\":\"point\",\"tooltip\":{\"content\":\"data\"}},\"height\":220,\"autosize\":{\"type\":\"fit\"},\"data\":{\"name\":\"placeholder\"},\"encoding\":{\"x\":{\"field\":\"clip_grade\",\"type\":\"quantitative\",\"sort\":null,\"scale\":{\"type\":\"sqrt\",\"zero\":false}},\"y\":{\"field\":\"grade\",\"type\":\"quantitative\",\"sort\":null,\"scale\":{\"type\":\"sqrt\",\"zero\":false}},\"color\":{\"field\":\"\",\"type\":\"nominal\",\"sort\":null,\"scale\":{\"type\":\"linear\",\"zero\":false}}}}\"\"\")",
   "metadata": {
    "cell_id": "00018-0a312e60-428d-434d-94c8-43e09f0f6f76",
    "deepnote_variable_name": "coco_clip_ratings_300_df",
    "deepnote_visualization_spec": {
     "$schema": "https://vega.github.io/schema/vega-lite/v4.json",
     "mark": {
      "type": "point",
      "tooltip": {
       "content": "data"
      }
     },
     "height": 220,
     "autosize": {
      "type": "fit"
     },
     "data": {
      "name": "placeholder"
     },
     "encoding": {
      "x": {
       "field": "clip_grade",
       "type": "quantitative",
       "sort": null,
       "scale": {
        "type": "sqrt",
        "zero": false
       }
      },
      "y": {
       "field": "grade",
       "type": "quantitative",
       "sort": null,
       "scale": {
        "type": "sqrt",
        "zero": false
       }
      },
      "color": {
       "field": "",
       "type": "nominal",
       "sort": null,
       "scale": {
        "type": "linear",
        "zero": false
       }
      }
     }
    },
    "deepnote_to_be_reexecuted": false,
    "source_hash": "c2d0e183",
    "execution_start": 1639164935190,
    "execution_millis": 88,
    "deepnote_output_heights": [
     2
    ],
    "deepnote_cell_type": "visualization"
   },
   "outputs": [
    {
     "output_type": "execute_result",
     "execution_count": 10,
     "data": {
      "text/html": "\n<div id=\"altair-viz-01711093c8834ff9ab17f441514822ae\"></div>\n<script type=\"text/javascript\">\n  (function(spec, embedOpt){\n    let outputDiv = document.currentScript.previousElementSibling;\n    if (outputDiv.id !== \"altair-viz-01711093c8834ff9ab17f441514822ae\") {\n      outputDiv = document.getElementById(\"altair-viz-01711093c8834ff9ab17f441514822ae\");\n    }\n    const paths = {\n      \"vega\": \"https://cdn.jsdelivr.net/npm//vega@5?noext\",\n      \"vega-lib\": \"https://cdn.jsdelivr.net/npm//vega-lib?noext\",\n      \"vega-lite\": \"https://cdn.jsdelivr.net/npm//vega-lite@4.8.1?noext\",\n      \"vega-embed\": \"https://cdn.jsdelivr.net/npm//vega-embed@6?noext\",\n    };\n\n    function loadScript(lib) {\n      return new Promise(function(resolve, reject) {\n        var s = document.createElement('script');\n        s.src = paths[lib];\n        s.async = true;\n        s.onload = () => resolve(paths[lib]);\n        s.onerror = () => reject(`Error loading script: ${paths[lib]}`);\n        document.getElementsByTagName(\"head\")[0].appendChild(s);\n      });\n    }\n\n    function showError(err) {\n      outputDiv.innerHTML = `<div class=\"error\" style=\"color:red;\">${err}</div>`;\n      throw err;\n    }\n\n    function displayChart(vegaEmbed) {\n      vegaEmbed(outputDiv, spec, embedOpt)\n        .catch(err => showError(`Javascript Error: ${err.message}<br>This usually means there's a typo in your chart specification. See the javascript console for the full traceback.`));\n    }\n\n    if(typeof define === \"function\" && define.amd) {\n      requirejs.config({paths});\n      require([\"vega-embed\"], displayChart, err => showError(`Error loading script: ${err.message}`));\n    } else if (typeof vegaEmbed === \"function\") {\n      displayChart(vegaEmbed);\n    } else {\n      loadScript(\"vega\")\n        .then(() => loadScript(\"vega-lite\"))\n        .then(() => loadScript(\"vega-embed\"))\n        .catch(showError)\n        .then(() => displayChart(vegaEmbed));\n    }\n  })({\"config\": {\"view\": {\"continuousWidth\": 400, \"continuousHeight\": 300}, \"area\": {\"fill\": \"#51C0E9\"}, \"axis\": {\"labelFont\": \"Inter, sans-serif\", \"labelFontSize\": 12, \"labelFontWeight\": \"normal\", \"labelLimit\": 60, \"labelOverlap\": \"greedy\", \"titleFont\": \"Inter, sans-serif\", \"titleFontSize\": 12, \"titleFontWeight\": \"bold\"}, \"background\": \"#ffffff\", \"legend\": {\"labelFont\": \"Inter, sans-serif\", \"labelFontSize\": 12, \"titleFont\": \"Inter, sans-serif\", \"titleFontSize\": 12, \"titleFontWeight\": \"bold\"}, \"line\": {\"stroke\": \"#51C0E9\", \"strokeWidth\": 2}, \"rect\": {\"fill\": \"#51C0E9\"}, \"title\": {\"anchor\": \"start\", \"color\": \"#000000\", \"font\": \"Inter, sans-serif\", \"fontSize\": 22, \"fontWeight\": \"normal\"}}, \"data\": {\"name\": \"data-68ec92e2f8de6fd201e1a7c7f4c03f89\"}, \"mark\": {\"type\": \"point\", \"tooltip\": {\"content\": \"data\"}}, \"autosize\": {\"type\": \"fit\"}, \"encoding\": {\"color\": {\"type\": \"nominal\", \"field\": \"\", \"scale\": {\"type\": \"linear\", \"zero\": false}, \"sort\": null}, \"x\": {\"type\": \"quantitative\", \"field\": \"clip_grade\", \"scale\": {\"type\": \"sqrt\", \"zero\": false}, \"sort\": null}, \"y\": {\"type\": \"quantitative\", \"field\": \"grade\", \"scale\": {\"type\": \"sqrt\", \"zero\": false}, \"sort\": null}}, \"height\": 300, \"width\": \"container\", \"$schema\": \"https://vega.github.io/schema/vega-lite/v4.json\", \"datasets\": {\"data-68ec92e2f8de6fd201e1a7c7f4c03f89\": [{\"url\": \"http://cocodataset.org/#explore?id=393274\", \"captionist\": \"COCO\", \"assessor\": \"Aymeric\", \"caption\": \"a yellow and white train traveling past a train station\", \"grade\": 0.9, \"id\": 393274, \"filepath\": \"/root/fiftyone/coco-2017/train/data/000000393274.jpg\", \"clip_grade\": 0.7304041385650635}, {\"url\": \"http://cocodataset.org/#explore?id=393274\", \"captionist\": \"Arthur\", \"assessor\": \"Aymeric\", \"caption\": \"several trains parked in a train station\", \"grade\": 0.3, \"id\": 393274, \"filepath\": \"/root/fiftyone/coco-2017/train/data/000000393274.jpg\", \"clip_grade\": 0.2695841491222381}, {\"url\": \"http://cocodataset.org/#explore?id=393274\", \"captionist\": \"Arthur\", \"assessor\": \"Aymeric\", \"caption\": \"a river with people nearby\", \"grade\": 0.0, \"id\": 393274, \"filepath\": \"/root/fiftyone/coco-2017/train/data/000000393274.jpg\", \"clip_grade\": 1.171631538454676e-05}, {\"url\": \"http://cocodataset.org/#explore?id=427123\", \"captionist\": \"COCO\", \"assessor\": \"L\\u00e9o\", \"caption\": \"three people in formal military uniforms, two are wearing medals around their necks\", \"grade\": 1.0, \"id\": 427123, \"filepath\": \"/root/fiftyone/coco-2017/train/data/000000427123.jpg\", \"clip_grade\": 0.999040424823761}, {\"url\": \"http://cocodataset.org/#explore?id=427123\", \"captionist\": \"Arthur\", \"assessor\": \"L\\u00e9o\", \"caption\": \"smiling researchers receiving the Nobel prize\", \"grade\": 0.5, \"id\": 427123, \"filepath\": \"/root/fiftyone/coco-2017/train/data/000000427123.jpg\", \"clip_grade\": 0.000926375738345}, {\"url\": \"http://cocodataset.org/#explore?id=427123\", \"captionist\": \"Arthur\", \"assessor\": \"L\\u00e9o\", \"caption\": \"three donkeys in a dark room\", \"grade\": 0.0, \"id\": 427123, \"filepath\": \"/root/fiftyone/coco-2017/train/data/000000427123.jpg\", \"clip_grade\": 3.3188618544954807e-05}, {\"url\": \"http://cocodataset.org/#explore?id=405324\", \"captionist\": \"COCO\", \"assessor\": \"Conrad\", \"caption\": \"the girl has a plate with a sandwich on it\", \"grade\": 1.0, \"id\": 405324, \"filepath\": \"/root/fiftyone/coco-2017/train/data/000000405324.jpg\", \"clip_grade\": 0.99873286485672}, {\"url\": \"http://cocodataset.org/#explore?id=405324\", \"captionist\": \"Arthur\", \"assessor\": \"Conrad\", \"caption\": \"a fancy dinner downtown\", \"grade\": 0.6, \"id\": 405324, \"filepath\": \"/root/fiftyone/coco-2017/train/data/000000405324.jpg\", \"clip_grade\": 0.0012116107391193}, {\"url\": \"http://cocodataset.org/#explore?id=405324\", \"captionist\": \"Arthur\", \"assessor\": \"Conrad\", \"caption\": \"his empty plate causes the baby to cry\", \"grade\": 0.0, \"id\": 405324, \"filepath\": \"/root/fiftyone/coco-2017/train/data/000000405324.jpg\", \"clip_grade\": 5.553846131078899e-05}, {\"url\": \"http://cocodataset.org/#explore?id=300357\", \"captionist\": \"COCO\", \"assessor\": \"Aymeric\", \"caption\": \"a woman in a skirt and colorful shirt kneeling down on floral fabric\", \"grade\": 0.95, \"id\": 300357, \"filepath\": \"/root/fiftyone/coco-2017/train/data/000000300357.jpg\", \"clip_grade\": 0.924143135547638}, {\"url\": \"http://cocodataset.org/#explore?id=300357\", \"captionist\": \"Arthur\", \"assessor\": \"Aymeric\", \"caption\": \"a woman trying desperately to leave her bed\", \"grade\": 0.6, \"id\": 300357, \"filepath\": \"/root/fiftyone/coco-2017/train/data/000000300357.jpg\", \"clip_grade\": 0.0758567005395889}, {\"url\": \"http://cocodataset.org/#explore?id=300357\", \"captionist\": \"Arthur\", \"assessor\": \"Aymeric\", \"caption\": \"two men lying in the sun, one using his dog as a kind of cushion\", \"grade\": 0.0, \"id\": 300357, \"filepath\": \"/root/fiftyone/coco-2017/train/data/000000300357.jpg\", \"clip_grade\": 1.6981233841306678e-07}, {\"url\": \"http://cocodataset.org/#explore?id=57340\", \"captionist\": \"COCO\", \"assessor\": \"L\\u00e9o\", \"caption\": \"there is a tower that has a american flag at the top and a clock on it\", \"grade\": 1.0, \"id\": 57340, \"filepath\": \"/root/fiftyone/coco-2017/train/data/000000057340.jpg\", \"clip_grade\": 0.999755084514618}, {\"url\": \"http://cocodataset.org/#explore?id=57340\", \"captionist\": \"Arthur\", \"assessor\": \"L\\u00e9o\", \"caption\": \"the night is falling over Manhattan\", \"grade\": 0.3, \"id\": 57340, \"filepath\": \"/root/fiftyone/coco-2017/train/data/000000057340.jpg\", \"clip_grade\": 0.0002309042756678}, {\"url\": \"http://cocodataset.org/#explore?id=57340\", \"captionist\": \"Arthur\", \"assessor\": \"L\\u00e9o\", \"caption\": \"sunset over the Mississipi river\", \"grade\": 0.0, \"id\": 57340, \"filepath\": \"/root/fiftyone/coco-2017/train/data/000000057340.jpg\", \"clip_grade\": 1.408355910825776e-05}, {\"url\": \"http://cocodataset.org/#explore?id=198654\", \"captionist\": \"COCO\", \"assessor\": \"Conrad\", \"caption\": \"there are people playing a game of baseball\", \"grade\": 1.0, \"id\": 198654, \"filepath\": \"/root/fiftyone/coco-2017/train/data/000000198654.jpg\", \"clip_grade\": 0.667002260684967}, {\"url\": \"http://cocodataset.org/#explore?id=198654\", \"captionist\": \"Arthur\", \"assessor\": \"Conrad\", \"caption\": \"players play the game\", \"grade\": 0.6, \"id\": 198654, \"filepath\": \"/root/fiftyone/coco-2017/train/data/000000198654.jpg\", \"clip_grade\": 0.3326966464519501}, {\"url\": \"http://cocodataset.org/#explore?id=198654\", \"captionist\": \"Arthur\", \"assessor\": \"Conrad\", \"caption\": \"dancers dancing on a Broadway show\", \"grade\": 0.0, \"id\": 198654, \"filepath\": \"/root/fiftyone/coco-2017/train/data/000000198654.jpg\", \"clip_grade\": 0.0003011362859979}, {\"url\": \"http://cocodataset.org/#explore?id=518361\", \"captionist\": \"COCO\", \"assessor\": \"Aymeric\", \"caption\": \"three people standing at the zoo watching a elephant\", \"grade\": 0.95, \"id\": 518361, \"filepath\": \"/root/fiftyone/coco-2017/train/data/000000518361.jpg\", \"clip_grade\": 0.6237627863883972}, {\"url\": \"http://cocodataset.org/#explore?id=518361\", \"captionist\": \"Arthur\", \"assessor\": \"Aymeric\", \"caption\": \"six people standing at the zoo watching two elephant\", \"grade\": 0.65, \"id\": 518361, \"filepath\": \"/root/fiftyone/coco-2017/train/data/000000518361.jpg\", \"clip_grade\": 0.3762371838092804}, {\"url\": \"http://cocodataset.org/#explore?id=518361\", \"captionist\": \"Arthur\", \"assessor\": \"Aymeric\", \"caption\": \"nobody watching nothing\", \"grade\": 0.1, \"id\": 518361, \"filepath\": \"/root/fiftyone/coco-2017/train/data/000000518361.jpg\", \"clip_grade\": 3.843448936891036e-08}, {\"url\": \"http://cocodataset.org/#explore?id=525640\", \"captionist\": \"COCO\", \"assessor\": \"L\\u00e9o\", \"caption\": \"a banana dressed up to look like a person infront of a paper\", \"grade\": 0.7, \"id\": 525640, \"filepath\": \"/root/fiftyone/coco-2017/train/data/000000525640.jpg\", \"clip_grade\": 0.9965531826019288}, {\"url\": \"http://cocodataset.org/#explore?id=525640\", \"captionist\": \"Arthur\", \"assessor\": \"L\\u00e9o\", \"caption\": \"a man signing a contract\", \"grade\": 0.0, \"id\": 525640, \"filepath\": \"/root/fiftyone/coco-2017/train/data/000000525640.jpg\", \"clip_grade\": 0.0019702070858329}, {\"url\": \"http://cocodataset.org/#explore?id=525640\", \"captionist\": \"Arthur\", \"assessor\": \"L\\u00e9o\", \"caption\": \"a salad fruit in the process of making\", \"grade\": 0.1, \"id\": 525640, \"filepath\": \"/root/fiftyone/coco-2017/train/data/000000525640.jpg\", \"clip_grade\": 0.001476630452089}, {\"url\": \"http://cocodataset.org/#explore?id=526347\", \"captionist\": \"COCO\", \"assessor\": \"Conrad\", \"caption\": \"a skateboarder on a skateboard in a skate park\", \"grade\": 1.0, \"id\": 526347, \"filepath\": \"/root/fiftyone/coco-2017/train/data/000000526347.jpg\", \"clip_grade\": 0.997990608215332}, {\"url\": \"http://cocodataset.org/#explore?id=526347\", \"captionist\": \"Arthur\", \"assessor\": \"Conrad\", \"caption\": \"a young man in shorts doing sports\", \"grade\": 0.4, \"id\": 526347, \"filepath\": \"/root/fiftyone/coco-2017/train/data/000000526347.jpg\", \"clip_grade\": 0.0020088499877601}, {\"url\": \"http://cocodataset.org/#explore?id=526347\", \"captionist\": \"Arthur\", \"assessor\": \"Conrad\", \"caption\": \"a girl running after her dog\", \"grade\": 0.0, \"id\": 526347, \"filepath\": \"/root/fiftyone/coco-2017/train/data/000000526347.jpg\", \"clip_grade\": 6.322166541394836e-07}, {\"url\": \"http://cocodataset.org/#explore?id=4130\", \"captionist\": \"COCO\", \"assessor\": \"Aymeric\", \"caption\": \"a bus parked on a street in front of several buildings\", \"grade\": 0.7, \"id\": 4130, \"filepath\": \"/root/fiftyone/coco-2017/train/data/000000004130.jpg\", \"clip_grade\": 0.9971586465835572}, {\"url\": \"http://cocodataset.org/#explore?id=4130\", \"captionist\": \"Arthur\", \"assessor\": \"Aymeric\", \"caption\": \"a busy street some days before Christmas\", \"grade\": 0.3, \"id\": 4130, \"filepath\": \"/root/fiftyone/coco-2017/train/data/000000004130.jpg\", \"clip_grade\": 0.0028411943931132}, {\"url\": \"http://cocodataset.org/#explore?id=4130\", \"captionist\": \"Arthur\", \"assessor\": \"Aymeric\", \"caption\": \"a murder scene in a kitchen appliance shop\", \"grade\": 0.0, \"id\": 4130, \"filepath\": \"/root/fiftyone/coco-2017/train/data/000000004130.jpg\", \"clip_grade\": 1.772941544686546e-07}, {\"url\": \"http://cocodataset.org/#explore?id=522661\", \"captionist\": \"COCO\", \"assessor\": \"L\\u00e9o\", \"caption\": \"two people holding suitcases walking towards a greyhound bus\", \"grade\": 0.9, \"id\": 522661, \"filepath\": \"/root/fiftyone/coco-2017/train/data/000000522661.jpg\", \"clip_grade\": 0.9335500597953796}, {\"url\": \"http://cocodataset.org/#explore?id=522661\", \"captionist\": \"Arthur\", \"assessor\": \"L\\u00e9o\", \"caption\": \"a group of persons running after a departing long-distance bus\", \"grade\": 0.5, \"id\": 522661, \"filepath\": \"/root/fiftyone/coco-2017/train/data/000000522661.jpg\", \"clip_grade\": 0.0664443597197532}, {\"url\": \"http://cocodataset.org/#explore?id=522661\", \"captionist\": \"Arthur\", \"assessor\": \"L\\u00e9o\", \"caption\": \"two swimmers in bathing suits lining at the front desk\", \"grade\": 0.0, \"id\": 522661, \"filepath\": \"/root/fiftyone/coco-2017/train/data/000000522661.jpg\", \"clip_grade\": 5.527100256585982e-06}, {\"url\": \"http://cocodataset.org/#explore?id=310526\", \"captionist\": \"COCO\", \"assessor\": \"Conrad\", \"caption\": \"a traffic light with a green signal next to tall buildings\", \"grade\": 0.9, \"id\": 310526, \"filepath\": \"/root/fiftyone/coco-2017/train/data/000000310526.jpg\", \"clip_grade\": 0.9999392032623292}, {\"url\": \"http://cocodataset.org/#explore?id=310526\", \"captionist\": \"Arthur\", \"assessor\": \"Conrad\", \"caption\": \"a red traffic light in the country side\", \"grade\": 0.3, \"id\": 310526, \"filepath\": \"/root/fiftyone/coco-2017/train/data/000000310526.jpg\", \"clip_grade\": 6.082302206777968e-05}, {\"url\": \"http://cocodataset.org/#explore?id=310526\", \"captionist\": \"Arthur\", \"assessor\": \"Conrad\", \"caption\": \"a male swan on a lake is courtshipping a female swan\", \"grade\": 0.0, \"id\": 310526, \"filepath\": \"/root/fiftyone/coco-2017/train/data/000000310526.jpg\", \"clip_grade\": 2.541701016323117e-10}, {\"url\": \"http://cocodataset.org/#explore?id=497591\", \"captionist\": \"COCO\", \"assessor\": \"Aymeric\", \"caption\": \"a small child is sitting on a bench outside\", \"grade\": 0.7, \"id\": 497591, \"filepath\": \"/root/fiftyone/coco-2017/train/data/000000497591.jpg\", \"clip_grade\": 0.7360213994979858}, {\"url\": \"http://cocodataset.org/#explore?id=497591\", \"captionist\": \"Arthur\", \"assessor\": \"Aymeric\", \"caption\": \"a child waiting for his parents to finish shopping\", \"grade\": 0.2, \"id\": 497591, \"filepath\": \"/root/fiftyone/coco-2017/train/data/000000497591.jpg\", \"clip_grade\": 0.2425294667482376}, {\"url\": \"http://cocodataset.org/#explore?id=497591\", \"captionist\": \"Arthur\", \"assessor\": \"Aymeric\", \"caption\": \"a shop with UNDERGROUND written on the entrance\", \"grade\": 0.1, \"id\": 497591, \"filepath\": \"/root/fiftyone/coco-2017/train/data/000000497591.jpg\", \"clip_grade\": 0.0214491542428731}, {\"url\": \"http://cocodataset.org/#explore?id=338991\", \"captionist\": \"COCO\", \"assessor\": \"L\\u00e9o\", \"caption\": \"a man is on a tennis court playing tennis\", \"grade\": 1.0, \"id\": 338991, \"filepath\": \"/root/fiftyone/coco-2017/train/data/000000338991.jpg\", \"clip_grade\": 0.8939439058303833}, {\"url\": \"http://cocodataset.org/#explore?id=338991\", \"captionist\": \"Arthur\", \"assessor\": \"L\\u00e9o\", \"caption\": \"fours tennis players sharing a court for a match\", \"grade\": 0.4, \"id\": 338991, \"filepath\": \"/root/fiftyone/coco-2017/train/data/000000338991.jpg\", \"clip_grade\": 0.1060082763433456}, {\"url\": \"http://cocodataset.org/#explore?id=338991\", \"captionist\": \"Arthur\", \"assessor\": \"L\\u00e9o\", \"caption\": \"a very tall man kissing a very short girl\", \"grade\": 0.0, \"id\": 338991, \"filepath\": \"/root/fiftyone/coco-2017/train/data/000000338991.jpg\", \"clip_grade\": 4.784206248586997e-05}, {\"url\": \"http://cocodataset.org/#explore?id=446463\", \"captionist\": \"COCO\", \"assessor\": \"Conrad\", \"caption\": \"an old fashioned photograph of a fleet of buses\", \"grade\": 1.0, \"id\": 446463, \"filepath\": \"/root/fiftyone/coco-2017/train/data/000000446463.jpg\", \"clip_grade\": 0.9973746538162231}, {\"url\": \"http://cocodataset.org/#explore?id=446463\", \"captionist\": \"Arthur\", \"assessor\": \"Conrad\", \"caption\": \"Jules Verne's vision for public transport in 2000\", \"grade\": 0.8, \"id\": 446463, \"filepath\": \"/root/fiftyone/coco-2017/train/data/000000446463.jpg\", \"clip_grade\": 0.0001564124249853}, {\"url\": \"http://cocodataset.org/#explore?id=446463\", \"captionist\": \"Arthur\", \"assessor\": \"Conrad\", \"caption\": \"A naked person being captured by the police\", \"grade\": 0.0, \"id\": 446463, \"filepath\": \"/root/fiftyone/coco-2017/train/data/000000446463.jpg\", \"clip_grade\": 0.0024688846897333}, {\"url\": \"http://cocodataset.org/#explore?id=50356\", \"captionist\": \"COCO\", \"assessor\": \"Aymeric\", \"caption\": \"a lot of flowers that are sitting on a table\", \"grade\": 0.75, \"id\": 50356, \"filepath\": \"/root/fiftyone/coco-2017/train/data/000000050356.jpg\", \"clip_grade\": 0.6494132876396179}, {\"url\": \"http://cocodataset.org/#explore?id=50356\", \"captionist\": \"Arthur\", \"assessor\": \"Aymeric\", \"caption\": \"a red rose in a transparent vase\", \"grade\": 0.5, \"id\": 50356, \"filepath\": \"/root/fiftyone/coco-2017/train/data/000000050356.jpg\", \"clip_grade\": 0.350582867860794}, {\"url\": \"http://cocodataset.org/#explore?id=50356\", \"captionist\": \"Arthur\", \"assessor\": \"Aymeric\", \"caption\": \"a farmer harvesting sunflowers\", \"grade\": 0.05, \"id\": 50356, \"filepath\": \"/root/fiftyone/coco-2017/train/data/000000050356.jpg\", \"clip_grade\": 3.890297193720471e-06}, {\"url\": \"http://cocodataset.org/#explore?id=301402\", \"captionist\": \"COCO\", \"assessor\": \"L\\u00e9o\", \"caption\": \"a man sits at a table with a laptop computer on his knees\", \"grade\": 0.9, \"id\": 301402, \"filepath\": \"/root/fiftyone/coco-2017/train/data/000000301402.jpg\", \"clip_grade\": 0.9979419112205504}, {\"url\": \"http://cocodataset.org/#explore?id=301402\", \"captionist\": \"Arthur\", \"assessor\": \"L\\u00e9o\", \"caption\": \"a young boy fidgetting while a woman is talking\", \"grade\": 0.2, \"id\": 301402, \"filepath\": \"/root/fiftyone/coco-2017/train/data/000000301402.jpg\", \"clip_grade\": 0.0003379001864232}, {\"url\": \"http://cocodataset.org/#explore?id=301402\", \"captionist\": \"Arthur\", \"assessor\": \"L\\u00e9o\", \"caption\": \"a young man asking for helpo in a computer shop\", \"grade\": 0.5, \"id\": 301402, \"filepath\": \"/root/fiftyone/coco-2017/train/data/000000301402.jpg\", \"clip_grade\": 0.0017202262533828}, {\"url\": \"http://cocodataset.org/#explore?id=56624\", \"captionist\": \"COCO\", \"assessor\": \"Conrad\", \"caption\": \"a wood bench is outside covered in snow\", \"grade\": 1.0, \"id\": 56624, \"filepath\": \"/root/fiftyone/coco-2017/train/data/000000056624.jpg\", \"clip_grade\": 0.9589766263961792}, {\"url\": \"http://cocodataset.org/#explore?id=56624\", \"captionist\": \"Arthur\", \"assessor\": \"Conrad\", \"caption\": \"a bench decorated for Christmas\", \"grade\": 0.6, \"id\": 56624, \"filepath\": \"/root/fiftyone/coco-2017/train/data/000000056624.jpg\", \"clip_grade\": 0.0410142578184604}, {\"url\": \"http://cocodataset.org/#explore?id=56624\", \"captionist\": \"Arthur\", \"assessor\": \"Conrad\", \"caption\": \"three PWC employees writing a report\", \"grade\": 0.0, \"id\": 56624, \"filepath\": \"/root/fiftyone/coco-2017/train/data/000000056624.jpg\", \"clip_grade\": 9.146355296252295e-06}, {\"url\": \"http://cocodataset.org/#explore?id=21097\", \"captionist\": \"COCO\", \"assessor\": \"Aymeric\", \"caption\": \"the meal on the table is ready to be eaten\", \"grade\": 0.4, \"id\": 21097, \"filepath\": \"/root/fiftyone/coco-2017/train/data/000000021097.jpg\", \"clip_grade\": 0.0491184778511524}, {\"url\": \"http://cocodataset.org/#explore?id=21097\", \"captionist\": \"Arthur\", \"assessor\": \"Aymeric\", \"caption\": \"italian dish and plastic cutlery\", \"grade\": 0.6, \"id\": 21097, \"filepath\": \"/root/fiftyone/coco-2017/train/data/000000021097.jpg\", \"clip_grade\": 0.950875759124756}, {\"url\": \"http://cocodataset.org/#explore?id=21097\", \"captionist\": \"Arthur\", \"assessor\": \"Aymeric\", \"caption\": \"a polluted river with dead fish\", \"grade\": 0.0, \"id\": 21097, \"filepath\": \"/root/fiftyone/coco-2017/train/data/000000021097.jpg\", \"clip_grade\": 5.736236744269263e-06}, {\"url\": \"http://cocodataset.org/#explore?id=14824\", \"captionist\": \"COCO\", \"assessor\": \"L\\u00e9o\", \"caption\": \"a group of people dressed as zombies near a stop sign\", \"grade\": 1.0, \"id\": 14824, \"filepath\": \"/root/fiftyone/coco-2017/train/data/000000014824.jpg\", \"clip_grade\": 0.9987751841545104}, {\"url\": \"http://cocodataset.org/#explore?id=14824\", \"captionist\": \"Arthur\", \"assessor\": \"L\\u00e9o\", \"caption\": \"a confused scene after an attack\", \"grade\": 0.3, \"id\": 14824, \"filepath\": \"/root/fiftyone/coco-2017/train/data/000000014824.jpg\", \"clip_grade\": 0.0012244351673871}, {\"url\": \"http://cocodataset.org/#explore?id=14824\", \"captionist\": \"Arthur\", \"assessor\": \"L\\u00e9o\", \"caption\": \"a giraffe eating leaves at the top of the trees\", \"grade\": 0.0, \"id\": 14824, \"filepath\": \"/root/fiftyone/coco-2017/train/data/000000014824.jpg\", \"clip_grade\": 3.60185680392533e-07}, {\"url\": \"http://cocodataset.org/#explore?id=317730\", \"captionist\": \"COCO\", \"assessor\": \"Conrad\", \"caption\": \"a man is holding a surfboard decorated with the image of a woman\", \"grade\": 1.0, \"id\": 317730, \"filepath\": \"/root/fiftyone/coco-2017/train/data/000000317730.jpg\", \"clip_grade\": 0.5484319925308228}, {\"url\": \"http://cocodataset.org/#explore?id=317730\", \"captionist\": \"Arthur\", \"assessor\": \"Conrad\", \"caption\": \"a man is holding a surfboard decorated with the image of an octopus\", \"grade\": 0.7, \"id\": 317730, \"filepath\": \"/root/fiftyone/coco-2017/train/data/000000317730.jpg\", \"clip_grade\": 0.4514669775962829}, {\"url\": \"http://cocodataset.org/#explore?id=317730\", \"captionist\": \"Arthur\", \"assessor\": \"Conrad\", \"caption\": \"a man is holding skis decorated with snakes\", \"grade\": 0.3, \"id\": 317730, \"filepath\": \"/root/fiftyone/coco-2017/train/data/000000317730.jpg\", \"clip_grade\": 0.0001009879633784}, {\"url\": \"http://cocodataset.org/#explore?id=160703\", \"captionist\": \"COCO\", \"assessor\": \"Aymeric\", \"caption\": \"two pizza's on sliver pans on a table with utensils\", \"grade\": 0.95, \"id\": 160703, \"filepath\": \"/root/fiftyone/coco-2017/train/data/000000160703.jpg\", \"clip_grade\": 0.988734006881714}, {\"url\": \"http://cocodataset.org/#explore?id=160703\", \"captionist\": \"Arthur\", \"assessor\": \"Aymeric\", \"caption\": \"five pizzas about to be eaten\", \"grade\": 0.6, \"id\": 160703, \"filepath\": \"/root/fiftyone/coco-2017/train/data/000000160703.jpg\", \"clip_grade\": 0.0109551791101694}, {\"url\": \"http://cocodataset.org/#explore?id=160703\", \"captionist\": \"Arthur\", \"assessor\": \"Aymeric\", \"caption\": \"a mob assaulting an empty pizza place\", \"grade\": 0.2, \"id\": 160703, \"filepath\": \"/root/fiftyone/coco-2017/train/data/000000160703.jpg\", \"clip_grade\": 0.0003107703232672}, {\"url\": \"http://cocodataset.org/#explore?id=302313\", \"captionist\": \"COCO\", \"assessor\": \"L\\u00e9o\", \"caption\": \"the thin cow eats some grass next to the tree\", \"grade\": 0.9, \"id\": 302313, \"filepath\": \"/root/fiftyone/coco-2017/train/data/000000302313.jpg\", \"clip_grade\": 0.9862536191940308}, {\"url\": \"http://cocodataset.org/#explore?id=302313\", \"captionist\": \"Arthur\", \"assessor\": \"L\\u00e9o\", \"caption\": \"black and white cow on a green pasture land\", \"grade\": 0.4, \"id\": 302313, \"filepath\": \"/root/fiftyone/coco-2017/train/data/000000302313.jpg\", \"clip_grade\": 0.0132652539759874}, {\"url\": \"http://cocodataset.org/#explore?id=302313\", \"captionist\": \"Arthur\", \"assessor\": \"L\\u00e9o\", \"caption\": \"a cow herd mooing under the moonlight\", \"grade\": 0.1, \"id\": 302313, \"filepath\": \"/root/fiftyone/coco-2017/train/data/000000302313.jpg\", \"clip_grade\": 0.0004810873942915}, {\"url\": \"http://cocodataset.org/#explore?id=104842\", \"captionist\": \"COCO\", \"assessor\": \"Conrad\", \"caption\": \"a skateboarded takes to the air in a skateboard park\", \"grade\": 1.0, \"id\": 104842, \"filepath\": \"/root/fiftyone/coco-2017/train/data/000000104842.jpg\", \"clip_grade\": 0.8840489387512207}, {\"url\": \"http://cocodataset.org/#explore?id=104842\", \"captionist\": \"Arthur\", \"assessor\": \"Conrad\", \"caption\": \"a skateboarder at rest is watching other skateboarders\", \"grade\": 0.6, \"id\": 104842, \"filepath\": \"/root/fiftyone/coco-2017/train/data/000000104842.jpg\", \"clip_grade\": 0.1110826656222343}, {\"url\": \"http://cocodataset.org/#explore?id=104842\", \"captionist\": \"Arthur\", \"assessor\": \"Conrad\", \"caption\": \"a little girl reading a book about skateboards at the library\", \"grade\": 0.1, \"id\": 104842, \"filepath\": \"/root/fiftyone/coco-2017/train/data/000000104842.jpg\", \"clip_grade\": 0.0048683495260775}, {\"url\": \"http://cocodataset.org/#explore?id=569865\", \"captionist\": \"COCO\", \"assessor\": \"Arthur\", \"caption\": \"autumn trees are next to hanging stop lights.\", \"grade\": 0.9, \"id\": 569865, \"filepath\": \"/root/fiftyone/coco-2017/train/data/000000569865.jpg\", \"clip_grade\": 0.9999244213104248}, {\"url\": \"http://cocodataset.org/#explore?id=569865\", \"captionist\": \"Conrad\", \"assessor\": \"Arthur\", \"caption\": \"a traffic stop\", \"grade\": 0.75, \"id\": 569865, \"filepath\": \"/root/fiftyone/coco-2017/train/data/000000569865.jpg\", \"clip_grade\": 9.26642860576976e-06}, {\"url\": \"http://cocodataset.org/#explore?id=569865\", \"captionist\": \"Conrad\", \"assessor\": \"Arthur\", \"caption\": \"a man is hitchhiking by the side of road\", \"grade\": 0.3, \"id\": 569865, \"filepath\": \"/root/fiftyone/coco-2017/train/data/000000569865.jpg\", \"clip_grade\": 6.62247184664011e-05}, {\"url\": \"http://cocodataset.org/#explore?id=62824\", \"captionist\": \"COCO\", \"assessor\": \"Aymeric\", \"caption\": \"a street sign stands on the 8500 west block of hollywood boulevard.\", \"grade\": 0.88, \"id\": 62824, \"filepath\": \"/root/fiftyone/coco-2017/train/data/000000062824.jpg\", \"clip_grade\": 0.9895498752593994}, {\"url\": \"http://cocodataset.org/#explore?id=62824\", \"captionist\": \"Conrad\", \"assessor\": \"Aymeric\", \"caption\": \"a street sign\", \"grade\": 0.3, \"id\": 62824, \"filepath\": \"/root/fiftyone/coco-2017/train/data/000000062824.jpg\", \"clip_grade\": 0.0104382717981934}, {\"url\": \"http://cocodataset.org/#explore?id=62824\", \"captionist\": \"Conrad\", \"assessor\": \"Aymeric\", \"caption\": \"a traffic light with a green signal next to tall buildings\", \"grade\": 0.05, \"id\": 62824, \"filepath\": \"/root/fiftyone/coco-2017/train/data/000000062824.jpg\", \"clip_grade\": 1.1866756722156424e-05}, {\"url\": \"http://cocodataset.org/#explore?id=327802\", \"captionist\": \"COCO\", \"assessor\": \"L\\u00e9o\", \"caption\": \"a street sign set in the edge of the sidewalk that says stockton st.\", \"grade\": 1.0, \"id\": 327802, \"filepath\": \"/root/fiftyone/coco-2017/train/data/000000327802.jpg\", \"clip_grade\": 0.9999979734420776}, {\"url\": \"http://cocodataset.org/#explore?id=327802\", \"captionist\": \"Conrad\", \"assessor\": \"L\\u00e9o\", \"caption\": \"a street sign on the sidewalk\", \"grade\": 0.8, \"id\": 327802, \"filepath\": \"/root/fiftyone/coco-2017/train/data/000000327802.jpg\", \"clip_grade\": 2.066096385533456e-06}, {\"url\": \"http://cocodataset.org/#explore?id=327802\", \"captionist\": \"Conrad\", \"assessor\": \"L\\u00e9o\", \"caption\": \"a picture of the figure 13 from a textbook\", \"grade\": 0.0, \"id\": 327802, \"filepath\": \"/root/fiftyone/coco-2017/train/data/000000327802.jpg\", \"clip_grade\": 2.5299979000692477e-08}, {\"url\": \"http://cocodataset.org/#explore?id=385341\", \"captionist\": \"COCO\", \"assessor\": \"Arthur\", \"caption\": \"a couple of people that are sitting down with wii remotes\", \"grade\": 1.0, \"id\": 385341, \"filepath\": \"/root/fiftyone/coco-2017/train/data/000000385341.jpg\", \"clip_grade\": 0.7654690742492676}, {\"url\": \"http://cocodataset.org/#explore?id=385341\", \"captionist\": \"Conrad\", \"assessor\": \"Arthur\", \"caption\": \"two persons holding remotes\", \"grade\": 1.0, \"id\": 385341, \"filepath\": \"/root/fiftyone/coco-2017/train/data/000000385341.jpg\", \"clip_grade\": 0.2331794053316116}, {\"url\": \"http://cocodataset.org/#explore?id=385341\", \"captionist\": \"Conrad\", \"assessor\": \"Arthur\", \"caption\": \"some family pictures\", \"grade\": 0.4, \"id\": 385341, \"filepath\": \"/root/fiftyone/coco-2017/train/data/000000385341.jpg\", \"clip_grade\": 0.0013514952734112}, {\"url\": \"http://cocodataset.org/#explore?id=370121\", \"captionist\": \"COCO\", \"assessor\": \"Aymeric\", \"caption\": \"a bench sits in a field by the water while it is cloudy.\", \"grade\": 0.95, \"id\": 370121, \"filepath\": \"/root/fiftyone/coco-2017/train/data/000000370121.jpg\", \"clip_grade\": 0.994453489780426}, {\"url\": \"http://cocodataset.org/#explore?id=370121\", \"captionist\": \"Conrad\", \"assessor\": \"Aymeric\", \"caption\": \"a bench next to a tree\", \"grade\": 0.6, \"id\": 370121, \"filepath\": \"/root/fiftyone/coco-2017/train/data/000000370121.jpg\", \"clip_grade\": 0.0055161179043352}, {\"url\": \"http://cocodataset.org/#explore?id=370121\", \"captionist\": \"Conrad\", \"assessor\": \"Aymeric\", \"caption\": \"a family picnic\", \"grade\": 0.1, \"id\": 370121, \"filepath\": \"/root/fiftyone/coco-2017/train/data/000000370121.jpg\", \"clip_grade\": 3.037606438738294e-05}, {\"url\": \"http://cocodataset.org/#explore?id=475277\", \"captionist\": \"COCO\", \"assessor\": \"L\\u00e9o\", \"caption\": \"a white horse looking up for a photo at a fence side.\", \"grade\": 1.0, \"id\": 475277, \"filepath\": \"/root/fiftyone/coco-2017/train/data/000000475277.jpg\", \"clip_grade\": 0.5405133962631226}, {\"url\": \"http://cocodataset.org/#explore?id=475277\", \"captionist\": \"Conrad\", \"assessor\": \"L\\u00e9o\", \"caption\": \"a close up of a white horse\", \"grade\": 0.8, \"id\": 475277, \"filepath\": \"/root/fiftyone/coco-2017/train/data/000000475277.jpg\", \"clip_grade\": 0.4591881930828094}, {\"url\": \"http://cocodataset.org/#explore?id=475277\", \"captionist\": \"Conrad\", \"assessor\": \"L\\u00e9o\", \"caption\": \"me riding a white horse\", \"grade\": 0.4, \"id\": 475277, \"filepath\": \"/root/fiftyone/coco-2017/train/data/000000475277.jpg\", \"clip_grade\": 0.0002984692109748}, {\"url\": \"http://cocodataset.org/#explore?id=140122\", \"captionist\": \"COCO\", \"assessor\": \"Arthur\", \"caption\": \"a computer monitor, keyboard, and tower with peripherals and plugs sit on a desk.\", \"grade\": 1.0, \"id\": 140122, \"filepath\": \"/root/fiftyone/coco-2017/train/data/000000140122.jpg\", \"clip_grade\": 0.995230197906494}, {\"url\": \"http://cocodataset.org/#explore?id=140122\", \"captionist\": \"Conrad\", \"assessor\": \"Arthur\", \"caption\": \"a desktop for remote working\", \"grade\": 0.8, \"id\": 140122, \"filepath\": \"/root/fiftyone/coco-2017/train/data/000000140122.jpg\", \"clip_grade\": 0.0028126770630478}, {\"url\": \"http://cocodataset.org/#explore?id=140122\", \"captionist\": \"Conrad\", \"assessor\": \"Arthur\", \"caption\": \"a kitchen with a computer\", \"grade\": 0.2, \"id\": 140122, \"filepath\": \"/root/fiftyone/coco-2017/train/data/000000140122.jpg\", \"clip_grade\": 0.0019571376033127}, {\"url\": \"http://cocodataset.org/#explore?id=119502\", \"captionist\": \"COCO\", \"assessor\": \"Aymeric\", \"caption\": \"toddler boy in a tie playing in a dish of mud.\", \"grade\": 0.92, \"id\": 119502, \"filepath\": \"/root/fiftyone/coco-2017/train/data/000000119502.jpg\", \"clip_grade\": 0.9892494678497314}, {\"url\": \"http://cocodataset.org/#explore?id=119502\", \"captionist\": \"Conrad\", \"assessor\": \"Aymeric\", \"caption\": \"a little boy playing outside\", \"grade\": 0.7, \"id\": 119502, \"filepath\": \"/root/fiftyone/coco-2017/train/data/000000119502.jpg\", \"clip_grade\": 0.0091822855174541}, {\"url\": \"http://cocodataset.org/#explore?id=119502\", \"captionist\": \"Conrad\", \"assessor\": \"Aymeric\", \"caption\": \"a little boy is burying his toy\", \"grade\": 0.6, \"id\": 119502, \"filepath\": \"/root/fiftyone/coco-2017/train/data/000000119502.jpg\", \"clip_grade\": 0.001568152802065}, {\"url\": \"http://cocodataset.org/#explore?id=413868\", \"captionist\": \"COCO\", \"assessor\": \"L\\u00e9o\", \"caption\": \"a man in the woods throws a frisbee\", \"grade\": 0.9, \"id\": 413868, \"filepath\": \"/root/fiftyone/coco-2017/train/data/000000413868.jpg\", \"clip_grade\": 0.9957351684570312}, {\"url\": \"http://cocodataset.org/#explore?id=413868\", \"captionist\": \"Conrad\", \"assessor\": \"L\\u00e9o\", \"caption\": \"a cowboy throws a bone at his dog\", \"grade\": 0.2, \"id\": 413868, \"filepath\": \"/root/fiftyone/coco-2017/train/data/000000413868.jpg\", \"clip_grade\": 0.0003649528080131}, {\"url\": \"http://cocodataset.org/#explore?id=413868\", \"captionist\": \"Conrad\", \"assessor\": \"L\\u00e9o\", \"caption\": \"a cowboy is skeet shooting\", \"grade\": 0.0, \"id\": 413868, \"filepath\": \"/root/fiftyone/coco-2017/train/data/000000413868.jpg\", \"clip_grade\": 0.0038998271338641}, {\"url\": \"http://cocodataset.org/#explore?id=12650\", \"captionist\": \"COCO\", \"assessor\": \"Arthur\", \"caption\": \"several people gathered outside of a bar at night.\", \"grade\": 0.9, \"id\": 12650, \"filepath\": \"/root/fiftyone/coco-2017/train/data/000000012650.jpg\", \"clip_grade\": 0.9920334219932556}, {\"url\": \"http://cocodataset.org/#explore?id=12650\", \"captionist\": \"Conrad\", \"assessor\": \"Arthur\", \"caption\": \"a group of people in front of a bar\", \"grade\": 0.9, \"id\": 12650, \"filepath\": \"/root/fiftyone/coco-2017/train/data/000000012650.jpg\", \"clip_grade\": 0.007426309864968}, {\"url\": \"http://cocodataset.org/#explore?id=12650\", \"captionist\": \"Conrad\", \"assessor\": \"Arthur\", \"caption\": \"the last bar before the apocalypse\", \"grade\": 0.1, \"id\": 12650, \"filepath\": \"/root/fiftyone/coco-2017/train/data/000000012650.jpg\", \"clip_grade\": 0.0005402160459198}, {\"url\": \"http://cocodataset.org/#explore?id=269338\", \"captionist\": \"COCO\", \"assessor\": \"Aymeric\", \"caption\": \"a baseball player sliding into a base with another player bent over with glove extended toward a flying baseball.\", \"grade\": 0.98, \"id\": 269338, \"filepath\": \"/root/fiftyone/coco-2017/train/data/000000269338.jpg\", \"clip_grade\": 0.982137143611908}, {\"url\": \"http://cocodataset.org/#explore?id=269338\", \"captionist\": \"Conrad\", \"assessor\": \"Aymeric\", \"caption\": \"a baseball match\", \"grade\": 0.65, \"id\": 269338, \"filepath\": \"/root/fiftyone/coco-2017/train/data/000000269338.jpg\", \"clip_grade\": 0.017856040969491}, {\"url\": \"http://cocodataset.org/#explore?id=269338\", \"captionist\": \"Conrad\", \"assessor\": \"Aymeric\", \"caption\": \"two tennismen playing in a court\", \"grade\": 0.2, \"id\": 269338, \"filepath\": \"/root/fiftyone/coco-2017/train/data/000000269338.jpg\", \"clip_grade\": 6.7456790020514745e-06}, {\"url\": \"http://cocodataset.org/#explore?id=514601\", \"captionist\": \"COCO\", \"assessor\": \"L\\u00e9o\", \"caption\": \"the train platform has green benches on it.\", \"grade\": 0.9, \"id\": 514601, \"filepath\": \"/root/fiftyone/coco-2017/train/data/000000514601.jpg\", \"clip_grade\": 0.4171087145805359}, {\"url\": \"http://cocodataset.org/#explore?id=514601\", \"captionist\": \"Conrad\", \"assessor\": \"L\\u00e9o\", \"caption\": \"the train platform is empty\", \"grade\": 0.9, \"id\": 514601, \"filepath\": \"/root/fiftyone/coco-2017/train/data/000000514601.jpg\", \"clip_grade\": 0.5586377382278442}, {\"url\": \"http://cocodataset.org/#explore?id=514601\", \"captionist\": \"Conrad\", \"assessor\": \"L\\u00e9o\", \"caption\": \"the Massy-Palaiseau train station\", \"grade\": 0.5, \"id\": 514601, \"filepath\": \"/root/fiftyone/coco-2017/train/data/000000514601.jpg\", \"clip_grade\": 0.0242535546422004}, {\"url\": \"http://cocodataset.org/#explore?id=495456\", \"captionist\": \"COCO\", \"assessor\": \"Arthur\", \"caption\": \"a person using an oven mitt to take something from the oven.\", \"grade\": 0.9, \"id\": 495456, \"filepath\": \"/root/fiftyone/coco-2017/train/data/000000495456.jpg\", \"clip_grade\": 0.9538904428482056}, {\"url\": \"http://cocodataset.org/#explore?id=495456\", \"captionist\": \"Conrad\", \"assessor\": \"Arthur\", \"caption\": \"something is baking in the oven\", \"grade\": 0.8, \"id\": 495456, \"filepath\": \"/root/fiftyone/coco-2017/train/data/000000495456.jpg\", \"clip_grade\": 0.0327861532568931}, {\"url\": \"http://cocodataset.org/#explore?id=495456\", \"captionist\": \"Conrad\", \"assessor\": \"Arthur\", \"caption\": \"someone is baking in the oven\", \"grade\": 0.1, \"id\": 495456, \"filepath\": \"/root/fiftyone/coco-2017/train/data/000000495456.jpg\", \"clip_grade\": 0.0133233284577727}, {\"url\": \"http://cocodataset.org/#explore?id=106513\", \"captionist\": \"COCO\", \"assessor\": \"Aymeric\", \"caption\": \"bus at rainy bus stop with commuters waiting\", \"grade\": 0.9, \"id\": 106513, \"filepath\": \"/root/fiftyone/coco-2017/train/data/000000106513.jpg\", \"clip_grade\": 0.9560535550117492}, {\"url\": \"http://cocodataset.org/#explore?id=106513\", \"captionist\": \"Conrad\", \"assessor\": \"Aymeric\", \"caption\": \"commuters are waiting for the bus\", \"grade\": 0.75, \"id\": 106513, \"filepath\": \"/root/fiftyone/coco-2017/train/data/000000106513.jpg\", \"clip_grade\": 0.0295886844396591}, {\"url\": \"http://cocodataset.org/#explore?id=106513\", \"captionist\": \"Conrad\", \"assessor\": \"Aymeric\", \"caption\": \"students are waiting for the 91.06 bus\", \"grade\": 0.55, \"id\": 106513, \"filepath\": \"/root/fiftyone/coco-2017/train/data/000000106513.jpg\", \"clip_grade\": 0.0143578266724944}, {\"url\": \"http://cocodataset.org/#explore?id=380258\", \"captionist\": \"COCO\", \"assessor\": \"L\\u00e9o\", \"caption\": \"a pigeon sitting outside a window of a high rise building\", \"grade\": 0.9, \"id\": 380258, \"filepath\": \"/root/fiftyone/coco-2017/train/data/000000380258.jpg\", \"clip_grade\": 0.3337065577507019}, {\"url\": \"http://cocodataset.org/#explore?id=380258\", \"captionist\": \"Conrad\", \"assessor\": \"L\\u00e9o\", \"caption\": \"a pigeon is looking through the window\", \"grade\": 0.8, \"id\": 380258, \"filepath\": \"/root/fiftyone/coco-2017/train/data/000000380258.jpg\", \"clip_grade\": 0.6540589928627014}, {\"url\": \"http://cocodataset.org/#explore?id=380258\", \"captionist\": \"Conrad\", \"assessor\": \"L\\u00e9o\", \"caption\": \"a peeping tom is looking through the window\", \"grade\": 0.2, \"id\": 380258, \"filepath\": \"/root/fiftyone/coco-2017/train/data/000000380258.jpg\", \"clip_grade\": 0.0122344838455319}, {\"url\": \"http://cocodataset.org/#explore?id=61354\", \"captionist\": \"COCO\", \"assessor\": \"Arthur\", \"caption\": \"an open market selling assorted fruits with bananas hanging\", \"grade\": 1.0, \"id\": 61354, \"filepath\": \"/root/fiftyone/coco-2017/train/data/000000061354.jpg\", \"clip_grade\": 0.9987115859985352}, {\"url\": \"http://cocodataset.org/#explore?id=61354\", \"captionist\": \"Conrad\", \"assessor\": \"Arthur\", \"caption\": \"bananas are hanging on a pipe\", \"grade\": 1.0, \"id\": 61354, \"filepath\": \"/root/fiftyone/coco-2017/train/data/000000061354.jpg\", \"clip_grade\": 0.0003846304025501}, {\"url\": \"http://cocodataset.org/#explore?id=61354\", \"captionist\": \"Conrad\", \"assessor\": \"Arthur\", \"caption\": \"people are distributing free bananas\", \"grade\": 0.2, \"id\": 61354, \"filepath\": \"/root/fiftyone/coco-2017/train/data/000000061354.jpg\", \"clip_grade\": 0.0009037784766405}, {\"url\": \"http://cocodataset.org/#explore?id=506034\", \"captionist\": \"COCO\", \"assessor\": \"Aymeric\", \"caption\": \"there is a side view mirror and traffic lights in this picture\", \"grade\": 0.7, \"id\": 506034, \"filepath\": \"/root/fiftyone/coco-2017/train/data/000000506034.jpg\", \"clip_grade\": 0.9698553681373596}, {\"url\": \"http://cocodataset.org/#explore?id=506034\", \"captionist\": \"Conrad\", \"assessor\": \"Aymeric\", \"caption\": \"a left view from a vehicule\", \"grade\": 0.7, \"id\": 506034, \"filepath\": \"/root/fiftyone/coco-2017/train/data/000000506034.jpg\", \"clip_grade\": 0.029907539486885}, {\"url\": \"http://cocodataset.org/#explore?id=506034\", \"captionist\": \"Conrad\", \"assessor\": \"Aymeric\", \"caption\": \"someone is driving to school\", \"grade\": 0.3, \"id\": 506034, \"filepath\": \"/root/fiftyone/coco-2017/train/data/000000506034.jpg\", \"clip_grade\": 0.0002371200389461}, {\"url\": \"http://cocodataset.org/#explore?id=239593\", \"captionist\": \"COCO\", \"assessor\": \"L\\u00e9o\", \"caption\": \"a black and white picture of a train going down a track with a city in the background\", \"grade\": 1.0, \"id\": 239593, \"filepath\": \"/root/fiftyone/coco-2017/train/data/000000239593.jpg\", \"clip_grade\": 0.9975619316101074}, {\"url\": \"http://cocodataset.org/#explore?id=239593\", \"captionist\": \"Conrad\", \"assessor\": \"L\\u00e9o\", \"caption\": \"a building with many street tags\", \"grade\": 0.4, \"id\": 239593, \"filepath\": \"/root/fiftyone/coco-2017/train/data/000000239593.jpg\", \"clip_grade\": 5.705485455109738e-05}, {\"url\": \"http://cocodataset.org/#explore?id=239593\", \"captionist\": \"Conrad\", \"assessor\": \"L\\u00e9o\", \"caption\": \"the train is going through the building\", \"grade\": 0.2, \"id\": 239593, \"filepath\": \"/root/fiftyone/coco-2017/train/data/000000239593.jpg\", \"clip_grade\": 0.0023809534031897}, {\"url\": \"http://cocodataset.org/#explore?id=103375\", \"captionist\": \"COCO\", \"assessor\": \"Arthur\", \"caption\": \"a bed has its covers pulled back in a dark room.\", \"grade\": 1.0, \"id\": 103375, \"filepath\": \"/root/fiftyone/coco-2017/train/data/000000103375.jpg\", \"clip_grade\": 0.8802172541618347}, {\"url\": \"http://cocodataset.org/#explore?id=103375\", \"captionist\": \"Conrad\", \"assessor\": \"Arthur\", \"caption\": \"a bedroom with a king size bed\", \"grade\": 0.9, \"id\": 103375, \"filepath\": \"/root/fiftyone/coco-2017/train/data/000000103375.jpg\", \"clip_grade\": 0.118875004351139}, {\"url\": \"http://cocodataset.org/#explore?id=103375\", \"captionist\": \"Conrad\", \"assessor\": \"Arthur\", \"caption\": \"the living room\", \"grade\": 0.1, \"id\": 103375, \"filepath\": \"/root/fiftyone/coco-2017/train/data/000000103375.jpg\", \"clip_grade\": 0.0009077984141185}, {\"url\": \"http://cocodataset.org/#explore?id=452687\", \"captionist\": \"COCO\", \"assessor\": \"Aymeric\", \"caption\": \"a person's foot strapped into a black snowboard.\", \"grade\": 0.88, \"id\": 452687, \"filepath\": \"/root/fiftyone/coco-2017/train/data/000000452687.jpg\", \"clip_grade\": 0.4540399610996246}, {\"url\": \"http://cocodataset.org/#explore?id=452687\", \"captionist\": \"Conrad\", \"assessor\": \"Aymeric\", \"caption\": \"a black snowboard\", \"grade\": 0.66, \"id\": 452687, \"filepath\": \"/root/fiftyone/coco-2017/train/data/000000452687.jpg\", \"clip_grade\": 0.545960009098053}, {\"url\": \"http://cocodataset.org/#explore?id=452687\", \"captionist\": \"Conrad\", \"assessor\": \"Aymeric\", \"caption\": \"someone is sunbathing\", \"grade\": 0.05, \"id\": 452687, \"filepath\": \"/root/fiftyone/coco-2017/train/data/000000452687.jpg\", \"clip_grade\": 2.6281483656021013e-08}, {\"url\": \"http://cocodataset.org/#explore?id=430885\", \"captionist\": \"COCO\", \"assessor\": \"L\\u00e9o\", \"caption\": \"a cloudy skyline with silhouettes of industrial buildings.\", \"grade\": 0.9, \"id\": 430885, \"filepath\": \"/root/fiftyone/coco-2017/train/data/000000430885.jpg\", \"clip_grade\": 0.2810466885566711}, {\"url\": \"http://cocodataset.org/#explore?id=430885\", \"captionist\": \"Conrad\", \"assessor\": \"L\\u00e9o\", \"caption\": \"many industrial buildings with a green light\", \"grade\": 0.8, \"id\": 430885, \"filepath\": \"/root/fiftyone/coco-2017/train/data/000000430885.jpg\", \"clip_grade\": 0.71693354845047}, {\"url\": \"http://cocodataset.org/#explore?id=430885\", \"captionist\": \"Conrad\", \"assessor\": \"L\\u00e9o\", \"caption\": \"A bansky art\", \"grade\": 0.2, \"id\": 430885, \"filepath\": \"/root/fiftyone/coco-2017/train/data/000000430885.jpg\", \"clip_grade\": 0.0020197732374072}, {\"url\": \"http://cocodataset.org/#explore?id=292152\", \"captionist\": \"COCO\", \"assessor\": \"Arthur\", \"caption\": \"a toasted ham sandwich with a pickle on a white plate.\", \"grade\": 1.0, \"id\": 292152, \"filepath\": \"/root/fiftyone/coco-2017/train/data/000000292152.jpg\", \"clip_grade\": 0.999924659729004}, {\"url\": \"http://cocodataset.org/#explore?id=292152\", \"captionist\": \"Conrad\", \"assessor\": \"Arthur\", \"caption\": \"a fine dining breakfast\", \"grade\": 0.4, \"id\": 292152, \"filepath\": \"/root/fiftyone/coco-2017/train/data/000000292152.jpg\", \"clip_grade\": 7.38201561034657e-05}, {\"url\": \"http://cocodataset.org/#explore?id=292152\", \"captionist\": \"Conrad\", \"assessor\": \"Arthur\", \"caption\": \"a baby is crying because the plate is empty\", \"grade\": 0.05, \"id\": 292152, \"filepath\": \"/root/fiftyone/coco-2017/train/data/000000292152.jpg\", \"clip_grade\": 1.5997303535186802e-06}, {\"url\": \"http://cocodataset.org/#explore?id=90024\", \"captionist\": \"COCO\", \"assessor\": \"Aymeric\", \"caption\": \"a giant teddy bear in front of some trees at the mall\", \"grade\": 0.93, \"id\": 90024, \"filepath\": \"/root/fiftyone/coco-2017/train/data/000000090024.jpg\", \"clip_grade\": 0.9994107484817504}, {\"url\": \"http://cocodataset.org/#explore?id=90024\", \"captionist\": \"Conrad\", \"assessor\": \"Aymeric\", \"caption\": \"a front view of a mall entrance\", \"grade\": 0.63, \"id\": 90024, \"filepath\": \"/root/fiftyone/coco-2017/train/data/000000090024.jpg\", \"clip_grade\": 0.0005861277459189}, {\"url\": \"http://cocodataset.org/#explore?id=90024\", \"captionist\": \"Conrad\", \"assessor\": \"Aymeric\", \"caption\": \"santa claus is delivering gifts to children\", \"grade\": 0.0, \"id\": 90024, \"filepath\": \"/root/fiftyone/coco-2017/train/data/000000090024.jpg\", \"clip_grade\": 3.097675971730496e-06}, {\"url\": \"http://cocodataset.org/#explore?id=575331\", \"captionist\": \"COCO\", \"assessor\": \"L\\u00e9o\", \"caption\": \"an octopus kite is being flown next to a scuba diver kite above a city park.\", \"grade\": 1.0, \"id\": 575331, \"filepath\": \"/root/fiftyone/coco-2017/train/data/000000575331.jpg\", \"clip_grade\": 0.9962409734725952}, {\"url\": \"http://cocodataset.org/#explore?id=575331\", \"captionist\": \"Conrad\", \"assessor\": \"L\\u00e9o\", \"caption\": \"two kites, one city park\", \"grade\": 0.6, \"id\": 575331, \"filepath\": \"/root/fiftyone/coco-2017/train/data/000000575331.jpg\", \"clip_grade\": 0.0037579904310405}, {\"url\": \"http://cocodataset.org/#explore?id=575331\", \"captionist\": \"Conrad\", \"assessor\": \"L\\u00e9o\", \"caption\": \"a airballoon has taken off\", \"grade\": 0.1, \"id\": 575331, \"filepath\": \"/root/fiftyone/coco-2017/train/data/000000575331.jpg\", \"clip_grade\": 1.099148335015343e-06}, {\"url\": \"http://cocodataset.org/#explore?id=404917\", \"captionist\": \"COCO\", \"assessor\": \"Arthur\", \"caption\": \"a baseball player throwing a baseball on a field.\", \"grade\": 1.0, \"id\": 404917, \"filepath\": \"/root/fiftyone/coco-2017/train/data/000000404917.jpg\", \"clip_grade\": 0.9274988174438475}, {\"url\": \"http://cocodataset.org/#explore?id=404917\", \"captionist\": \"Conrad\", \"assessor\": \"Arthur\", \"caption\": \"a baseball game\", \"grade\": 0.9, \"id\": 404917, \"filepath\": \"/root/fiftyone/coco-2017/train/data/000000404917.jpg\", \"clip_grade\": 0.0721208974719047}, {\"url\": \"http://cocodataset.org/#explore?id=404917\", \"captionist\": \"Conrad\", \"assessor\": \"Arthur\", \"caption\": \"a boy has broken a window with his baseball thrown\", \"grade\": 0.1, \"id\": 404917, \"filepath\": \"/root/fiftyone/coco-2017/train/data/000000404917.jpg\", \"clip_grade\": 0.0003803168656304}, {\"url\": \"http://cocodataset.org/#explore?id=13176\", \"captionist\": \"COCO\", \"assessor\": \"Aymeric\", \"caption\": \"a man bending to look into a small fridge\", \"grade\": 0.93, \"id\": 13176, \"filepath\": \"/root/fiftyone/coco-2017/train/data/000000013176.jpg\", \"clip_grade\": 0.7992641925811768}, {\"url\": \"http://cocodataset.org/#explore?id=13176\", \"captionist\": \"L\\u00e9o\", \"assessor\": \"Aymeric\", \"caption\": \"a man near a fridge\", \"grade\": 0.75, \"id\": 13176, \"filepath\": \"/root/fiftyone/coco-2017/train/data/000000013176.jpg\", \"clip_grade\": 0.200735718011856}, {\"url\": \"http://cocodataset.org/#explore?id=13176\", \"captionist\": \"L\\u00e9o\", \"assessor\": \"Aymeric\", \"caption\": \"an octopus in the bottom of a hole\", \"grade\": 0.0, \"id\": 13176, \"filepath\": \"/root/fiftyone/coco-2017/train/data/000000013176.jpg\", \"clip_grade\": 6.028758292586646e-08}, {\"url\": \"http://cocodataset.org/#explore?id=230227\", \"captionist\": \"COCO\", \"assessor\": \"Conrad\", \"caption\": \"a cat sitting on a table with a blurred image in the background\", \"grade\": 1.0, \"id\": 230227, \"filepath\": \"/root/fiftyone/coco-2017/train/data/000000230227.jpg\", \"clip_grade\": 0.9617660641670228}, {\"url\": \"http://cocodataset.org/#explore?id=230227\", \"captionist\": \"L\\u00e9o\", \"assessor\": \"Conrad\", \"caption\": \"a cat\", \"grade\": 0.7, \"id\": 230227, \"filepath\": \"/root/fiftyone/coco-2017/train/data/000000230227.jpg\", \"clip_grade\": 0.0381785370409488}, {\"url\": \"http://cocodataset.org/#explore?id=230227\", \"captionist\": \"L\\u00e9o\", \"assessor\": \"Conrad\", \"caption\": \"a dancer and an accordion\", \"grade\": 0.0, \"id\": 230227, \"filepath\": \"/root/fiftyone/coco-2017/train/data/000000230227.jpg\", \"clip_grade\": 5.534451338462532e-05}, {\"url\": \"http://cocodataset.org/#explore?id=122355\", \"captionist\": \"COCO\", \"assessor\": \"Arthur\", \"caption\": \"four people smiling with tennis rackets in their hands\", \"grade\": 1.0, \"id\": 122355, \"filepath\": \"/root/fiftyone/coco-2017/train/data/000000122355.jpg\", \"clip_grade\": 0.9910390973091124}, {\"url\": \"http://cocodataset.org/#explore?id=122355\", \"captionist\": \"L\\u00e9o\", \"assessor\": \"Arthur\", \"caption\": \"people playing tennis\", \"grade\": 0.8, \"id\": 122355, \"filepath\": \"/root/fiftyone/coco-2017/train/data/000000122355.jpg\", \"clip_grade\": 0.0089608691632747}, {\"url\": \"http://cocodataset.org/#explore?id=122355\", \"captionist\": \"L\\u00e9o\", \"assessor\": \"Arthur\", \"caption\": \"a snowman inside a dark forest\", \"grade\": 0.0, \"id\": 122355, \"filepath\": \"/root/fiftyone/coco-2017/train/data/000000122355.jpg\", \"clip_grade\": 5.194306356565148e-12}, {\"url\": \"http://cocodataset.org/#explore?id=359143\", \"captionist\": \"COCO\", \"assessor\": \"Aymeric\", \"caption\": \"a blurry photo of a cyclist on a forest path\", \"grade\": 0.96, \"id\": 359143, \"filepath\": \"/root/fiftyone/coco-2017/train/data/000000359143.jpg\", \"clip_grade\": 0.9997883439064026}, {\"url\": \"http://cocodataset.org/#explore?id=359143\", \"captionist\": \"L\\u00e9o\", \"assessor\": \"Aymeric\", \"caption\": \"a man on a bicycle\", \"grade\": 0.75, \"id\": 359143, \"filepath\": \"/root/fiftyone/coco-2017/train/data/000000359143.jpg\", \"clip_grade\": 0.0002007135481107}, {\"url\": \"http://cocodataset.org/#explore?id=359143\", \"captionist\": \"L\\u00e9o\", \"assessor\": \"Aymeric\", \"caption\": \"the olympic games of tokyo\", \"grade\": 0.0, \"id\": 359143, \"filepath\": \"/root/fiftyone/coco-2017/train/data/000000359143.jpg\", \"clip_grade\": 1.0947102964564692e-05}, {\"url\": \"http://cocodataset.org/#explore?id=135288\", \"captionist\": \"COCO\", \"assessor\": \"Conrad\", \"caption\": \"a young man holding a plate and eating a piece of cake\", \"grade\": 1.0, \"id\": 135288, \"filepath\": \"/root/fiftyone/coco-2017/train/data/000000135288.jpg\", \"clip_grade\": 0.5720261335372925}, {\"url\": \"http://cocodataset.org/#explore?id=135288\", \"captionist\": \"L\\u00e9o\", \"assessor\": \"Conrad\", \"caption\": \"a man eating a cake\", \"grade\": 0.9, \"id\": 135288, \"filepath\": \"/root/fiftyone/coco-2017/train/data/000000135288.jpg\", \"clip_grade\": 0.4279720485210418}, {\"url\": \"http://cocodataset.org/#explore?id=135288\", \"captionist\": \"L\\u00e9o\", \"assessor\": \"Conrad\", \"caption\": \"two daughters on the ground\", \"grade\": 0.0, \"id\": 135288, \"filepath\": \"/root/fiftyone/coco-2017/train/data/000000135288.jpg\", \"clip_grade\": 1.7618650645090383e-06}, {\"url\": \"http://cocodataset.org/#explore?id=273029\", \"captionist\": \"COCO\", \"assessor\": \"Arthur\", \"caption\": \"a piece of pizza with many topping on it\", \"grade\": 0.9, \"id\": 273029, \"filepath\": \"/root/fiftyone/coco-2017/train/data/000000273029.jpg\", \"clip_grade\": 0.225586786866188}, {\"url\": \"http://cocodataset.org/#explore?id=273029\", \"captionist\": \"L\\u00e9o\", \"assessor\": \"Arthur\", \"caption\": \"a beautiful pizza\", \"grade\": 0.9, \"id\": 273029, \"filepath\": \"/root/fiftyone/coco-2017/train/data/000000273029.jpg\", \"clip_grade\": 0.774412989616394}, {\"url\": \"http://cocodataset.org/#explore?id=273029\", \"captionist\": \"L\\u00e9o\", \"assessor\": \"Arthur\", \"caption\": \"an empty field in the setting sun\", \"grade\": 0.0, \"id\": 273029, \"filepath\": \"/root/fiftyone/coco-2017/train/data/000000273029.jpg\", \"clip_grade\": 2.413225388409046e-07}, {\"url\": \"http://cocodataset.org/#explore?id=185633\", \"captionist\": \"COCO\", \"assessor\": \"Aymeric\", \"caption\": \"an old bathroom with peeling paint on the walls and lots of toiletries scattered around\", \"grade\": 0.9, \"id\": 185633, \"filepath\": \"/root/fiftyone/coco-2017/train/data/000000185633.jpg\", \"clip_grade\": 0.9891350269317628}, {\"url\": \"http://cocodataset.org/#explore?id=185633\", \"captionist\": \"L\\u00e9o\", \"assessor\": \"Aymeric\", \"caption\": \"an ugly bathroom\", \"grade\": 0.5, \"id\": 185633, \"filepath\": \"/root/fiftyone/coco-2017/train/data/000000185633.jpg\", \"clip_grade\": 0.0108423149213194}, {\"url\": \"http://cocodataset.org/#explore?id=185633\", \"captionist\": \"L\\u00e9o\", \"assessor\": \"Aymeric\", \"caption\": \"the kitchen of an asiatic restaurant\", \"grade\": 0.05, \"id\": 185633, \"filepath\": \"/root/fiftyone/coco-2017/train/data/000000185633.jpg\", \"clip_grade\": 2.268980097142048e-05}, {\"url\": \"http://cocodataset.org/#explore?id=270222\", \"captionist\": \"COCO\", \"assessor\": \"Conrad\", \"caption\": \"several small clocks are all connected with human-like ornaments\", \"grade\": 1.0, \"id\": 270222, \"filepath\": \"/root/fiftyone/coco-2017/train/data/000000270222.jpg\", \"clip_grade\": 0.9435181021690368}, {\"url\": \"http://cocodataset.org/#explore?id=270222\", \"captionist\": \"L\\u00e9o\", \"assessor\": \"Conrad\", \"caption\": \"different clocks on the wall\", \"grade\": 0.8, \"id\": 270222, \"filepath\": \"/root/fiftyone/coco-2017/train/data/000000270222.jpg\", \"clip_grade\": 0.0564819276332855}, {\"url\": \"http://cocodataset.org/#explore?id=270222\", \"captionist\": \"L\\u00e9o\", \"assessor\": \"Conrad\", \"caption\": \"three ladies looking at burning trees\", \"grade\": 0.1, \"id\": 270222, \"filepath\": \"/root/fiftyone/coco-2017/train/data/000000270222.jpg\", \"clip_grade\": 4.7103515754542975e-08}, {\"url\": \"http://cocodataset.org/#explore?id=439868\", \"captionist\": \"COCO\", \"assessor\": \"Arthur\", \"caption\": \"a skateboarder is jumping onto a rail near crowd\", \"grade\": 0.9, \"id\": 439868, \"filepath\": \"/root/fiftyone/coco-2017/train/data/000000439868.jpg\", \"clip_grade\": 0.8987407684326172}, {\"url\": \"http://cocodataset.org/#explore?id=439868\", \"captionist\": \"L\\u00e9o\", \"assessor\": \"Arthur\", \"caption\": \"people looking at a skateboarder\", \"grade\": 0.9, \"id\": 439868, \"filepath\": \"/root/fiftyone/coco-2017/train/data/000000439868.jpg\", \"clip_grade\": 0.1011834815144538}, {\"url\": \"http://cocodataset.org/#explore?id=439868\", \"captionist\": \"L\\u00e9o\", \"assessor\": \"Arthur\", \"caption\": \"a crowd focused on chess players\", \"grade\": 0.1, \"id\": 439868, \"filepath\": \"/root/fiftyone/coco-2017/train/data/000000439868.jpg\", \"clip_grade\": 7.569526496808976e-05}, {\"url\": \"http://cocodataset.org/#explore?id=424174\", \"captionist\": \"COCO\", \"assessor\": \"Aymeric\", \"caption\": \"a tray heaped with fruit including banans apples oranges and limes\", \"grade\": 0.95, \"id\": 424174, \"filepath\": \"/root/fiftyone/coco-2017/train/data/000000424174.jpg\", \"clip_grade\": 0.7374720573425293}, {\"url\": \"http://cocodataset.org/#explore?id=424174\", \"captionist\": \"L\\u00e9o\", \"assessor\": \"Aymeric\", \"caption\": \"a bunch of fruits\", \"grade\": 0.75, \"id\": 424174, \"filepath\": \"/root/fiftyone/coco-2017/train/data/000000424174.jpg\", \"clip_grade\": 0.2625217735767364}, {\"url\": \"http://cocodataset.org/#explore?id=424174\", \"captionist\": \"L\\u00e9o\", \"assessor\": \"Aymeric\", \"caption\": \"an ancient beautiful table and painting on the walls\", \"grade\": 0.1, \"id\": 424174, \"filepath\": \"/root/fiftyone/coco-2017/train/data/000000424174.jpg\", \"clip_grade\": 6.204971214174293e-06}, {\"url\": \"http://cocodataset.org/#explore?id=344720\", \"captionist\": \"COCO\", \"assessor\": \"Conrad\", \"caption\": \"several cars at an intersection on a city stree\", \"grade\": 0.9, \"id\": 344720, \"filepath\": \"/root/fiftyone/coco-2017/train/data/000000344720.jpg\", \"clip_grade\": 0.3888861238956451}, {\"url\": \"http://cocodataset.org/#explore?id=344720\", \"captionist\": \"L\\u00e9o\", \"assessor\": \"Conrad\", \"caption\": \"cars near buildings\", \"grade\": 0.5, \"id\": 344720, \"filepath\": \"/root/fiftyone/coco-2017/train/data/000000344720.jpg\", \"clip_grade\": 0.6110410690307617}, {\"url\": \"http://cocodataset.org/#explore?id=344720\", \"captionist\": \"L\\u00e9o\", \"assessor\": \"Conrad\", \"caption\": \"little red riding hood\", \"grade\": 0.0, \"id\": 344720, \"filepath\": \"/root/fiftyone/coco-2017/train/data/000000344720.jpg\", \"clip_grade\": 7.28189988876693e-05}, {\"url\": \"http://cocodataset.org/#explore?id=292782\", \"captionist\": \"COCO\", \"assessor\": \"Arthur\", \"caption\": \"a group of people flying their kites on a sunny day\", \"grade\": 0.9, \"id\": 292782, \"filepath\": \"/root/fiftyone/coco-2017/train/data/000000292782.jpg\", \"clip_grade\": 0.935935378074646}, {\"url\": \"http://cocodataset.org/#explore?id=292782\", \"captionist\": \"L\\u00e9o\", \"assessor\": \"Arthur\", \"caption\": \"kites in the sky\", \"grade\": 0.8, \"id\": 292782, \"filepath\": \"/root/fiftyone/coco-2017/train/data/000000292782.jpg\", \"clip_grade\": 0.0640646368265152}, {\"url\": \"http://cocodataset.org/#explore?id=292782\", \"captionist\": \"L\\u00e9o\", \"assessor\": \"Arthur\", \"caption\": \"an old lady eating jam\", \"grade\": 0.0, \"id\": 292782, \"filepath\": \"/root/fiftyone/coco-2017/train/data/000000292782.jpg\", \"clip_grade\": 2.1413024242633586e-08}, {\"url\": \"http://cocodataset.org/#explore?id=102765\", \"captionist\": \"COCO\", \"assessor\": \"Aymeric\", \"caption\": \"two young girls sitting on their luggage outside of a brick building\", \"grade\": 0.75, \"id\": 102765, \"filepath\": \"/root/fiftyone/coco-2017/train/data/000000102765.jpg\", \"clip_grade\": 0.8385114073753357}, {\"url\": \"http://cocodataset.org/#explore?id=102765\", \"captionist\": \"L\\u00e9o\", \"assessor\": \"Aymeric\", \"caption\": \"ladies with their luggage\", \"grade\": 0.5, \"id\": 102765, \"filepath\": \"/root/fiftyone/coco-2017/train/data/000000102765.jpg\", \"clip_grade\": 0.1614460498094558}, {\"url\": \"http://cocodataset.org/#explore?id=102765\", \"captionist\": \"L\\u00e9o\", \"assessor\": \"Aymeric\", \"caption\": \"a super-hero fighting bad guys\", \"grade\": 0.0, \"id\": 102765, \"filepath\": \"/root/fiftyone/coco-2017/train/data/000000102765.jpg\", \"clip_grade\": 4.258626358932816e-05}, {\"url\": \"http://cocodataset.org/#explore?id=484149\", \"captionist\": \"COCO\", \"assessor\": \"Conrad\", \"caption\": \"a field of yellow grass with sheep grazing and standing throughout the areas\", \"grade\": 1.0, \"id\": 484149, \"filepath\": \"/root/fiftyone/coco-2017/train/data/000000484149.jpg\", \"clip_grade\": 0.7489568591117859}, {\"url\": \"http://cocodataset.org/#explore?id=484149\", \"captionist\": \"L\\u00e9o\", \"assessor\": \"Conrad\", \"caption\": \"sheep grazing\", \"grade\": 0.7, \"id\": 484149, \"filepath\": \"/root/fiftyone/coco-2017/train/data/000000484149.jpg\", \"clip_grade\": 0.2504254877567291}, {\"url\": \"http://cocodataset.org/#explore?id=484149\", \"captionist\": \"L\\u00e9o\", \"assessor\": \"Conrad\", \"caption\": \"a bunch of flying cows\", \"grade\": 0.0, \"id\": 484149, \"filepath\": \"/root/fiftyone/coco-2017/train/data/000000484149.jpg\", \"clip_grade\": 0.000617635436356}, {\"url\": \"http://cocodataset.org/#explore?id=27593\", \"captionist\": \"COCO\", \"assessor\": \"Arthur\", \"caption\": \"a man flying through the air on top of a skateboard\", \"grade\": 0.9, \"id\": 27593, \"filepath\": \"/root/fiftyone/coco-2017/train/data/000000027593.jpg\", \"clip_grade\": 0.7783779501914978}, {\"url\": \"http://cocodataset.org/#explore?id=27593\", \"captionist\": \"L\\u00e9o\", \"assessor\": \"Arthur\", \"caption\": \"a skateboard in the airs\", \"grade\": 1.0, \"id\": 27593, \"filepath\": \"/root/fiftyone/coco-2017/train/data/000000027593.jpg\", \"clip_grade\": 0.2216220051050186}, {\"url\": \"http://cocodataset.org/#explore?id=27593\", \"captionist\": \"L\\u00e9o\", \"assessor\": \"Arthur\", \"caption\": \"a bed covered in packets of crisps\", \"grade\": 0.0, \"id\": 27593, \"filepath\": \"/root/fiftyone/coco-2017/train/data/000000027593.jpg\", \"clip_grade\": 5.1325336869467726e-08}, {\"url\": \"http://cocodataset.org/#explore?id=266165\", \"captionist\": \"COCO\", \"assessor\": \"Aymeric\", \"caption\": \"a cat standing in one food dish while eating out of another dish\", \"grade\": 0.97, \"id\": 266165, \"filepath\": \"/root/fiftyone/coco-2017/train/data/000000266165.jpg\", \"clip_grade\": 0.8984618782997131}, {\"url\": \"http://cocodataset.org/#explore?id=266165\", \"captionist\": \"L\\u00e9o\", \"assessor\": \"Aymeric\", \"caption\": \"a cat eating food\", \"grade\": 0.8, \"id\": 266165, \"filepath\": \"/root/fiftyone/coco-2017/train/data/000000266165.jpg\", \"clip_grade\": 0.1015379056334495}, {\"url\": \"http://cocodataset.org/#explore?id=266165\", \"captionist\": \"L\\u00e9o\", \"assessor\": \"Aymeric\", \"caption\": \"an open window that allows to see the garden\", \"grade\": 0.0, \"id\": 266165, \"filepath\": \"/root/fiftyone/coco-2017/train/data/000000266165.jpg\", \"clip_grade\": 1.9789301575201534e-07}, {\"url\": \"http://cocodataset.org/#explore?id=125070\", \"captionist\": \"COCO\", \"assessor\": \"Conrad\", \"caption\": \"a blue clock pole outside an older building\", \"grade\": 1.0, \"id\": 125070, \"filepath\": \"/root/fiftyone/coco-2017/train/data/000000125070.jpg\", \"clip_grade\": 0.6261239647865295}, {\"url\": \"http://cocodataset.org/#explore?id=125070\", \"captionist\": \"L\\u00e9o\", \"assessor\": \"Conrad\", \"caption\": \"a clock in the street\", \"grade\": 0.8, \"id\": 125070, \"filepath\": \"/root/fiftyone/coco-2017/train/data/000000125070.jpg\", \"clip_grade\": 0.3738414645195007}, {\"url\": \"http://cocodataset.org/#explore?id=125070\", \"captionist\": \"L\\u00e9o\", \"assessor\": \"Conrad\", \"caption\": \"two gentlement arguing near a stop sign\", \"grade\": 0.0, \"id\": 125070, \"filepath\": \"/root/fiftyone/coco-2017/train/data/000000125070.jpg\", \"clip_grade\": 3.4524597140261903e-05}, {\"url\": \"http://cocodataset.org/#explore?id=78771\", \"captionist\": \"COCO\", \"assessor\": \"Arthur\", \"caption\": \"a cat sitting next to a laptop computer on a table\", \"grade\": 1.0, \"id\": 78771, \"filepath\": \"/root/fiftyone/coco-2017/train/data/000000078771.jpg\", \"clip_grade\": 0.5629613399505615}, {\"url\": \"http://cocodataset.org/#explore?id=78771\", \"captionist\": \"L\\u00e9o\", \"assessor\": \"Arthur\", \"caption\": \"a cat on a computer\", \"grade\": 0.7, \"id\": 78771, \"filepath\": \"/root/fiftyone/coco-2017/train/data/000000078771.jpg\", \"clip_grade\": 0.4370287358760834}, {\"url\": \"http://cocodataset.org/#explore?id=78771\", \"captionist\": \"L\\u00e9o\", \"assessor\": \"Arthur\", \"caption\": \"a baby crying in the grass\", \"grade\": 0.0, \"id\": 78771, \"filepath\": \"/root/fiftyone/coco-2017/train/data/000000078771.jpg\", \"clip_grade\": 9.938544280885251e-06}, {\"url\": \"http://cocodataset.org/#explore?id=291606\", \"captionist\": \"COCO\", \"assessor\": \"Aymeric\", \"caption\": \"a woman standing outside of a bus with asian characters written on it\", \"grade\": 0.88, \"id\": 291606, \"filepath\": \"/root/fiftyone/coco-2017/train/data/000000291606.jpg\", \"clip_grade\": 0.9922820925712584}, {\"url\": \"http://cocodataset.org/#explore?id=291606\", \"captionist\": \"L\\u00e9o\", \"assessor\": \"Aymeric\", \"caption\": \"a bus in Asia\", \"grade\": 0.6, \"id\": 291606, \"filepath\": \"/root/fiftyone/coco-2017/train/data/000000291606.jpg\", \"clip_grade\": 0.0077179498039186}, {\"url\": \"http://cocodataset.org/#explore?id=291606\", \"captionist\": \"L\\u00e9o\", \"assessor\": \"Aymeric\", \"caption\": \"the great pyramids of egypt\", \"grade\": 0.0, \"id\": 291606, \"filepath\": \"/root/fiftyone/coco-2017/train/data/000000291606.jpg\", \"clip_grade\": 5.244579437402308e-09}, {\"url\": \"http://cocodataset.org/#explore?id=423116\", \"captionist\": \"COCO\", \"assessor\": \"Conrad\", \"caption\": \"on a kitchen counter are a laptop, candy, and cooking supplies\", \"grade\": 1.0, \"id\": 423116, \"filepath\": \"/root/fiftyone/coco-2017/train/data/000000423116.jpg\", \"clip_grade\": 0.9917593598365784}, {\"url\": \"http://cocodataset.org/#explore?id=423116\", \"captionist\": \"L\\u00e9o\", \"assessor\": \"Conrad\", \"caption\": \"the table of a kitchen with a latpot on it\", \"grade\": 0.6, \"id\": 423116, \"filepath\": \"/root/fiftyone/coco-2017/train/data/000000423116.jpg\", \"clip_grade\": 0.0082404762506484}, {\"url\": \"http://cocodataset.org/#explore?id=423116\", \"captionist\": \"L\\u00e9o\", \"assessor\": \"Conrad\", \"caption\": \"a sky filled with planes\", \"grade\": 0.0, \"id\": 423116, \"filepath\": \"/root/fiftyone/coco-2017/train/data/000000423116.jpg\", \"clip_grade\": 1.9202106216198445e-07}, {\"url\": \"http://cocodataset.org/#explore?id=405762\", \"captionist\": \"COCO\", \"assessor\": \"Arthur\", \"caption\": \"a man is running while carrying a football\", \"grade\": 1.0, \"id\": 405762, \"filepath\": \"/root/fiftyone/coco-2017/train/data/000000405762.jpg\", \"clip_grade\": 0.0662026181817054}, {\"url\": \"http://cocodataset.org/#explore?id=405762\", \"captionist\": \"L\\u00e9o\", \"assessor\": \"Arthur\", \"caption\": \"a man playing football\", \"grade\": 1.0, \"id\": 405762, \"filepath\": \"/root/fiftyone/coco-2017/train/data/000000405762.jpg\", \"clip_grade\": 0.9337958097457886}, {\"url\": \"http://cocodataset.org/#explore?id=405762\", \"captionist\": \"L\\u00e9o\", \"assessor\": \"Arthur\", \"caption\": \"a postman with red hair in the street\", \"grade\": 0.15, \"id\": 405762, \"filepath\": \"/root/fiftyone/coco-2017/train/data/000000405762.jpg\", \"clip_grade\": 1.5696346054028254e-06}, {\"url\": \"http://cocodataset.org/#explore?id=41001\", \"captionist\": \"COCO\", \"assessor\": \"Aymeric\", \"caption\": \"two adult elephants and one baby elephant walking in a grassy area\", \"grade\": 0.97, \"id\": 41001, \"filepath\": \"/root/fiftyone/coco-2017/train/data/000000041001.jpg\", \"clip_grade\": 0.959865152835846}, {\"url\": \"http://cocodataset.org/#explore?id=41001\", \"captionist\": \"L\\u00e9o\", \"assessor\": \"Aymeric\", \"caption\": \"elephants in the Savannah\", \"grade\": 0.75, \"id\": 41001, \"filepath\": \"/root/fiftyone/coco-2017/train/data/000000041001.jpg\", \"clip_grade\": 0.0401331111788749}, {\"url\": \"http://cocodataset.org/#explore?id=41001\", \"captionist\": \"L\\u00e9o\", \"assessor\": \"Aymeric\", \"caption\": \"A blue cow eating milk\", \"grade\": 0.05, \"id\": 41001, \"filepath\": \"/root/fiftyone/coco-2017/train/data/000000041001.jpg\", \"clip_grade\": 1.744452674756758e-06}, {\"url\": \"http://cocodataset.org/#explore?id=201925\", \"captionist\": \"COCO\", \"assessor\": \"Conrad\", \"caption\": \"something baking in a pan in the oven and rising out of the pan\", \"grade\": 1.0, \"id\": 201925, \"filepath\": \"/root/fiftyone/coco-2017/train/data/000000201925.jpg\", \"clip_grade\": 0.2479728460311889}, {\"url\": \"http://cocodataset.org/#explore?id=201925\", \"captionist\": \"L\\u00e9o\", \"assessor\": \"Conrad\", \"caption\": \"a baking cake\", \"grade\": 0.9, \"id\": 201925, \"filepath\": \"/root/fiftyone/coco-2017/train/data/000000201925.jpg\", \"clip_grade\": 0.752027153968811}, {\"url\": \"http://cocodataset.org/#explore?id=201925\", \"captionist\": \"L\\u00e9o\", \"assessor\": \"Conrad\", \"caption\": \"the painting of a wedding\", \"grade\": 0.0, \"id\": 201925, \"filepath\": \"/root/fiftyone/coco-2017/train/data/000000201925.jpg\", \"clip_grade\": 1.5917374085461233e-08}, {\"url\": \"http://cocodataset.org/#explore?id=380734\", \"captionist\": \"COCO\", \"assessor\": \"Arthur\", \"caption\": \"several diners eating at a riverside outdoor restaurant\", \"grade\": 1.0, \"id\": 380734, \"filepath\": \"/root/fiftyone/coco-2017/train/data/000000380734.jpg\", \"clip_grade\": 0.9878227710723876}, {\"url\": \"http://cocodataset.org/#explore?id=380734\", \"captionist\": \"L\\u00e9o\", \"assessor\": \"Arthur\", \"caption\": \"people having dinner in the street\", \"grade\": 0.9, \"id\": 380734, \"filepath\": \"/root/fiftyone/coco-2017/train/data/000000380734.jpg\", \"clip_grade\": 0.0121772577986121}, {\"url\": \"http://cocodataset.org/#explore?id=380734\", \"captionist\": \"L\\u00e9o\", \"assessor\": \"Arthur\", \"caption\": \"two wolves howling in the snow\", \"grade\": 0.0, \"id\": 380734, \"filepath\": \"/root/fiftyone/coco-2017/train/data/000000380734.jpg\", \"clip_grade\": 8.336938778219505e-11}, {\"url\": \"http://cocodataset.org/#explore?id=487462\", \"captionist\": \"COCO\", \"assessor\": \"Aymeric\", \"caption\": \"a boy is preparing to toss a frisbie while another boy is sitting in the background in a park\", \"grade\": 0.95, \"id\": 487462, \"filepath\": \"/root/fiftyone/coco-2017/train/data/000000487462.jpg\", \"clip_grade\": 0.1128360405564308}, {\"url\": \"http://cocodataset.org/#explore?id=487462\", \"captionist\": \"L\\u00e9o\", \"assessor\": \"Aymeric\", \"caption\": \"a man playing frisbie\", \"grade\": 0.75, \"id\": 487462, \"filepath\": \"/root/fiftyone/coco-2017/train/data/000000487462.jpg\", \"clip_grade\": 0.8871636390686035}, {\"url\": \"http://cocodataset.org/#explore?id=487462\", \"captionist\": \"L\\u00e9o\", \"assessor\": \"Aymeric\", \"caption\": \"a nice looking icecream\", \"grade\": 0.0, \"id\": 487462, \"filepath\": \"/root/fiftyone/coco-2017/train/data/000000487462.jpg\", \"clip_grade\": 3.423531040880335e-07}, {\"url\": \"http://cocodataset.org/#explore?id=455776\", \"captionist\": \"COCO\", \"assessor\": \"Conrad\", \"caption\": \"a young boy is preparing to catch a baseball.\", \"grade\": 1.0, \"id\": 455776, \"filepath\": \"/root/fiftyone/coco-2017/train/data/000000455776.jpg\", \"clip_grade\": 0.9653781652450562}, {\"url\": \"http://cocodataset.org/#explore?id=455776\", \"captionist\": \"Aymeric\", \"assessor\": \"Conrad\", \"caption\": \"A human trying to catch a ball\", \"grade\": 0.8, \"id\": 455776, \"filepath\": \"/root/fiftyone/coco-2017/train/data/000000455776.jpg\", \"clip_grade\": 0.0346219018101692}, {\"url\": \"http://cocodataset.org/#explore?id=455776\", \"captionist\": \"Aymeric\", \"assessor\": \"Conrad\", \"caption\": \"A bottle of wine in a grey field\", \"grade\": 0.0, \"id\": 455776, \"filepath\": \"/root/fiftyone/coco-2017/train/data/000000455776.jpg\", \"clip_grade\": 1.2507438640341206e-08}, {\"url\": \"http://cocodataset.org/#explore?id=440895\", \"captionist\": \"COCO\", \"assessor\": \"Arthur\", \"caption\": \"a white horse can be seen in the window of a brick building.\", \"grade\": 1.0, \"id\": 440895, \"filepath\": \"/root/fiftyone/coco-2017/train/data/000000440895.jpg\", \"clip_grade\": 0.9999196529388428}, {\"url\": \"http://cocodataset.org/#explore?id=440895\", \"captionist\": \"Aymeric\", \"assessor\": \"Arthur\", \"caption\": \"A black horse in a modern town\", \"grade\": 0.1, \"id\": 440895, \"filepath\": \"/root/fiftyone/coco-2017/train/data/000000440895.jpg\", \"clip_grade\": 8.029538730625063e-05}, {\"url\": \"http://cocodataset.org/#explore?id=440895\", \"captionist\": \"Aymeric\", \"assessor\": \"Arthur\", \"caption\": \"French fries playing tennis in a brown field\", \"grade\": 0.0, \"id\": 440895, \"filepath\": \"/root/fiftyone/coco-2017/train/data/000000440895.jpg\", \"clip_grade\": 6.418467979329989e-09}, {\"url\": \"http://cocodataset.org/#explore?id=55627\", \"captionist\": \"COCO\", \"assessor\": \"L\\u00e9o\", \"caption\": \"a bathroom with a mirror above the sink, a towel rack and toilet.\", \"grade\": 1.0, \"id\": 55627, \"filepath\": \"/root/fiftyone/coco-2017/train/data/000000055627.jpg\", \"clip_grade\": 0.9612910151481628}, {\"url\": \"http://cocodataset.org/#explore?id=55627\", \"captionist\": \"Aymeric\", \"assessor\": \"L\\u00e9o\", \"caption\": \"A bathroom with a sink\", \"grade\": 0.8, \"id\": 55627, \"filepath\": \"/root/fiftyone/coco-2017/train/data/000000055627.jpg\", \"clip_grade\": 0.038708820939064}, {\"url\": \"http://cocodataset.org/#explore?id=55627\", \"captionist\": \"Aymeric\", \"assessor\": \"L\\u00e9o\", \"caption\": \"Picture of a garden full of flowers\", \"grade\": 0.0, \"id\": 55627, \"filepath\": \"/root/fiftyone/coco-2017/train/data/000000055627.jpg\", \"clip_grade\": 1.7151322140307457e-07}, {\"url\": \"http://cocodataset.org/#explore?id=436111\", \"captionist\": \"COCO\", \"assessor\": \"Conrad\", \"caption\": \"a white bathroom has dirt all over the floor.\", \"grade\": 1.0, \"id\": 436111, \"filepath\": \"/root/fiftyone/coco-2017/train/data/000000436111.jpg\", \"clip_grade\": 0.9924668669700624}, {\"url\": \"http://cocodataset.org/#explore?id=436111\", \"captionist\": \"Aymeric\", \"assessor\": \"Conrad\", \"caption\": \"photograph of a room in low angle\", \"grade\": 0.4, \"id\": 436111, \"filepath\": \"/root/fiftyone/coco-2017/train/data/000000436111.jpg\", \"clip_grade\": 0.0075330641120672}, {\"url\": \"http://cocodataset.org/#explore?id=436111\", \"captionist\": \"Aymeric\", \"assessor\": \"Conrad\", \"caption\": \"painting of trees \", \"grade\": 0.0, \"id\": 436111, \"filepath\": \"/root/fiftyone/coco-2017/train/data/000000436111.jpg\", \"clip_grade\": 4.494584260328338e-08}, {\"url\": \"http://cocodataset.org/#explore?id=492286\", \"captionist\": \"COCO\", \"assessor\": \"Arthur\", \"caption\": \"a big train is about to leave and go away.\", \"grade\": 0.7, \"id\": 492286, \"filepath\": \"/root/fiftyone/coco-2017/train/data/000000492286.jpg\", \"clip_grade\": 0.7929985523223877}, {\"url\": \"http://cocodataset.org/#explore?id=492286\", \"captionist\": \"Aymeric\", \"assessor\": \"Arthur\", \"caption\": \"A vehicle with people next to it\", \"grade\": 0.8, \"id\": 492286, \"filepath\": \"/root/fiftyone/coco-2017/train/data/000000492286.jpg\", \"clip_grade\": 0.1901447474956512}, {\"url\": \"http://cocodataset.org/#explore?id=492286\", \"captionist\": \"Aymeric\", \"assessor\": \"Arthur\", \"caption\": \"A tall person standing in front of a door\", \"grade\": 0.05, \"id\": 492286, \"filepath\": \"/root/fiftyone/coco-2017/train/data/000000492286.jpg\", \"clip_grade\": 0.0168567486107349}, {\"url\": \"http://cocodataset.org/#explore?id=149892\", \"captionist\": \"COCO\", \"assessor\": \"L\\u00e9o\", \"caption\": \"a bench and chair are seen on the bank of a river.\", \"grade\": 0.9, \"id\": 149892, \"filepath\": \"/root/fiftyone/coco-2017/train/data/000000149892.jpg\", \"clip_grade\": 0.9618163108825684}, {\"url\": \"http://cocodataset.org/#explore?id=149892\", \"captionist\": \"Aymeric\", \"assessor\": \"L\\u00e9o\", \"caption\": \"People sitting next to a river\", \"grade\": 0.3, \"id\": 149892, \"filepath\": \"/root/fiftyone/coco-2017/train/data/000000149892.jpg\", \"clip_grade\": 0.0381830111145973}, {\"url\": \"http://cocodataset.org/#explore?id=149892\", \"captionist\": \"Aymeric\", \"assessor\": \"L\\u00e9o\", \"caption\": \"The floor is lava\", \"grade\": 0.0, \"id\": 149892, \"filepath\": \"/root/fiftyone/coco-2017/train/data/000000149892.jpg\", \"clip_grade\": 7.010787044237077e-07}, {\"url\": \"http://cocodataset.org/#explore?id=493196\", \"captionist\": \"COCO\", \"assessor\": \"Conrad\", \"caption\": \"a man with helmet skating past some bicycle riders on the road\", \"grade\": 1.0, \"id\": 493196, \"filepath\": \"/root/fiftyone/coco-2017/train/data/000000493196.jpg\", \"clip_grade\": 0.997199773788452}, {\"url\": \"http://cocodataset.org/#explore?id=493196\", \"captionist\": \"Aymeric\", \"assessor\": \"Conrad\", \"caption\": \"Bicycle riders under trees\", \"grade\": 0.5, \"id\": 493196, \"filepath\": \"/root/fiftyone/coco-2017/train/data/000000493196.jpg\", \"clip_grade\": 0.0027965942863374}, {\"url\": \"http://cocodataset.org/#explore?id=493196\", \"captionist\": \"Aymeric\", \"assessor\": \"Conrad\", \"caption\": \"A yellow road with two dogs \", \"grade\": 0.0, \"id\": 493196, \"filepath\": \"/root/fiftyone/coco-2017/train/data/000000493196.jpg\", \"clip_grade\": 3.707198402480572e-06}, {\"url\": \"http://cocodataset.org/#explore?id=182575\", \"captionist\": \"COCO\", \"assessor\": \"Arthur\", \"caption\": \"this is a plate of broccoli and cauliflower\", \"grade\": 0.9, \"id\": 182575, \"filepath\": \"/root/fiftyone/coco-2017/train/data/000000182575.jpg\", \"clip_grade\": 0.939659059047699}, {\"url\": \"http://cocodataset.org/#explore?id=182575\", \"captionist\": \"Aymeric\", \"assessor\": \"Arthur\", \"caption\": \"A plate of pasta\", \"grade\": 0.2, \"id\": 182575, \"filepath\": \"/root/fiftyone/coco-2017/train/data/000000182575.jpg\", \"clip_grade\": 0.0305341333150863}, {\"url\": \"http://cocodataset.org/#explore?id=182575\", \"captionist\": \"Aymeric\", \"assessor\": \"Arthur\", \"caption\": \"Three tables and a spoon \", \"grade\": 0.1, \"id\": 182575, \"filepath\": \"/root/fiftyone/coco-2017/train/data/000000182575.jpg\", \"clip_grade\": 0.0298067908734083}, {\"url\": \"http://cocodataset.org/#explore?id=203559\", \"captionist\": \"COCO\", \"assessor\": \"L\\u00e9o\", \"caption\": \"a man is inspecting a baby elephants eye\", \"grade\": 1.0, \"id\": 203559, \"filepath\": \"/root/fiftyone/coco-2017/train/data/000000203559.jpg\", \"clip_grade\": 0.9694643020629884}, {\"url\": \"http://cocodataset.org/#explore?id=203559\", \"captionist\": \"Aymeric\", \"assessor\": \"L\\u00e9o\", \"caption\": \"Three elephants around a man\", \"grade\": 0.6, \"id\": 203559, \"filepath\": \"/root/fiftyone/coco-2017/train/data/000000203559.jpg\", \"clip_grade\": 0.030535627156496}, {\"url\": \"http://cocodataset.org/#explore?id=203559\", \"captionist\": \"Aymeric\", \"assessor\": \"L\\u00e9o\", \"caption\": \"A black and blue dress\", \"grade\": 0.0, \"id\": 203559, \"filepath\": \"/root/fiftyone/coco-2017/train/data/000000203559.jpg\", \"clip_grade\": 2.8619025371767748e-08}, {\"url\": \"http://cocodataset.org/#explore?id=519950\", \"captionist\": \"COCO\", \"assessor\": \"Conrad\", \"caption\": \"a man is in mid air over a tennis court.\", \"grade\": 1.0, \"id\": 519950, \"filepath\": \"/root/fiftyone/coco-2017/train/data/000000519950.jpg\", \"clip_grade\": 0.9940815567970276}, {\"url\": \"http://cocodataset.org/#explore?id=519950\", \"captionist\": \"Aymeric\", \"assessor\": \"Conrad\", \"caption\": \"A man jumping in a pool to hit a ball\", \"grade\": 0.7, \"id\": 519950, \"filepath\": \"/root/fiftyone/coco-2017/train/data/000000519950.jpg\", \"clip_grade\": 0.0059103374369442}, {\"url\": \"http://cocodataset.org/#explore?id=519950\", \"captionist\": \"Aymeric\", \"assessor\": \"Conrad\", \"caption\": \"A dog playing with his owner\", \"grade\": 0.0, \"id\": 519950, \"filepath\": \"/root/fiftyone/coco-2017/train/data/000000519950.jpg\", \"clip_grade\": 8.011237696337048e-06}, {\"url\": \"http://cocodataset.org/#explore?id=27276\", \"captionist\": \"COCO\", \"assessor\": \"Arthur\", \"caption\": \"a dog is under the bed eating a box\", \"grade\": 1.0, \"id\": 27276, \"filepath\": \"/root/fiftyone/coco-2017/train/data/000000027276.jpg\", \"clip_grade\": 0.999956488609314}, {\"url\": \"http://cocodataset.org/#explore?id=27276\", \"captionist\": \"Aymeric\", \"assessor\": \"Arthur\", \"caption\": \"a cat hiding is a small place\", \"grade\": 0.1, \"id\": 27276, \"filepath\": \"/root/fiftyone/coco-2017/train/data/000000027276.jpg\", \"clip_grade\": 4.35502479376737e-05}, {\"url\": \"http://cocodataset.org/#explore?id=27276\", \"captionist\": \"Aymeric\", \"assessor\": \"Arthur\", \"caption\": \"A blue and white rollercoaster \", \"grade\": 0.0, \"id\": 27276, \"filepath\": \"/root/fiftyone/coco-2017/train/data/000000027276.jpg\", \"clip_grade\": 3.1107472153735216e-08}, {\"url\": \"http://cocodataset.org/#explore?id=108425\", \"captionist\": \"COCO\", \"assessor\": \"L\\u00e9o\", \"caption\": \"a man tossing a neon green frisbee in front of a house\", \"grade\": 1.0, \"id\": 108425, \"filepath\": \"/root/fiftyone/coco-2017/train/data/000000108425.jpg\", \"clip_grade\": 0.9999951124191284}, {\"url\": \"http://cocodataset.org/#explore?id=108425\", \"captionist\": \"Aymeric\", \"assessor\": \"L\\u00e9o\", \"caption\": \"A nice building with two tables and a chair \", \"grade\": 0.7, \"id\": 108425, \"filepath\": \"/root/fiftyone/coco-2017/train/data/000000108425.jpg\", \"clip_grade\": 4.866552444582339e-06}, {\"url\": \"http://cocodataset.org/#explore?id=108425\", \"captionist\": \"Aymeric\", \"assessor\": \"L\\u00e9o\", \"caption\": \"Some grass in a grey background\", \"grade\": 0.3, \"id\": 108425, \"filepath\": \"/root/fiftyone/coco-2017/train/data/000000108425.jpg\", \"clip_grade\": 4.9505249677395113e-08}, {\"url\": \"http://cocodataset.org/#explore?id=158713\", \"captionist\": \"COCO\", \"assessor\": \"Conrad\", \"caption\": \"a man who is driving a motorcycle pulling a cart with two people.\", \"grade\": 1.0, \"id\": 158713, \"filepath\": \"/root/fiftyone/coco-2017/train/data/000000158713.jpg\", \"clip_grade\": 0.9956342577934264}, {\"url\": \"http://cocodataset.org/#explore?id=158713\", \"captionist\": \"Aymeric\", \"assessor\": \"Conrad\", \"caption\": \"Photograph of a red motorcycle and a white trailer\", \"grade\": 0.7, \"id\": 158713, \"filepath\": \"/root/fiftyone/coco-2017/train/data/000000158713.jpg\", \"clip_grade\": 0.002552397781983}, {\"url\": \"http://cocodataset.org/#explore?id=158713\", \"captionist\": \"Aymeric\", \"assessor\": \"Conrad\", \"caption\": \"Three people walking in circles\", \"grade\": 0.1, \"id\": 158713, \"filepath\": \"/root/fiftyone/coco-2017/train/data/000000158713.jpg\", \"clip_grade\": 0.0018133349949494}, {\"url\": \"http://cocodataset.org/#explore?id=5701\", \"captionist\": \"COCO\", \"assessor\": \"Arthur\", \"caption\": \"a person standing on a small paved square and holding a yellow frisbee\", \"grade\": 1.0, \"id\": 5701, \"filepath\": \"/root/fiftyone/coco-2017/train/data/000000005701.jpg\", \"clip_grade\": 0.940963864326477}, {\"url\": \"http://cocodataset.org/#explore?id=5701\", \"captionist\": \"Aymeric\", \"assessor\": \"Arthur\", \"caption\": \"A yellow shirt and a yellow frisbee with a green background\", \"grade\": 0.8, \"id\": 5701, \"filepath\": \"/root/fiftyone/coco-2017/train/data/000000005701.jpg\", \"clip_grade\": 0.0590341165661811}, {\"url\": \"http://cocodataset.org/#explore?id=5701\", \"captionist\": \"Aymeric\", \"assessor\": \"Arthur\", \"caption\": \"The sun shines and the place is beautiful \", \"grade\": 0.3, \"id\": 5701, \"filepath\": \"/root/fiftyone/coco-2017/train/data/000000005701.jpg\", \"clip_grade\": 2.041705783994985e-06}, {\"url\": \"http://cocodataset.org/#explore?id=254994\", \"captionist\": \"COCO\", \"assessor\": \"L\\u00e9o\", \"caption\": \"a man holding a drinking glass and smiling.\", \"grade\": 0.9, \"id\": 254994, \"filepath\": \"/root/fiftyone/coco-2017/train/data/000000254994.jpg\", \"clip_grade\": 0.9837910532951356}, {\"url\": \"http://cocodataset.org/#explore?id=254994\", \"captionist\": \"Aymeric\", \"assessor\": \"L\\u00e9o\", \"caption\": \"A person with a black tie \", \"grade\": 0.6, \"id\": 254994, \"filepath\": \"/root/fiftyone/coco-2017/train/data/000000254994.jpg\", \"clip_grade\": 0.0161569360643625}, {\"url\": \"http://cocodataset.org/#explore?id=254994\", \"captionist\": \"Aymeric\", \"assessor\": \"L\\u00e9o\", \"caption\": \"Photograph of a sad dog drinking coffee \", \"grade\": 0.1, \"id\": 254994, \"filepath\": \"/root/fiftyone/coco-2017/train/data/000000254994.jpg\", \"clip_grade\": 5.212590986047872e-05}, {\"url\": \"http://cocodataset.org/#explore?id=256799\", \"captionist\": \"COCO\", \"assessor\": \"Conrad\", \"caption\": \"a chandelier sitting above a spiral stair case.\", \"grade\": 1.0, \"id\": 256799, \"filepath\": \"/root/fiftyone/coco-2017/train/data/000000256799.jpg\", \"clip_grade\": 0.0769630372524261}, {\"url\": \"http://cocodataset.org/#explore?id=256799\", \"captionist\": \"Aymeric\", \"assessor\": \"Conrad\", \"caption\": \"a chandelier and a clock in a very big room with stairs\", \"grade\": 0.8, \"id\": 256799, \"filepath\": \"/root/fiftyone/coco-2017/train/data/000000256799.jpg\", \"clip_grade\": 0.923011064529419}, {\"url\": \"http://cocodataset.org/#explore?id=256799\", \"captionist\": \"Aymeric\", \"assessor\": \"Conrad\", \"caption\": \"Two people taking a nap\", \"grade\": 0.0, \"id\": 256799, \"filepath\": \"/root/fiftyone/coco-2017/train/data/000000256799.jpg\", \"clip_grade\": 2.5906523660523817e-05}, {\"url\": \"http://cocodataset.org/#explore?id=524981\", \"captionist\": \"COCO\", \"assessor\": \"Arthur\", \"caption\": \"a dog sitting on a boat behind the sail.\", \"grade\": 1.0, \"id\": 524981, \"filepath\": \"/root/fiftyone/coco-2017/train/data/000000524981.jpg\", \"clip_grade\": 0.7042451500892639}, {\"url\": \"http://cocodataset.org/#explore?id=524981\", \"captionist\": \"Aymeric\", \"assessor\": \"Arthur\", \"caption\": \"An engine, a dog and a sail in water\", \"grade\": 0.5, \"id\": 524981, \"filepath\": \"/root/fiftyone/coco-2017/train/data/000000524981.jpg\", \"clip_grade\": 0.2957548201084137}, {\"url\": \"http://cocodataset.org/#explore?id=524981\", \"captionist\": \"Aymeric\", \"assessor\": \"Arthur\", \"caption\": \"Bowling pins going down a slide\", \"grade\": 0.0, \"id\": 524981, \"filepath\": \"/root/fiftyone/coco-2017/train/data/000000524981.jpg\", \"clip_grade\": 1.3809857424273986e-10}, {\"url\": \"http://cocodataset.org/#explore?id=509839\", \"captionist\": \"COCO\", \"assessor\": \"L\\u00e9o\", \"caption\": \"a public bathroom that is empty and not in use.\", \"grade\": 1.0, \"id\": 509839, \"filepath\": \"/root/fiftyone/coco-2017/train/data/000000509839.jpg\", \"clip_grade\": 0.834164559841156}, {\"url\": \"http://cocodataset.org/#explore?id=509839\", \"captionist\": \"Aymeric\", \"assessor\": \"L\\u00e9o\", \"caption\": \"Three sinks in a green room\", \"grade\": 0.7, \"id\": 509839, \"filepath\": \"/root/fiftyone/coco-2017/train/data/000000509839.jpg\", \"clip_grade\": 0.1649339199066162}, {\"url\": \"http://cocodataset.org/#explore?id=509839\", \"captionist\": \"Aymeric\", \"assessor\": \"L\\u00e9o\", \"caption\": \"Two beds in a room\", \"grade\": 0.1, \"id\": 509839, \"filepath\": \"/root/fiftyone/coco-2017/train/data/000000509839.jpg\", \"clip_grade\": 0.0009015258983708}, {\"url\": \"http://cocodataset.org/#explore?id=194120\", \"captionist\": \"COCO\", \"assessor\": \"Conrad\", \"caption\": \"a cat sitting on a windowsill next to a painted pumpkin.\", \"grade\": 1.0, \"id\": 194120, \"filepath\": \"/root/fiftyone/coco-2017/train/data/000000194120.jpg\", \"clip_grade\": 0.999298334121704}, {\"url\": \"http://cocodataset.org/#explore?id=194120\", \"captionist\": \"Aymeric\", \"assessor\": \"Conrad\", \"caption\": \"A cat lying on its back eats a pumpkin \", \"grade\": 0.4, \"id\": 194120, \"filepath\": \"/root/fiftyone/coco-2017/train/data/000000194120.jpg\", \"clip_grade\": 0.0007015994633547}, {\"url\": \"http://cocodataset.org/#explore?id=194120\", \"captionist\": \"Aymeric\", \"assessor\": \"Conrad\", \"caption\": \"A banana filled with orange jelly \", \"grade\": 0.0, \"id\": 194120, \"filepath\": \"/root/fiftyone/coco-2017/train/data/000000194120.jpg\", \"clip_grade\": 3.050875463372904e-08}, {\"url\": \"http://cocodataset.org/#explore?id=197329\", \"captionist\": \"COCO\", \"assessor\": \"Arthur\", \"caption\": \"some zebras and a giraffe tall brown grass and trees\", \"grade\": 1.0, \"id\": 197329, \"filepath\": \"/root/fiftyone/coco-2017/train/data/000000197329.jpg\", \"clip_grade\": 0.6063777804374695}, {\"url\": \"http://cocodataset.org/#explore?id=197329\", \"captionist\": \"Aymeric\", \"assessor\": \"Arthur\", \"caption\": \"A desert, dry grass and savannah animals\", \"grade\": 1.0, \"id\": 197329, \"filepath\": \"/root/fiftyone/coco-2017/train/data/000000197329.jpg\", \"clip_grade\": 0.3936221599578857}, {\"url\": \"http://cocodataset.org/#explore?id=197329\", \"captionist\": \"Aymeric\", \"assessor\": \"Arthur\", \"caption\": \"pikachu uses his thunder attack\", \"grade\": 0.0, \"id\": 197329, \"filepath\": \"/root/fiftyone/coco-2017/train/data/000000197329.jpg\", \"clip_grade\": 1.4981185358919904e-07}, {\"url\": \"http://cocodataset.org/#explore?id=432637\", \"captionist\": \"COCO\", \"assessor\": \"L\\u00e9o\", \"caption\": \"a group of people riding a carousel with trees in the background.\", \"grade\": 0.8, \"id\": 432637, \"filepath\": \"/root/fiftyone/coco-2017/train/data/000000432637.jpg\", \"clip_grade\": 0.9190086722373962}, {\"url\": \"http://cocodataset.org/#explore?id=432637\", \"captionist\": \"Aymeric\", \"assessor\": \"L\\u00e9o\", \"caption\": \"People having fun on horses\", \"grade\": 0.4, \"id\": 432637, \"filepath\": \"/root/fiftyone/coco-2017/train/data/000000432637.jpg\", \"clip_grade\": 0.0809874907135963}, {\"url\": \"http://cocodataset.org/#explore?id=432637\", \"captionist\": \"Aymeric\", \"assessor\": \"L\\u00e9o\", \"caption\": \"many candlelit sticks\", \"grade\": 0.0, \"id\": 432637, \"filepath\": \"/root/fiftyone/coco-2017/train/data/000000432637.jpg\", \"clip_grade\": 3.781498890020885e-06}, {\"url\": \"http://cocodataset.org/#explore?id=298014\", \"captionist\": \"COCO\", \"assessor\": \"Conrad\", \"caption\": \"a large architectural structure near a park\", \"grade\": 1.0, \"id\": 298014, \"filepath\": \"/root/fiftyone/coco-2017/train/data/000000298014.jpg\", \"clip_grade\": 0.0851136744022369}, {\"url\": \"http://cocodataset.org/#explore?id=298014\", \"captionist\": \"Aymeric\", \"assessor\": \"Conrad\", \"caption\": \"a traffic light on a city side walk with people\", \"grade\": 0.8, \"id\": 298014, \"filepath\": \"/root/fiftyone/coco-2017/train/data/000000298014.jpg\", \"clip_grade\": 0.7205550074577332}, {\"url\": \"http://cocodataset.org/#explore?id=298014\", \"captionist\": \"Aymeric\", \"assessor\": \"Conrad\", \"caption\": \"lighted street lamps\", \"grade\": 0.5, \"id\": 298014, \"filepath\": \"/root/fiftyone/coco-2017/train/data/000000298014.jpg\", \"clip_grade\": 0.1943313181400299}, {\"url\": \"http://cocodataset.org/#explore?id=250225\", \"captionist\": \"COCO\", \"assessor\": \"Arthur\", \"caption\": \"a display of fruit print dishes in a store\", \"grade\": 1.0, \"id\": 250225, \"filepath\": \"/root/fiftyone/coco-2017/train/data/000000250225.jpg\", \"clip_grade\": 0.9996780157089232}, {\"url\": \"http://cocodataset.org/#explore?id=250225\", \"captionist\": \"Aymeric\", \"assessor\": \"Arthur\", \"caption\": \"Fruits and vegetables in a store\", \"grade\": 0.2, \"id\": 250225, \"filepath\": \"/root/fiftyone/coco-2017/train/data/000000250225.jpg\", \"clip_grade\": 0.000321940111462}, {\"url\": \"http://cocodataset.org/#explore?id=250225\", \"captionist\": \"Aymeric\", \"assessor\": \"Arthur\", \"caption\": \"beef steaks spread on the floor\", \"grade\": 0.0, \"id\": 250225, \"filepath\": \"/root/fiftyone/coco-2017/train/data/000000250225.jpg\", \"clip_grade\": 1.0083147117256885e-07}, {\"url\": \"http://cocodataset.org/#explore?id=484457\", \"captionist\": \"COCO\", \"assessor\": \"L\\u00e9o\", \"caption\": \"a large stack of square shaped cakes sitting on a lit table.\", \"grade\": 0.9, \"id\": 484457, \"filepath\": \"/root/fiftyone/coco-2017/train/data/000000484457.jpg\", \"clip_grade\": 0.8434022665023804}, {\"url\": \"http://cocodataset.org/#explore?id=484457\", \"captionist\": \"Aymeric\", \"assessor\": \"L\\u00e9o\", \"caption\": \"Two tables and a cake\", \"grade\": 0.6, \"id\": 484457, \"filepath\": \"/root/fiftyone/coco-2017/train/data/000000484457.jpg\", \"clip_grade\": 0.1565882116556167}, {\"url\": \"http://cocodataset.org/#explore?id=484457\", \"captionist\": \"Aymeric\", \"assessor\": \"L\\u00e9o\", \"caption\": \"black sculptures in the shape of chocolate bars\", \"grade\": 0.0, \"id\": 484457, \"filepath\": \"/root/fiftyone/coco-2017/train/data/000000484457.jpg\", \"clip_grade\": 9.588069588062352e-06}, {\"url\": \"http://cocodataset.org/#explore?id=541039\", \"captionist\": \"COCO\", \"assessor\": \"Conrad\", \"caption\": \"a group of people holding umbrellas standing behind a sign for a umbrella drive.\", \"grade\": 1.0, \"id\": 541039, \"filepath\": \"/root/fiftyone/coco-2017/train/data/000000541039.jpg\", \"clip_grade\": 0.999808132648468}, {\"url\": \"http://cocodataset.org/#explore?id=541039\", \"captionist\": \"Aymeric\", \"assessor\": \"Conrad\", \"caption\": \"smiling black people who say thank you\", \"grade\": 0.9, \"id\": 541039, \"filepath\": \"/root/fiftyone/coco-2017/train/data/000000541039.jpg\", \"clip_grade\": 0.0001917687186505}, {\"url\": \"http://cocodataset.org/#explore?id=541039\", \"captionist\": \"Aymeric\", \"assessor\": \"Conrad\", \"caption\": \"Birthday gifts in a box\", \"grade\": 0.0, \"id\": 541039, \"filepath\": \"/root/fiftyone/coco-2017/train/data/000000541039.jpg\", \"clip_grade\": 1.695432558790344e-07}, {\"url\": \"http://cocodataset.org/#explore?id=423313\", \"captionist\": \"COCO\", \"assessor\": \"Arthur\", \"caption\": \"a group of motorcycles parked in front of a building.\", \"grade\": 0.9, \"id\": 423313, \"filepath\": \"/root/fiftyone/coco-2017/train/data/000000423313.jpg\", \"clip_grade\": 0.99993634223938}, {\"url\": \"http://cocodataset.org/#explore?id=423313\", \"captionist\": \"Aymeric\", \"assessor\": \"Arthur\", \"caption\": \"Mortorcyles hiding small stores\", \"grade\": 0.7, \"id\": 423313, \"filepath\": \"/root/fiftyone/coco-2017/train/data/000000423313.jpg\", \"clip_grade\": 6.363866123137996e-05}, {\"url\": \"http://cocodataset.org/#explore?id=423313\", \"captionist\": \"Aymeric\", \"assessor\": \"Arthur\", \"caption\": \"sunflowers looking towards the sun\", \"grade\": 0.0, \"id\": 423313, \"filepath\": \"/root/fiftyone/coco-2017/train/data/000000423313.jpg\", \"clip_grade\": 1.117054981847332e-08}]}}, {\"actions\": false, \"mode\": \"vega-lite\"});\n</script>",
      "text/plain": "alt.Chart(...)"
     },
     "metadata": {}
    }
   ],
   "execution_count": null
  },
  {
   "cell_type": "markdown",
   "source": "## Annexes",
   "metadata": {
    "tags": [],
    "cell_id": "00015-4a606207-d7f3-4938-a13a-4de14d5d52a1",
    "deepnote_cell_type": "markdown"
   }
  },
  {
   "cell_type": "code",
   "metadata": {
    "tags": [],
    "cell_id": "00010-dcc717b6-b80d-44ea-bd0f-be6973bec24e",
    "deepnote_to_be_reexecuted": false,
    "source_hash": "ae4c1d3a",
    "execution_start": 1639158164567,
    "execution_millis": 71,
    "deepnote_output_heights": [
     21.1875
    ],
    "deepnote_cell_type": "code"
   },
   "source": "# ANNEXE 1\n# Code pour générer les répétions d'URLs pour copier-coller dans Google Sheet\nimport numpy as np\nfor url in np.repeat( coco_images_100_df.url.to_numpy(), 3):\n    print(url)",
   "outputs": [
    {
     "name": "stdout",
     "text": "http://cocodataset.org/#explore?id=393274\nhttp://cocodataset.org/#explore?id=393274\nhttp://cocodataset.org/#explore?id=393274\nhttp://cocodataset.org/#explore?id=427123\nhttp://cocodataset.org/#explore?id=427123\nhttp://cocodataset.org/#explore?id=427123\nhttp://cocodataset.org/#explore?id=405324\nhttp://cocodataset.org/#explore?id=405324\nhttp://cocodataset.org/#explore?id=405324\nhttp://cocodataset.org/#explore?id=300357\nhttp://cocodataset.org/#explore?id=300357\nhttp://cocodataset.org/#explore?id=300357\nhttp://cocodataset.org/#explore?id=57340\nhttp://cocodataset.org/#explore?id=57340\nhttp://cocodataset.org/#explore?id=57340\nhttp://cocodataset.org/#explore?id=198654\nhttp://cocodataset.org/#explore?id=198654\nhttp://cocodataset.org/#explore?id=198654\nhttp://cocodataset.org/#explore?id=518361\nhttp://cocodataset.org/#explore?id=518361\nhttp://cocodataset.org/#explore?id=518361\nhttp://cocodataset.org/#explore?id=525640\nhttp://cocodataset.org/#explore?id=525640\nhttp://cocodataset.org/#explore?id=525640\nhttp://cocodataset.org/#explore?id=526347\nhttp://cocodataset.org/#explore?id=526347\nhttp://cocodataset.org/#explore?id=526347\nhttp://cocodataset.org/#explore?id=4130\nhttp://cocodataset.org/#explore?id=4130\nhttp://cocodataset.org/#explore?id=4130\nhttp://cocodataset.org/#explore?id=522661\nhttp://cocodataset.org/#explore?id=522661\nhttp://cocodataset.org/#explore?id=522661\nhttp://cocodataset.org/#explore?id=310526\nhttp://cocodataset.org/#explore?id=310526\nhttp://cocodataset.org/#explore?id=310526\nhttp://cocodataset.org/#explore?id=497591\nhttp://cocodataset.org/#explore?id=497591\nhttp://cocodataset.org/#explore?id=497591\nhttp://cocodataset.org/#explore?id=338991\nhttp://cocodataset.org/#explore?id=338991\nhttp://cocodataset.org/#explore?id=338991\nhttp://cocodataset.org/#explore?id=446463\nhttp://cocodataset.org/#explore?id=446463\nhttp://cocodataset.org/#explore?id=446463\nhttp://cocodataset.org/#explore?id=50356\nhttp://cocodataset.org/#explore?id=50356\nhttp://cocodataset.org/#explore?id=50356\nhttp://cocodataset.org/#explore?id=301402\nhttp://cocodataset.org/#explore?id=301402\nhttp://cocodataset.org/#explore?id=301402\nhttp://cocodataset.org/#explore?id=56624\nhttp://cocodataset.org/#explore?id=56624\nhttp://cocodataset.org/#explore?id=56624\nhttp://cocodataset.org/#explore?id=21097\nhttp://cocodataset.org/#explore?id=21097\nhttp://cocodataset.org/#explore?id=21097\nhttp://cocodataset.org/#explore?id=14824\nhttp://cocodataset.org/#explore?id=14824\nhttp://cocodataset.org/#explore?id=14824\nhttp://cocodataset.org/#explore?id=317730\nhttp://cocodataset.org/#explore?id=317730\nhttp://cocodataset.org/#explore?id=317730\nhttp://cocodataset.org/#explore?id=160703\nhttp://cocodataset.org/#explore?id=160703\nhttp://cocodataset.org/#explore?id=160703\nhttp://cocodataset.org/#explore?id=302313\nhttp://cocodataset.org/#explore?id=302313\nhttp://cocodataset.org/#explore?id=302313\nhttp://cocodataset.org/#explore?id=104842\nhttp://cocodataset.org/#explore?id=104842\nhttp://cocodataset.org/#explore?id=104842\nhttp://cocodataset.org/#explore?id=569865\nhttp://cocodataset.org/#explore?id=569865\nhttp://cocodataset.org/#explore?id=569865\nhttp://cocodataset.org/#explore?id=62824\nhttp://cocodataset.org/#explore?id=62824\nhttp://cocodataset.org/#explore?id=62824\nhttp://cocodataset.org/#explore?id=327802\nhttp://cocodataset.org/#explore?id=327802\nhttp://cocodataset.org/#explore?id=327802\nhttp://cocodataset.org/#explore?id=385341\nhttp://cocodataset.org/#explore?id=385341\nhttp://cocodataset.org/#explore?id=385341\nhttp://cocodataset.org/#explore?id=370121\nhttp://cocodataset.org/#explore?id=370121\nhttp://cocodataset.org/#explore?id=370121\nhttp://cocodataset.org/#explore?id=475277\nhttp://cocodataset.org/#explore?id=475277\nhttp://cocodataset.org/#explore?id=475277\nhttp://cocodataset.org/#explore?id=140122\nhttp://cocodataset.org/#explore?id=140122\nhttp://cocodataset.org/#explore?id=140122\nhttp://cocodataset.org/#explore?id=119502\nhttp://cocodataset.org/#explore?id=119502\nhttp://cocodataset.org/#explore?id=119502\nhttp://cocodataset.org/#explore?id=413868\nhttp://cocodataset.org/#explore?id=413868\nhttp://cocodataset.org/#explore?id=413868\nhttp://cocodataset.org/#explore?id=12650\nhttp://cocodataset.org/#explore?id=12650\nhttp://cocodataset.org/#explore?id=12650\nhttp://cocodataset.org/#explore?id=269338\nhttp://cocodataset.org/#explore?id=269338\nhttp://cocodataset.org/#explore?id=269338\nhttp://cocodataset.org/#explore?id=514601\nhttp://cocodataset.org/#explore?id=514601\nhttp://cocodataset.org/#explore?id=514601\nhttp://cocodataset.org/#explore?id=495456\nhttp://cocodataset.org/#explore?id=495456\nhttp://cocodataset.org/#explore?id=495456\nhttp://cocodataset.org/#explore?id=106513\nhttp://cocodataset.org/#explore?id=106513\nhttp://cocodataset.org/#explore?id=106513\nhttp://cocodataset.org/#explore?id=380258\nhttp://cocodataset.org/#explore?id=380258\nhttp://cocodataset.org/#explore?id=380258\nhttp://cocodataset.org/#explore?id=61354\nhttp://cocodataset.org/#explore?id=61354\nhttp://cocodataset.org/#explore?id=61354\nhttp://cocodataset.org/#explore?id=506034\nhttp://cocodataset.org/#explore?id=506034\nhttp://cocodataset.org/#explore?id=506034\nhttp://cocodataset.org/#explore?id=239593\nhttp://cocodataset.org/#explore?id=239593\nhttp://cocodataset.org/#explore?id=239593\nhttp://cocodataset.org/#explore?id=103375\nhttp://cocodataset.org/#explore?id=103375\nhttp://cocodataset.org/#explore?id=103375\nhttp://cocodataset.org/#explore?id=452687\nhttp://cocodataset.org/#explore?id=452687\nhttp://cocodataset.org/#explore?id=452687\nhttp://cocodataset.org/#explore?id=430885\nhttp://cocodataset.org/#explore?id=430885\nhttp://cocodataset.org/#explore?id=430885\nhttp://cocodataset.org/#explore?id=292152\nhttp://cocodataset.org/#explore?id=292152\nhttp://cocodataset.org/#explore?id=292152\nhttp://cocodataset.org/#explore?id=90024\nhttp://cocodataset.org/#explore?id=90024\nhttp://cocodataset.org/#explore?id=90024\nhttp://cocodataset.org/#explore?id=575331\nhttp://cocodataset.org/#explore?id=575331\nhttp://cocodataset.org/#explore?id=575331\nhttp://cocodataset.org/#explore?id=404917\nhttp://cocodataset.org/#explore?id=404917\nhttp://cocodataset.org/#explore?id=404917\nhttp://cocodataset.org/#explore?id=13176\nhttp://cocodataset.org/#explore?id=13176\nhttp://cocodataset.org/#explore?id=13176\nhttp://cocodataset.org/#explore?id=230227\nhttp://cocodataset.org/#explore?id=230227\nhttp://cocodataset.org/#explore?id=230227\nhttp://cocodataset.org/#explore?id=122355\nhttp://cocodataset.org/#explore?id=122355\nhttp://cocodataset.org/#explore?id=122355\nhttp://cocodataset.org/#explore?id=359143\nhttp://cocodataset.org/#explore?id=359143\nhttp://cocodataset.org/#explore?id=359143\nhttp://cocodataset.org/#explore?id=135288\nhttp://cocodataset.org/#explore?id=135288\nhttp://cocodataset.org/#explore?id=135288\nhttp://cocodataset.org/#explore?id=273029\nhttp://cocodataset.org/#explore?id=273029\nhttp://cocodataset.org/#explore?id=273029\nhttp://cocodataset.org/#explore?id=185633\nhttp://cocodataset.org/#explore?id=185633\nhttp://cocodataset.org/#explore?id=185633\nhttp://cocodataset.org/#explore?id=270222\nhttp://cocodataset.org/#explore?id=270222\nhttp://cocodataset.org/#explore?id=270222\nhttp://cocodataset.org/#explore?id=439868\nhttp://cocodataset.org/#explore?id=439868\nhttp://cocodataset.org/#explore?id=439868\nhttp://cocodataset.org/#explore?id=424174\nhttp://cocodataset.org/#explore?id=424174\nhttp://cocodataset.org/#explore?id=424174\nhttp://cocodataset.org/#explore?id=344720\nhttp://cocodataset.org/#explore?id=344720\nhttp://cocodataset.org/#explore?id=344720\nhttp://cocodataset.org/#explore?id=292782\nhttp://cocodataset.org/#explore?id=292782\nhttp://cocodataset.org/#explore?id=292782\nhttp://cocodataset.org/#explore?id=102765\nhttp://cocodataset.org/#explore?id=102765\nhttp://cocodataset.org/#explore?id=102765\nhttp://cocodataset.org/#explore?id=484149\nhttp://cocodataset.org/#explore?id=484149\nhttp://cocodataset.org/#explore?id=484149\nhttp://cocodataset.org/#explore?id=27593\nhttp://cocodataset.org/#explore?id=27593\nhttp://cocodataset.org/#explore?id=27593\nhttp://cocodataset.org/#explore?id=266165\nhttp://cocodataset.org/#explore?id=266165\nhttp://cocodataset.org/#explore?id=266165\nhttp://cocodataset.org/#explore?id=125070\nhttp://cocodataset.org/#explore?id=125070\nhttp://cocodataset.org/#explore?id=125070\nhttp://cocodataset.org/#explore?id=78771\nhttp://cocodataset.org/#explore?id=78771\nhttp://cocodataset.org/#explore?id=78771\nhttp://cocodataset.org/#explore?id=291606\nhttp://cocodataset.org/#explore?id=291606\nhttp://cocodataset.org/#explore?id=291606\nhttp://cocodataset.org/#explore?id=423116\nhttp://cocodataset.org/#explore?id=423116\nhttp://cocodataset.org/#explore?id=423116\nhttp://cocodataset.org/#explore?id=405762\nhttp://cocodataset.org/#explore?id=405762\nhttp://cocodataset.org/#explore?id=405762\nhttp://cocodataset.org/#explore?id=41001\nhttp://cocodataset.org/#explore?id=41001\nhttp://cocodataset.org/#explore?id=41001\nhttp://cocodataset.org/#explore?id=201925\nhttp://cocodataset.org/#explore?id=201925\nhttp://cocodataset.org/#explore?id=201925\nhttp://cocodataset.org/#explore?id=380734\nhttp://cocodataset.org/#explore?id=380734\nhttp://cocodataset.org/#explore?id=380734\nhttp://cocodataset.org/#explore?id=487462\nhttp://cocodataset.org/#explore?id=487462\nhttp://cocodataset.org/#explore?id=487462\nhttp://cocodataset.org/#explore?id=455776\nhttp://cocodataset.org/#explore?id=455776\nhttp://cocodataset.org/#explore?id=455776\nhttp://cocodataset.org/#explore?id=440895\nhttp://cocodataset.org/#explore?id=440895\nhttp://cocodataset.org/#explore?id=440895\nhttp://cocodataset.org/#explore?id=55627\nhttp://cocodataset.org/#explore?id=55627\nhttp://cocodataset.org/#explore?id=55627\nhttp://cocodataset.org/#explore?id=436111\nhttp://cocodataset.org/#explore?id=436111\nhttp://cocodataset.org/#explore?id=436111\nhttp://cocodataset.org/#explore?id=492286\nhttp://cocodataset.org/#explore?id=492286\nhttp://cocodataset.org/#explore?id=492286\nhttp://cocodataset.org/#explore?id=149892\nhttp://cocodataset.org/#explore?id=149892\nhttp://cocodataset.org/#explore?id=149892\nhttp://cocodataset.org/#explore?id=493196\nhttp://cocodataset.org/#explore?id=493196\nhttp://cocodataset.org/#explore?id=493196\nhttp://cocodataset.org/#explore?id=182575\nhttp://cocodataset.org/#explore?id=182575\nhttp://cocodataset.org/#explore?id=182575\nhttp://cocodataset.org/#explore?id=203559\nhttp://cocodataset.org/#explore?id=203559\nhttp://cocodataset.org/#explore?id=203559\nhttp://cocodataset.org/#explore?id=519950\nhttp://cocodataset.org/#explore?id=519950\nhttp://cocodataset.org/#explore?id=519950\nhttp://cocodataset.org/#explore?id=27276\nhttp://cocodataset.org/#explore?id=27276\nhttp://cocodataset.org/#explore?id=27276\nhttp://cocodataset.org/#explore?id=108425\nhttp://cocodataset.org/#explore?id=108425\nhttp://cocodataset.org/#explore?id=108425\nhttp://cocodataset.org/#explore?id=158713\nhttp://cocodataset.org/#explore?id=158713\nhttp://cocodataset.org/#explore?id=158713\nhttp://cocodataset.org/#explore?id=5701\nhttp://cocodataset.org/#explore?id=5701\nhttp://cocodataset.org/#explore?id=5701\nhttp://cocodataset.org/#explore?id=254994\nhttp://cocodataset.org/#explore?id=254994\nhttp://cocodataset.org/#explore?id=254994\nhttp://cocodataset.org/#explore?id=256799\nhttp://cocodataset.org/#explore?id=256799\nhttp://cocodataset.org/#explore?id=256799\nhttp://cocodataset.org/#explore?id=524981\nhttp://cocodataset.org/#explore?id=524981\nhttp://cocodataset.org/#explore?id=524981\nhttp://cocodataset.org/#explore?id=509839\nhttp://cocodataset.org/#explore?id=509839\nhttp://cocodataset.org/#explore?id=509839\nhttp://cocodataset.org/#explore?id=194120\nhttp://cocodataset.org/#explore?id=194120\nhttp://cocodataset.org/#explore?id=194120\nhttp://cocodataset.org/#explore?id=197329\nhttp://cocodataset.org/#explore?id=197329\nhttp://cocodataset.org/#explore?id=197329\nhttp://cocodataset.org/#explore?id=432637\nhttp://cocodataset.org/#explore?id=432637\nhttp://cocodataset.org/#explore?id=432637\nhttp://cocodataset.org/#explore?id=298014\nhttp://cocodataset.org/#explore?id=298014\nhttp://cocodataset.org/#explore?id=298014\nhttp://cocodataset.org/#explore?id=250225\nhttp://cocodataset.org/#explore?id=250225\nhttp://cocodataset.org/#explore?id=250225\nhttp://cocodataset.org/#explore?id=484457\nhttp://cocodataset.org/#explore?id=484457\nhttp://cocodataset.org/#explore?id=484457\nhttp://cocodataset.org/#explore?id=541039\nhttp://cocodataset.org/#explore?id=541039\nhttp://cocodataset.org/#explore?id=541039\nhttp://cocodataset.org/#explore?id=423313\nhttp://cocodataset.org/#explore?id=423313\nhttp://cocodataset.org/#explore?id=423313\n",
     "output_type": "stream"
    }
   ],
   "execution_count": null
  },
  {
   "cell_type": "code",
   "metadata": {
    "tags": [],
    "cell_id": "00017-e48aff6a-ace0-41de-8cef-6198e507f3d7",
    "deepnote_cell_type": "code"
   },
   "source": "# ANNEXE 2 Ancien code de Conrad\n\nid_and_pathfile=([(sample['coco_id'],sample['filepath']) for sample in dataset.to_dict()['samples']])\n\nnotation_all=\"\"\"212688\ta close up of a polar bear in a body of water;a brown bear bathing in mud;a giraffe running in the toundra\n393274\ta yellow and white train traveling past a train station;several trains parked in a train station;a river with people nearby\n427123\tthree people in formal military uniforms, two are wearing medals around their necks;smiling researchers receiving the Nobel prize;three donkeys in a dark room\n405324\tthe girl has a plate with a sandwich on it;a fancy dinner downtown;his empty plate causes the baby to cry\n300357\ta woman in a skirt and colorful shirt kneeling down on floral fabric;a woman trying desperately to leave her bed;two men lying in the sun, one using his dog as a kind of cushion\n57340\tthere is a tower that has a american flag at the top and a clock on it;the night is falling over Manhattan;sunset over the Mississipi river\n198654\tthere are people playing a game of baseball;players play the game;dancers dancing on a Broadway show\n518361\tthree people standing at the zoo watching a elephant;six people standing at the zoo watching two elephant;nobody watching nothing\n525640\ta banana dressed up to look like a person infront of a paper;a man signing a contract;a salad fruit in the process of making\n526347\ta skateboarder on a skateboard in a skate park;a young man in shorts doing sports;a girl running after her dog\n4130\ta bus parked on a street in front of several buildings;a busy street some days before Christmas;a murder scene in a kitchen appliance shop\n522661\ttwo people holding suitcases walking towards a greyhound bus;a group of persons running after a departing long-distance bus;two swimmers in bathing suits lining at the front desk\n310526\ta traffic light with a green signal next to tall buildings;a red traffic light in the country side;a male swan on a lake is courtshipping a female swan\n497591\ta small child is sitting on a bench outside;a child waiting for his parents to finish shopping;a shop with UNDERGROUND written on the entrance\n338991\ta man is on a tennis court playing tennis;fours tennis players sharing a court for a match;a very tall man kissing a very short girl\n446463\tan old fashioned photograph of a fleet of buses;Jules Verne's vision for public transport in 2000;A naked person being captured by the police\n50356\ta lot of flowers that are sitting on a table;a red rose in a transparent vase;a farmer harvesting sunflowers\n301402\ta man sits at a table with a laptop computer on his knees;a young boy fidgetting while a woman is talking;a young man asking for helpo in a computer shop\n56624\ta wood bench is outside covered in snow;a bench decorated for Christmas;three PWC employees writing a report\n21097\tthe meal on the table is ready to be eaten;italian dish and plastic cutlery;a polluted river with dead fish\n14824\ta group of people dressed as zombies near a stop sign;a confused scene after an attack;a giraffe eating leaves at the top of the trees\n317730\ta man is holding a surfboard decorated with the image of a woman;a man is holding a surfboard decorated with the image of an octopus;a man is holding skis decorated with snakes\n160703\ttwo pizza's on sliver pans on a table with utensils;five pizzas about to be eaten;a mob assaulting an empty pizza place\n302313\tthe thin cow eats some grass next to the tree;black and white cow on a green pasture land;a cow herd mooing under the moonlight\n104842\ta skateboarded takes to the air in a skateboard park;a skateboarder at rest is watching other skateboarders;a little girl reading a book about skateboards at the library\n569865\tautumn trees are next to hanging stop lights.;a traffic stop;a man is hitchhiking by the side of road\n62824\ta street sign stands on the 8500 west block of hollywood boulevard.;a street sign;a traffic light with a green signal next to tall buildings\n327802\ta street sign set in the edge of the sidewalk that says stockton st.;a street sign on the sidewalk;a picture of the figure 13 from a textbook\n385341\ta couple of people that are sitting down with wii remotes;two persons holding remotes;some family pictures\n370121\ta bench sits in a field by the water while it is cloudy.;a bench next to a tree;a family picnic\n475277\ta white horse looking up for a photo at a fence side.;a close up of a white horse;me riding a white horse\n140122\ta computer monitor, keyboard, and tower with peripherals and plugs sit on a desk.;a desktop for remote working;a kitchen with a computer\n119502\ttoddler boy in a tie playing in a dish of mud.;a little boy playing outside;a little boy is burying his toy\n413868\ta man in the woods throws a frisbee;a cowboy throws a bone at his dog;a cowboy is skeet shooting\n12650\tseveral people gathered outside of a bar at night.;a group of people in front of a bar;the last bar before the apocalypse\n269338\ta baseball player sliding into a base with another player bent over with glove extended toward a flying baseball.;a baseball match;two tennismen playing in a court\n514601\tthe train platform has green benches on it.;the train platform is empty;the Massy-Palaiseau train station\n495456\ta person using an oven mitt to take something from the oven.;something is baking in the oven;someone is baking in the oven\n106513\tbus at rainy bus stop with commuters waiting;commuters are waiting for the bus;students are waiting for the 91.06 bus\n380258\ta pigeon sitting outside a window of a high rise building;a pigeon is looking through the window;a peeping tom is looking through the window\n61354\tan open market selling assorted fruits with bananas hanging;bananas are hanging on a pipe;people are distributing free bananas\n506034\tthere is a side view mirror and traffic lights in this picture;a left view from a vehicule;someone is driving to school\n239593\ta black and white picture of a train going down a track with a city in the background;a building with many street tags;the train is going through the building\n103375\ta bed has its covers pulled back in a dark room.;a bedroom with a king size bed;the living room\n452687\ta person's foot strapped into a black snowboard.;a black snowboard;someone is sunbathing\n430885\ta cloudy skyline with silhouettes of industrial buildings.;many industrial buildings with a green light;A bansky art\n292152\ta toasted ham sandwich with a pickle on a white plate.;a fine dining breakfast;a baby is crying because the plate is empty\n90024\ta giant teddy bear in front of some trees at the mall;a front view of a mall entrance;santa claus is delivering gifts to children\n575331\tan octopus kite is being flown next to a scuba diver kite above a city park.;two kites, one city park;a airballoon has taken off\n404917\ta baseball player throwing a baseball on a field.;a baseball game;a boy has broken a window with his baseball thrown\n13176\ta man bending to look into a small fridge;a man near a fridge;an octopus in the bottom of a hole\n230227\ta cat sitting on a table with a blurred image in the background;a cat;a dancer and an accordion\n122355\tfour people smiling with tennis rackets in their hands;people playing tennis;a snowman inside a dark forest\n359143\ta blurry photo of a cyclist on a forest path;a man on a bicycle;the olympic games of tokyo\n135288\ta young man holding a plate and eating a piece of cake;a man eating a cake;two daughters on the ground\n273029\ta piece of pizza with many topping on it;a beautiful pizza;an empty field in the setting sun\n185633\tan old bathroom with peeling paint on the walls and lots of toiletries scattered around;an ugly bathroom;the kitchen of an asiatic restaurant\n270222\tseveral small clocks are all connected with human-like ornaments;different clocks on the wall;three ladies looking at burning trees\n439868\ta skateboarder is jumping onto a rail near crowd;people looking at a skateboarder;a crowd focused on chess players\n424174\ta tray heaped with fruit including banans apples oranges and limes;a bunch of fruits;an ancient beautiful table and painting on the walls\n344720\tseveral cars at an intersection on a city stree;cars near buildings;little red riding hood\n292782\ta group of people flying their kites on a sunny day;kites in the sky;an old lady eating jam\n102765\ttwo young girls sitting on their luggage outside of a brick building;ladies with their luggage;a super-hero fighting bad guys\n484149\ta field of yellow grass with sheep grazing and standing throughout the areas;sheep grazing;a bunch of flying cows\n27593\ta man flying through the air on top of a skateboard;a skateboard in the airs;a bed covered in packets of crisps\n266165\ta cat standing in one food dish while eating out of another dish;a cat eating food;an open window that allows to see the garden\n125070\ta blue clock pole outside an older building;a clock in the street;two gentlement arguing near a stop sign\n78771\ta cat sitting next to a laptop computer on a table;a cat on a computer;a baby crying in the grass\n291606\ta woman standing outside of a bus with asian characters written on it;a bus in Asia;the great pyramids of egypt\n423116\ton a kitchen counter are a laptop, candy, and cooking supplies;the table of a kitchen with a latpot on it;a sky filled with planes\n405762\ta man is running while carrying a football;a man playing football;a postman with red hairs in the street\n41001\ttwo adult elephants and one baby elephant walking in a grassy area;elephants in the Savannah;A blue cow eating milk\n201925\tsomething baking in a pan in the oven and rising out of the pan;a baking cake;the painting of a wedding\n380734\tseveral diners eating at a riverside outdoor restaurant;people having dinner in the street;two wolves howling in the snow\n487462\ta boy is preparing to toss a frisbie while another boy is sitting in the background in a park;a man playing frisbie;a nice looking icecream\n455776\ta young boy is preparing to catch a baseball.;A human trying to catch a ball;A bottle of wine in a grey field\n440895\ta white horse can be seen in the window of a brick building.;A black horse in a modern town;French fries playing tennis in a brown field\n55627\ta bathroom with a mirror above the sink, a towel rack and toilet.;A bathroom with a sink;Picture of a garden full of flowers\n436111\ta white bathroom has dirt all over the floor.;photograph of a room in low angle;painting of trees \n492286\ta big train is about to leave and go away.;A vehicle with people next to it;A tall person standing in front of a door\n149892\ta bench and chair are seen on the bank of a river.;People sitting next to a river;The floor is lava\n493196\ta man with helmet skating past some bicycle riders on the road;Bicycle riders under trees;A yellow road with two dogs \n182575\tthis is a plate of broccoli and cauliflower;A plate of pasta;Three tables and a spoon \n203559\ta man is inspecting a baby elephants eye;Three elephants around a man;A black and blue dress\n519950\ta man is in mid air over a tennis court.;A man jumping in a pool to hit a ball;A dog playing with his owner\n27276\ta dog is under the bed eating a box;a cat hiding is a small place;A blue and white rollercoaster \n108425\ta man tossing a neon green frisbee in front of a house;A nice building with two tables and a chair ;Some grass in a grey background\n158713\ta man who is driving a motorcycle pulling a cart with two people.;Photograph of a red motorcycle and a white trailer;Three people walking in circles\n5701\ta person standing on a small paved square and holding a yellow frisbee;A yellow shirt and a yellow frisbee with a green background;The sun shines and the place is beautiful \n254994\ta man holding a drinking glass and smiling.;A person with a black tie ;Photograph of a sad dog drinking coffee \n256799\ta chandelier sitting above a spiral stair case.;a chandelier and a clock in a very big room with stairs;Two people taking a nap\n524981\ta dog sitting on a boat behind the sail.;An engine, a dog and a sail in water;Bowling pins going down a slide\n509839\ta public bathroom that is empty and not in use.;Three sinks in a green room;Two beds in a room\n194120\ta cat sitting on a windowsill next to a painted pumpkin.;A cat lying on its back eats a pumpkin ;A banana filled with orange jelly \n197329\tsome zebras and a giraffe tall brown grass and trees;A desert, dry grass and savannah animals;pikachu uses his thunder attack\n432637\ta group of people riding a carousel with trees in the background.;People having fun on horses;many candlelit sticks\n298014\ta large architectural structure near a park;a traffic light on a city side walk with people;lighted street lamps\n250225\ta display of fruit print dishes in a store;Fruits and vegetables in a store;beef steaks spread on the floor\n484457\ta large stack of square shaped cakes sitting on a lit table.;Two tables and a cake;black sculptures in the shape of chocolate bars\n541039\ta group of people holding umbrellas standing behind a sign for a umbrella drive.;smiling black people who say thank you;Birthday gifts in a box\n423313\ta group of motorcycles parked in front of a building.;Mortorcyles hiding small stores;sunflowers looking towards the sun\"\"\"\n\n# from PIL import Image\n\n# id_and_pathfile=([(sample['coco_id'],sample['filepath']) for sample in dataset.to_dict()['samples']])\n# print(id_and_pathfile)\n# liste_de_valeurs= [e.split(\"\\t\") for e in notation_all.split(\"\\n\")]\n# for _,v in enumerate(liste_de_valeurs):\n    # cocoid=int(v[0])\n    #print(cocoid,list_prompt)\n    # a= [valeur[1] for valeur in id_and_pathfile if valeur[0]==cocoid]\n    if a:\n        # urlcoco= a[0]\n        # list_prompt=v[1].split(';')\n        # im = Image.open(urlcoco)\n        \n        # device = \"cuda\" if torch.cuda.is_available() else \"cpu\"\n        # model, preprocess = clip.load(\"ViT-B/32\", device=device)\n\n        # image = preprocess(im).unsqueeze(0).to(device)\n        # text = clip.tokenize(list_prompt).to(device)\n\n        # with torch.no_grad():\n        #    image_features = model.encode_image(image)\n        #    text_features = model.encode_text(text)\n        #    \n        #    logits_per_image, logits_per_text = model(image, text)\n        #    probs = logits_per_image.softmax(dim=-1).cpu().numpy()\n\n        print(\"idcoco\",cocoid,\"Label probs:\", probs)\n    else:\n        print(\"noimage for :\",cocoid)",
   "outputs": [],
   "execution_count": null
  },
  {
   "cell_type": "markdown",
   "source": "<a style='text-decoration:none;line-height:16px;display:flex;color:#5B5B62;padding:10px;justify-content:end;' href='https://deepnote.com?utm_source=created-in-deepnote-cell&projectId=4f3692ed-5f27-49a4-899a-82a03e72232c' target=\"_blank\">\n<img alt='Created in deepnote.com' style='display:inline;max-height:16px;margin:0px;margin-right:7.5px;' src='data:image/svg+xml;base64,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' > </img>\nCreated in <span style='font-weight:600;margin-left:4px;'>Deepnote</span></a>",
   "metadata": {
    "tags": [],
    "created_in_deepnote_cell": true,
    "deepnote_cell_type": "markdown"
   }
  }
 ],
 "nbformat": 4,
 "nbformat_minor": 2,
 "metadata": {
  "orig_nbformat": 2,
  "deepnote": {
   "is_reactive": false
  },
  "deepnote_notebook_id": "e57f7cd4-3026-4b09-a65f-bcd7e506ea16",
  "deepnote_execution_queue": []
 }
}
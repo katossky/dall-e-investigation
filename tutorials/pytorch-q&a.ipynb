{
 "cells": [
  {
   "cell_type": "markdown",
   "metadata": {},
   "source": [
    "# Questions-réponses\n",
    "\n",
    "## 1. Quelle est la différence entre `torch.nn.CrossEntropyLoss` et `torch.nn.functional.cross_entropy` ?\n",
    "\n",
    "Réponse [ici](https://discuss.pytorch.org/t/f-cross-entropy-vs-torch-nn-cross-entropy-loss/25505):\n",
    "> The main difference between the nn.functional.xxx and the nn.Xxx is that one has a state and one does not.\n",
    "This means that for a linear layer for example, if you use the functional version, you will need to handle the weights yourself (including passing them to the optimizer or moving them to the gpu) while the nn.Xxx version will do all of that for you with .parameters() or .to(device).\n",
    "> \n",
    "> For loss functions, as no parameters are needed (in general), you won’t find much difference. Except for example, if you use cross entropy with some weighting between your classes, using the nn.CrossEntropyLoss() 578 module, you will give your weights only once while creating the module and then use it. If you were using the functional version 559, you will need to pass the weights every single time you will use it."
   ]
  },
  {
   "cell_type": "markdown",
   "metadata": {},
   "source": []
  },
  {
   "cell_type": "markdown",
   "metadata": {},
   "source": []
  },
  {
   "cell_type": "markdown",
   "metadata": {},
   "source": []
  },
  {
   "cell_type": "code",
   "execution_count": null,
   "metadata": {},
   "outputs": [],
   "source": []
  }
 ],
 "metadata": {
  "language_info": {
   "name": "python"
  },
  "orig_nbformat": 4
 },
 "nbformat": 4,
 "nbformat_minor": 2
}

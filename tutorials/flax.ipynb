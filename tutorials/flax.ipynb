{
 "cells": [
  {
   "cell_type": "markdown",
   "source": "`flax` est une bibliothèque pour faire des réseaux de neurones distirbués avec `jax`. Ce _notebook_ vient de _Flax basics_ ([lien](https://flax.readthedocs.io/en/latest/notebooks/flax_basics.html)).",
   "metadata": {
    "cell_id": "aa7a5386-e915-4ae7-a6a7-6002240054d2",
    "tags": [],
    "deepnote_cell_type": "markdown"
   }
  },
  {
   "cell_type": "code",
   "metadata": {
    "tags": [],
    "cell_id": "f60c688d-8d51-47ff-ab8a-448e33d5d442",
    "deepnote_to_be_reexecuted": false,
    "source_hash": "d790be7a",
    "execution_start": 1644769574410,
    "execution_millis": 1270,
    "deepnote_cell_type": "code"
   },
   "source": "import jax\nfrom typing import Any, Callable, Sequence, Optional\nfrom jax import lax, random, numpy as jnp\nimport flax\nfrom flax.core import freeze, unfreeze\nfrom flax import linen as nn",
   "execution_count": null,
   "outputs": []
  },
  {
   "cell_type": "code",
   "metadata": {
    "cell_id": "23dcc2cb-c634-4854-8f49-e44d988ad8d2",
    "tags": [],
    "deepnote_to_be_reexecuted": false,
    "source_hash": "2fc59397",
    "execution_start": 1644769699767,
    "execution_millis": 1,
    "deepnote_cell_type": "code"
   },
   "source": "model = nn.Dense(features=5) # une régression linéaire avec 5 variables et 1 constante",
   "execution_count": null,
   "outputs": []
  },
  {
   "cell_type": "code",
   "metadata": {
    "cell_id": "db44f4a5-bd3c-49db-9036-004ec769af9e",
    "tags": [],
    "deepnote_to_be_reexecuted": false,
    "source_hash": "cc46ea25",
    "execution_start": 1644769855452,
    "execution_millis": 895,
    "deepnote_output_heights": [
     null,
     117
    ],
    "deepnote_cell_type": "code"
   },
   "source": "key1, key2 = random.split(random.PRNGKey(0))\nx = random.normal(key1, (10,))          # fausses valeurs pour les variables\nparams = model.init(key2, x)            # initialisation du modèle\njax.tree_map(lambda x: x.shape, params) # vérification des dimensions",
   "execution_count": null,
   "outputs": [
    {
     "name": "stderr",
     "text": "WARNING:absl:No GPU/TPU found, falling back to CPU. (Set TF_CPP_MIN_LOG_LEVEL=0 and rerun for more info.)\n",
     "output_type": "stream"
    },
    {
     "output_type": "execute_result",
     "execution_count": 4,
     "data": {
      "text/plain": "FrozenDict({\n    params: {\n        bias: (5,),\n        kernel: (10, 5),\n    },\n})"
     },
     "metadata": {}
    }
   ]
  },
  {
   "cell_type": "code",
   "metadata": {
    "cell_id": "d02092e7-0716-4207-a6a9-3ac9428e067a",
    "tags": [],
    "deepnote_to_be_reexecuted": false,
    "source_hash": "71c88b5e",
    "execution_start": 1644770097260,
    "execution_millis": 4,
    "deepnote_output_heights": [
     482
    ],
    "deepnote_cell_type": "code"
   },
   "source": "params # type FrozenDict pour éviter une transfpormation involontaire de l'objet\n\n# Par exemple, ceci ne fonctionne pas :\n# params['new_key'] = jnp.ones((2,2))\n\n# À la place il faut utiliser la méthode `apply()` :\n# model.apply(params, x)",
   "execution_count": null,
   "outputs": [
    {
     "output_type": "execute_result",
     "execution_count": 5,
     "data": {
      "text/plain": "FrozenDict({\n    params: {\n        kernel: DeviceArray([[ 0.09743747, -0.5683137 , -0.06780378, -0.1180671 ,\n                       0.03285856],\n                     [ 0.15034887,  0.28385404, -0.45370942, -0.65261525,\n                       0.4843259 ],\n                     [ 0.30430356, -0.02456241, -0.6486749 ,  0.16488925,\n                       0.24801679],\n                     [ 0.36059454,  0.5197193 ,  0.2580517 , -0.1603609 ,\n                       0.10223368],\n                     [-0.23593411,  0.68376005,  0.19177364,  0.08698639,\n                       0.323076  ],\n                     [-0.25727603,  0.17198811, -0.10558521, -0.09704927,\n                       0.21292163],\n                     [ 0.10995918,  0.21282521, -0.05020124,  0.13559322,\n                       0.53869057],\n                     [ 0.41700497, -0.00570198, -0.55221575, -0.69621116,\n                       0.07924244],\n                     [ 0.40262163,  0.13007769,  0.468249  ,  0.532188  ,\n                       0.15194401],\n                     [-0.23252913, -0.02134081,  0.1797405 , -0.10384369,\n                      -0.45109636]], dtype=float32),\n        bias: DeviceArray([0., 0., 0., 0., 0.], dtype=float32),\n    },\n})"
     },
     "metadata": {}
    }
   ]
  },
  {
   "cell_type": "markdown",
   "source": "<a style='text-decoration:none;line-height:16px;display:flex;color:#5B5B62;padding:10px;justify-content:end;' href='https://deepnote.com?utm_source=created-in-deepnote-cell&projectId=4f3692ed-5f27-49a4-899a-82a03e72232c' target=\"_blank\">\n<img alt='Created in deepnote.com' style='display:inline;max-height:16px;margin:0px;margin-right:7.5px;' src='data:image/svg+xml;base64,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' > </img>\nCreated in <span style='font-weight:600;margin-left:4px;'>Deepnote</span></a>",
   "metadata": {
    "tags": [],
    "created_in_deepnote_cell": true,
    "deepnote_cell_type": "markdown"
   }
  }
 ],
 "nbformat": 4,
 "nbformat_minor": 2,
 "metadata": {
  "orig_nbformat": 2,
  "deepnote": {
   "is_reactive": false
  },
  "deepnote_notebook_id": "e8bfbdad-0119-4573-968e-7ff22780495d",
  "deepnote_execution_queue": []
 }
}
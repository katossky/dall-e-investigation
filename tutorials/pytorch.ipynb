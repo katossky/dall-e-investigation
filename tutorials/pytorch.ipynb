{
 "cells": [
  {
   "cell_type": "markdown",
   "source": "## Pytorch tutorial\n\nhttps://pytorch.org/tutorials/beginner/basics/quickstart_tutorial.html",
   "metadata": {
    "cell_id": "861d9a0f-2c7a-4e4d-aedd-ae95f1e430f1",
    "tags": [],
    "deepnote_cell_type": "markdown"
   }
  },
  {
   "cell_type": "markdown",
   "source": "### 1. Quickstart",
   "metadata": {
    "cell_id": "416b911d-f61f-482c-ac33-6e67e1d7340d",
    "tags": [],
    "deepnote_cell_type": "markdown"
   }
  },
  {
   "cell_type": "code",
   "metadata": {
    "tags": [],
    "cell_id": "2f68fd4e-069e-4f5e-86cb-eeaa00eee0ad",
    "deepnote_to_be_reexecuted": false,
    "source_hash": "591ed4de",
    "execution_start": 1643028822025,
    "execution_millis": 2857,
    "deepnote_cell_type": "code"
   },
   "source": "import torch\nfrom torch import nn\nfrom torch.utils.data import DataLoader\nfrom torchvision import datasets\nfrom torchvision.transforms import ToTensor, Lambda, Compose\nimport matplotlib.pyplot as plt",
   "execution_count": null,
   "outputs": []
  },
  {
   "cell_type": "markdown",
   "source": "### 2. Working with data",
   "metadata": {
    "cell_id": "4888e2cc-fe5a-4275-afc2-f6cac6b9223e",
    "tags": [],
    "deepnote_cell_type": "markdown"
   }
  },
  {
   "cell_type": "code",
   "metadata": {
    "cell_id": "72b91da8-0003-4069-967c-74e9eac435ec",
    "tags": [],
    "deepnote_to_be_reexecuted": false,
    "source_hash": "3d874f6",
    "execution_start": 1643028824885,
    "execution_millis": 9131,
    "deepnote_cell_type": "code"
   },
   "source": "# Download training data from open datasets.\ntraining_data = datasets.FashionMNIST(\n    root=\"data\",\n    train=True,\n    download=True,\n    transform=ToTensor(),\n)\n\n# Download test data from open datasets.\ntest_data = datasets.FashionMNIST(\n    root=\"data\",\n    train=False,\n    download=True,\n    transform=ToTensor(),\n)",
   "execution_count": null,
   "outputs": [
    {
     "name": "stdout",
     "text": "Downloading http://fashion-mnist.s3-website.eu-central-1.amazonaws.com/train-images-idx3-ubyte.gz\nDownloading http://fashion-mnist.s3-website.eu-central-1.amazonaws.com/train-images-idx3-ubyte.gz to data/FashionMNIST/raw/train-images-idx3-ubyte.gz\n",
     "output_type": "stream"
    },
    {
     "data": {
      "text/plain": "  0%|          | 0/26421880 [00:00<?, ?it/s]",
      "application/vnd.jupyter.widget-view+json": {
       "version_major": 2,
       "version_minor": 0,
       "model_id": "ab06a747dd2446a4af2f7eb43a07023c"
      }
     },
     "metadata": {},
     "output_type": "display_data"
    },
    {
     "name": "stdout",
     "text": "Extracting data/FashionMNIST/raw/train-images-idx3-ubyte.gz to data/FashionMNIST/raw\n\nDownloading http://fashion-mnist.s3-website.eu-central-1.amazonaws.com/train-labels-idx1-ubyte.gz\nDownloading http://fashion-mnist.s3-website.eu-central-1.amazonaws.com/train-labels-idx1-ubyte.gz to data/FashionMNIST/raw/train-labels-idx1-ubyte.gz\n",
     "output_type": "stream"
    },
    {
     "data": {
      "text/plain": "  0%|          | 0/29515 [00:00<?, ?it/s]",
      "application/vnd.jupyter.widget-view+json": {
       "version_major": 2,
       "version_minor": 0,
       "model_id": "5d193fc7d545487fa1e9096072ffd940"
      }
     },
     "metadata": {},
     "output_type": "display_data"
    },
    {
     "name": "stdout",
     "text": "Extracting data/FashionMNIST/raw/train-labels-idx1-ubyte.gz to data/FashionMNIST/raw\n\nDownloading http://fashion-mnist.s3-website.eu-central-1.amazonaws.com/t10k-images-idx3-ubyte.gz\nDownloading http://fashion-mnist.s3-website.eu-central-1.amazonaws.com/t10k-images-idx3-ubyte.gz to data/FashionMNIST/raw/t10k-images-idx3-ubyte.gz\n",
     "output_type": "stream"
    },
    {
     "data": {
      "text/plain": "  0%|          | 0/4422102 [00:00<?, ?it/s]",
      "application/vnd.jupyter.widget-view+json": {
       "version_major": 2,
       "version_minor": 0,
       "model_id": "085e30586b494cce8907d47f39e92893"
      }
     },
     "metadata": {},
     "output_type": "display_data"
    },
    {
     "name": "stdout",
     "text": "Extracting data/FashionMNIST/raw/t10k-images-idx3-ubyte.gz to data/FashionMNIST/raw\n\nDownloading http://fashion-mnist.s3-website.eu-central-1.amazonaws.com/t10k-labels-idx1-ubyte.gz\nDownloading http://fashion-mnist.s3-website.eu-central-1.amazonaws.com/t10k-labels-idx1-ubyte.gz to data/FashionMNIST/raw/t10k-labels-idx1-ubyte.gz\n",
     "output_type": "stream"
    },
    {
     "data": {
      "text/plain": "  0%|          | 0/5148 [00:00<?, ?it/s]",
      "application/vnd.jupyter.widget-view+json": {
       "version_major": 2,
       "version_minor": 0,
       "model_id": "0db61542579445ffa2afb8414b02d4f5"
      }
     },
     "metadata": {},
     "output_type": "display_data"
    },
    {
     "name": "stdout",
     "text": "Extracting data/FashionMNIST/raw/t10k-labels-idx1-ubyte.gz to data/FashionMNIST/raw\n\n",
     "output_type": "stream"
    }
   ]
  },
  {
   "cell_type": "code",
   "metadata": {
    "cell_id": "8a704e51-84e4-4f59-af00-9537664214ca",
    "tags": [],
    "deepnote_to_be_reexecuted": false,
    "source_hash": "d0588526",
    "execution_start": 1643028881920,
    "execution_millis": 7,
    "deepnote_cell_type": "code"
   },
   "source": "batch_size = 64\n\n# Create data loaders.\ntrain_dataloader = DataLoader(training_data, batch_size=batch_size)\ntest_dataloader = DataLoader(test_data, batch_size=batch_size)\n\nfor X, y in test_dataloader:\n    print(\"Shape of X [N, C, H, W]: \", X.shape)\n    print(\"Shape of y: \", y.shape, y.dtype)\n    break",
   "execution_count": null,
   "outputs": [
    {
     "name": "stdout",
     "text": "Shape of X [N, C, H, W]:  torch.Size([64, 1, 28, 28])\nShape of y:  torch.Size([64]) torch.int64\n",
     "output_type": "stream"
    }
   ]
  },
  {
   "cell_type": "code",
   "metadata": {
    "cell_id": "a32b6833-1578-4be6-a0d4-594d9d86c173",
    "tags": [],
    "deepnote_to_be_reexecuted": false,
    "source_hash": "d497c4e5",
    "execution_start": 1643028954372,
    "execution_millis": 4,
    "deepnote_cell_type": "code"
   },
   "source": "# Get cpu or gpu device for training.\ndevice = \"cuda\" if torch.cuda.is_available() else \"cpu\"\nprint(f\"Using {device} device\")\n\n# Define model\nclass NeuralNetwork(nn.Module):\n    def __init__(self):\n        super(NeuralNetwork, self).__init__()\n        self.flatten = nn.Flatten()\n        self.linear_relu_stack = nn.Sequential(\n            nn.Linear(28*28, 512),\n            nn.ReLU(),\n            nn.Linear(512, 512),\n            nn.ReLU(),\n            nn.Linear(512, 10)\n        )\n\n    def forward(self, x):\n        x = self.flatten(x)\n        logits = self.linear_relu_stack(x)\n        return logits\n\nmodel = NeuralNetwork().to(device)\nprint(model)",
   "execution_count": null,
   "outputs": [
    {
     "name": "stdout",
     "text": "Using cpu device\nNeuralNetwork(\n  (flatten): Flatten(start_dim=1, end_dim=-1)\n  (linear_relu_stack): Sequential(\n    (0): Linear(in_features=784, out_features=512, bias=True)\n    (1): ReLU()\n    (2): Linear(in_features=512, out_features=512, bias=True)\n    (3): ReLU()\n    (4): Linear(in_features=512, out_features=10, bias=True)\n  )\n)\n",
     "output_type": "stream"
    }
   ]
  },
  {
   "cell_type": "code",
   "metadata": {
    "cell_id": "4574e8d2-d732-48c0-9007-77e864031b17",
    "tags": [],
    "deepnote_to_be_reexecuted": false,
    "source_hash": "7f89ed47",
    "execution_start": 1643029103480,
    "execution_millis": 1,
    "deepnote_cell_type": "code"
   },
   "source": "loss_fn = nn.CrossEntropyLoss()\noptimizer = torch.optim.SGD(model.parameters(), lr=1e-3)",
   "execution_count": null,
   "outputs": []
  },
  {
   "cell_type": "code",
   "metadata": {
    "cell_id": "5b5adb52-29dc-46b1-ad58-fec991035300",
    "tags": [],
    "deepnote_to_be_reexecuted": false,
    "source_hash": "b384f204",
    "execution_start": 1643029764018,
    "execution_millis": 138392,
    "deepnote_cell_type": "code"
   },
   "source": "def train(dataloader, model, loss_fn, optimizer):\n    size = len(dataloader.dataset)\n    model.train()\n    for batch, (X, y) in enumerate(dataloader):\n        X, y = X.to(device), y.to(device)\n\n        # Compute prediction error\n        pred = model(X)\n        loss = loss_fn(pred, y)\n\n        # Backpropagation\n        optimizer.zero_grad() # reinitialisation (optional)\n        loss.backward()       # magic part 1/2\n        optimizer.step()      # magic part 2/2\n\n        if batch % 100 == 0:\n            loss, current = loss.item(), batch * len(X)\n            print(f\"loss: {loss:>7f}  [{current:>5d}/{size:>5d}]\")\n\ndef test(dataloader, model, loss_fn):\n    size = len(dataloader.dataset)\n    num_batches = len(dataloader)\n    model.eval()\n    test_loss, correct = 0, 0\n    with torch.no_grad():\n        for X, y in dataloader:\n            X, y = X.to(device), y.to(device)\n            pred = model(X)\n            test_loss += loss_fn(pred, y).item()\n            correct += (pred.argmax(1) == y).type(torch.float).sum().item()\n    test_loss /= num_batches\n    correct /= size\n    print(f\"Test Error: \\n Accuracy: {(100*correct):>0.1f}%, Avg loss: {test_loss:>8f} \\n\")\n\nepochs = 5\nfor t in range(epochs):\n    print(f\"Epoch {t+1}\\n-------------------------------\")\n    train(train_dataloader, model, loss_fn, optimizer)\n    test(test_dataloader, model, loss_fn)\nprint(\"Done!\")\n# check if by default dataloader suffles the data between epochs",
   "execution_count": null,
   "outputs": [
    {
     "name": "stdout",
     "text": "Epoch 1\n-------------------------------\nloss: 2.238085  [    0/60000]\nloss: 2.241226  [ 6400/60000]\nloss: 2.204574  [12800/60000]\nloss: 2.205032  [19200/60000]\nloss: 2.180001  [25600/60000]\nloss: 2.135429  [32000/60000]\nloss: 2.149553  [38400/60000]\nloss: 2.100229  [44800/60000]\nloss: 2.104124  [51200/60000]\nloss: 2.048573  [57600/60000]\nTest Error: \n Accuracy: 56.0%, Avg loss: 2.048455 \n\nEpoch 2\n-------------------------------\nloss: 2.062866  [    0/60000]\nloss: 2.052495  [ 6400/60000]\nloss: 1.966940  [12800/60000]\nloss: 1.988936  [19200/60000]\nloss: 1.893579  [25600/60000]\nloss: 1.837220  [32000/60000]\nloss: 1.857846  [38400/60000]\nloss: 1.767597  [44800/60000]\nloss: 1.782311  [51200/60000]\nloss: 1.678340  [57600/60000]\nTest Error: \n Accuracy: 58.4%, Avg loss: 1.691524 \n\nEpoch 3\n-------------------------------\nloss: 1.739444  [    0/60000]\nloss: 1.708697  [ 6400/60000]\nloss: 1.574503  [12800/60000]\nloss: 1.623828  [19200/60000]\nloss: 1.491911  [25600/60000]\nloss: 1.470329  [32000/60000]\nloss: 1.483219  [38400/60000]\nloss: 1.406336  [44800/60000]\nloss: 1.435995  [51200/60000]\nloss: 1.323449  [57600/60000]\nTest Error: \n Accuracy: 61.8%, Avg loss: 1.353450 \n\nEpoch 4\n-------------------------------\nloss: 1.426958  [    0/60000]\nloss: 1.406255  [ 6400/60000]\nloss: 1.251078  [12800/60000]\nloss: 1.331845  [19200/60000]\nloss: 1.210789  [25600/60000]\nloss: 1.217138  [32000/60000]\nloss: 1.233929  [38400/60000]\nloss: 1.174130  [44800/60000]\nloss: 1.211791  [51200/60000]\nloss: 1.115823  [57600/60000]\nTest Error: \n Accuracy: 63.9%, Avg loss: 1.143827 \n\nEpoch 5\n-------------------------------\nloss: 1.215020  [    0/60000]\nloss: 1.214887  [ 6400/60000]\nloss: 1.042302  [12800/60000]\nloss: 1.157423  [19200/60000]\nloss: 1.040958  [25600/60000]\nloss: 1.054191  [32000/60000]\nloss: 1.087311  [38400/60000]\nloss: 1.032858  [44800/60000]\nloss: 1.074069  [51200/60000]\nloss: 0.992912  [57600/60000]\nTest Error: \n Accuracy: 65.2%, Avg loss: 1.015728 \n\nDone!\n",
     "output_type": "stream"
    }
   ]
  },
  {
   "cell_type": "code",
   "metadata": {
    "cell_id": "3642e677-dad8-4cbe-8e02-095ecb7bb68f",
    "tags": [],
    "deepnote_to_be_reexecuted": false,
    "source_hash": "c72ee56b",
    "execution_start": 1643030033740,
    "execution_millis": 1507,
    "deepnote_output_heights": [
     21.1875
    ],
    "deepnote_cell_type": "code"
   },
   "source": "torch.save(model.state_dict(), \"data/model.pth\")\nprint(\"Saved PyTorch Model State to model.pth\")",
   "execution_count": null,
   "outputs": [
    {
     "name": "stdout",
     "text": "Saved PyTorch Model State to model.pth\n",
     "output_type": "stream"
    }
   ]
  },
  {
   "cell_type": "code",
   "metadata": {
    "cell_id": "63126b31-0447-4e0b-9eab-50e6f95dd717",
    "tags": [],
    "deepnote_to_be_reexecuted": false,
    "source_hash": "20ca5f6a",
    "execution_start": 1643030071996,
    "execution_millis": 245,
    "deepnote_output_heights": [
     21
    ],
    "deepnote_cell_type": "code"
   },
   "source": "model = NeuralNetwork()\nmodel.load_state_dict(torch.load(\"data/model.pth\"))\n",
   "execution_count": null,
   "outputs": [
    {
     "output_type": "execute_result",
     "execution_count": 24,
     "data": {
      "text/plain": "<All keys matched successfully>"
     },
     "metadata": {}
    }
   ]
  },
  {
   "cell_type": "code",
   "metadata": {
    "cell_id": "3ba4c6a9-80f8-42f7-bb9f-1e4e303bfb99",
    "tags": [],
    "deepnote_to_be_reexecuted": false,
    "source_hash": "c2d30a91",
    "execution_start": 1643030079023,
    "execution_millis": 12,
    "deepnote_cell_type": "code"
   },
   "source": "classes = [\n    \"T-shirt/top\",\n    \"Trouser\",\n    \"Pullover\",\n    \"Dress\",\n    \"Coat\",\n    \"Sandal\",\n    \"Shirt\",\n    \"Sneaker\",\n    \"Bag\",\n    \"Ankle boot\",\n]\n\nmodel.eval()\nx, y = test_data[0][0], test_data[0][1]\nwith torch.no_grad():\n    pred = model(x)\n    predicted, actual = classes[pred[0].argmax(0)], classes[y]\n    print(f'Predicted: \"{predicted}\", Actual: \"{actual}\"')",
   "execution_count": null,
   "outputs": [
    {
     "name": "stdout",
     "text": "Predicted: \"Ankle boot\", Actual: \"Ankle boot\"\n",
     "output_type": "stream"
    }
   ]
  },
  {
   "cell_type": "markdown",
   "source": "## 2. Tensors\n\n### 2.1 Initializing a Tensor",
   "metadata": {
    "cell_id": "73ec3f13-db7e-4ae1-abe3-8e06123d86e9",
    "tags": [],
    "deepnote_cell_type": "markdown"
   }
  },
  {
   "cell_type": "code",
   "metadata": {
    "cell_id": "60c0e9f9-32f8-4305-b68e-b0b5609133b3",
    "tags": [],
    "deepnote_to_be_reexecuted": false,
    "source_hash": "9f6e8935",
    "execution_start": 1643031386564,
    "execution_millis": 2,
    "deepnote_cell_type": "code"
   },
   "source": "import torch\nimport numpy as np\n\n# from scratch\ndata = [[1, 2],[3, 4]]\nx_data = torch.tensor(data)\n\n# from numpy\nnp_array = np.array(data)\nx_np = torch.from_numpy(np_array)\n\n# from existing tensors\nx_ones = torch.ones_like(x_data) # retains the properties of x_data\nx_rand = torch.rand_like(x_data, dtype=torch.float) # overrides the datatype of x_data\nprint(f\"Ones Tensor: \\n {x_ones} \\n\")\nprint(f\"Random Tensor: \\n {x_rand} \\n\")\n\n# from a dimensions\nshape = (2,3,)\nrand_tensor = torch.rand(shape)\nones_tensor = torch.ones(shape)\nzeros_tensor = torch.zeros(shape)\n\nprint(f\"Random Tensor: \\n {rand_tensor} \\n\")\nprint(f\"Ones Tensor: \\n {ones_tensor} \\n\")\nprint(f\"Zeros Tensor: \\n {zeros_tensor}\")",
   "execution_count": null,
   "outputs": [
    {
     "name": "stdout",
     "text": "Ones Tensor: \n tensor([[1, 1],\n        [1, 1]]) \n\nRandom Tensor: \n tensor([[0.4718, 0.0964],\n        [0.4826, 0.1432]]) \n\nRandom Tensor: \n tensor([[0.4588, 0.3390, 0.3888],\n        [0.4990, 0.6156, 0.9145]]) \n\nOnes Tensor: \n tensor([[1., 1., 1.],\n        [1., 1., 1.]]) \n\nZeros Tensor: \n tensor([[0., 0., 0.],\n        [0., 0., 0.]])\n",
     "output_type": "stream"
    }
   ]
  },
  {
   "cell_type": "markdown",
   "source": "### 2.2 Attributes of a Tensor",
   "metadata": {
    "cell_id": "b03393fb-1784-47b1-a2ee-0a5c44492a3f",
    "tags": [],
    "deepnote_cell_type": "markdown"
   }
  },
  {
   "cell_type": "code",
   "metadata": {
    "cell_id": "319b7dd9-6a91-406e-90f9-0c3445df54a3",
    "tags": [],
    "deepnote_to_be_reexecuted": false,
    "source_hash": "a09115a5",
    "execution_start": 1643031429938,
    "execution_millis": 10,
    "deepnote_cell_type": "code"
   },
   "source": "tensor = torch.rand(3,4)\n\nprint(f\"Shape of tensor: {tensor.shape}\")\nprint(f\"Datatype of tensor: {tensor.dtype}\")\nprint(f\"Device tensor is stored on: {tensor.device}\")",
   "execution_count": null,
   "outputs": [
    {
     "name": "stdout",
     "text": "Shape of tensor: torch.Size([3, 4])\nDatatype of tensor: torch.float32\nDevice tensor is stored on: cpu\n",
     "output_type": "stream"
    }
   ]
  },
  {
   "cell_type": "markdown",
   "source": "### 2.3 Tensor operations",
   "metadata": {
    "cell_id": "43598aa9-0fac-4805-b183-ca65aa5ca2e2",
    "tags": [],
    "deepnote_cell_type": "markdown"
   }
  },
  {
   "cell_type": "code",
   "metadata": {
    "cell_id": "2ff9b546-7fbe-4ca8-a99b-667c4e0cc28d",
    "tags": [],
    "deepnote_cell_type": "code"
   },
   "source": "if torch.cuda.is_available():\n    tensor = tensor.to('cuda')",
   "execution_count": null,
   "outputs": []
  },
  {
   "cell_type": "code",
   "metadata": {
    "cell_id": "a481ae70-0727-48f6-baee-f946a200646b",
    "tags": [],
    "deepnote_to_be_reexecuted": false,
    "source_hash": "ff28a50d",
    "execution_start": 1643031981400,
    "execution_millis": 2,
    "deepnote_cell_type": "code"
   },
   "source": "# similar to Numpy\ntensor = torch.ones(4, 4)\nprint('First row: ', tensor[0])\nprint('First column: ', tensor[:, 0])\nprint('Last column:', tensor[..., -1])\ntensor[:,1] = 0\nprint(tensor)",
   "execution_count": null,
   "outputs": [
    {
     "name": "stdout",
     "text": "First row:  tensor([1., 1., 1., 1.])\nFirst column:  tensor([1., 1., 1., 1.])\nLast column: tensor([1., 1., 1., 1.])\ntensor([[1., 0., 1., 1.],\n        [1., 0., 1., 1.],\n        [1., 0., 1., 1.],\n        [1., 0., 1., 1.]])\n",
     "output_type": "stream"
    }
   ]
  },
  {
   "cell_type": "code",
   "metadata": {
    "cell_id": "3ef30fcc-9c59-4d07-8432-03f16fd81c7d",
    "tags": [],
    "deepnote_to_be_reexecuted": false,
    "source_hash": "6ba659ef",
    "execution_start": 1643032023862,
    "execution_millis": 14,
    "deepnote_output_heights": [
     79
    ],
    "deepnote_cell_type": "code"
   },
   "source": "torch.cat([tensor, tensor, tensor], dim=1)",
   "execution_count": null,
   "outputs": [
    {
     "output_type": "execute_result",
     "execution_count": 35,
     "data": {
      "text/plain": "tensor([[1., 0., 1., 1., 1., 0., 1., 1., 1., 0., 1., 1.],\n        [1., 0., 1., 1., 1., 0., 1., 1., 1., 0., 1., 1.],\n        [1., 0., 1., 1., 1., 0., 1., 1., 1., 0., 1., 1.],\n        [1., 0., 1., 1., 1., 0., 1., 1., 1., 0., 1., 1.]])"
     },
     "metadata": {}
    }
   ]
  },
  {
   "cell_type": "code",
   "metadata": {
    "cell_id": "e95650ea-e7ab-4381-99c3-0ea349055555",
    "tags": [],
    "deepnote_cell_type": "code"
   },
   "source": "# This computes the matrix multiplication between two tensors. y1, y2 will have the same value\ny1 = tensor @ tensor.T\ny2 = tensor.matmul(tensor.T)\n\n# This computes the element-wise product. z1, z2 will have the same value\nz1 = tensor * tensor\nz2 = tensor.mul(tensor)",
   "execution_count": null,
   "outputs": []
  },
  {
   "cell_type": "code",
   "metadata": {
    "cell_id": "7b8da627-7e57-4217-95c4-d7f6c4be1ca0",
    "tags": [],
    "deepnote_to_be_reexecuted": false,
    "source_hash": "11ba2382",
    "execution_start": 1643032148572,
    "execution_millis": 15,
    "deepnote_output_heights": [
     21
    ],
    "deepnote_cell_type": "code"
   },
   "source": "tensor.sum().item() # extract a specific number with item() method",
   "execution_count": null,
   "outputs": [
    {
     "output_type": "execute_result",
     "execution_count": 36,
     "data": {
      "text/plain": "12.0"
     },
     "metadata": {}
    }
   ]
  },
  {
   "cell_type": "code",
   "metadata": {
    "cell_id": "96aa921a-6e37-40ce-954d-99ab7c9d784d",
    "tags": [],
    "deepnote_to_be_reexecuted": false,
    "source_hash": "33dcadf9",
    "execution_start": 1643032202316,
    "execution_millis": 2,
    "deepnote_cell_type": "code"
   },
   "source": "tensor.add_(5) # in place methods are marked with _\nprint(tensor)\n\n# In-place operations save some memory, but can be problematic\n# when computing derivatives because of an immediate loss of history.\n# Hence, their use is discouraged.",
   "execution_count": null,
   "outputs": [
    {
     "name": "stdout",
     "text": "tensor([[6., 5., 6., 6.],\n        [6., 5., 6., 6.],\n        [6., 5., 6., 6.],\n        [6., 5., 6., 6.]])\n",
     "output_type": "stream"
    }
   ]
  },
  {
   "cell_type": "markdown",
   "source": "### 2.4 Bridge with NumPy",
   "metadata": {
    "cell_id": "833269d1-a642-45f1-b8ba-7cbe4ba346ef",
    "tags": [],
    "deepnote_cell_type": "markdown"
   }
  },
  {
   "cell_type": "code",
   "metadata": {
    "cell_id": "a9b1ba51-12fc-41f1-b5d1-71c089b4d5f8",
    "tags": [],
    "deepnote_to_be_reexecuted": false,
    "source_hash": "e0d7ea1f",
    "execution_start": 1643032310704,
    "execution_millis": 2,
    "deepnote_cell_type": "code"
   },
   "source": "t = torch.ones(5)\nprint(f\"t: {t}\")\nn = t.numpy()\nprint(f\"n: {n}\")",
   "execution_count": null,
   "outputs": [
    {
     "name": "stdout",
     "text": "t: tensor([1., 1., 1., 1., 1.])\nn: [1. 1. 1. 1. 1.]\n",
     "output_type": "stream"
    }
   ]
  },
  {
   "cell_type": "code",
   "metadata": {
    "cell_id": "859f3bb2-c216-4a32-94e0-490c9979190d",
    "tags": [],
    "deepnote_to_be_reexecuted": false,
    "source_hash": "2915505c",
    "execution_start": 1643032424976,
    "execution_millis": 2,
    "deepnote_cell_type": "code"
   },
   "source": "# A change in the tensor reflects in the NumPy array...\nt.add_(1)\nprint(f\"t: {t}\")\nprint(f\"n: {n}\")\n\n# ... and vice versa\nn = np.ones(5)\nt = torch.from_numpy(n)\nnp.add(n, 1, out=n)\nprint(f\"t: {t}\")\nprint(f\"n: {n}\")",
   "execution_count": null,
   "outputs": [
    {
     "name": "stdout",
     "text": "t: tensor([2., 2., 2., 2., 2.], dtype=torch.float64)\nn: [2. 2. 2. 2. 2.]\nt: tensor([2., 2., 2., 2., 2.], dtype=torch.float64)\nn: [2. 2. 2. 2. 2.]\n",
     "output_type": "stream"
    }
   ]
  },
  {
   "cell_type": "markdown",
   "source": "## 3. Datasets and dataloaders\n\n### 3.1 Loading a dataset\n\n\n",
   "metadata": {
    "cell_id": "3fc8595d-dc4b-4ec0-adb1-40b0fda8de7d",
    "tags": [],
    "deepnote_cell_type": "markdown"
   }
  },
  {
   "cell_type": "code",
   "metadata": {
    "cell_id": "0525b457-0ceb-46cc-aad4-8984e6657b9b",
    "tags": [],
    "deepnote_to_be_reexecuted": false,
    "source_hash": "853b5dba",
    "execution_start": 1643033047877,
    "execution_millis": 44,
    "deepnote_cell_type": "code"
   },
   "source": "import torch\nfrom torch.utils.data import Dataset\nfrom torchvision import datasets\nfrom torchvision.transforms import ToTensor\nimport matplotlib.pyplot as plt\n\n\ntraining_data = datasets.FashionMNIST(\n    root=\"data\",   # where to store the data\n    train=True,    # category train / test\n    download=True, # force download if not available in root\n    transform=ToTensor()\n)\n\ntest_data = datasets.FashionMNIST(\n    root=\"data\",\n    train=False,\n    download=True,\n    transform=ToTensor()\n)",
   "execution_count": null,
   "outputs": []
  },
  {
   "cell_type": "markdown",
   "source": "### 3.2 Iterating and Visualizing the Dataset",
   "metadata": {
    "cell_id": "b2c70d7e-7a6b-47c9-a845-92b34dd837d2",
    "tags": [],
    "deepnote_cell_type": "markdown"
   }
  },
  {
   "cell_type": "code",
   "metadata": {
    "cell_id": "9176d76d-dea7-4d04-bbb0-f4fc6e124b43",
    "tags": [],
    "deepnote_to_be_reexecuted": false,
    "source_hash": "f69e9542",
    "execution_start": 1643033096428,
    "execution_millis": 763,
    "deepnote_output_heights": [
     467
    ],
    "deepnote_cell_type": "code"
   },
   "source": "labels_map = {\n    0: \"T-Shirt\",\n    1: \"Trouser\",\n    2: \"Pullover\",\n    3: \"Dress\",\n    4: \"Coat\",\n    5: \"Sandal\",\n    6: \"Shirt\",\n    7: \"Sneaker\",\n    8: \"Bag\",\n    9: \"Ankle Boot\",\n}\nfigure = plt.figure(figsize=(8, 8))\ncols, rows = 3, 3\nfor i in range(1, cols * rows + 1):\n    sample_idx = torch.randint(len(training_data), size=(1,)).item()\n    img, label = training_data[sample_idx]\n    figure.add_subplot(rows, cols, i)\n    plt.title(labels_map[label])\n    plt.axis(\"off\")\n    plt.imshow(img.squeeze(), cmap=\"gray\")\nplt.show()",
   "execution_count": null,
   "outputs": [
    {
     "data": {
      "text/plain": "<Figure size 576x576 with 9 Axes>",
      "image/png": "[encoded data removed]"
     },
     "metadata": {
      "needs_background": "light",
      "image/png": {
       "width": 457,
       "height": 465
      }
     },
     "output_type": "display_data"
    }
   ]
  },
  {
   "cell_type": "markdown",
   "source": "### 3.3 Creating a Custom Dataset for your files",
   "metadata": {
    "cell_id": "ac7bf0cf-505c-4c4a-a33a-f2c83701af2d",
    "tags": [],
    "deepnote_cell_type": "markdown"
   }
  },
  {
   "cell_type": "code",
   "metadata": {
    "cell_id": "9a53b1e4-8c2c-4cf0-bc7e-d21a7fb7114a",
    "tags": [],
    "deepnote_cell_type": "code"
   },
   "source": "import os\nimport pandas as pd\nfrom torchvision.io import read_image\n\nclass CustomImageDataset(Dataset):\n\n    # gets run once when instantiating the Dataset object\n    def __init__(self, annotations_file, img_dir, transform=None, target_transform=None):\n        self.img_labels = pd.read_csv(annotations_file) # initialize image comments\n        self.img_dir = img_dir # initialize the directory containing the images\n        self.transform = transform\n        self.target_transform = target_transform\n    \n    # returns the number of samples in our dataset\n    def __len__(self):\n        return len(self.img_labels)\n\n    # returns a sample from the dataset at the given index\n    def __getitem__(self, idx):\n        img_path = os.path.join(self.img_dir, self.img_labels.iloc[idx, 0])\n        image = read_image(img_path)\n        label = self.img_labels.iloc[idx, 1]\n        if self.transform:\n            image = self.transform(image)\n        if self.target_transform:\n            label = self.target_transform(label)\n        return image, label",
   "execution_count": null,
   "outputs": []
  },
  {
   "cell_type": "markdown",
   "source": "### 3.4 Preparing your data for training with DataLoaders",
   "metadata": {
    "cell_id": "4f7c7705-1dce-441c-83f2-5c2df1c4a97c",
    "tags": [],
    "deepnote_cell_type": "markdown"
   }
  },
  {
   "cell_type": "code",
   "metadata": {
    "cell_id": "8ce8fa3e-0b84-484d-9c20-c7f7c6f1454f",
    "tags": [],
    "deepnote_cell_type": "code"
   },
   "source": "from torch.utils.data import DataLoader\n\ntrain_dataloader = DataLoader(training_data, batch_size=64, shuffle=True)\ntest_dataloader = DataLoader(test_data, batch_size=64, shuffle=True)\n\n# batch_size: how many samples do you want to treat at once ?\n# shuffle: at the end of each epoch (when you have read all your data once),\n#   do you want to shuffle the data before the next epoch (and thus running)\n#   the same code but with different batches",
   "execution_count": null,
   "outputs": []
  },
  {
   "cell_type": "code",
   "metadata": {
    "cell_id": "df329a66-440c-4744-bbf3-aa9d6d1fac5c",
    "tags": [],
    "deepnote_to_be_reexecuted": false,
    "source_hash": "a3261f6a",
    "execution_start": 1643033680280,
    "execution_millis": 2397,
    "deepnote_output_heights": [
     null,
     250
    ],
    "deepnote_cell_type": "code"
   },
   "source": "train_features, train_labels = next(iter(train_dataloader))\nprint(f\"Feature batch shape: {train_features.size()}\")\nprint(f\"Labels batch shape: {train_labels.size()}\")\nimg = train_features[0].squeeze()\nlabel = train_labels[0]\nplt.imshow(img, cmap=\"gray\")\nplt.show()\nprint(f\"Label: {label}\")",
   "execution_count": null,
   "outputs": [
    {
     "name": "stdout",
     "text": "Feature batch shape: torch.Size([64, 1, 28, 28])\nLabels batch shape: torch.Size([64])\n",
     "output_type": "stream"
    },
    {
     "data": {
      "text/plain": "<Figure size 432x288 with 1 Axes>",
      "image/png": "[encoded data removed]"
     },
     "metadata": {
      "needs_background": "light",
      "image/png": {
       "width": 251,
       "height": 248
      }
     },
     "output_type": "display_data"
    },
    {
     "name": "stdout",
     "text": "Label: 9\n",
     "output_type": "stream"
    }
   ]
  },
  {
   "cell_type": "markdown",
   "source": "## 4. Transforms\n\n### 4.1 Transforms",
   "metadata": {
    "cell_id": "02f766e8-cae5-4b2b-b9ad-59a18cb87c95",
    "tags": [],
    "deepnote_cell_type": "markdown"
   }
  },
  {
   "cell_type": "code",
   "metadata": {
    "cell_id": "99c296bb-1911-44c5-9c54-12f9a8eeef0b",
    "tags": [],
    "deepnote_cell_type": "code"
   },
   "source": "import torch\nfrom torchvision import datasets\nfrom torchvision.transforms import ToTensor, Lambda\n\nds = datasets.FashionMNIST(\n    root = \"data\",\n    train = True,\n    download = True,\n    transform = ToTensor(), # transforms the raw data (X) to a usable shape\n                          # (here converts the image to a tensor)\n    target_transform = Lambda(\n        lambda y: torch.zeros(10, dtype=torch.float).scatter_(0, torch.tensor(y), value=1)\n    ) # transforms the raw data (Y) to usable shape (here from labels to integers)\n)",
   "execution_count": null,
   "outputs": []
  },
  {
   "cell_type": "markdown",
   "source": "## 5. Build a neural network\n\n### 5.1 Initialize",
   "metadata": {
    "cell_id": "c52e24b1-f8af-4160-8d6c-83017fcce1ae",
    "tags": [],
    "deepnote_cell_type": "markdown"
   }
  },
  {
   "cell_type": "code",
   "metadata": {
    "cell_id": "817fa5d4-3737-4cdd-b96f-db0e96d9b53b",
    "tags": [],
    "deepnote_to_be_reexecuted": false,
    "source_hash": "47361dbe",
    "execution_start": 1643034118484,
    "execution_millis": 36,
    "deepnote_cell_type": "code"
   },
   "source": "import os\nimport torch\nfrom torch import nn\nfrom torch.utils.data import DataLoader\nfrom torchvision import datasets, transforms\n\ndevice = 'cuda' if torch.cuda.is_available() else 'cpu'\nprint(f'Using {device} device')\n\nclass NeuralNetwork(nn.Module):\n    def __init__(self):\n        super(NeuralNetwork, self).__init__()\n        self.flatten = nn.Flatten()\n        self.linear_relu_stack = nn.Sequential(\n            nn.Linear(28*28, 512),\n            nn.ReLU(),\n            nn.Linear(512, 512),\n            nn.ReLU(),\n            nn.Linear(512, 10),\n        )\n\n    # Do not call model.forward() directly!\n    def forward(self, x):\n        x = self.flatten(x) # no information about the image structure is keeped\n                            # (no notion of neighboring pixels) ; since the images\n                            # are 28x28 pixels, the first layer of the network\n                            # has 28*28 entries.\n        logits = self.linear_relu_stack(x)\n        return logits\n\nmodel = NeuralNetwork().to(device)\nprint(model)",
   "execution_count": null,
   "outputs": [
    {
     "name": "stdout",
     "text": "Using cpu device\nNeuralNetwork(\n  (flatten): Flatten(start_dim=1, end_dim=-1)\n  (linear_relu_stack): Sequential(\n    (0): Linear(in_features=784, out_features=512, bias=True)\n    (1): ReLU()\n    (2): Linear(in_features=512, out_features=512, bias=True)\n    (3): ReLU()\n    (4): Linear(in_features=512, out_features=10, bias=True)\n  )\n)\n",
     "output_type": "stream"
    }
   ]
  },
  {
   "cell_type": "markdown",
   "source": "### 5.2 Use model",
   "metadata": {
    "cell_id": "3719222b-d2d5-4fac-a558-06c61b3973a4",
    "tags": [],
    "deepnote_cell_type": "markdown"
   }
  },
  {
   "cell_type": "code",
   "metadata": {
    "cell_id": "07d44498-6444-43f3-b9fb-b0eb2aa6877f",
    "tags": [],
    "deepnote_to_be_reexecuted": false,
    "source_hash": "7ef09731",
    "execution_start": 1643034450656,
    "execution_millis": 2,
    "deepnote_cell_type": "code"
   },
   "source": "X = torch.rand(1, 28, 28, device=device) # generate random pixels\nlogits = model(X)                        # compute absolute predictions\n# pred_probab = nn.Softmax(dim=1)(logits)  # normalize to [0;1] (useless here)\n# y_pred = pred_probab.argmax(1)           # find most porbable result\ny_pred = logits.argmax(1) \nprint(f\"Predicted class: {y_pred}\")",
   "execution_count": null,
   "outputs": [
    {
     "name": "stdout",
     "text": "Predicted class: tensor([5])\n",
     "output_type": "stream"
    }
   ]
  },
  {
   "cell_type": "markdown",
   "source": "### 5.3 Model building blocks",
   "metadata": {
    "cell_id": "baf14d52-5291-4c0c-8098-689ab46724f7",
    "tags": [],
    "deepnote_cell_type": "markdown"
   }
  },
  {
   "cell_type": "code",
   "metadata": {
    "cell_id": "804e6974-63ac-46d8-8e82-b2bb58c2c826",
    "tags": [],
    "deepnote_to_be_reexecuted": false,
    "source_hash": "a410800f",
    "execution_start": 1643034747902,
    "execution_millis": 18,
    "deepnote_cell_type": "code"
   },
   "source": "input_image = torch.rand(3,28,28)\nprint(input_image.size())\n\nflatten = nn.Flatten() # from 3 x 28 x 28 matrix to 3 x 784\nflat_image = flatten(input_image)\nprint(flat_image.size())\n\nlayer1 = nn.Linear(in_features=28*28, out_features=20)\n# fully connected layer with 28*28=784 entries\n# and 20 outputs\nhidden1 = layer1(flat_image)\nprint(hidden1.size())\n\nprint(f\"Before ReLU: {hidden1}\\n\\n\")\nhidden1 = nn.ReLU()(hidden1) # normalize following a RELU activation unit\nprint(f\"After ReLU: {hidden1}\")",
   "execution_count": null,
   "outputs": [
    {
     "name": "stdout",
     "text": "torch.Size([3, 28, 28])\ntorch.Size([3, 784])\ntorch.Size([3, 20])\nBefore ReLU: tensor([[ 0.1577, -0.0254,  0.0847, -0.4717,  0.0025,  0.3932, -0.1484, -0.2143,\n          0.6919,  0.1314, -0.6829,  0.1475,  0.7637, -0.1943,  0.1696, -0.1973,\n          0.2787,  0.3574, -0.0593, -0.5244],\n        [ 0.4024, -0.0595, -0.1415, -0.4337,  0.0267,  0.2293, -0.1682,  0.0810,\n          0.3792, -0.2024, -0.2500, -0.1947,  0.7276,  0.0646, -0.3020, -0.4249,\n          0.3473,  0.1644, -0.3802, -0.6605],\n        [ 0.3676,  0.1042,  0.2630, -0.7158, -0.1407,  0.1204, -0.4394,  0.0893,\n          0.6126, -0.1036, -0.5157,  0.0177,  0.5099,  0.1426, -0.1443, -0.0148,\n          0.3159,  0.3200, -0.0589, -0.5666]], grad_fn=<AddmmBackward0>)\n\n\nAfter ReLU: tensor([[0.1577, 0.0000, 0.0847, 0.0000, 0.0025, 0.3932, 0.0000, 0.0000, 0.6919,\n         0.1314, 0.0000, 0.1475, 0.7637, 0.0000, 0.1696, 0.0000, 0.2787, 0.3574,\n         0.0000, 0.0000],\n        [0.4024, 0.0000, 0.0000, 0.0000, 0.0267, 0.2293, 0.0000, 0.0810, 0.3792,\n         0.0000, 0.0000, 0.0000, 0.7276, 0.0646, 0.0000, 0.0000, 0.3473, 0.1644,\n         0.0000, 0.0000],\n        [0.3676, 0.1042, 0.2630, 0.0000, 0.0000, 0.1204, 0.0000, 0.0893, 0.6126,\n         0.0000, 0.0000, 0.0177, 0.5099, 0.1426, 0.0000, 0.0000, 0.3159, 0.3200,\n         0.0000, 0.0000]], grad_fn=<ReluBackward0>)\n",
     "output_type": "stream"
    }
   ]
  },
  {
   "cell_type": "code",
   "metadata": {
    "cell_id": "27cf86c0-8140-4ef7-8767-fdc4ed9c0e06",
    "tags": [],
    "deepnote_to_be_reexecuted": false,
    "source_hash": "21781894",
    "execution_start": 1643034839329,
    "execution_millis": 4,
    "deepnote_cell_type": "code"
   },
   "source": "# combine sequentially into a module\n\nseq_modules = nn.Sequential(\n    flatten,\n    layer1,\n    nn.ReLU(),\n    nn.Linear(20, 10)\n)\ninput_image = torch.rand(3,28,28)\nlogits = seq_modules(input_image)\nsoftmax = nn.Softmax(dim=1) # brings back the value in the [0,1] range\npred_probab = softmax(logits)",
   "execution_count": null,
   "outputs": []
  },
  {
   "cell_type": "markdown",
   "source": "### 5.4 Model parameters",
   "metadata": {
    "cell_id": "60bd1e41-d2ff-4b6e-a761-6cf0823907d6",
    "tags": [],
    "deepnote_cell_type": "markdown"
   }
  },
  {
   "cell_type": "code",
   "metadata": {
    "cell_id": "c3270646-c609-49bc-b4c2-c9c7ebadc1cb",
    "tags": [],
    "deepnote_to_be_reexecuted": false,
    "source_hash": "cfc58898",
    "execution_start": 1643034909916,
    "execution_millis": 2,
    "deepnote_cell_type": "code"
   },
   "source": "print(\"Model structure: \", model, \"\\n\\n\")\n\nfor name, param in model.named_parameters():\n    print(f\"Layer: {name} | Size: {param.size()} | Values : {param[:2]} \\n\")",
   "execution_count": null,
   "outputs": [
    {
     "name": "stdout",
     "text": "Model structure:  NeuralNetwork(\n  (flatten): Flatten(start_dim=1, end_dim=-1)\n  (linear_relu_stack): Sequential(\n    (0): Linear(in_features=784, out_features=512, bias=True)\n    (1): ReLU()\n    (2): Linear(in_features=512, out_features=512, bias=True)\n    (3): ReLU()\n    (4): Linear(in_features=512, out_features=10, bias=True)\n  )\n) \n\n\nLayer: linear_relu_stack.0.weight | Size: torch.Size([512, 784]) | Values : tensor([[-2.0463e-02, -1.1397e-02,  9.5920e-03,  ...,  1.8905e-02,\n          2.3668e-02, -1.9262e-02],\n        [ 1.8347e-02,  1.2043e-02, -2.7974e-02,  ..., -1.3045e-05,\n         -7.5215e-03,  1.8079e-02]], grad_fn=<SliceBackward0>) \n\nLayer: linear_relu_stack.0.bias | Size: torch.Size([512]) | Values : tensor([-0.0218, -0.0233], grad_fn=<SliceBackward0>) \n\nLayer: linear_relu_stack.2.weight | Size: torch.Size([512, 512]) | Values : tensor([[ 0.0318,  0.0153,  0.0228,  ..., -0.0384, -0.0069,  0.0027],\n        [ 0.0174, -0.0420, -0.0404,  ..., -0.0379,  0.0023,  0.0116]],\n       grad_fn=<SliceBackward0>) \n\nLayer: linear_relu_stack.2.bias | Size: torch.Size([512]) | Values : tensor([-0.0048, -0.0269], grad_fn=<SliceBackward0>) \n\nLayer: linear_relu_stack.4.weight | Size: torch.Size([10, 512]) | Values : tensor([[ 0.0005, -0.0113,  0.0296,  ..., -0.0363, -0.0074, -0.0073],\n        [-0.0330,  0.0229, -0.0022,  ..., -0.0081,  0.0016, -0.0356]],\n       grad_fn=<SliceBackward0>) \n\nLayer: linear_relu_stack.4.bias | Size: torch.Size([10]) | Values : tensor([ 0.0193, -0.0170], grad_fn=<SliceBackward0>) \n\n",
     "output_type": "stream"
    }
   ]
  },
  {
   "cell_type": "markdown",
   "source": "## 6. Automatic differentiation",
   "metadata": {
    "cell_id": "ccabeab3-33e3-414c-a8bc-a95438a73bd1",
    "tags": [],
    "deepnote_cell_type": "markdown"
   }
  },
  {
   "cell_type": "markdown",
   "source": "### 6.1 Computing Gradients",
   "metadata": {
    "cell_id": "7544e4ff-9857-4763-ba0a-1ce171b9d8ef",
    "tags": [],
    "deepnote_cell_type": "markdown"
   }
  },
  {
   "cell_type": "code",
   "metadata": {
    "cell_id": "d3f24216-45d0-4dd0-87e9-583d192c28ac",
    "tags": [],
    "deepnote_to_be_reexecuted": false,
    "source_hash": "7c2b2993",
    "execution_start": 1643037225992,
    "execution_millis": 336,
    "deepnote_cell_type": "code"
   },
   "source": "import torch\n\nx = torch.ones(5)  # input tensor\ny = torch.zeros(3)  # expected output\nw = torch.randn(5, 3, requires_grad=True)\nb = torch.randn(3, requires_grad=True)\nz = torch.matmul(x, w)+b\nloss = torch.nn.functional.binary_cross_entropy_with_logits(z, y)\n\nprint('Gradient function for z =', z.grad_fn)\nprint('Gradient function for loss =', loss.grad_fn)\n\nloss.backward()\nprint(w.grad)\nprint(b.grad)",
   "execution_count": null,
   "outputs": [
    {
     "name": "stdout",
     "text": "Gradient function for z = <AddBackward0 object at 0x7fd435162150>\nGradient function for loss = <BinaryCrossEntropyWithLogitsBackward0 object at 0x7fd435150cd0>\ntensor([[0.0062, 0.1052, 0.2845],\n        [0.0062, 0.1052, 0.2845],\n        [0.0062, 0.1052, 0.2845],\n        [0.0062, 0.1052, 0.2845],\n        [0.0062, 0.1052, 0.2845]])\ntensor([0.0062, 0.1052, 0.2845])\n",
     "output_type": "stream"
    }
   ]
  },
  {
   "cell_type": "markdown",
   "source": "### 6.2 Disabling gradient tracking",
   "metadata": {
    "cell_id": "67e167b2-ffc6-475a-b8a0-a093c59909b1",
    "tags": [],
    "deepnote_cell_type": "markdown"
   }
  },
  {
   "cell_type": "code",
   "metadata": {
    "cell_id": "4098ad26-2021-46d8-80ce-b758a0b0747b",
    "tags": [],
    "deepnote_cell_type": "code"
   },
   "source": "z = torch.matmul(x, w)+b\nprint(z.requires_grad)\n\nwith torch.no_grad():\n    z = torch.matmul(x, w)+b\nprint(z.requires_grad)",
   "execution_count": null,
   "outputs": []
  },
  {
   "cell_type": "markdown",
   "source": "<a style='text-decoration:none;line-height:16px;display:flex;color:#5B5B62;padding:10px;justify-content:end;' href='https://deepnote.com?utm_source=created-in-deepnote-cell&projectId=4f3692ed-5f27-49a4-899a-82a03e72232c' target=\"_blank\">\n<img alt='Created in deepnote.com' style='display:inline;max-height:16px;margin:0px;margin-right:7.5px;' src='data:image/svg+xml;base64,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' > </img>\nCreated in <span style='font-weight:600;margin-left:4px;'>Deepnote</span></a>",
   "metadata": {
    "tags": [],
    "created_in_deepnote_cell": true,
    "deepnote_cell_type": "markdown"
   }
  }
 ],
 "nbformat": 4,
 "nbformat_minor": 2,
 "metadata": {
  "orig_nbformat": 2,
  "deepnote": {
   "is_reactive": false
  },
  "deepnote_notebook_id": "183ff80e-0d8a-4378-89c7-c581fed35bf4",
  "deepnote_execution_queue": []
 }
}
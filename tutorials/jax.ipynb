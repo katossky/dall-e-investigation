{
 "cells": [
  {
   "cell_type": "code",
   "metadata": {
    "tags": [],
    "cell_id": "2ab57b62-072b-427a-9f21-3e6d0c715b02",
    "deepnote_cell_type": "code"
   },
   "source": "# Start writing code here...",
   "execution_count": null,
   "outputs": []
  },
  {
   "cell_type": "markdown",
   "source": "# JAX\n\nJax est une bibliothèque Python spécialisée dans le calcul différentiel (localement) distribué. Jax utilise XLA pour compiler le code Python sur des processeurs spécialisés (GPU, TPU).\n\n## 1. Quickstart\n\nhttps://jax.readthedocs.io/en/latest/notebooks/quickstart.html#\n\n",
   "metadata": {
    "cell_id": "6d2a70ca-e4e5-46bf-be03-150d9971d8c5",
    "tags": [],
    "deepnote_cell_type": "markdown"
   }
  },
  {
   "cell_type": "code",
   "metadata": {
    "cell_id": "d96d8db5-9bb5-41d0-9cd3-7148a65b5e8d",
    "tags": [],
    "deepnote_to_be_reexecuted": false,
    "source_hash": "8fdacc7f",
    "execution_start": 1643409139134,
    "execution_millis": 1392,
    "deepnote_cell_type": "code"
   },
   "source": "from jax import random\nkey = random.PRNGKey(0)\nx = random.normal(key, (10,))\nprint(x)",
   "execution_count": null,
   "outputs": [
    {
     "name": "stderr",
     "text": "WARNING:absl:No GPU/TPU found, falling back to CPU. (Set TF_CPP_MIN_LOG_LEVEL=0 and rerun for more info.)\n[-0.372111    0.2642311  -0.18252774 -0.7368198  -0.44030386 -0.15214427\n -0.6713536  -0.59086424  0.73168874  0.56730247]\n",
     "output_type": "stream"
    }
   ]
  },
  {
   "cell_type": "code",
   "metadata": {
    "cell_id": "6dedf529-fcc5-41c9-93d8-bed9af90a8e8",
    "tags": [],
    "deepnote_to_be_reexecuted": false,
    "source_hash": "d2cbd88a",
    "execution_start": 1643409202918,
    "execution_millis": 5673,
    "deepnote_cell_type": "code"
   },
   "source": "import jax.numpy as jnp\nsize = 3000\nx = random.normal(key, (size, size), dtype=jnp.float32)\n# JAX uses asynchronous execution by default\n%timeit jnp.dot(x, x.T).block_until_ready() ",
   "execution_count": null,
   "outputs": [
    {
     "name": "stdout",
     "text": "657 ms ± 32.3 ms per loop (mean ± std. dev. of 7 runs, 1 loop each)\n",
     "output_type": "stream"
    }
   ]
  },
  {
   "cell_type": "code",
   "metadata": {
    "cell_id": "f5dafa6c-345a-441c-839b-715b6457c8bf",
    "tags": [],
    "deepnote_to_be_reexecuted": false,
    "source_hash": "bcba660f",
    "execution_start": 1643409326127,
    "execution_millis": 5181,
    "deepnote_cell_type": "code"
   },
   "source": "# JAX NumPy functions work on regular NumPy arrays.\nimport numpy as np\nx = np.random.normal(size=(size, size)).astype(np.float32)\n%timeit jnp.dot(x, x.T).block_until_ready()",
   "execution_count": null,
   "outputs": [
    {
     "name": "stdout",
     "text": "601 ms ± 6.62 ms per loop (mean ± std. dev. of 7 runs, 1 loop each)\n",
     "output_type": "stream"
    }
   ]
  },
  {
   "cell_type": "markdown",
   "source": "### 1.1 Compilation juste-à-temps avec `jit()`\n\nPar défaut, chaque instruction Jax est envoyée, ligne à ligne, au processeur dédié (GPU, TPU). Pourtant, une succession d'instructions a de grande chance d'être plus rapidement exécutée que des instructions séparées. POur cela on utilise `jit()`.",
   "metadata": {
    "cell_id": "e54192bd-4aa9-462b-a085-3ca56853f815",
    "tags": [],
    "deepnote_cell_type": "markdown"
   }
  },
  {
   "cell_type": "code",
   "metadata": {
    "cell_id": "1337cad6-0b7c-4ac7-9338-70e1a948d01b",
    "tags": [],
    "deepnote_to_be_reexecuted": false,
    "source_hash": "409fec9b",
    "execution_start": 1643409925768,
    "execution_millis": 2646,
    "deepnote_cell_type": "code"
   },
   "source": "def selu(x, alpha=1.67, lmbda=1.05):\n  return lmbda * jnp.where(x > 0, x, alpha * jnp.exp(x) - alpha)\n\nx = random.normal(key, (1000000,))\n%timeit selu(x).block_until_ready()",
   "execution_count": null,
   "outputs": [
    {
     "name": "stdout",
     "text": "2.62 ms ± 295 µs per loop (mean ± std. dev. of 7 runs, 100 loops each)\n",
     "output_type": "stream"
    }
   ]
  },
  {
   "cell_type": "code",
   "metadata": {
    "cell_id": "d7f4fbd3-c24a-419a-8609-d47f1e8e2303",
    "tags": [],
    "deepnote_to_be_reexecuted": false,
    "source_hash": "8cfc68ba",
    "execution_start": 1643409951099,
    "execution_millis": 5393,
    "deepnote_cell_type": "code"
   },
   "source": "from jax import jit\nselu_jit = jit(selu)\n%timeit selu_jit(x).block_until_ready()",
   "execution_count": null,
   "outputs": [
    {
     "name": "stdout",
     "text": "666 µs ± 51.4 µs per loop (mean ± std. dev. of 7 runs, 1000 loops each)\n",
     "output_type": "stream"
    }
   ]
  },
  {
   "cell_type": "markdown",
   "source": "### 1.2 Différenciation automatique avec `grad()`",
   "metadata": {
    "cell_id": "502292db-516c-4e65-8a80-5ac1a67ed589",
    "tags": [],
    "deepnote_cell_type": "markdown"
   }
  },
  {
   "cell_type": "code",
   "metadata": {
    "cell_id": "ee95ad3c-1c6b-451b-8b81-b779ebc3506d",
    "tags": [],
    "deepnote_to_be_reexecuted": false,
    "source_hash": "38082fc1",
    "execution_start": 1643410354310,
    "execution_millis": 150,
    "deepnote_cell_type": "code"
   },
   "source": "def sum_logistic(x):\n  return jnp.sum(1.0 / (1.0 + jnp.exp(-x)))\n\nx_small = jnp.arange(3.)\n\nfrom jax import grad\nderivative_fn = grad(sum_logistic)\nprint(derivative_fn(x_small))",
   "execution_count": null,
   "outputs": [
    {
     "name": "stdout",
     "text": "[0.25       0.19661197 0.10499357]\n",
     "output_type": "stream"
    }
   ]
  },
  {
   "cell_type": "markdown",
   "source": "... à comparer avec une différenciation numérique:",
   "metadata": {
    "cell_id": "0e1caf4a-c1c7-477b-b0f3-2b65aaa1b4bf",
    "tags": [],
    "deepnote_cell_type": "markdown"
   }
  },
  {
   "cell_type": "code",
   "metadata": {
    "cell_id": "a5dc240a-4029-418a-8d23-acc7eec65b81",
    "tags": [],
    "deepnote_to_be_reexecuted": false,
    "source_hash": "49607167",
    "execution_start": 1643410561733,
    "execution_millis": 282,
    "deepnote_cell_type": "code"
   },
   "source": "def first_finite_differences(f, x):\n  eps = 1e-3 # epsilon machine\n  return jnp.array([(f(x + eps * v) - f(x - eps * v)) / (2 * eps)\n                   for v in jnp.eye(len(x))])\n\n\nprint(first_finite_differences(sum_logistic, x_small))",
   "execution_count": null,
   "outputs": [
    {
     "name": "stdout",
     "text": "[0.24998187 0.1965761  0.10502338]\n",
     "output_type": "stream"
    }
   ]
  },
  {
   "cell_type": "code",
   "metadata": {
    "cell_id": "24baba0d-5160-40c5-ab5c-1da90e5512e1",
    "tags": [],
    "deepnote_to_be_reexecuted": false,
    "source_hash": "ea640366",
    "execution_start": 1643410897897,
    "execution_millis": 16,
    "deepnote_output_heights": [
     21.1875
    ],
    "deepnote_cell_type": "code"
   },
   "source": "grad(grad(sum_logistic))(1.) # possible to chain grad()",
   "execution_count": null,
   "outputs": [
    {
     "output_type": "execute_result",
     "execution_count": 21,
     "data": {
      "text/plain": "DeviceArray(-0.09085775, dtype=float32, weak_type=True)"
     },
     "metadata": {}
    }
   ]
  },
  {
   "cell_type": "code",
   "metadata": {
    "cell_id": "65a606fe-eeae-4b3e-b951-a325ff6e353c",
    "tags": [],
    "deepnote_to_be_reexecuted": false,
    "source_hash": "b11e979b",
    "execution_start": 1643410952628,
    "execution_millis": 32,
    "deepnote_output_heights": [
     21.1875
    ],
    "deepnote_cell_type": "code"
   },
   "source": "# possible to combine with jit()\njit(grad(grad(sum_logistic)))(1.)",
   "execution_count": null,
   "outputs": [
    {
     "output_type": "execute_result",
     "execution_count": 23,
     "data": {
      "text/plain": "DeviceArray(-0.09085775, dtype=float32, weak_type=True)"
     },
     "metadata": {}
    }
   ]
  },
  {
   "cell_type": "code",
   "metadata": {
    "cell_id": "cf882579-44ca-403e-8a43-fc8e701e33d1",
    "tags": [],
    "deepnote_cell_type": "code"
   },
   "source": "",
   "execution_count": null,
   "outputs": []
  },
  {
   "cell_type": "markdown",
   "source": "### 1.3 Vectorisation à la volée avec `vmap()`",
   "metadata": {
    "cell_id": "9f464fc9-363c-4502-b71b-2b25fa51ef92",
    "tags": [],
    "deepnote_cell_type": "markdown"
   }
  },
  {
   "cell_type": "markdown",
   "source": "<a style='text-decoration:none;line-height:16px;display:flex;color:#5B5B62;padding:10px;justify-content:end;' href='https://deepnote.com?utm_source=created-in-deepnote-cell&projectId=4f3692ed-5f27-49a4-899a-82a03e72232c' target=\"_blank\">\n<img alt='Created in deepnote.com' style='display:inline;max-height:16px;margin:0px;margin-right:7.5px;' src='data:image/svg+xml;base64,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' > </img>\nCreated in <span style='font-weight:600;margin-left:4px;'>Deepnote</span></a>",
   "metadata": {
    "tags": [],
    "created_in_deepnote_cell": true,
    "deepnote_cell_type": "markdown"
   }
  }
 ],
 "nbformat": 4,
 "nbformat_minor": 2,
 "metadata": {
  "orig_nbformat": 2,
  "deepnote": {
   "is_reactive": false
  },
  "deepnote_notebook_id": "c623b25c-920e-478c-bea6-bf58e9997aad",
  "deepnote_execution_queue": []
 }
}